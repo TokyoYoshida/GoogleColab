{
  "nbformat": 4,
  "nbformat_minor": 0,
  "metadata": {
    "colab": {
      "name": "playground_deep_learning_keiba",
      "provenance": [],
      "collapsed_sections": [],
      "include_colab_link": true
    },
    "kernelspec": {
      "name": "python3",
      "display_name": "Python 3"
    },
    "accelerator": "TPU"
  },
  "cells": [
    {
      "cell_type": "markdown",
      "metadata": {
        "id": "view-in-github",
        "colab_type": "text"
      },
      "source": [
        "<a href=\"https://colab.research.google.com/github/TokyoYoshida/GoogleColab/blob/master/playground_deep_learning_keiba.ipynb\" target=\"_parent\"><img src=\"https://colab.research.google.com/assets/colab-badge.svg\" alt=\"Open In Colab\"/></a>"
      ]
    },
    {
      "cell_type": "code",
      "metadata": {
        "id": "UXxOmD7gDtxX",
        "colab_type": "code",
        "outputId": "9fd9cd83-0395-47fd-8512-7fde6a13ecd9",
        "colab": {
          "base_uri": "https://localhost:8080/",
          "height": 34
        }
      },
      "source": [
        "from google.colab import drive\n",
        "drive.mount('/content/drive')\n",
        "# 必要ならば以下のようにディレクトリ移動する\n",
        " "
      ],
      "execution_count": 2,
      "outputs": [
        {
          "output_type": "stream",
          "text": [
            "Drive already mounted at /content/drive; to attempt to forcibly remount, call drive.mount(\"/content/drive\", force_remount=True).\n"
          ],
          "name": "stdout"
        }
      ]
    },
    {
      "cell_type": "code",
      "metadata": {
        "id": "FB5kzWFnDvLF",
        "colab_type": "code",
        "outputId": "51425ed4-244f-4437-c20f-376806a2519e",
        "colab": {
          "base_uri": "https://localhost:8080/",
          "height": 34
        }
      },
      "source": [
        "%cd /content/drive/'My Drive'/'★個人専用ファイル'/'開発用・個人サービス開発'/'GoogleColab'/"
      ],
      "execution_count": 3,
      "outputs": [
        {
          "output_type": "stream",
          "text": [
            "/content/drive/My Drive/★個人専用ファイル/開発用・個人サービス開発/GoogleColab\n"
          ],
          "name": "stdout"
        }
      ]
    },
    {
      "cell_type": "code",
      "metadata": {
        "id": "7tT1SbekEPKY",
        "colab_type": "code",
        "outputId": "1b6a2d27-ac48-4b35-e89a-1d4ecb51f13c",
        "colab": {
          "base_uri": "https://localhost:8080/",
          "height": 272
        }
      },
      "source": [
        "%ls\n"
      ],
      "execution_count": 4,
      "outputs": [
        {
          "output_type": "stream",
          "text": [
            "\u001b[0m\u001b[01;34mdata\u001b[0m/\n",
            "duel_dqn_Pendulum-v0_weights.h5f\n",
            "\u001b[01;34mh5f\u001b[0m/\n",
            "model.txt\n",
            "playground_deep_learning_keiba\n",
            "playground_dqn_keiba\n",
            "playground_dqn_keiba_try_layer_add_depth\n",
            "playground_dqn_keiba_try_long_term_reward\n",
            "playground_dqn_keiba_try_simple\n",
            "playground_dqn_keiba_try_simple2\n",
            "playground_dqn_keiba_try_simple_x_1\n",
            "playground_dqn_study.ipynb\n",
            "playground_dqn_study_my_try.ipynb\n",
            "playground_dqn_study_my_try_modify_reward\n",
            "playground.ipynb\n"
          ],
          "name": "stdout"
        }
      ]
    },
    {
      "cell_type": "code",
      "metadata": {
        "id": "0oeldNv7-4ch",
        "colab_type": "code",
        "colab": {}
      },
      "source": [
        "import pandas as pd"
      ],
      "execution_count": 0,
      "outputs": []
    },
    {
      "cell_type": "code",
      "metadata": {
        "id": "zdsoSSOZZo9D",
        "colab_type": "code",
        "colab": {}
      },
      "source": [
        "import numpy as np"
      ],
      "execution_count": 0,
      "outputs": []
    },
    {
      "cell_type": "code",
      "metadata": {
        "id": "aVHdpj8I9ggK",
        "colab_type": "code",
        "colab": {}
      },
      "source": [
        "from pprint import pprint"
      ],
      "execution_count": 0,
      "outputs": []
    },
    {
      "cell_type": "code",
      "metadata": {
        "id": "qULptQcKFwQ8",
        "colab_type": "code",
        "outputId": "507476c8-9272-424b-91b8-f14242237bb1",
        "colab": {
          "base_uri": "https://localhost:8080/",
          "height": 612
        }
      },
      "source": [
        "!pip install tensorflow==2.2.0"
      ],
      "execution_count": 8,
      "outputs": [
        {
          "output_type": "stream",
          "text": [
            "Requirement already satisfied: tensorflow==2.2.0 in /usr/local/lib/python3.6/dist-packages (2.2.0)\n",
            "Requirement already satisfied: tensorboard<2.3.0,>=2.2.0 in /usr/local/lib/python3.6/dist-packages (from tensorflow==2.2.0) (2.2.1)\n",
            "Requirement already satisfied: wrapt>=1.11.1 in /usr/local/lib/python3.6/dist-packages (from tensorflow==2.2.0) (1.12.1)\n",
            "Requirement already satisfied: wheel>=0.26; python_version >= \"3\" in /usr/local/lib/python3.6/dist-packages (from tensorflow==2.2.0) (0.34.2)\n",
            "Requirement already satisfied: numpy<2.0,>=1.16.0 in /usr/local/lib/python3.6/dist-packages (from tensorflow==2.2.0) (1.18.4)\n",
            "Requirement already satisfied: scipy==1.4.1; python_version >= \"3\" in /usr/local/lib/python3.6/dist-packages (from tensorflow==2.2.0) (1.4.1)\n",
            "Requirement already satisfied: google-pasta>=0.1.8 in /usr/local/lib/python3.6/dist-packages (from tensorflow==2.2.0) (0.2.0)\n",
            "Requirement already satisfied: six>=1.12.0 in /usr/local/lib/python3.6/dist-packages (from tensorflow==2.2.0) (1.12.0)\n",
            "Requirement already satisfied: tensorflow-estimator<2.3.0,>=2.2.0 in /usr/local/lib/python3.6/dist-packages (from tensorflow==2.2.0) (2.2.0)\n",
            "Requirement already satisfied: absl-py>=0.7.0 in /usr/local/lib/python3.6/dist-packages (from tensorflow==2.2.0) (0.9.0)\n",
            "Requirement already satisfied: astunparse==1.6.3 in /usr/local/lib/python3.6/dist-packages (from tensorflow==2.2.0) (1.6.3)\n",
            "Requirement already satisfied: opt-einsum>=2.3.2 in /usr/local/lib/python3.6/dist-packages (from tensorflow==2.2.0) (3.2.1)\n",
            "Requirement already satisfied: termcolor>=1.1.0 in /usr/local/lib/python3.6/dist-packages (from tensorflow==2.2.0) (1.1.0)\n",
            "Requirement already satisfied: protobuf>=3.8.0 in /usr/local/lib/python3.6/dist-packages (from tensorflow==2.2.0) (3.10.0)\n",
            "Requirement already satisfied: grpcio>=1.8.6 in /usr/local/lib/python3.6/dist-packages (from tensorflow==2.2.0) (1.28.1)\n",
            "Requirement already satisfied: gast==0.3.3 in /usr/local/lib/python3.6/dist-packages (from tensorflow==2.2.0) (0.3.3)\n",
            "Requirement already satisfied: keras-preprocessing>=1.1.0 in /usr/local/lib/python3.6/dist-packages (from tensorflow==2.2.0) (1.1.0)\n",
            "Requirement already satisfied: h5py<2.11.0,>=2.10.0 in /usr/local/lib/python3.6/dist-packages (from tensorflow==2.2.0) (2.10.0)\n",
            "Requirement already satisfied: google-auth-oauthlib<0.5,>=0.4.1 in /usr/local/lib/python3.6/dist-packages (from tensorboard<2.3.0,>=2.2.0->tensorflow==2.2.0) (0.4.1)\n",
            "Requirement already satisfied: setuptools>=41.0.0 in /usr/local/lib/python3.6/dist-packages (from tensorboard<2.3.0,>=2.2.0->tensorflow==2.2.0) (46.3.0)\n",
            "Requirement already satisfied: markdown>=2.6.8 in /usr/local/lib/python3.6/dist-packages (from tensorboard<2.3.0,>=2.2.0->tensorflow==2.2.0) (3.2.1)\n",
            "Requirement already satisfied: requests<3,>=2.21.0 in /usr/local/lib/python3.6/dist-packages (from tensorboard<2.3.0,>=2.2.0->tensorflow==2.2.0) (2.23.0)\n",
            "Requirement already satisfied: tensorboard-plugin-wit>=1.6.0 in /usr/local/lib/python3.6/dist-packages (from tensorboard<2.3.0,>=2.2.0->tensorflow==2.2.0) (1.6.0.post3)\n",
            "Requirement already satisfied: werkzeug>=0.11.15 in /usr/local/lib/python3.6/dist-packages (from tensorboard<2.3.0,>=2.2.0->tensorflow==2.2.0) (1.0.1)\n",
            "Requirement already satisfied: google-auth<2,>=1.6.3 in /usr/local/lib/python3.6/dist-packages (from tensorboard<2.3.0,>=2.2.0->tensorflow==2.2.0) (1.7.2)\n",
            "Requirement already satisfied: requests-oauthlib>=0.7.0 in /usr/local/lib/python3.6/dist-packages (from google-auth-oauthlib<0.5,>=0.4.1->tensorboard<2.3.0,>=2.2.0->tensorflow==2.2.0) (1.3.0)\n",
            "Requirement already satisfied: idna<3,>=2.5 in /usr/local/lib/python3.6/dist-packages (from requests<3,>=2.21.0->tensorboard<2.3.0,>=2.2.0->tensorflow==2.2.0) (2.9)\n",
            "Requirement already satisfied: chardet<4,>=3.0.2 in /usr/local/lib/python3.6/dist-packages (from requests<3,>=2.21.0->tensorboard<2.3.0,>=2.2.0->tensorflow==2.2.0) (3.0.4)\n",
            "Requirement already satisfied: certifi>=2017.4.17 in /usr/local/lib/python3.6/dist-packages (from requests<3,>=2.21.0->tensorboard<2.3.0,>=2.2.0->tensorflow==2.2.0) (2020.4.5.1)\n",
            "Requirement already satisfied: urllib3!=1.25.0,!=1.25.1,<1.26,>=1.21.1 in /usr/local/lib/python3.6/dist-packages (from requests<3,>=2.21.0->tensorboard<2.3.0,>=2.2.0->tensorflow==2.2.0) (1.24.3)\n",
            "Requirement already satisfied: cachetools<3.2,>=2.0.0 in /usr/local/lib/python3.6/dist-packages (from google-auth<2,>=1.6.3->tensorboard<2.3.0,>=2.2.0->tensorflow==2.2.0) (3.1.1)\n",
            "Requirement already satisfied: pyasn1-modules>=0.2.1 in /usr/local/lib/python3.6/dist-packages (from google-auth<2,>=1.6.3->tensorboard<2.3.0,>=2.2.0->tensorflow==2.2.0) (0.2.8)\n",
            "Requirement already satisfied: rsa<4.1,>=3.1.4 in /usr/local/lib/python3.6/dist-packages (from google-auth<2,>=1.6.3->tensorboard<2.3.0,>=2.2.0->tensorflow==2.2.0) (4.0)\n",
            "Requirement already satisfied: oauthlib>=3.0.0 in /usr/local/lib/python3.6/dist-packages (from requests-oauthlib>=0.7.0->google-auth-oauthlib<0.5,>=0.4.1->tensorboard<2.3.0,>=2.2.0->tensorflow==2.2.0) (3.1.0)\n",
            "Requirement already satisfied: pyasn1<0.5.0,>=0.4.6 in /usr/local/lib/python3.6/dist-packages (from pyasn1-modules>=0.2.1->google-auth<2,>=1.6.3->tensorboard<2.3.0,>=2.2.0->tensorflow==2.2.0) (0.4.8)\n"
          ],
          "name": "stdout"
        }
      ]
    },
    {
      "cell_type": "code",
      "metadata": {
        "id": "nqog9TrbFcpd",
        "colab_type": "code",
        "colab": {}
      },
      "source": [
        "!pip install -q keras"
      ],
      "execution_count": 0,
      "outputs": []
    },
    {
      "cell_type": "code",
      "metadata": {
        "id": "BTtTJTMOFssd",
        "colab_type": "code",
        "colab": {
          "base_uri": "https://localhost:8080/",
          "height": 34
        },
        "outputId": "6accd6e4-dc46-41d8-d585-8f45318959ba"
      },
      "source": [
        "import keras\n",
        "from keras.utils import np_utils\n"
      ],
      "execution_count": 10,
      "outputs": [
        {
          "output_type": "stream",
          "text": [
            "Using TensorFlow backend.\n"
          ],
          "name": "stderr"
        }
      ]
    },
    {
      "cell_type": "code",
      "metadata": {
        "id": "DStmQ_a3YrBF",
        "colab_type": "code",
        "colab": {}
      },
      "source": [
        "from keras.models import Sequential\n",
        "from keras.layers import Dense, Dropout, Activation,LeakyReLU\n",
        "from keras.optimizers import RMSprop\n"
      ],
      "execution_count": 0,
      "outputs": []
    },
    {
      "cell_type": "code",
      "metadata": {
        "id": "k9aBWsjhDpQp",
        "colab_type": "code",
        "colab": {}
      },
      "source": [
        "# 競馬データの作成"
      ],
      "execution_count": 0,
      "outputs": []
    },
    {
      "cell_type": "code",
      "metadata": {
        "id": "HIWclTGw-4nE",
        "colab_type": "code",
        "colab": {}
      },
      "source": [
        "ldat = pd.read_pickle(\"./data/keiba_dat_res_20190611_sorted.pkl\")"
      ],
      "execution_count": 0,
      "outputs": []
    },
    {
      "cell_type": "code",
      "metadata": {
        "id": "RPxKeoI6z0--",
        "colab_type": "code",
        "colab": {}
      },
      "source": [
        "# 3位以内にマークを付ける\n",
        "ldat[\"high_rank\"] = 0\n",
        "ldat.loc[ldat[\"rank\"] <= 3, \"high_rank\"] = 1"
      ],
      "execution_count": 0,
      "outputs": []
    },
    {
      "cell_type": "code",
      "metadata": {
        "id": "oZ2kmg5C0Saw",
        "colab_type": "code",
        "colab": {}
      },
      "source": [
        "# 人気3位以内にマークを付ける\n",
        "ldat[\"high_prev_popularity\"] = 0\n",
        "ldat.loc[ldat[\"prev_popularity\"] <= 3, \"high_prev_popularity\"] = 1"
      ],
      "execution_count": 0,
      "outputs": []
    },
    {
      "cell_type": "code",
      "metadata": {
        "id": "iGwiRWJ4z1V4",
        "colab_type": "code",
        "outputId": "8c47cecd-0067-41ed-9c50-2054bc4cbdd7",
        "colab": {
          "base_uri": "https://localhost:8080/",
          "height": 439
        }
      },
      "source": [
        "ldat"
      ],
      "execution_count": 16,
      "outputs": [
        {
          "output_type": "execute_result",
          "data": {
            "text/html": [
              "<div>\n",
              "<style scoped>\n",
              "    .dataframe tbody tr th:only-of-type {\n",
              "        vertical-align: middle;\n",
              "    }\n",
              "\n",
              "    .dataframe tbody tr th {\n",
              "        vertical-align: top;\n",
              "    }\n",
              "\n",
              "    .dataframe thead th {\n",
              "        text-align: right;\n",
              "    }\n",
              "</style>\n",
              "<table border=\"1\" class=\"dataframe\">\n",
              "  <thead>\n",
              "    <tr style=\"text-align: right;\">\n",
              "      <th></th>\n",
              "      <th>rank</th>\n",
              "      <th>frame_num</th>\n",
              "      <th>horse_num</th>\n",
              "      <th>name</th>\n",
              "      <th>sex</th>\n",
              "      <th>age</th>\n",
              "      <th>amount</th>\n",
              "      <th>jockey</th>\n",
              "      <th>time</th>\n",
              "      <th>diff_arrival</th>\n",
              "      <th>odds</th>\n",
              "      <th>popularity</th>\n",
              "      <th>weight</th>\n",
              "      <th>diff_weight</th>\n",
              "      <th>trainer</th>\n",
              "      <th>race_num</th>\n",
              "      <th>grade</th>\n",
              "      <th>ground</th>\n",
              "      <th>direction</th>\n",
              "      <th>unknown</th>\n",
              "      <th>distance</th>\n",
              "      <th>weather</th>\n",
              "      <th>condition</th>\n",
              "      <th>start_time</th>\n",
              "      <th>year</th>\n",
              "      <th>month</th>\n",
              "      <th>day</th>\n",
              "      <th>prev_rank</th>\n",
              "      <th>prev_frame_num</th>\n",
              "      <th>prev_horse_num</th>\n",
              "      <th>prev_name</th>\n",
              "      <th>prev_sex</th>\n",
              "      <th>prev_age</th>\n",
              "      <th>prev_amount</th>\n",
              "      <th>prev_jockey</th>\n",
              "      <th>prev_time</th>\n",
              "      <th>prev_diff_arrival</th>\n",
              "      <th>prev_odds</th>\n",
              "      <th>prev_popularity</th>\n",
              "      <th>prev_weight</th>\n",
              "      <th>prev_diff_weight</th>\n",
              "      <th>prev_trainer</th>\n",
              "      <th>prev_race_num</th>\n",
              "      <th>prev_grade</th>\n",
              "      <th>prev_ground</th>\n",
              "      <th>prev_direction</th>\n",
              "      <th>prev_unknown</th>\n",
              "      <th>prev_distance</th>\n",
              "      <th>prev_weather</th>\n",
              "      <th>prev_condition</th>\n",
              "      <th>prev_start_time</th>\n",
              "      <th>prev_year</th>\n",
              "      <th>prev_month</th>\n",
              "      <th>prev_day</th>\n",
              "      <th>winner</th>\n",
              "      <th>return</th>\n",
              "      <th>prev_time_float</th>\n",
              "      <th>start_time_float</th>\n",
              "      <th>prev_start_time_float</th>\n",
              "      <th>high_rank</th>\n",
              "      <th>high_prev_popularity</th>\n",
              "    </tr>\n",
              "  </thead>\n",
              "  <tbody>\n",
              "    <tr>\n",
              "      <th>0</th>\n",
              "      <td>1.0</td>\n",
              "      <td>6</td>\n",
              "      <td>6</td>\n",
              "      <td>0</td>\n",
              "      <td>0</td>\n",
              "      <td>2</td>\n",
              "      <td>54.0</td>\n",
              "      <td>0</td>\n",
              "      <td>1:31.6</td>\n",
              "      <td>0</td>\n",
              "      <td>3.2</td>\n",
              "      <td>1.0</td>\n",
              "      <td>474.0</td>\n",
              "      <td>0.0</td>\n",
              "      <td>0</td>\n",
              "      <td>1</td>\n",
              "      <td>9</td>\n",
              "      <td>0</td>\n",
              "      <td>0</td>\n",
              "      <td>-</td>\n",
              "      <td>1500.0</td>\n",
              "      <td>0</td>\n",
              "      <td>0</td>\n",
              "      <td>10:40</td>\n",
              "      <td>2006</td>\n",
              "      <td>8</td>\n",
              "      <td>12</td>\n",
              "      <td>3.0</td>\n",
              "      <td>6.0</td>\n",
              "      <td>6.0</td>\n",
              "      <td>0.0</td>\n",
              "      <td>0.0</td>\n",
              "      <td>2.0</td>\n",
              "      <td>51.0</td>\n",
              "      <td>75.0</td>\n",
              "      <td>1:12.2</td>\n",
              "      <td>1.0</td>\n",
              "      <td>9.6</td>\n",
              "      <td>3.0</td>\n",
              "      <td>474.0</td>\n",
              "      <td>-2.0</td>\n",
              "      <td>0.0</td>\n",
              "      <td>1.0</td>\n",
              "      <td>9.0</td>\n",
              "      <td>0.0</td>\n",
              "      <td>0.0</td>\n",
              "      <td>-</td>\n",
              "      <td>1200.0</td>\n",
              "      <td>1.0</td>\n",
              "      <td>0.0</td>\n",
              "      <td>10:40</td>\n",
              "      <td>2006.0</td>\n",
              "      <td>7.0</td>\n",
              "      <td>29.0</td>\n",
              "      <td>True</td>\n",
              "      <td>3.2</td>\n",
              "      <td>1561165932</td>\n",
              "      <td>1561200000</td>\n",
              "      <td>1561200000</td>\n",
              "      <td>1</td>\n",
              "      <td>1</td>\n",
              "    </tr>\n",
              "    <tr>\n",
              "      <th>1</th>\n",
              "      <td>2.0</td>\n",
              "      <td>7</td>\n",
              "      <td>8</td>\n",
              "      <td>1</td>\n",
              "      <td>1</td>\n",
              "      <td>2</td>\n",
              "      <td>54.0</td>\n",
              "      <td>1</td>\n",
              "      <td>1:31.6</td>\n",
              "      <td>1</td>\n",
              "      <td>6.4</td>\n",
              "      <td>4.0</td>\n",
              "      <td>448.0</td>\n",
              "      <td>-8.0</td>\n",
              "      <td>1</td>\n",
              "      <td>1</td>\n",
              "      <td>9</td>\n",
              "      <td>0</td>\n",
              "      <td>0</td>\n",
              "      <td>-</td>\n",
              "      <td>1500.0</td>\n",
              "      <td>0</td>\n",
              "      <td>0</td>\n",
              "      <td>10:40</td>\n",
              "      <td>2006</td>\n",
              "      <td>8</td>\n",
              "      <td>12</td>\n",
              "      <td>3.0</td>\n",
              "      <td>1.0</td>\n",
              "      <td>1.0</td>\n",
              "      <td>1.0</td>\n",
              "      <td>1.0</td>\n",
              "      <td>2.0</td>\n",
              "      <td>54.0</td>\n",
              "      <td>1.0</td>\n",
              "      <td>1:57.7</td>\n",
              "      <td>18.0</td>\n",
              "      <td>26.9</td>\n",
              "      <td>7.0</td>\n",
              "      <td>456.0</td>\n",
              "      <td>0.0</td>\n",
              "      <td>1.0</td>\n",
              "      <td>4.0</td>\n",
              "      <td>9.0</td>\n",
              "      <td>0.0</td>\n",
              "      <td>0.0</td>\n",
              "      <td>-</td>\n",
              "      <td>1800.0</td>\n",
              "      <td>1.0</td>\n",
              "      <td>1.0</td>\n",
              "      <td>12:30</td>\n",
              "      <td>2006.0</td>\n",
              "      <td>7.0</td>\n",
              "      <td>23.0</td>\n",
              "      <td>False</td>\n",
              "      <td>0.0</td>\n",
              "      <td>1561168662</td>\n",
              "      <td>1561200000</td>\n",
              "      <td>1561206600</td>\n",
              "      <td>1</td>\n",
              "      <td>0</td>\n",
              "    </tr>\n",
              "    <tr>\n",
              "      <th>2</th>\n",
              "      <td>3.0</td>\n",
              "      <td>7</td>\n",
              "      <td>7</td>\n",
              "      <td>2</td>\n",
              "      <td>1</td>\n",
              "      <td>2</td>\n",
              "      <td>54.0</td>\n",
              "      <td>2</td>\n",
              "      <td>1:31.9</td>\n",
              "      <td>2</td>\n",
              "      <td>4.3</td>\n",
              "      <td>3.0</td>\n",
              "      <td>476.0</td>\n",
              "      <td>0.0</td>\n",
              "      <td>2</td>\n",
              "      <td>1</td>\n",
              "      <td>9</td>\n",
              "      <td>0</td>\n",
              "      <td>0</td>\n",
              "      <td>-</td>\n",
              "      <td>1500.0</td>\n",
              "      <td>0</td>\n",
              "      <td>0</td>\n",
              "      <td>10:40</td>\n",
              "      <td>2006</td>\n",
              "      <td>8</td>\n",
              "      <td>12</td>\n",
              "      <td>4.0</td>\n",
              "      <td>1.0</td>\n",
              "      <td>1.0</td>\n",
              "      <td>2.0</td>\n",
              "      <td>1.0</td>\n",
              "      <td>2.0</td>\n",
              "      <td>54.0</td>\n",
              "      <td>2.0</td>\n",
              "      <td>1:12.5</td>\n",
              "      <td>1.0</td>\n",
              "      <td>6.7</td>\n",
              "      <td>3.0</td>\n",
              "      <td>476.0</td>\n",
              "      <td>-8.0</td>\n",
              "      <td>2.0</td>\n",
              "      <td>1.0</td>\n",
              "      <td>9.0</td>\n",
              "      <td>0.0</td>\n",
              "      <td>0.0</td>\n",
              "      <td>-</td>\n",
              "      <td>1200.0</td>\n",
              "      <td>1.0</td>\n",
              "      <td>0.0</td>\n",
              "      <td>10:40</td>\n",
              "      <td>2006.0</td>\n",
              "      <td>7.0</td>\n",
              "      <td>30.0</td>\n",
              "      <td>False</td>\n",
              "      <td>0.0</td>\n",
              "      <td>1561165950</td>\n",
              "      <td>1561200000</td>\n",
              "      <td>1561200000</td>\n",
              "      <td>1</td>\n",
              "      <td>1</td>\n",
              "    </tr>\n",
              "    <tr>\n",
              "      <th>3</th>\n",
              "      <td>4.0</td>\n",
              "      <td>2</td>\n",
              "      <td>2</td>\n",
              "      <td>3</td>\n",
              "      <td>1</td>\n",
              "      <td>2</td>\n",
              "      <td>51.0</td>\n",
              "      <td>3</td>\n",
              "      <td>1:32.1</td>\n",
              "      <td>3</td>\n",
              "      <td>33.1</td>\n",
              "      <td>7.0</td>\n",
              "      <td>484.0</td>\n",
              "      <td>0.0</td>\n",
              "      <td>3</td>\n",
              "      <td>1</td>\n",
              "      <td>9</td>\n",
              "      <td>0</td>\n",
              "      <td>0</td>\n",
              "      <td>-</td>\n",
              "      <td>1500.0</td>\n",
              "      <td>0</td>\n",
              "      <td>0</td>\n",
              "      <td>10:40</td>\n",
              "      <td>2006</td>\n",
              "      <td>8</td>\n",
              "      <td>12</td>\n",
              "      <td>12.0</td>\n",
              "      <td>1.0</td>\n",
              "      <td>1.0</td>\n",
              "      <td>3.0</td>\n",
              "      <td>1.0</td>\n",
              "      <td>2.0</td>\n",
              "      <td>51.0</td>\n",
              "      <td>3.0</td>\n",
              "      <td>1:57.3</td>\n",
              "      <td>7.0</td>\n",
              "      <td>11.9</td>\n",
              "      <td>5.0</td>\n",
              "      <td>484.0</td>\n",
              "      <td>0.0</td>\n",
              "      <td>3.0</td>\n",
              "      <td>5.0</td>\n",
              "      <td>9.0</td>\n",
              "      <td>0.0</td>\n",
              "      <td>0.0</td>\n",
              "      <td>-</td>\n",
              "      <td>1800.0</td>\n",
              "      <td>2.0</td>\n",
              "      <td>2.0</td>\n",
              "      <td>12:20</td>\n",
              "      <td>2006.0</td>\n",
              "      <td>7.0</td>\n",
              "      <td>2.0</td>\n",
              "      <td>False</td>\n",
              "      <td>0.0</td>\n",
              "      <td>1561168638</td>\n",
              "      <td>1561200000</td>\n",
              "      <td>1561206000</td>\n",
              "      <td>0</td>\n",
              "      <td>0</td>\n",
              "    </tr>\n",
              "    <tr>\n",
              "      <th>4</th>\n",
              "      <td>5.0</td>\n",
              "      <td>5</td>\n",
              "      <td>5</td>\n",
              "      <td>4</td>\n",
              "      <td>1</td>\n",
              "      <td>2</td>\n",
              "      <td>54.0</td>\n",
              "      <td>4</td>\n",
              "      <td>1:32.1</td>\n",
              "      <td>1</td>\n",
              "      <td>3.9</td>\n",
              "      <td>2.0</td>\n",
              "      <td>518.0</td>\n",
              "      <td>6.0</td>\n",
              "      <td>4</td>\n",
              "      <td>1</td>\n",
              "      <td>9</td>\n",
              "      <td>0</td>\n",
              "      <td>0</td>\n",
              "      <td>-</td>\n",
              "      <td>1500.0</td>\n",
              "      <td>0</td>\n",
              "      <td>0</td>\n",
              "      <td>10:40</td>\n",
              "      <td>2006</td>\n",
              "      <td>8</td>\n",
              "      <td>12</td>\n",
              "      <td>3.0</td>\n",
              "      <td>2.0</td>\n",
              "      <td>2.0</td>\n",
              "      <td>4.0</td>\n",
              "      <td>1.0</td>\n",
              "      <td>2.0</td>\n",
              "      <td>54.0</td>\n",
              "      <td>15.0</td>\n",
              "      <td>1:12.5</td>\n",
              "      <td>9.0</td>\n",
              "      <td>6.6</td>\n",
              "      <td>2.0</td>\n",
              "      <td>512.0</td>\n",
              "      <td>-2.0</td>\n",
              "      <td>4.0</td>\n",
              "      <td>1.0</td>\n",
              "      <td>9.0</td>\n",
              "      <td>0.0</td>\n",
              "      <td>0.0</td>\n",
              "      <td>-</td>\n",
              "      <td>1200.0</td>\n",
              "      <td>1.0</td>\n",
              "      <td>0.0</td>\n",
              "      <td>10:40</td>\n",
              "      <td>2006.0</td>\n",
              "      <td>7.0</td>\n",
              "      <td>30.0</td>\n",
              "      <td>False</td>\n",
              "      <td>0.0</td>\n",
              "      <td>1561165950</td>\n",
              "      <td>1561200000</td>\n",
              "      <td>1561200000</td>\n",
              "      <td>0</td>\n",
              "      <td>1</td>\n",
              "    </tr>\n",
              "    <tr>\n",
              "      <th>...</th>\n",
              "      <td>...</td>\n",
              "      <td>...</td>\n",
              "      <td>...</td>\n",
              "      <td>...</td>\n",
              "      <td>...</td>\n",
              "      <td>...</td>\n",
              "      <td>...</td>\n",
              "      <td>...</td>\n",
              "      <td>...</td>\n",
              "      <td>...</td>\n",
              "      <td>...</td>\n",
              "      <td>...</td>\n",
              "      <td>...</td>\n",
              "      <td>...</td>\n",
              "      <td>...</td>\n",
              "      <td>...</td>\n",
              "      <td>...</td>\n",
              "      <td>...</td>\n",
              "      <td>...</td>\n",
              "      <td>...</td>\n",
              "      <td>...</td>\n",
              "      <td>...</td>\n",
              "      <td>...</td>\n",
              "      <td>...</td>\n",
              "      <td>...</td>\n",
              "      <td>...</td>\n",
              "      <td>...</td>\n",
              "      <td>...</td>\n",
              "      <td>...</td>\n",
              "      <td>...</td>\n",
              "      <td>...</td>\n",
              "      <td>...</td>\n",
              "      <td>...</td>\n",
              "      <td>...</td>\n",
              "      <td>...</td>\n",
              "      <td>...</td>\n",
              "      <td>...</td>\n",
              "      <td>...</td>\n",
              "      <td>...</td>\n",
              "      <td>...</td>\n",
              "      <td>...</td>\n",
              "      <td>...</td>\n",
              "      <td>...</td>\n",
              "      <td>...</td>\n",
              "      <td>...</td>\n",
              "      <td>...</td>\n",
              "      <td>...</td>\n",
              "      <td>...</td>\n",
              "      <td>...</td>\n",
              "      <td>...</td>\n",
              "      <td>...</td>\n",
              "      <td>...</td>\n",
              "      <td>...</td>\n",
              "      <td>...</td>\n",
              "      <td>...</td>\n",
              "      <td>...</td>\n",
              "      <td>...</td>\n",
              "      <td>...</td>\n",
              "      <td>...</td>\n",
              "      <td>...</td>\n",
              "      <td>...</td>\n",
              "    </tr>\n",
              "    <tr>\n",
              "      <th>542850</th>\n",
              "      <td>9.0</td>\n",
              "      <td>8</td>\n",
              "      <td>13</td>\n",
              "      <td>42682</td>\n",
              "      <td>1</td>\n",
              "      <td>5</td>\n",
              "      <td>57.0</td>\n",
              "      <td>415</td>\n",
              "      <td>2:02.1</td>\n",
              "      <td>10</td>\n",
              "      <td>58.6</td>\n",
              "      <td>9.0</td>\n",
              "      <td>468.0</td>\n",
              "      <td>-2.0</td>\n",
              "      <td>94</td>\n",
              "      <td>12</td>\n",
              "      <td>9</td>\n",
              "      <td>0</td>\n",
              "      <td>0</td>\n",
              "      <td>-</td>\n",
              "      <td>2000.0</td>\n",
              "      <td>1</td>\n",
              "      <td>0</td>\n",
              "      <td>16:01</td>\n",
              "      <td>2017</td>\n",
              "      <td>3</td>\n",
              "      <td>5</td>\n",
              "      <td>8.0</td>\n",
              "      <td>1.0</td>\n",
              "      <td>1.0</td>\n",
              "      <td>42682.0</td>\n",
              "      <td>1.0</td>\n",
              "      <td>5.0</td>\n",
              "      <td>57.0</td>\n",
              "      <td>387.0</td>\n",
              "      <td>2:01.9</td>\n",
              "      <td>4.0</td>\n",
              "      <td>23.3</td>\n",
              "      <td>8.0</td>\n",
              "      <td>470.0</td>\n",
              "      <td>-2.0</td>\n",
              "      <td>94.0</td>\n",
              "      <td>9.0</td>\n",
              "      <td>9.0</td>\n",
              "      <td>0.0</td>\n",
              "      <td>0.0</td>\n",
              "      <td>-</td>\n",
              "      <td>2000.0</td>\n",
              "      <td>0.0</td>\n",
              "      <td>0.0</td>\n",
              "      <td>14:15</td>\n",
              "      <td>2017.0</td>\n",
              "      <td>2.0</td>\n",
              "      <td>25.0</td>\n",
              "      <td>False</td>\n",
              "      <td>0.0</td>\n",
              "      <td>1561168914</td>\n",
              "      <td>1561219260</td>\n",
              "      <td>1561212900</td>\n",
              "      <td>0</td>\n",
              "      <td>0</td>\n",
              "    </tr>\n",
              "    <tr>\n",
              "      <th>542851</th>\n",
              "      <td>10.0</td>\n",
              "      <td>5</td>\n",
              "      <td>6</td>\n",
              "      <td>44140</td>\n",
              "      <td>1</td>\n",
              "      <td>5</td>\n",
              "      <td>57.0</td>\n",
              "      <td>418</td>\n",
              "      <td>2:02.2</td>\n",
              "      <td>1</td>\n",
              "      <td>140.9</td>\n",
              "      <td>12.0</td>\n",
              "      <td>494.0</td>\n",
              "      <td>-2.0</td>\n",
              "      <td>116</td>\n",
              "      <td>12</td>\n",
              "      <td>9</td>\n",
              "      <td>0</td>\n",
              "      <td>0</td>\n",
              "      <td>-</td>\n",
              "      <td>2000.0</td>\n",
              "      <td>1</td>\n",
              "      <td>0</td>\n",
              "      <td>16:01</td>\n",
              "      <td>2017</td>\n",
              "      <td>3</td>\n",
              "      <td>5</td>\n",
              "      <td>8.0</td>\n",
              "      <td>1.0</td>\n",
              "      <td>1.0</td>\n",
              "      <td>44140.0</td>\n",
              "      <td>1.0</td>\n",
              "      <td>5.0</td>\n",
              "      <td>57.0</td>\n",
              "      <td>418.0</td>\n",
              "      <td>2:01.3</td>\n",
              "      <td>1.0</td>\n",
              "      <td>113.1</td>\n",
              "      <td>10.0</td>\n",
              "      <td>496.0</td>\n",
              "      <td>-4.0</td>\n",
              "      <td>116.0</td>\n",
              "      <td>10.0</td>\n",
              "      <td>9.0</td>\n",
              "      <td>0.0</td>\n",
              "      <td>0.0</td>\n",
              "      <td>-</td>\n",
              "      <td>2000.0</td>\n",
              "      <td>0.0</td>\n",
              "      <td>0.0</td>\n",
              "      <td>14:40</td>\n",
              "      <td>2017.0</td>\n",
              "      <td>2.0</td>\n",
              "      <td>19.0</td>\n",
              "      <td>False</td>\n",
              "      <td>0.0</td>\n",
              "      <td>1561168878</td>\n",
              "      <td>1561219260</td>\n",
              "      <td>1561214400</td>\n",
              "      <td>0</td>\n",
              "      <td>0</td>\n",
              "    </tr>\n",
              "    <tr>\n",
              "      <th>542852</th>\n",
              "      <td>11.0</td>\n",
              "      <td>5</td>\n",
              "      <td>7</td>\n",
              "      <td>45594</td>\n",
              "      <td>1</td>\n",
              "      <td>5</td>\n",
              "      <td>57.0</td>\n",
              "      <td>497</td>\n",
              "      <td>2:02.3</td>\n",
              "      <td>4</td>\n",
              "      <td>14.3</td>\n",
              "      <td>6.0</td>\n",
              "      <td>496.0</td>\n",
              "      <td>2.0</td>\n",
              "      <td>192</td>\n",
              "      <td>12</td>\n",
              "      <td>9</td>\n",
              "      <td>0</td>\n",
              "      <td>0</td>\n",
              "      <td>-</td>\n",
              "      <td>2000.0</td>\n",
              "      <td>1</td>\n",
              "      <td>0</td>\n",
              "      <td>16:01</td>\n",
              "      <td>2017</td>\n",
              "      <td>3</td>\n",
              "      <td>5</td>\n",
              "      <td>2.0</td>\n",
              "      <td>5.0</td>\n",
              "      <td>5.0</td>\n",
              "      <td>45594.0</td>\n",
              "      <td>1.0</td>\n",
              "      <td>5.0</td>\n",
              "      <td>54.0</td>\n",
              "      <td>497.0</td>\n",
              "      <td>2:01.3</td>\n",
              "      <td>9.0</td>\n",
              "      <td>19.5</td>\n",
              "      <td>6.0</td>\n",
              "      <td>494.0</td>\n",
              "      <td>-4.0</td>\n",
              "      <td>192.0</td>\n",
              "      <td>9.0</td>\n",
              "      <td>9.0</td>\n",
              "      <td>0.0</td>\n",
              "      <td>0.0</td>\n",
              "      <td>-</td>\n",
              "      <td>2000.0</td>\n",
              "      <td>0.0</td>\n",
              "      <td>0.0</td>\n",
              "      <td>14:15</td>\n",
              "      <td>2017.0</td>\n",
              "      <td>2.0</td>\n",
              "      <td>25.0</td>\n",
              "      <td>False</td>\n",
              "      <td>0.0</td>\n",
              "      <td>1561168878</td>\n",
              "      <td>1561219260</td>\n",
              "      <td>1561212900</td>\n",
              "      <td>0</td>\n",
              "      <td>0</td>\n",
              "    </tr>\n",
              "    <tr>\n",
              "      <th>542853</th>\n",
              "      <td>12.0</td>\n",
              "      <td>4</td>\n",
              "      <td>5</td>\n",
              "      <td>52157</td>\n",
              "      <td>0</td>\n",
              "      <td>4</td>\n",
              "      <td>55.0</td>\n",
              "      <td>254</td>\n",
              "      <td>2:02.6</td>\n",
              "      <td>2</td>\n",
              "      <td>174.9</td>\n",
              "      <td>13.0</td>\n",
              "      <td>460.0</td>\n",
              "      <td>-4.0</td>\n",
              "      <td>450</td>\n",
              "      <td>12</td>\n",
              "      <td>9</td>\n",
              "      <td>0</td>\n",
              "      <td>0</td>\n",
              "      <td>-</td>\n",
              "      <td>2000.0</td>\n",
              "      <td>1</td>\n",
              "      <td>0</td>\n",
              "      <td>16:01</td>\n",
              "      <td>2017</td>\n",
              "      <td>3</td>\n",
              "      <td>5</td>\n",
              "      <td>8.0</td>\n",
              "      <td>3.0</td>\n",
              "      <td>3.0</td>\n",
              "      <td>52157.0</td>\n",
              "      <td>0.0</td>\n",
              "      <td>4.0</td>\n",
              "      <td>54.0</td>\n",
              "      <td>246.0</td>\n",
              "      <td>2:03.0</td>\n",
              "      <td>3.0</td>\n",
              "      <td>61.0</td>\n",
              "      <td>10.0</td>\n",
              "      <td>464.0</td>\n",
              "      <td>1.0</td>\n",
              "      <td>450.0</td>\n",
              "      <td>10.0</td>\n",
              "      <td>9.0</td>\n",
              "      <td>0.0</td>\n",
              "      <td>0.0</td>\n",
              "      <td>-</td>\n",
              "      <td>2000.0</td>\n",
              "      <td>0.0</td>\n",
              "      <td>0.0</td>\n",
              "      <td>14:50</td>\n",
              "      <td>2017.0</td>\n",
              "      <td>2.0</td>\n",
              "      <td>26.0</td>\n",
              "      <td>False</td>\n",
              "      <td>0.0</td>\n",
              "      <td>1561168980</td>\n",
              "      <td>1561219260</td>\n",
              "      <td>1561215000</td>\n",
              "      <td>0</td>\n",
              "      <td>0</td>\n",
              "    </tr>\n",
              "    <tr>\n",
              "      <th>542854</th>\n",
              "      <td>13.0</td>\n",
              "      <td>7</td>\n",
              "      <td>11</td>\n",
              "      <td>43079</td>\n",
              "      <td>1</td>\n",
              "      <td>5</td>\n",
              "      <td>57.0</td>\n",
              "      <td>18</td>\n",
              "      <td>2:02.8</td>\n",
              "      <td>3</td>\n",
              "      <td>60.3</td>\n",
              "      <td>10.0</td>\n",
              "      <td>504.0</td>\n",
              "      <td>-4.0</td>\n",
              "      <td>106</td>\n",
              "      <td>12</td>\n",
              "      <td>9</td>\n",
              "      <td>0</td>\n",
              "      <td>0</td>\n",
              "      <td>-</td>\n",
              "      <td>2000.0</td>\n",
              "      <td>1</td>\n",
              "      <td>0</td>\n",
              "      <td>16:01</td>\n",
              "      <td>2017</td>\n",
              "      <td>3</td>\n",
              "      <td>5</td>\n",
              "      <td>14.0</td>\n",
              "      <td>8.0</td>\n",
              "      <td>15.0</td>\n",
              "      <td>43079.0</td>\n",
              "      <td>1.0</td>\n",
              "      <td>5.0</td>\n",
              "      <td>57.0</td>\n",
              "      <td>79.0</td>\n",
              "      <td>1:48.8</td>\n",
              "      <td>4.0</td>\n",
              "      <td>67.2</td>\n",
              "      <td>11.0</td>\n",
              "      <td>508.0</td>\n",
              "      <td>0.0</td>\n",
              "      <td>106.0</td>\n",
              "      <td>6.0</td>\n",
              "      <td>9.0</td>\n",
              "      <td>0.0</td>\n",
              "      <td>2.0</td>\n",
              "      <td>-</td>\n",
              "      <td>1800.0</td>\n",
              "      <td>1.0</td>\n",
              "      <td>0.0</td>\n",
              "      <td>13:00</td>\n",
              "      <td>2017.0</td>\n",
              "      <td>2.0</td>\n",
              "      <td>5.0</td>\n",
              "      <td>False</td>\n",
              "      <td>0.0</td>\n",
              "      <td>1561168128</td>\n",
              "      <td>1561219260</td>\n",
              "      <td>1561208400</td>\n",
              "      <td>0</td>\n",
              "      <td>0</td>\n",
              "    </tr>\n",
              "  </tbody>\n",
              "</table>\n",
              "<p>542855 rows × 61 columns</p>\n",
              "</div>"
            ],
            "text/plain": [
              "        rank  frame_num  ...  high_rank  high_prev_popularity\n",
              "0        1.0          6  ...          1                     1\n",
              "1        2.0          7  ...          1                     0\n",
              "2        3.0          7  ...          1                     1\n",
              "3        4.0          2  ...          0                     0\n",
              "4        5.0          5  ...          0                     1\n",
              "...      ...        ...  ...        ...                   ...\n",
              "542850   9.0          8  ...          0                     0\n",
              "542851  10.0          5  ...          0                     0\n",
              "542852  11.0          5  ...          0                     0\n",
              "542853  12.0          4  ...          0                     0\n",
              "542854  13.0          7  ...          0                     0\n",
              "\n",
              "[542855 rows x 61 columns]"
            ]
          },
          "metadata": {
            "tags": []
          },
          "execution_count": 16
        }
      ]
    },
    {
      "cell_type": "code",
      "metadata": {
        "id": "DlRazfpWyqyc",
        "colab_type": "code",
        "colab": {}
      },
      "source": [
        "sdat = ldat.sample(frac=1).reset_index(drop=True)"
      ],
      "execution_count": 0,
      "outputs": []
    },
    {
      "cell_type": "code",
      "metadata": {
        "id": "ng4Qk1MJdAnM",
        "colab_type": "code",
        "colab": {}
      },
      "source": [
        "# 勝ち馬と負け馬をちょうど半々になるようにする start"
      ],
      "execution_count": 0,
      "outputs": []
    },
    {
      "cell_type": "code",
      "metadata": {
        "id": "X1dqQ93HbZ88",
        "colab_type": "code",
        "colab": {}
      },
      "source": [
        "winner = sdat.query(\"high_rank == 1\")"
      ],
      "execution_count": 0,
      "outputs": []
    },
    {
      "cell_type": "code",
      "metadata": {
        "id": "B-vlx_8zbjWV",
        "colab_type": "code",
        "colab": {}
      },
      "source": [
        "loser = sdat.query(\"high_rank != 1\").head(winner.count()[0])"
      ],
      "execution_count": 0,
      "outputs": []
    },
    {
      "cell_type": "code",
      "metadata": {
        "id": "_k6NztP1bp6S",
        "colab_type": "code",
        "colab": {}
      },
      "source": [
        "catted = pd.concat([winner,loser])"
      ],
      "execution_count": 0,
      "outputs": []
    },
    {
      "cell_type": "code",
      "metadata": {
        "id": "jQXOCTctcyXM",
        "colab_type": "code",
        "colab": {}
      },
      "source": [
        "sampled = catted.sample(frac=1).reset_index(drop=True)"
      ],
      "execution_count": 0,
      "outputs": []
    },
    {
      "cell_type": "code",
      "metadata": {
        "id": "dgUJSDC6cyZ5",
        "colab_type": "code",
        "colab": {}
      },
      "source": [
        "# 勝ち馬と負け馬をちょうど半々になるようにする end"
      ],
      "execution_count": 0,
      "outputs": []
    },
    {
      "cell_type": "code",
      "metadata": {
        "id": "tfUTHaPE-4xZ",
        "colab_type": "code",
        "colab": {}
      },
      "source": [
        "x = sampled[['frame_num', 'horse_num', 'name', 'sex', 'age', 'amount',\n",
        "       'jockey', 'odds', 'popularity', 'weight',\n",
        "       'diff_weight', 'trainer', 'race_num', 'grade', 'ground', 'direction',\n",
        "        'distance', 'weather', 'condition', 'start_time_float', 'year',\n",
        "       'month', 'day', 'prev_rank', 'prev_frame_num', 'prev_horse_num',\n",
        "       'prev_name', 'prev_sex', 'prev_age', 'prev_amount', 'prev_jockey',\n",
        "       'prev_time_float', 'prev_diff_arrival', 'prev_odds', 'prev_popularity',\n",
        "       'prev_weight', 'prev_diff_weight', 'prev_trainer', 'prev_race_num',\n",
        "       'prev_grade', 'prev_ground', 'prev_direction',\n",
        "       'prev_distance', 'prev_weather', 'prev_condition', 'prev_start_time_float',\n",
        "       'prev_year', 'prev_month', 'prev_day']].dropna(0)"
      ],
      "execution_count": 0,
      "outputs": []
    },
    {
      "cell_type": "code",
      "metadata": {
        "id": "3SW8SNVNSilw",
        "colab_type": "code",
        "colab": {}
      },
      "source": [
        "# x = sdat[['frame_num', 'horse_num', 'sex', 'age', 'amount',\n",
        "#        'odds', 'popularity', 'weight',\n",
        "#        'diff_weight', 'trainer', 'grade', 'ground', 'direction',\n",
        "#         'distance', 'weather', 'condition', 'start_time_float', 'prev_rank', 'prev_frame_num', 'prev_horse_num',\n",
        "#        'prev_sex', 'prev_age', 'prev_amount', 'prev_jockey',\n",
        "#        'prev_time_float', 'prev_diff_arrival', 'prev_odds', 'prev_popularity',\n",
        "#        'prev_weight', 'prev_diff_weight', 'prev_trainer',\n",
        "#        'prev_grade', 'prev_ground', 'prev_direction',\n",
        "#        'prev_distance', 'prev_weather', 'prev_condition', 'prev_start_time_float'\n",
        "#        ]].dropna(0)"
      ],
      "execution_count": 0,
      "outputs": []
    },
    {
      "cell_type": "code",
      "metadata": {
        "id": "L86xkmZGTZ-K",
        "colab_type": "code",
        "colab": {}
      },
      "source": [
        "# x = sdat[[\"odds\",'prev_rank','prev_diff_arrival']].dropna(0)"
      ],
      "execution_count": 0,
      "outputs": []
    },
    {
      "cell_type": "code",
      "metadata": {
        "id": "izs3s8otL3XX",
        "colab_type": "code",
        "colab": {}
      },
      "source": [
        "x = sampled[['high_prev_popularity']].dropna(0)"
      ],
      "execution_count": 0,
      "outputs": []
    },
    {
      "cell_type": "code",
      "metadata": {
        "id": "VT8CcCQR-48e",
        "colab_type": "code",
        "colab": {}
      },
      "source": [
        "#y = sampled[[\"high_rank\"]].dropna(0)"
      ],
      "execution_count": 0,
      "outputs": []
    },
    {
      "cell_type": "code",
      "metadata": {
        "id": "A_KWjiVIbrsm",
        "colab_type": "code",
        "colab": {}
      },
      "source": [
        "y_np = np_utils.to_categorical(sampled[[\"high_rank\"]].dropna(0))\n",
        "y = pd.DataFrame(y_np,columns=[\"lose\",\"win\"])"
      ],
      "execution_count": 0,
      "outputs": []
    },
    {
      "cell_type": "code",
      "metadata": {
        "id": "cubqldxiccZU",
        "colab_type": "code",
        "colab": {}
      },
      "source": [
        ""
      ],
      "execution_count": 0,
      "outputs": []
    },
    {
      "cell_type": "code",
      "metadata": {
        "id": "2jQ42aW4-5Ai",
        "colab_type": "code",
        "colab": {}
      },
      "source": [
        "# 競馬データの作成 終わり"
      ],
      "execution_count": 0,
      "outputs": []
    },
    {
      "cell_type": "code",
      "metadata": {
        "id": "gJdOFuv3-46d",
        "colab_type": "code",
        "colab": {}
      },
      "source": [
        "# 学習、テストデータの作成"
      ],
      "execution_count": 0,
      "outputs": []
    },
    {
      "cell_type": "code",
      "metadata": {
        "id": "p2wTrCZbcCdt",
        "colab_type": "code",
        "colab": {}
      },
      "source": [
        "trainlen = int(len(x)/2)"
      ],
      "execution_count": 0,
      "outputs": []
    },
    {
      "cell_type": "code",
      "metadata": {
        "id": "iFK08dQKcCoJ",
        "colab_type": "code",
        "colab": {}
      },
      "source": [
        "trainx = x.head(trainlen)\n",
        "trainy = y.head(trainlen)"
      ],
      "execution_count": 0,
      "outputs": []
    },
    {
      "cell_type": "code",
      "metadata": {
        "id": "rW4_Fl4icCt1",
        "colab_type": "code",
        "colab": {}
      },
      "source": [
        "testx = x.tail(len(x)-trainlen)\n",
        "testy = y.tail(len(x)-trainlen)"
      ],
      "execution_count": 0,
      "outputs": []
    },
    {
      "cell_type": "code",
      "metadata": {
        "id": "gesLloNs3Gxe",
        "colab_type": "code",
        "colab": {}
      },
      "source": [
        "testorg = sampled.tail(len(x)-trainlen) "
      ],
      "execution_count": 0,
      "outputs": []
    },
    {
      "cell_type": "code",
      "metadata": {
        "id": "jzQJ4Mus-43A",
        "colab_type": "code",
        "colab": {}
      },
      "source": [
        "# 学習、テストデータの作成　終わり"
      ],
      "execution_count": 0,
      "outputs": []
    },
    {
      "cell_type": "code",
      "metadata": {
        "id": "4yO24DOecXKp",
        "colab_type": "code",
        "colab": {}
      },
      "source": [
        ""
      ],
      "execution_count": 0,
      "outputs": []
    },
    {
      "cell_type": "code",
      "metadata": {
        "id": "SJUwnya_cXRX",
        "colab_type": "code",
        "colab": {}
      },
      "source": [
        "#!pip uninstall -y keras"
      ],
      "execution_count": 0,
      "outputs": []
    },
    {
      "cell_type": "code",
      "metadata": {
        "id": "LutfR4VAcXO3",
        "colab_type": "code",
        "colab": {}
      },
      "source": [
        "#!pip uninstall -y tensorflow"
      ],
      "execution_count": 0,
      "outputs": []
    },
    {
      "cell_type": "code",
      "metadata": {
        "id": "jABqOJatZ_sG",
        "colab_type": "code",
        "colab": {}
      },
      "source": [
        "batch_size = 128\n",
        "num_classes = 2\n",
        "epochs = 5\n"
      ],
      "execution_count": 0,
      "outputs": []
    },
    {
      "cell_type": "code",
      "metadata": {
        "id": "xInQERwBYrD4",
        "colab_type": "code",
        "colab": {}
      },
      "source": [
        "model = Sequential()\n",
        "model.add(Dense(512, activation='relu', input_shape=(x.shape[1],)))\n",
        "model.add(LeakyReLU(alpha=0.3))\n",
        "\n",
        "model.add(Dense(256, activation=None))\n",
        "model.add(LeakyReLU(alpha=0.3))\n",
        "\n",
        "model.add(Dense(128, activation=None))\n",
        "model.add(LeakyReLU(alpha=0.3))\n",
        "model.add(Dense(2)) # 出力層2ノード,全結合\n",
        "model.add(Activation(\"sigmoid\"))"
      ],
      "execution_count": 0,
      "outputs": []
    },
    {
      "cell_type": "code",
      "metadata": {
        "id": "MisyP5PRYrG2",
        "colab_type": "code",
        "outputId": "014ce625-1171-41c2-b64b-c6613a888281",
        "colab": {
          "base_uri": "https://localhost:8080/",
          "height": 425
        }
      },
      "source": [
        "model.summary()\n"
      ],
      "execution_count": 45,
      "outputs": [
        {
          "output_type": "stream",
          "text": [
            "Model: \"sequential_2\"\n",
            "_________________________________________________________________\n",
            "Layer (type)                 Output Shape              Param #   \n",
            "=================================================================\n",
            "dense_5 (Dense)              (None, 512)               1024      \n",
            "_________________________________________________________________\n",
            "leaky_re_lu_4 (LeakyReLU)    (None, 512)               0         \n",
            "_________________________________________________________________\n",
            "dense_6 (Dense)              (None, 256)               131328    \n",
            "_________________________________________________________________\n",
            "leaky_re_lu_5 (LeakyReLU)    (None, 256)               0         \n",
            "_________________________________________________________________\n",
            "dense_7 (Dense)              (None, 128)               32896     \n",
            "_________________________________________________________________\n",
            "leaky_re_lu_6 (LeakyReLU)    (None, 128)               0         \n",
            "_________________________________________________________________\n",
            "dense_8 (Dense)              (None, 2)                 258       \n",
            "_________________________________________________________________\n",
            "activation_2 (Activation)    (None, 2)                 0         \n",
            "=================================================================\n",
            "Total params: 165,506\n",
            "Trainable params: 165,506\n",
            "Non-trainable params: 0\n",
            "_________________________________________________________________\n"
          ],
          "name": "stdout"
        }
      ]
    },
    {
      "cell_type": "code",
      "metadata": {
        "id": "gTYwkbphYrJn",
        "colab_type": "code",
        "colab": {}
      },
      "source": [
        "model.compile(loss='binary_crossentropy',\n",
        "              optimizer=\"adam\",\n",
        "              metrics=['accuracy'])\n"
      ],
      "execution_count": 0,
      "outputs": []
    },
    {
      "cell_type": "code",
      "metadata": {
        "id": "lO8O-5i8YrMf",
        "colab_type": "code",
        "outputId": "f7e8f029-0695-42d2-ddd6-a5988f696f88",
        "colab": {
          "base_uri": "https://localhost:8080/",
          "height": 204
        }
      },
      "source": [
        "history = model.fit(trainx, trainy,\n",
        "                    batch_size=batch_size,\n",
        "                    epochs=epochs,\n",
        "                    verbose=1,\n",
        "                    validation_data=(testx, testy))\n"
      ],
      "execution_count": 47,
      "outputs": [
        {
          "output_type": "stream",
          "text": [
            "Train on 112774 samples, validate on 112774 samples\n",
            "Epoch 1/5\n",
            "112774/112774 [==============================] - 9s 82us/step - loss: 0.6631 - accuracy: 0.6068 - val_loss: 0.6616 - val_accuracy: 0.6106\n",
            "Epoch 2/5\n",
            "112774/112774 [==============================] - 9s 80us/step - loss: 0.6628 - accuracy: 0.6074 - val_loss: 0.6619 - val_accuracy: 0.6106\n",
            "Epoch 3/5\n",
            "112774/112774 [==============================] - 9s 80us/step - loss: 0.6627 - accuracy: 0.6074 - val_loss: 0.6612 - val_accuracy: 0.6106\n",
            "Epoch 4/5\n",
            "112774/112774 [==============================] - 9s 78us/step - loss: 0.6627 - accuracy: 0.6074 - val_loss: 0.6619 - val_accuracy: 0.6106\n",
            "Epoch 5/5\n",
            "112774/112774 [==============================] - 9s 78us/step - loss: 0.6626 - accuracy: 0.6074 - val_loss: 0.6622 - val_accuracy: 0.6106\n"
          ],
          "name": "stdout"
        }
      ]
    },
    {
      "cell_type": "code",
      "metadata": {
        "id": "QGB-4d0-YrPG",
        "colab_type": "code",
        "colab": {}
      },
      "source": [
        "predictions = model.predict(testx)"
      ],
      "execution_count": 0,
      "outputs": []
    },
    {
      "cell_type": "code",
      "metadata": {
        "id": "X_ZWiiH4d_Ii",
        "colab_type": "code",
        "outputId": "618bd589-c441-4389-8fed-bcd12f738976",
        "colab": {
          "base_uri": "https://localhost:8080/",
          "height": 136
        }
      },
      "source": [
        "print(predictions)"
      ],
      "execution_count": 49,
      "outputs": [
        {
          "output_type": "stream",
          "text": [
            "[[0.5863744  0.41358227]\n",
            " [0.33212164 0.668324  ]\n",
            " [0.33212164 0.668324  ]\n",
            " ...\n",
            " [0.33212164 0.668324  ]\n",
            " [0.33212164 0.668324  ]\n",
            " [0.33212164 0.668324  ]]\n"
          ],
          "name": "stdout"
        }
      ]
    },
    {
      "cell_type": "code",
      "metadata": {
        "id": "GB9aFQYFeCR6",
        "colab_type": "code",
        "outputId": "8cde4484-ee50-4eb1-8799-8694044e4cbf",
        "colab": {
          "base_uri": "https://localhost:8080/",
          "height": 34
        }
      },
      "source": [
        "score = model.evaluate(testx, testy, verbose=1)\n"
      ],
      "execution_count": 50,
      "outputs": [
        {
          "output_type": "stream",
          "text": [
            "112774/112774 [==============================] - 4s 34us/step\n"
          ],
          "name": "stdout"
        }
      ]
    },
    {
      "cell_type": "code",
      "metadata": {
        "id": "eTdqKmmCXJfR",
        "colab_type": "code",
        "outputId": "6722e8a0-5af9-4381-a958-bcbbdc92b723",
        "colab": {
          "base_uri": "https://localhost:8080/",
          "height": 51
        }
      },
      "source": [
        "\n",
        "print(\"Test score\", score[0])\n",
        "print(\"Test accuracy\", score[1])"
      ],
      "execution_count": 51,
      "outputs": [
        {
          "output_type": "stream",
          "text": [
            "Test score 0.662206160921131\n",
            "Test accuracy 0.6106194853782654\n"
          ],
          "name": "stdout"
        }
      ]
    },
    {
      "cell_type": "code",
      "metadata": {
        "id": "wr5doA6mXJ3d",
        "colab_type": "code",
        "colab": {}
      },
      "source": [
        "predict = pd.DataFrame(predictions, columns={\"lose\",\"win\"})"
      ],
      "execution_count": 0,
      "outputs": []
    },
    {
      "cell_type": "code",
      "metadata": {
        "id": "mP11Hoj0Zfzk",
        "colab_type": "code",
        "colab": {}
      },
      "source": [
        "result =  pd.concat([ predict.reset_index(),testorg.reset_index()],axis=1)"
      ],
      "execution_count": 0,
      "outputs": []
    },
    {
      "cell_type": "code",
      "metadata": {
        "id": "Q8CP2d1NZiEq",
        "colab_type": "code",
        "colab": {
          "base_uri": "https://localhost:8080/",
          "height": 162
        },
        "outputId": "2b0539f9-9ecd-4fbd-911a-60ed421ab374"
      },
      "source": [
        "result.query(\"win > 0.5\").groupby(\"high_rank\").sum()"
      ],
      "execution_count": 79,
      "outputs": [
        {
          "output_type": "execute_result",
          "data": {
            "text/html": [
              "<div>\n",
              "<style scoped>\n",
              "    .dataframe tbody tr th:only-of-type {\n",
              "        vertical-align: middle;\n",
              "    }\n",
              "\n",
              "    .dataframe tbody tr th {\n",
              "        vertical-align: top;\n",
              "    }\n",
              "\n",
              "    .dataframe thead th {\n",
              "        text-align: right;\n",
              "    }\n",
              "</style>\n",
              "<table border=\"1\" class=\"dataframe\">\n",
              "  <thead>\n",
              "    <tr style=\"text-align: right;\">\n",
              "      <th></th>\n",
              "      <th>index</th>\n",
              "      <th>win</th>\n",
              "      <th>lose</th>\n",
              "      <th>index</th>\n",
              "      <th>rank</th>\n",
              "      <th>frame_num</th>\n",
              "      <th>horse_num</th>\n",
              "      <th>name</th>\n",
              "      <th>sex</th>\n",
              "      <th>age</th>\n",
              "      <th>amount</th>\n",
              "      <th>jockey</th>\n",
              "      <th>diff_arrival</th>\n",
              "      <th>odds</th>\n",
              "      <th>popularity</th>\n",
              "      <th>weight</th>\n",
              "      <th>diff_weight</th>\n",
              "      <th>trainer</th>\n",
              "      <th>race_num</th>\n",
              "      <th>grade</th>\n",
              "      <th>ground</th>\n",
              "      <th>direction</th>\n",
              "      <th>distance</th>\n",
              "      <th>weather</th>\n",
              "      <th>condition</th>\n",
              "      <th>year</th>\n",
              "      <th>month</th>\n",
              "      <th>day</th>\n",
              "      <th>prev_rank</th>\n",
              "      <th>prev_frame_num</th>\n",
              "      <th>prev_horse_num</th>\n",
              "      <th>prev_name</th>\n",
              "      <th>prev_sex</th>\n",
              "      <th>prev_age</th>\n",
              "      <th>prev_amount</th>\n",
              "      <th>prev_jockey</th>\n",
              "      <th>prev_diff_arrival</th>\n",
              "      <th>prev_odds</th>\n",
              "      <th>prev_popularity</th>\n",
              "      <th>prev_weight</th>\n",
              "      <th>prev_diff_weight</th>\n",
              "      <th>prev_trainer</th>\n",
              "      <th>prev_race_num</th>\n",
              "      <th>prev_grade</th>\n",
              "      <th>prev_ground</th>\n",
              "      <th>prev_direction</th>\n",
              "      <th>prev_distance</th>\n",
              "      <th>prev_weather</th>\n",
              "      <th>prev_condition</th>\n",
              "      <th>prev_year</th>\n",
              "      <th>prev_month</th>\n",
              "      <th>prev_day</th>\n",
              "      <th>winner</th>\n",
              "      <th>return</th>\n",
              "      <th>prev_time_float</th>\n",
              "      <th>start_time_float</th>\n",
              "      <th>prev_start_time_float</th>\n",
              "      <th>high_prev_popularity</th>\n",
              "    </tr>\n",
              "    <tr>\n",
              "      <th>high_rank</th>\n",
              "      <th></th>\n",
              "      <th></th>\n",
              "      <th></th>\n",
              "      <th></th>\n",
              "      <th></th>\n",
              "      <th></th>\n",
              "      <th></th>\n",
              "      <th></th>\n",
              "      <th></th>\n",
              "      <th></th>\n",
              "      <th></th>\n",
              "      <th></th>\n",
              "      <th></th>\n",
              "      <th></th>\n",
              "      <th></th>\n",
              "      <th></th>\n",
              "      <th></th>\n",
              "      <th></th>\n",
              "      <th></th>\n",
              "      <th></th>\n",
              "      <th></th>\n",
              "      <th></th>\n",
              "      <th></th>\n",
              "      <th></th>\n",
              "      <th></th>\n",
              "      <th></th>\n",
              "      <th></th>\n",
              "      <th></th>\n",
              "      <th></th>\n",
              "      <th></th>\n",
              "      <th></th>\n",
              "      <th></th>\n",
              "      <th></th>\n",
              "      <th></th>\n",
              "      <th></th>\n",
              "      <th></th>\n",
              "      <th></th>\n",
              "      <th></th>\n",
              "      <th></th>\n",
              "      <th></th>\n",
              "      <th></th>\n",
              "      <th></th>\n",
              "      <th></th>\n",
              "      <th></th>\n",
              "      <th></th>\n",
              "      <th></th>\n",
              "      <th></th>\n",
              "      <th></th>\n",
              "      <th></th>\n",
              "      <th></th>\n",
              "      <th></th>\n",
              "      <th></th>\n",
              "      <th></th>\n",
              "      <th></th>\n",
              "      <th></th>\n",
              "      <th></th>\n",
              "      <th></th>\n",
              "      <th></th>\n",
              "    </tr>\n",
              "  </thead>\n",
              "  <tbody>\n",
              "    <tr>\n",
              "      <th>0</th>\n",
              "      <td>2704453196</td>\n",
              "      <td>28124.861328</td>\n",
              "      <td>19837.060547</td>\n",
              "      <td>8113545332</td>\n",
              "      <td>458965.0</td>\n",
              "      <td>228160</td>\n",
              "      <td>384970</td>\n",
              "      <td>1227912199</td>\n",
              "      <td>30206</td>\n",
              "      <td>177040</td>\n",
              "      <td>2636065.5</td>\n",
              "      <td>7565910</td>\n",
              "      <td>338443</td>\n",
              "      <td>4393389.8</td>\n",
              "      <td>457616.0</td>\n",
              "      <td>22389004.0</td>\n",
              "      <td>9626.0</td>\n",
              "      <td>8591919</td>\n",
              "      <td>302756</td>\n",
              "      <td>422000</td>\n",
              "      <td>26609</td>\n",
              "      <td>32664</td>\n",
              "      <td>74497130.0</td>\n",
              "      <td>24402</td>\n",
              "      <td>26468</td>\n",
              "      <td>96473491</td>\n",
              "      <td>310236</td>\n",
              "      <td>755284</td>\n",
              "      <td>369493.0</td>\n",
              "      <td>198407.0</td>\n",
              "      <td>333755.0</td>\n",
              "      <td>1.057945e+09</td>\n",
              "      <td>26672.0</td>\n",
              "      <td>155033.0</td>\n",
              "      <td>2306313.5</td>\n",
              "      <td>6489358.0</td>\n",
              "      <td>282913.0</td>\n",
              "      <td>3453175.0</td>\n",
              "      <td>399186.0</td>\n",
              "      <td>19588004.0</td>\n",
              "      <td>13234.0</td>\n",
              "      <td>7429956.0</td>\n",
              "      <td>273787.0</td>\n",
              "      <td>366861.0</td>\n",
              "      <td>22377.0</td>\n",
              "      <td>28434.0</td>\n",
              "      <td>65374620.0</td>\n",
              "      <td>21052.0</td>\n",
              "      <td>22020.0</td>\n",
              "      <td>84380606.0</td>\n",
              "      <td>272688.0</td>\n",
              "      <td>662573.0</td>\n",
              "      <td>0.0</td>\n",
              "      <td>0.0</td>\n",
              "      <td>6710770718649</td>\n",
              "      <td>74881796106540</td>\n",
              "      <td>10055702037713</td>\n",
              "      <td>0</td>\n",
              "    </tr>\n",
              "    <tr>\n",
              "      <th>1</th>\n",
              "      <td>1993361243</td>\n",
              "      <td>20733.613281</td>\n",
              "      <td>14623.855469</td>\n",
              "      <td>5980937109</td>\n",
              "      <td>73172.0</td>\n",
              "      <td>167590</td>\n",
              "      <td>270705</td>\n",
              "      <td>909825016</td>\n",
              "      <td>24181</td>\n",
              "      <td>125413</td>\n",
              "      <td>1951208.5</td>\n",
              "      <td>4936775</td>\n",
              "      <td>167932</td>\n",
              "      <td>743526.9</td>\n",
              "      <td>183323.0</td>\n",
              "      <td>16718468.0</td>\n",
              "      <td>10690.0</td>\n",
              "      <td>6208075</td>\n",
              "      <td>223922</td>\n",
              "      <td>312207</td>\n",
              "      <td>19520</td>\n",
              "      <td>23044</td>\n",
              "      <td>55169040.0</td>\n",
              "      <td>18021</td>\n",
              "      <td>19232</td>\n",
              "      <td>71118051</td>\n",
              "      <td>232358</td>\n",
              "      <td>556163</td>\n",
              "      <td>187466.0</td>\n",
              "      <td>143293.0</td>\n",
              "      <td>240135.0</td>\n",
              "      <td>7.591083e+08</td>\n",
              "      <td>20902.0</td>\n",
              "      <td>108893.0</td>\n",
              "      <td>1659140.0</td>\n",
              "      <td>4291518.0</td>\n",
              "      <td>191198.0</td>\n",
              "      <td>1162433.8</td>\n",
              "      <td>225476.0</td>\n",
              "      <td>14170376.0</td>\n",
              "      <td>18183.0</td>\n",
              "      <td>5240689.0</td>\n",
              "      <td>202366.0</td>\n",
              "      <td>259550.0</td>\n",
              "      <td>15980.0</td>\n",
              "      <td>20257.0</td>\n",
              "      <td>47683710.0</td>\n",
              "      <td>15152.0</td>\n",
              "      <td>15911.0</td>\n",
              "      <td>60427448.0</td>\n",
              "      <td>193199.0</td>\n",
              "      <td>474155.0</td>\n",
              "      <td>10545.0</td>\n",
              "      <td>152319.4</td>\n",
              "      <td>-4394034875874</td>\n",
              "      <td>55202766638640</td>\n",
              "      <td>-2117252382715</td>\n",
              "      <td>0</td>\n",
              "    </tr>\n",
              "  </tbody>\n",
              "</table>\n",
              "</div>"
            ],
            "text/plain": [
              "                index  ...  high_prev_popularity\n",
              "high_rank              ...                      \n",
              "0          2704453196  ...                     0\n",
              "1          1993361243  ...                     0\n",
              "\n",
              "[2 rows x 58 columns]"
            ]
          },
          "metadata": {
            "tags": []
          },
          "execution_count": 79
        }
      ]
    },
    {
      "cell_type": "code",
      "metadata": {
        "id": "x90n0E7T2vmh",
        "colab_type": "code",
        "colab": {}
      },
      "source": [
        ""
      ],
      "execution_count": 0,
      "outputs": []
    }
  ]
}