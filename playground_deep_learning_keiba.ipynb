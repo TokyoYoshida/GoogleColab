{
  "nbformat": 4,
  "nbformat_minor": 0,
  "metadata": {
    "colab": {
      "name": "playground_deep_learning_keiba",
      "provenance": [],
      "collapsed_sections": [],
      "include_colab_link": true
    },
    "kernelspec": {
      "name": "python3",
      "display_name": "Python 3"
    },
    "accelerator": "TPU"
  },
  "cells": [
    {
      "cell_type": "markdown",
      "metadata": {
        "id": "view-in-github",
        "colab_type": "text"
      },
      "source": [
        "<a href=\"https://colab.research.google.com/github/TokyoYoshida/GoogleColab/blob/master/playground_deep_learning_keiba.ipynb\" target=\"_parent\"><img src=\"https://colab.research.google.com/assets/colab-badge.svg\" alt=\"Open In Colab\"/></a>"
      ]
    },
    {
      "cell_type": "code",
      "metadata": {
        "id": "UXxOmD7gDtxX",
        "colab_type": "code",
        "outputId": "6bc0028a-d399-411a-d21a-8d957ae76e75",
        "colab": {
          "base_uri": "https://localhost:8080/",
          "height": 122
        }
      },
      "source": [
        "from google.colab import drive\n",
        "drive.mount('/content/drive')\n",
        "# 必要ならば以下のようにディレクトリ移動する\n",
        " "
      ],
      "execution_count": 1,
      "outputs": [
        {
          "output_type": "stream",
          "text": [
            "Go to this URL in a browser: https://accounts.google.com/o/oauth2/auth?client_id=947318989803-6bn6qk8qdgf4n4g3pfee6491hc0brc4i.apps.googleusercontent.com&redirect_uri=urn%3aietf%3awg%3aoauth%3a2.0%3aoob&response_type=code&scope=email%20https%3a%2f%2fwww.googleapis.com%2fauth%2fdocs.test%20https%3a%2f%2fwww.googleapis.com%2fauth%2fdrive%20https%3a%2f%2fwww.googleapis.com%2fauth%2fdrive.photos.readonly%20https%3a%2f%2fwww.googleapis.com%2fauth%2fpeopleapi.readonly\n",
            "\n",
            "Enter your authorization code:\n",
            "··········\n",
            "Mounted at /content/drive\n"
          ],
          "name": "stdout"
        }
      ]
    },
    {
      "cell_type": "code",
      "metadata": {
        "id": "FB5kzWFnDvLF",
        "colab_type": "code",
        "outputId": "8c5e2fed-8e00-487f-c05f-0a1d1ddc6504",
        "colab": {
          "base_uri": "https://localhost:8080/",
          "height": 34
        }
      },
      "source": [
        "%cd /content/drive/'My Drive'/'★個人専用ファイル'/'開発用・個人サービス開発'/'GoogleColab'/"
      ],
      "execution_count": 2,
      "outputs": [
        {
          "output_type": "stream",
          "text": [
            "/content/drive/My Drive/★個人専用ファイル/開発用・個人サービス開発/GoogleColab\n"
          ],
          "name": "stdout"
        }
      ]
    },
    {
      "cell_type": "code",
      "metadata": {
        "id": "7tT1SbekEPKY",
        "colab_type": "code",
        "outputId": "ade7e7c4-9c83-4234-f769-7945fab318b1",
        "colab": {
          "base_uri": "https://localhost:8080/",
          "height": 272
        }
      },
      "source": [
        "%ls\n"
      ],
      "execution_count": 3,
      "outputs": [
        {
          "output_type": "stream",
          "text": [
            "\u001b[0m\u001b[01;34mdata\u001b[0m/\n",
            "duel_dqn_Pendulum-v0_weights.h5f\n",
            "\u001b[01;34mh5f\u001b[0m/\n",
            "model.txt\n",
            "playground_deep_learning_keiba\n",
            "playground_dqn_keiba\n",
            "playground_dqn_keiba_try_layer_add_depth\n",
            "playground_dqn_keiba_try_long_term_reward\n",
            "playground_dqn_keiba_try_simple\n",
            "playground_dqn_keiba_try_simple2\n",
            "playground_dqn_keiba_try_simple_x_1\n",
            "playground_dqn_study.ipynb\n",
            "playground_dqn_study_my_try.ipynb\n",
            "playground_dqn_study_my_try_modify_reward\n",
            "playground.ipynb\n"
          ],
          "name": "stdout"
        }
      ]
    },
    {
      "cell_type": "code",
      "metadata": {
        "id": "0oeldNv7-4ch",
        "colab_type": "code",
        "colab": {}
      },
      "source": [
        "import pandas as pd"
      ],
      "execution_count": 0,
      "outputs": []
    },
    {
      "cell_type": "code",
      "metadata": {
        "id": "zdsoSSOZZo9D",
        "colab_type": "code",
        "colab": {}
      },
      "source": [
        "import numpy as np"
      ],
      "execution_count": 0,
      "outputs": []
    },
    {
      "cell_type": "code",
      "metadata": {
        "id": "aVHdpj8I9ggK",
        "colab_type": "code",
        "colab": {}
      },
      "source": [
        "from pprint import pprint"
      ],
      "execution_count": 0,
      "outputs": []
    },
    {
      "cell_type": "code",
      "metadata": {
        "id": "qULptQcKFwQ8",
        "colab_type": "code",
        "outputId": "771c1ac6-f8c1-47fe-adc0-edfa3db0d6f2",
        "colab": {
          "base_uri": "https://localhost:8080/",
          "height": 612
        }
      },
      "source": [
        "!pip install tensorflow==2.2.0"
      ],
      "execution_count": 7,
      "outputs": [
        {
          "output_type": "stream",
          "text": [
            "Requirement already satisfied: tensorflow==2.2.0 in /usr/local/lib/python3.6/dist-packages (2.2.0)\n",
            "Requirement already satisfied: six>=1.12.0 in /usr/local/lib/python3.6/dist-packages (from tensorflow==2.2.0) (1.12.0)\n",
            "Requirement already satisfied: protobuf>=3.8.0 in /usr/local/lib/python3.6/dist-packages (from tensorflow==2.2.0) (3.10.0)\n",
            "Requirement already satisfied: opt-einsum>=2.3.2 in /usr/local/lib/python3.6/dist-packages (from tensorflow==2.2.0) (3.2.1)\n",
            "Requirement already satisfied: tensorflow-estimator<2.3.0,>=2.2.0 in /usr/local/lib/python3.6/dist-packages (from tensorflow==2.2.0) (2.2.0)\n",
            "Requirement already satisfied: google-pasta>=0.1.8 in /usr/local/lib/python3.6/dist-packages (from tensorflow==2.2.0) (0.2.0)\n",
            "Requirement already satisfied: gast==0.3.3 in /usr/local/lib/python3.6/dist-packages (from tensorflow==2.2.0) (0.3.3)\n",
            "Requirement already satisfied: numpy<2.0,>=1.16.0 in /usr/local/lib/python3.6/dist-packages (from tensorflow==2.2.0) (1.18.4)\n",
            "Requirement already satisfied: tensorboard<2.3.0,>=2.2.0 in /usr/local/lib/python3.6/dist-packages (from tensorflow==2.2.0) (2.2.1)\n",
            "Requirement already satisfied: astunparse==1.6.3 in /usr/local/lib/python3.6/dist-packages (from tensorflow==2.2.0) (1.6.3)\n",
            "Requirement already satisfied: termcolor>=1.1.0 in /usr/local/lib/python3.6/dist-packages (from tensorflow==2.2.0) (1.1.0)\n",
            "Requirement already satisfied: h5py<2.11.0,>=2.10.0 in /usr/local/lib/python3.6/dist-packages (from tensorflow==2.2.0) (2.10.0)\n",
            "Requirement already satisfied: grpcio>=1.8.6 in /usr/local/lib/python3.6/dist-packages (from tensorflow==2.2.0) (1.28.1)\n",
            "Requirement already satisfied: wrapt>=1.11.1 in /usr/local/lib/python3.6/dist-packages (from tensorflow==2.2.0) (1.12.1)\n",
            "Requirement already satisfied: scipy==1.4.1; python_version >= \"3\" in /usr/local/lib/python3.6/dist-packages (from tensorflow==2.2.0) (1.4.1)\n",
            "Requirement already satisfied: wheel>=0.26; python_version >= \"3\" in /usr/local/lib/python3.6/dist-packages (from tensorflow==2.2.0) (0.34.2)\n",
            "Requirement already satisfied: absl-py>=0.7.0 in /usr/local/lib/python3.6/dist-packages (from tensorflow==2.2.0) (0.9.0)\n",
            "Requirement already satisfied: keras-preprocessing>=1.1.0 in /usr/local/lib/python3.6/dist-packages (from tensorflow==2.2.0) (1.1.0)\n",
            "Requirement already satisfied: setuptools in /usr/local/lib/python3.6/dist-packages (from protobuf>=3.8.0->tensorflow==2.2.0) (46.3.0)\n",
            "Requirement already satisfied: google-auth-oauthlib<0.5,>=0.4.1 in /usr/local/lib/python3.6/dist-packages (from tensorboard<2.3.0,>=2.2.0->tensorflow==2.2.0) (0.4.1)\n",
            "Requirement already satisfied: werkzeug>=0.11.15 in /usr/local/lib/python3.6/dist-packages (from tensorboard<2.3.0,>=2.2.0->tensorflow==2.2.0) (1.0.1)\n",
            "Requirement already satisfied: requests<3,>=2.21.0 in /usr/local/lib/python3.6/dist-packages (from tensorboard<2.3.0,>=2.2.0->tensorflow==2.2.0) (2.23.0)\n",
            "Requirement already satisfied: google-auth<2,>=1.6.3 in /usr/local/lib/python3.6/dist-packages (from tensorboard<2.3.0,>=2.2.0->tensorflow==2.2.0) (1.7.2)\n",
            "Requirement already satisfied: markdown>=2.6.8 in /usr/local/lib/python3.6/dist-packages (from tensorboard<2.3.0,>=2.2.0->tensorflow==2.2.0) (3.2.1)\n",
            "Requirement already satisfied: tensorboard-plugin-wit>=1.6.0 in /usr/local/lib/python3.6/dist-packages (from tensorboard<2.3.0,>=2.2.0->tensorflow==2.2.0) (1.6.0.post3)\n",
            "Requirement already satisfied: requests-oauthlib>=0.7.0 in /usr/local/lib/python3.6/dist-packages (from google-auth-oauthlib<0.5,>=0.4.1->tensorboard<2.3.0,>=2.2.0->tensorflow==2.2.0) (1.3.0)\n",
            "Requirement already satisfied: urllib3!=1.25.0,!=1.25.1,<1.26,>=1.21.1 in /usr/local/lib/python3.6/dist-packages (from requests<3,>=2.21.0->tensorboard<2.3.0,>=2.2.0->tensorflow==2.2.0) (1.24.3)\n",
            "Requirement already satisfied: idna<3,>=2.5 in /usr/local/lib/python3.6/dist-packages (from requests<3,>=2.21.0->tensorboard<2.3.0,>=2.2.0->tensorflow==2.2.0) (2.9)\n",
            "Requirement already satisfied: certifi>=2017.4.17 in /usr/local/lib/python3.6/dist-packages (from requests<3,>=2.21.0->tensorboard<2.3.0,>=2.2.0->tensorflow==2.2.0) (2020.4.5.1)\n",
            "Requirement already satisfied: chardet<4,>=3.0.2 in /usr/local/lib/python3.6/dist-packages (from requests<3,>=2.21.0->tensorboard<2.3.0,>=2.2.0->tensorflow==2.2.0) (3.0.4)\n",
            "Requirement already satisfied: cachetools<3.2,>=2.0.0 in /usr/local/lib/python3.6/dist-packages (from google-auth<2,>=1.6.3->tensorboard<2.3.0,>=2.2.0->tensorflow==2.2.0) (3.1.1)\n",
            "Requirement already satisfied: pyasn1-modules>=0.2.1 in /usr/local/lib/python3.6/dist-packages (from google-auth<2,>=1.6.3->tensorboard<2.3.0,>=2.2.0->tensorflow==2.2.0) (0.2.8)\n",
            "Requirement already satisfied: rsa<4.1,>=3.1.4 in /usr/local/lib/python3.6/dist-packages (from google-auth<2,>=1.6.3->tensorboard<2.3.0,>=2.2.0->tensorflow==2.2.0) (4.0)\n",
            "Requirement already satisfied: oauthlib>=3.0.0 in /usr/local/lib/python3.6/dist-packages (from requests-oauthlib>=0.7.0->google-auth-oauthlib<0.5,>=0.4.1->tensorboard<2.3.0,>=2.2.0->tensorflow==2.2.0) (3.1.0)\n",
            "Requirement already satisfied: pyasn1<0.5.0,>=0.4.6 in /usr/local/lib/python3.6/dist-packages (from pyasn1-modules>=0.2.1->google-auth<2,>=1.6.3->tensorboard<2.3.0,>=2.2.0->tensorflow==2.2.0) (0.4.8)\n"
          ],
          "name": "stdout"
        }
      ]
    },
    {
      "cell_type": "code",
      "metadata": {
        "id": "nqog9TrbFcpd",
        "colab_type": "code",
        "colab": {}
      },
      "source": [
        "!pip install -q keras"
      ],
      "execution_count": 0,
      "outputs": []
    },
    {
      "cell_type": "code",
      "metadata": {
        "id": "BTtTJTMOFssd",
        "colab_type": "code",
        "colab": {
          "base_uri": "https://localhost:8080/",
          "height": 34
        },
        "outputId": "4f8286a3-66dd-4b19-861d-4831c9e8d6f8"
      },
      "source": [
        "import keras\n",
        "from keras.utils import np_utils\n"
      ],
      "execution_count": 9,
      "outputs": [
        {
          "output_type": "stream",
          "text": [
            "Using TensorFlow backend.\n"
          ],
          "name": "stderr"
        }
      ]
    },
    {
      "cell_type": "code",
      "metadata": {
        "id": "DStmQ_a3YrBF",
        "colab_type": "code",
        "colab": {}
      },
      "source": [
        "from keras.models import Sequential\n",
        "from keras.layers import Dense, Dropout, Activation\n",
        "from keras.optimizers import RMSprop\n"
      ],
      "execution_count": 0,
      "outputs": []
    },
    {
      "cell_type": "code",
      "metadata": {
        "id": "k9aBWsjhDpQp",
        "colab_type": "code",
        "colab": {}
      },
      "source": [
        "# 競馬データの作成"
      ],
      "execution_count": 0,
      "outputs": []
    },
    {
      "cell_type": "code",
      "metadata": {
        "id": "HIWclTGw-4nE",
        "colab_type": "code",
        "colab": {}
      },
      "source": [
        "ldat = pd.read_pickle(\"./data/keiba_dat_res_20190611_sorted.pkl\")"
      ],
      "execution_count": 0,
      "outputs": []
    },
    {
      "cell_type": "code",
      "metadata": {
        "id": "RPxKeoI6z0--",
        "colab_type": "code",
        "outputId": "42593dbb-1b3e-4e2d-bf88-d2eeac2886ea",
        "colab": {
          "base_uri": "https://localhost:8080/",
          "height": 100
        }
      },
      "source": [
        "ldat.head(1)"
      ],
      "execution_count": 13,
      "outputs": [
        {
          "output_type": "execute_result",
          "data": {
            "text/html": [
              "<div>\n",
              "<style scoped>\n",
              "    .dataframe tbody tr th:only-of-type {\n",
              "        vertical-align: middle;\n",
              "    }\n",
              "\n",
              "    .dataframe tbody tr th {\n",
              "        vertical-align: top;\n",
              "    }\n",
              "\n",
              "    .dataframe thead th {\n",
              "        text-align: right;\n",
              "    }\n",
              "</style>\n",
              "<table border=\"1\" class=\"dataframe\">\n",
              "  <thead>\n",
              "    <tr style=\"text-align: right;\">\n",
              "      <th></th>\n",
              "      <th>rank</th>\n",
              "      <th>frame_num</th>\n",
              "      <th>horse_num</th>\n",
              "      <th>name</th>\n",
              "      <th>sex</th>\n",
              "      <th>age</th>\n",
              "      <th>amount</th>\n",
              "      <th>jockey</th>\n",
              "      <th>time</th>\n",
              "      <th>diff_arrival</th>\n",
              "      <th>odds</th>\n",
              "      <th>popularity</th>\n",
              "      <th>weight</th>\n",
              "      <th>diff_weight</th>\n",
              "      <th>trainer</th>\n",
              "      <th>race_num</th>\n",
              "      <th>grade</th>\n",
              "      <th>ground</th>\n",
              "      <th>direction</th>\n",
              "      <th>unknown</th>\n",
              "      <th>distance</th>\n",
              "      <th>weather</th>\n",
              "      <th>condition</th>\n",
              "      <th>start_time</th>\n",
              "      <th>year</th>\n",
              "      <th>month</th>\n",
              "      <th>day</th>\n",
              "      <th>prev_rank</th>\n",
              "      <th>prev_frame_num</th>\n",
              "      <th>prev_horse_num</th>\n",
              "      <th>prev_name</th>\n",
              "      <th>prev_sex</th>\n",
              "      <th>prev_age</th>\n",
              "      <th>prev_amount</th>\n",
              "      <th>prev_jockey</th>\n",
              "      <th>prev_time</th>\n",
              "      <th>prev_diff_arrival</th>\n",
              "      <th>prev_odds</th>\n",
              "      <th>prev_popularity</th>\n",
              "      <th>prev_weight</th>\n",
              "      <th>prev_diff_weight</th>\n",
              "      <th>prev_trainer</th>\n",
              "      <th>prev_race_num</th>\n",
              "      <th>prev_grade</th>\n",
              "      <th>prev_ground</th>\n",
              "      <th>prev_direction</th>\n",
              "      <th>prev_unknown</th>\n",
              "      <th>prev_distance</th>\n",
              "      <th>prev_weather</th>\n",
              "      <th>prev_condition</th>\n",
              "      <th>prev_start_time</th>\n",
              "      <th>prev_year</th>\n",
              "      <th>prev_month</th>\n",
              "      <th>prev_day</th>\n",
              "      <th>winner</th>\n",
              "      <th>return</th>\n",
              "      <th>prev_time_float</th>\n",
              "      <th>start_time_float</th>\n",
              "      <th>prev_start_time_float</th>\n",
              "    </tr>\n",
              "  </thead>\n",
              "  <tbody>\n",
              "    <tr>\n",
              "      <th>0</th>\n",
              "      <td>1.0</td>\n",
              "      <td>6</td>\n",
              "      <td>6</td>\n",
              "      <td>0</td>\n",
              "      <td>0</td>\n",
              "      <td>2</td>\n",
              "      <td>54.0</td>\n",
              "      <td>0</td>\n",
              "      <td>1:31.6</td>\n",
              "      <td>0</td>\n",
              "      <td>3.2</td>\n",
              "      <td>1.0</td>\n",
              "      <td>474.0</td>\n",
              "      <td>0.0</td>\n",
              "      <td>0</td>\n",
              "      <td>1</td>\n",
              "      <td>9</td>\n",
              "      <td>0</td>\n",
              "      <td>0</td>\n",
              "      <td>-</td>\n",
              "      <td>1500.0</td>\n",
              "      <td>0</td>\n",
              "      <td>0</td>\n",
              "      <td>10:40</td>\n",
              "      <td>2006</td>\n",
              "      <td>8</td>\n",
              "      <td>12</td>\n",
              "      <td>3.0</td>\n",
              "      <td>6.0</td>\n",
              "      <td>6.0</td>\n",
              "      <td>0.0</td>\n",
              "      <td>0.0</td>\n",
              "      <td>2.0</td>\n",
              "      <td>51.0</td>\n",
              "      <td>75.0</td>\n",
              "      <td>1:12.2</td>\n",
              "      <td>1.0</td>\n",
              "      <td>9.6</td>\n",
              "      <td>3.0</td>\n",
              "      <td>474.0</td>\n",
              "      <td>-2.0</td>\n",
              "      <td>0.0</td>\n",
              "      <td>1.0</td>\n",
              "      <td>9.0</td>\n",
              "      <td>0.0</td>\n",
              "      <td>0.0</td>\n",
              "      <td>-</td>\n",
              "      <td>1200.0</td>\n",
              "      <td>1.0</td>\n",
              "      <td>0.0</td>\n",
              "      <td>10:40</td>\n",
              "      <td>2006.0</td>\n",
              "      <td>7.0</td>\n",
              "      <td>29.0</td>\n",
              "      <td>True</td>\n",
              "      <td>3.2</td>\n",
              "      <td>1561165932</td>\n",
              "      <td>1561200000</td>\n",
              "      <td>1561200000</td>\n",
              "    </tr>\n",
              "  </tbody>\n",
              "</table>\n",
              "</div>"
            ],
            "text/plain": [
              "   rank  frame_num  ...  start_time_float  prev_start_time_float\n",
              "0   1.0          6  ...        1561200000             1561200000\n",
              "\n",
              "[1 rows x 59 columns]"
            ]
          },
          "metadata": {
            "tags": []
          },
          "execution_count": 13
        }
      ]
    },
    {
      "cell_type": "code",
      "metadata": {
        "id": "iGwiRWJ4z1V4",
        "colab_type": "code",
        "colab": {}
      },
      "source": [
        ""
      ],
      "execution_count": 0,
      "outputs": []
    },
    {
      "cell_type": "code",
      "metadata": {
        "id": "DlRazfpWyqyc",
        "colab_type": "code",
        "colab": {}
      },
      "source": [
        "sdat = ldat.sample(frac=1).reset_index(drop=True)"
      ],
      "execution_count": 0,
      "outputs": []
    },
    {
      "cell_type": "code",
      "metadata": {
        "id": "tfUTHaPE-4xZ",
        "colab_type": "code",
        "colab": {}
      },
      "source": [
        "x = sdat[['frame_num', 'horse_num', 'name', 'sex', 'age', 'amount',\n",
        "       'jockey', 'odds', 'popularity', 'weight',\n",
        "       'diff_weight', 'trainer', 'race_num', 'grade', 'ground', 'direction',\n",
        "        'distance', 'weather', 'condition', 'start_time_float', 'year',\n",
        "       'month', 'day', 'prev_rank', 'prev_frame_num', 'prev_horse_num',\n",
        "       'prev_name', 'prev_sex', 'prev_age', 'prev_amount', 'prev_jockey',\n",
        "       'prev_time_float', 'prev_diff_arrival', 'prev_odds', 'prev_popularity',\n",
        "       'prev_weight', 'prev_diff_weight', 'prev_trainer', 'prev_race_num',\n",
        "       'prev_grade', 'prev_ground', 'prev_direction',\n",
        "       'prev_distance', 'prev_weather', 'prev_condition', 'prev_start_time_float',\n",
        "       'prev_year', 'prev_month', 'prev_day']].dropna(0)"
      ],
      "execution_count": 0,
      "outputs": []
    },
    {
      "cell_type": "code",
      "metadata": {
        "id": "3SW8SNVNSilw",
        "colab_type": "code",
        "colab": {}
      },
      "source": [
        "# x = sdat[['frame_num', 'horse_num', 'sex', 'age', 'amount',\n",
        "#        'odds', 'popularity', 'weight',\n",
        "#        'diff_weight', 'trainer', 'grade', 'ground', 'direction',\n",
        "#         'distance', 'weather', 'condition', 'start_time_float', 'prev_rank', 'prev_frame_num', 'prev_horse_num',\n",
        "#        'prev_sex', 'prev_age', 'prev_amount', 'prev_jockey',\n",
        "#        'prev_time_float', 'prev_diff_arrival', 'prev_odds', 'prev_popularity',\n",
        "#        'prev_weight', 'prev_diff_weight', 'prev_trainer',\n",
        "#        'prev_grade', 'prev_ground', 'prev_direction',\n",
        "#        'prev_distance', 'prev_weather', 'prev_condition', 'prev_start_time_float'\n",
        "#        ]].dropna(0)"
      ],
      "execution_count": 0,
      "outputs": []
    },
    {
      "cell_type": "code",
      "metadata": {
        "id": "L86xkmZGTZ-K",
        "colab_type": "code",
        "colab": {}
      },
      "source": [
        "# x = sdat[[\"odds\",'prev_rank','prev_diff_arrival']].dropna(0)"
      ],
      "execution_count": 0,
      "outputs": []
    },
    {
      "cell_type": "code",
      "metadata": {
        "id": "izs3s8otL3XX",
        "colab_type": "code",
        "colab": {}
      },
      "source": [
        "# x = sdat[[\"odds\"]].dropna(0)"
      ],
      "execution_count": 0,
      "outputs": []
    },
    {
      "cell_type": "code",
      "metadata": {
        "id": "VT8CcCQR-48e",
        "colab_type": "code",
        "colab": {}
      },
      "source": [
        "y = sdat[[\"return\"]].dropna(0)"
      ],
      "execution_count": 0,
      "outputs": []
    },
    {
      "cell_type": "code",
      "metadata": {
        "id": "A_KWjiVIbrsm",
        "colab_type": "code",
        "colab": {}
      },
      "source": [
        "y_np = np_utils.to_categorical(sdat[[\"winner\"]].dropna(0))\n",
        "y = pd.DataFrame(y_np,columns=[\"lose\",\"win\"])"
      ],
      "execution_count": 0,
      "outputs": []
    },
    {
      "cell_type": "code",
      "metadata": {
        "id": "cubqldxiccZU",
        "colab_type": "code",
        "colab": {}
      },
      "source": [
        ""
      ],
      "execution_count": 0,
      "outputs": []
    },
    {
      "cell_type": "code",
      "metadata": {
        "id": "2jQ42aW4-5Ai",
        "colab_type": "code",
        "colab": {}
      },
      "source": [
        "# 競馬データの作成 終わり"
      ],
      "execution_count": 0,
      "outputs": []
    },
    {
      "cell_type": "code",
      "metadata": {
        "id": "gJdOFuv3-46d",
        "colab_type": "code",
        "colab": {}
      },
      "source": [
        "# 学習、テストデータの作成"
      ],
      "execution_count": 0,
      "outputs": []
    },
    {
      "cell_type": "code",
      "metadata": {
        "id": "p2wTrCZbcCdt",
        "colab_type": "code",
        "colab": {}
      },
      "source": [
        "trainlen = int(len(x)/2)"
      ],
      "execution_count": 0,
      "outputs": []
    },
    {
      "cell_type": "code",
      "metadata": {
        "id": "iFK08dQKcCoJ",
        "colab_type": "code",
        "colab": {}
      },
      "source": [
        "trainx = x.head(trainlen)\n",
        "trainy = y.head(trainlen)"
      ],
      "execution_count": 0,
      "outputs": []
    },
    {
      "cell_type": "code",
      "metadata": {
        "id": "rW4_Fl4icCt1",
        "colab_type": "code",
        "colab": {}
      },
      "source": [
        "testx = x.tail(len(x)-trainlen)\n",
        "testy = y.tail(len(x)-trainlen)"
      ],
      "execution_count": 0,
      "outputs": []
    },
    {
      "cell_type": "code",
      "metadata": {
        "id": "jzQJ4Mus-43A",
        "colab_type": "code",
        "colab": {}
      },
      "source": [
        "# 学習、テストデータの作成　終わり"
      ],
      "execution_count": 0,
      "outputs": []
    },
    {
      "cell_type": "code",
      "metadata": {
        "id": "4yO24DOecXKp",
        "colab_type": "code",
        "colab": {}
      },
      "source": [
        ""
      ],
      "execution_count": 0,
      "outputs": []
    },
    {
      "cell_type": "code",
      "metadata": {
        "id": "SJUwnya_cXRX",
        "colab_type": "code",
        "colab": {}
      },
      "source": [
        "#!pip uninstall -y keras"
      ],
      "execution_count": 0,
      "outputs": []
    },
    {
      "cell_type": "code",
      "metadata": {
        "id": "LutfR4VAcXO3",
        "colab_type": "code",
        "colab": {}
      },
      "source": [
        "#!pip uninstall -y tensorflow"
      ],
      "execution_count": 0,
      "outputs": []
    },
    {
      "cell_type": "code",
      "metadata": {
        "id": "jABqOJatZ_sG",
        "colab_type": "code",
        "colab": {}
      },
      "source": [
        "batch_size = 128\n",
        "num_classes = 2\n",
        "epochs = 3\n"
      ],
      "execution_count": 0,
      "outputs": []
    },
    {
      "cell_type": "code",
      "metadata": {
        "id": "xInQERwBYrD4",
        "colab_type": "code",
        "colab": {}
      },
      "source": [
        "model = Sequential()\n",
        "model.add(Dense(512, activation='relu', input_shape=(x.shape[1],)))\n",
        "model.add(Dropout(0.2))\n",
        "model.add(Dense(512, activation='relu'))\n",
        "model.add(Dropout(0.2))\n",
        "model.add(Dense(2)) # 出力層2ノード,全結合\n",
        "model.add(Activation(\"sigmoid\"))"
      ],
      "execution_count": 0,
      "outputs": []
    },
    {
      "cell_type": "code",
      "metadata": {
        "id": "MisyP5PRYrG2",
        "colab_type": "code",
        "colab": {
          "base_uri": "https://localhost:8080/",
          "height": 357
        },
        "outputId": "0f640fc3-0cae-4ac7-82a3-ff166190e05b"
      },
      "source": [
        "model.summary()\n"
      ],
      "execution_count": 31,
      "outputs": [
        {
          "output_type": "stream",
          "text": [
            "Model: \"sequential_1\"\n",
            "_________________________________________________________________\n",
            "Layer (type)                 Output Shape              Param #   \n",
            "=================================================================\n",
            "dense_1 (Dense)              (None, 512)               25600     \n",
            "_________________________________________________________________\n",
            "dropout_1 (Dropout)          (None, 512)               0         \n",
            "_________________________________________________________________\n",
            "dense_2 (Dense)              (None, 512)               262656    \n",
            "_________________________________________________________________\n",
            "dropout_2 (Dropout)          (None, 512)               0         \n",
            "_________________________________________________________________\n",
            "dense_3 (Dense)              (None, 2)                 1026      \n",
            "_________________________________________________________________\n",
            "activation_1 (Activation)    (None, 2)                 0         \n",
            "=================================================================\n",
            "Total params: 289,282\n",
            "Trainable params: 289,282\n",
            "Non-trainable params: 0\n",
            "_________________________________________________________________\n"
          ],
          "name": "stdout"
        }
      ]
    },
    {
      "cell_type": "code",
      "metadata": {
        "id": "gTYwkbphYrJn",
        "colab_type": "code",
        "colab": {}
      },
      "source": [
        "model.compile(loss='categorical_crossentropy',\n",
        "              optimizer=RMSprop(),\n",
        "              metrics=['accuracy'])\n"
      ],
      "execution_count": 0,
      "outputs": []
    },
    {
      "cell_type": "code",
      "metadata": {
        "id": "lO8O-5i8YrMf",
        "colab_type": "code",
        "colab": {
          "base_uri": "https://localhost:8080/",
          "height": 136
        },
        "outputId": "cf77c64a-f9b2-49e4-ac35-03526358553f"
      },
      "source": [
        "history = model.fit(trainx, trainy,\n",
        "                    batch_size=batch_size,\n",
        "                    epochs=epochs,\n",
        "                    verbose=1,\n",
        "                    validation_data=(testx, testy))\n"
      ],
      "execution_count": 33,
      "outputs": [
        {
          "output_type": "stream",
          "text": [
            "Train on 229275 samples, validate on 229275 samples\n",
            "Epoch 1/3\n",
            "229275/229275 [==============================] - 26s 115us/step - loss: nan - accuracy: 0.9307 - val_loss: nan - val_accuracy: 0.9304\n",
            "Epoch 2/3\n",
            "229275/229275 [==============================] - 26s 113us/step - loss: nan - accuracy: 0.9309 - val_loss: nan - val_accuracy: 0.9304\n",
            "Epoch 3/3\n",
            "229275/229275 [==============================] - 26s 113us/step - loss: nan - accuracy: 0.9309 - val_loss: nan - val_accuracy: 0.9304\n"
          ],
          "name": "stdout"
        }
      ]
    },
    {
      "cell_type": "code",
      "metadata": {
        "id": "QGB-4d0-YrPG",
        "colab_type": "code",
        "colab": {}
      },
      "source": [
        "predictions = model.predict(testx)"
      ],
      "execution_count": 0,
      "outputs": []
    },
    {
      "cell_type": "code",
      "metadata": {
        "id": "X_ZWiiH4d_Ii",
        "colab_type": "code",
        "colab": {
          "base_uri": "https://localhost:8080/",
          "height": 136
        },
        "outputId": "3c269a53-b3cb-4057-ccbd-94d5fae6a9dc"
      },
      "source": [
        "print(predictions)"
      ],
      "execution_count": 40,
      "outputs": [
        {
          "output_type": "stream",
          "text": [
            "[[nan nan]\n",
            " [nan nan]\n",
            " [nan nan]\n",
            " ...\n",
            " [nan nan]\n",
            " [nan nan]\n",
            " [nan nan]]\n"
          ],
          "name": "stdout"
        }
      ]
    },
    {
      "cell_type": "code",
      "metadata": {
        "id": "GB9aFQYFeCR6",
        "colab_type": "code",
        "colab": {
          "base_uri": "https://localhost:8080/",
          "height": 34
        },
        "outputId": "a13ab6ea-9fc4-481d-c05c-8361b6f3f90f"
      },
      "source": [
        "score = model.evaluate(testx, testy, verbose=1)\n"
      ],
      "execution_count": 38,
      "outputs": [
        {
          "output_type": "stream",
          "text": [
            "229275/229275 [==============================] - 10s 44us/step\n"
          ],
          "name": "stdout"
        }
      ]
    },
    {
      "cell_type": "code",
      "metadata": {
        "id": "eTdqKmmCXJfR",
        "colab_type": "code",
        "colab": {
          "base_uri": "https://localhost:8080/",
          "height": 51
        },
        "outputId": "810b4391-0d30-46f1-e64e-c12b87ec0b99"
      },
      "source": [
        "\n",
        "print(\"Test score\", score[0])\n",
        "print(\"Test accuracy\", score[1])"
      ],
      "execution_count": 39,
      "outputs": [
        {
          "output_type": "stream",
          "text": [
            "Test score nan\n",
            "Test accuracy 0.930393636226654\n"
          ],
          "name": "stdout"
        }
      ]
    },
    {
      "cell_type": "code",
      "metadata": {
        "id": "wr5doA6mXJ3d",
        "colab_type": "code",
        "colab": {}
      },
      "source": [
        ""
      ],
      "execution_count": 0,
      "outputs": []
    }
  ]
}