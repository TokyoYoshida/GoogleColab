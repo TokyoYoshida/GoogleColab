{
  "nbformat": 4,
  "nbformat_minor": 0,
  "metadata": {
    "colab": {
      "name": "lightGBMTest.ipynb",
      "provenance": [],
      "authorship_tag": "ABX9TyOzXl1o7xY9HOdwgvyXBx2L",
      "include_colab_link": true
    },
    "kernelspec": {
      "name": "python3",
      "display_name": "Python 3"
    }
  },
  "cells": [
    {
      "cell_type": "markdown",
      "metadata": {
        "id": "view-in-github",
        "colab_type": "text"
      },
      "source": [
        "<a href=\"https://colab.research.google.com/github/TokyoYoshida/GoogleColab/blob/master/lightGBMTest.ipynb\" target=\"_parent\"><img src=\"https://colab.research.google.com/assets/colab-badge.svg\" alt=\"Open In Colab\"/></a>"
      ]
    },
    {
      "cell_type": "code",
      "metadata": {
        "id": "3Bklxxc0lboz",
        "colab_type": "code",
        "colab": {
          "base_uri": "https://localhost:8080/",
          "height": 122
        },
        "outputId": "406693b9-df29-4fcc-c6b3-cf0f6a263c4f"
      },
      "source": [
        "from google.colab import drive\n",
        "drive.mount('/content/drive')\n",
        "# 必要ならば以下のようにディレクトリ移動する\n"
      ],
      "execution_count": 1,
      "outputs": [
        {
          "output_type": "stream",
          "text": [
            "Go to this URL in a browser: https://accounts.google.com/o/oauth2/auth?client_id=947318989803-6bn6qk8qdgf4n4g3pfee6491hc0brc4i.apps.googleusercontent.com&redirect_uri=urn%3aietf%3awg%3aoauth%3a2.0%3aoob&response_type=code&scope=email%20https%3a%2f%2fwww.googleapis.com%2fauth%2fdocs.test%20https%3a%2f%2fwww.googleapis.com%2fauth%2fdrive%20https%3a%2f%2fwww.googleapis.com%2fauth%2fdrive.photos.readonly%20https%3a%2f%2fwww.googleapis.com%2fauth%2fpeopleapi.readonly\n",
            "\n",
            "Enter your authorization code:\n",
            "··········\n",
            "Mounted at /content/drive\n"
          ],
          "name": "stdout"
        }
      ]
    },
    {
      "cell_type": "code",
      "metadata": {
        "id": "SjwT2i6llllQ",
        "colab_type": "code",
        "colab": {
          "base_uri": "https://localhost:8080/",
          "height": 34
        },
        "outputId": "e4cf2530-91bf-477d-8c64-2032a95cf9e2"
      },
      "source": [
        "%cd /content/drive/'My Drive'/'★個人専用ファイル'/'開発用・個人サービス開発'/'GoogleColab'/"
      ],
      "execution_count": 2,
      "outputs": [
        {
          "output_type": "stream",
          "text": [
            "/content/drive/My Drive/★個人専用ファイル/開発用・個人サービス開発/GoogleColab\n"
          ],
          "name": "stdout"
        }
      ]
    },
    {
      "cell_type": "code",
      "metadata": {
        "id": "oPPAP1FqltJQ",
        "colab_type": "code",
        "colab": {
          "base_uri": "https://localhost:8080/",
          "height": 238
        },
        "outputId": "e0813100-fbed-4756-bf6f-91e9ff81f002"
      },
      "source": [
        "%ls\n"
      ],
      "execution_count": 3,
      "outputs": [
        {
          "output_type": "stream",
          "text": [
            "\u001b[0m\u001b[01;34mdata\u001b[0m/\n",
            "duel_dqn_Pendulum-v0_weights.h5f\n",
            "\u001b[01;34mh5f\u001b[0m/\n",
            "playground_dqn_keiba\n",
            "playground_dqn_keiba_try_layer_add_depth\n",
            "playground_dqn_keiba_try_long_term_reward\n",
            "playground_dqn_keiba_try_simple\n",
            "playground_dqn_keiba_try_simple2\n",
            "playground_dqn_keiba_try_simple_x_1\n",
            "playground_dqn_study.ipynb\n",
            "playground_dqn_study_my_try.ipynb\n",
            "playground_dqn_study_my_try_modify_reward\n",
            "playground.ipynb\n"
          ],
          "name": "stdout"
        }
      ]
    },
    {
      "cell_type": "code",
      "metadata": {
        "id": "SqjUuN9flvU_",
        "colab_type": "code",
        "colab": {
          "base_uri": "https://localhost:8080/",
          "height": 102
        },
        "outputId": "423ea9b0-f88e-4c26-dd25-431696234217"
      },
      "source": [
        "!pip install lightgbm"
      ],
      "execution_count": 4,
      "outputs": [
        {
          "output_type": "stream",
          "text": [
            "Requirement already satisfied: lightgbm in /usr/local/lib/python3.6/dist-packages (2.2.3)\n",
            "Requirement already satisfied: scipy in /usr/local/lib/python3.6/dist-packages (from lightgbm) (1.4.1)\n",
            "Requirement already satisfied: numpy in /usr/local/lib/python3.6/dist-packages (from lightgbm) (1.18.4)\n",
            "Requirement already satisfied: scikit-learn in /usr/local/lib/python3.6/dist-packages (from lightgbm) (0.22.2.post1)\n",
            "Requirement already satisfied: joblib>=0.11 in /usr/local/lib/python3.6/dist-packages (from scikit-learn->lightgbm) (0.14.1)\n"
          ],
          "name": "stdout"
        }
      ]
    },
    {
      "cell_type": "code",
      "metadata": {
        "id": "YNi9wfEplyea",
        "colab_type": "code",
        "colab": {}
      },
      "source": [
        "import lightgbm as lgb\n",
        "from sklearn import datasets\n",
        "from sklearn.model_selection import train_test_split\n",
        "import numpy as np\n",
        "import pandas as pd\n",
        "pd.set_option('display.max_rows', 100)\n",
        "from sklearn import metrics\n",
        "import matplotlib.pyplot as plt\n",
        "%matplotlib inline"
      ],
      "execution_count": 0,
      "outputs": []
    },
    {
      "cell_type": "code",
      "metadata": {
        "id": "a_tjp9a1lzv7",
        "colab_type": "code",
        "colab": {}
      },
      "source": [
        "# Breast Cancer データセットを読み込む\n",
        "bc = datasets.load_breast_cancer()\n",
        "X, y = bc.data, bc.target\n",
        "\n",
        "# 訓練データとテストデータに分割する\n",
        "X_train, X_test, y_train, y_test = train_test_split(X, y)\n",
        "\n",
        "# データセットを生成する\n",
        "lgb_train = lgb.Dataset(X_train, y_train)\n",
        "lgb_eval = lgb.Dataset(X_test, y_test, reference=lgb_train)"
      ],
      "execution_count": 0,
      "outputs": []
    },
    {
      "cell_type": "code",
      "metadata": {
        "id": "AxPdIzMVl26K",
        "colab_type": "code",
        "colab": {}
      },
      "source": [
        "# LightGBM のハイパーパラメータ\n",
        "lgbm_params = {\n",
        "    # 二値分類問題\n",
        "    'objective': 'binary',\n",
        "    # AUC の最大化を目指す\n",
        "    'metric': 'auc',\n",
        "}"
      ],
      "execution_count": 0,
      "outputs": []
    },
    {
      "cell_type": "code",
      "metadata": {
        "id": "ULvHvgotl4IG",
        "colab_type": "code",
        "colab": {
          "base_uri": "https://localhost:8080/",
          "height": 1000
        },
        "outputId": "800afb0b-7592-4bee-c152-fbf088619699"
      },
      "source": [
        "# 上記のパラメータでモデルを学習する\n",
        "model = lgb.train(lgbm_params, lgb_train, valid_sets=lgb_eval)\n"
      ],
      "execution_count": 8,
      "outputs": [
        {
          "output_type": "stream",
          "text": [
            "[1]\tvalid_0's auc: 0.970588\n",
            "[2]\tvalid_0's auc: 0.991262\n",
            "[3]\tvalid_0's auc: 0.992434\n",
            "[4]\tvalid_0's auc: 0.991581\n",
            "[5]\tvalid_0's auc: 0.993713\n",
            "[6]\tvalid_0's auc: 0.993926\n",
            "[7]\tvalid_0's auc: 0.994352\n",
            "[8]\tvalid_0's auc: 0.9935\n",
            "[9]\tvalid_0's auc: 0.993926\n",
            "[10]\tvalid_0's auc: 0.994032\n",
            "[11]\tvalid_0's auc: 0.993286\n",
            "[12]\tvalid_0's auc: 0.994032\n",
            "[13]\tvalid_0's auc: 0.994672\n",
            "[14]\tvalid_0's auc: 0.993606\n",
            "[15]\tvalid_0's auc: 0.993606\n",
            "[16]\tvalid_0's auc: 0.993393\n",
            "[17]\tvalid_0's auc: 0.993606\n",
            "[18]\tvalid_0's auc: 0.992967\n",
            "[19]\tvalid_0's auc: 0.99318\n",
            "[20]\tvalid_0's auc: 0.992967\n",
            "[21]\tvalid_0's auc: 0.993393\n",
            "[22]\tvalid_0's auc: 0.993393\n",
            "[23]\tvalid_0's auc: 0.992967\n",
            "[24]\tvalid_0's auc: 0.992754\n",
            "[25]\tvalid_0's auc: 0.991901\n",
            "[26]\tvalid_0's auc: 0.992114\n",
            "[27]\tvalid_0's auc: 0.992967\n",
            "[28]\tvalid_0's auc: 0.992967\n",
            "[29]\tvalid_0's auc: 0.992114\n",
            "[30]\tvalid_0's auc: 0.992754\n",
            "[31]\tvalid_0's auc: 0.993393\n",
            "[32]\tvalid_0's auc: 0.993606\n",
            "[33]\tvalid_0's auc: 0.99318\n",
            "[34]\tvalid_0's auc: 0.99318\n",
            "[35]\tvalid_0's auc: 0.99318\n",
            "[36]\tvalid_0's auc: 0.99318\n",
            "[37]\tvalid_0's auc: 0.993819\n",
            "[38]\tvalid_0's auc: 0.994246\n",
            "[39]\tvalid_0's auc: 0.994032\n",
            "[40]\tvalid_0's auc: 0.994032\n",
            "[41]\tvalid_0's auc: 0.993606\n",
            "[42]\tvalid_0's auc: 0.994032\n",
            "[43]\tvalid_0's auc: 0.993819\n",
            "[44]\tvalid_0's auc: 0.994032\n",
            "[45]\tvalid_0's auc: 0.994032\n",
            "[46]\tvalid_0's auc: 0.994032\n",
            "[47]\tvalid_0's auc: 0.994246\n",
            "[48]\tvalid_0's auc: 0.994246\n",
            "[49]\tvalid_0's auc: 0.994032\n",
            "[50]\tvalid_0's auc: 0.994459\n",
            "[51]\tvalid_0's auc: 0.994246\n",
            "[52]\tvalid_0's auc: 0.994246\n",
            "[53]\tvalid_0's auc: 0.993606\n",
            "[54]\tvalid_0's auc: 0.994032\n",
            "[55]\tvalid_0's auc: 0.994246\n",
            "[56]\tvalid_0's auc: 0.994459\n",
            "[57]\tvalid_0's auc: 0.994246\n",
            "[58]\tvalid_0's auc: 0.993606\n",
            "[59]\tvalid_0's auc: 0.993819\n",
            "[60]\tvalid_0's auc: 0.994459\n",
            "[61]\tvalid_0's auc: 0.994246\n",
            "[62]\tvalid_0's auc: 0.993819\n",
            "[63]\tvalid_0's auc: 0.992967\n",
            "[64]\tvalid_0's auc: 0.993393\n",
            "[65]\tvalid_0's auc: 0.993393\n",
            "[66]\tvalid_0's auc: 0.992967\n",
            "[67]\tvalid_0's auc: 0.993819\n",
            "[68]\tvalid_0's auc: 0.99318\n",
            "[69]\tvalid_0's auc: 0.993393\n",
            "[70]\tvalid_0's auc: 0.993606\n",
            "[71]\tvalid_0's auc: 0.993606\n",
            "[72]\tvalid_0's auc: 0.994032\n",
            "[73]\tvalid_0's auc: 0.994032\n",
            "[74]\tvalid_0's auc: 0.994459\n",
            "[75]\tvalid_0's auc: 0.994246\n",
            "[76]\tvalid_0's auc: 0.994246\n",
            "[77]\tvalid_0's auc: 0.994246\n",
            "[78]\tvalid_0's auc: 0.994032\n",
            "[79]\tvalid_0's auc: 0.993819\n",
            "[80]\tvalid_0's auc: 0.994032\n",
            "[81]\tvalid_0's auc: 0.994246\n",
            "[82]\tvalid_0's auc: 0.993606\n",
            "[83]\tvalid_0's auc: 0.994032\n",
            "[84]\tvalid_0's auc: 0.994459\n",
            "[85]\tvalid_0's auc: 0.994459\n",
            "[86]\tvalid_0's auc: 0.994672\n",
            "[87]\tvalid_0's auc: 0.995098\n",
            "[88]\tvalid_0's auc: 0.995098\n",
            "[89]\tvalid_0's auc: 0.995098\n",
            "[90]\tvalid_0's auc: 0.995098\n",
            "[91]\tvalid_0's auc: 0.994672\n",
            "[92]\tvalid_0's auc: 0.994246\n",
            "[93]\tvalid_0's auc: 0.994459\n",
            "[94]\tvalid_0's auc: 0.994246\n",
            "[95]\tvalid_0's auc: 0.995098\n",
            "[96]\tvalid_0's auc: 0.995098\n",
            "[97]\tvalid_0's auc: 0.994885\n",
            "[98]\tvalid_0's auc: 0.995098\n",
            "[99]\tvalid_0's auc: 0.995311\n",
            "[100]\tvalid_0's auc: 0.994885\n"
          ],
          "name": "stdout"
        }
      ]
    },
    {
      "cell_type": "code",
      "metadata": {
        "id": "wPy870N9l6EQ",
        "colab_type": "code",
        "colab": {
          "base_uri": "https://localhost:8080/",
          "height": 34
        },
        "outputId": "c695d9cd-c8c3-4cdc-b110-ecd6302ffb2b"
      },
      "source": [
        "# 保存\n",
        "model.save_model('model.txt')"
      ],
      "execution_count": 9,
      "outputs": [
        {
          "output_type": "execute_result",
          "data": {
            "text/plain": [
              "<lightgbm.basic.Booster at 0x7f59fe8b20b8>"
            ]
          },
          "metadata": {
            "tags": []
          },
          "execution_count": 9
        }
      ]
    },
    {
      "cell_type": "code",
      "metadata": {
        "id": "hv_Lr_9El7wA",
        "colab_type": "code",
        "colab": {}
      },
      "source": [
        "# テストデータを予測する\n",
        "y_pred = model.predict(X_test, num_iteration=model.best_iteration)"
      ],
      "execution_count": 0,
      "outputs": []
    },
    {
      "cell_type": "code",
      "metadata": {
        "id": "Useak-Ygl892",
        "colab_type": "code",
        "colab": {}
      },
      "source": [
        "# 保存したモデルを使う場合はこんな感じ\n",
        "#bst = lgb.Booster(model_file='model.txt')\n",
        "#ypred = bst.predict(X_test, num_iteration=bst.best_iteration)\n"
      ],
      "execution_count": 0,
      "outputs": []
    },
    {
      "cell_type": "code",
      "metadata": {
        "id": "GR5sEf2-l-eq",
        "colab_type": "code",
        "colab": {
          "base_uri": "https://localhost:8080/",
          "height": 34
        },
        "outputId": "a05db49e-d791-4846-c66f-573d6391a6ca"
      },
      "source": [
        "# AUC (Area Under the Curve) を計算する\n",
        "fpr, tpr, thresholds = metrics.roc_curve(y_test, y_pred)\n",
        "auc = metrics.auc(fpr, tpr)\n",
        "print(auc)"
      ],
      "execution_count": 12,
      "outputs": [
        {
          "output_type": "stream",
          "text": [
            "0.9948849104859335\n"
          ],
          "name": "stdout"
        }
      ]
    },
    {
      "cell_type": "code",
      "metadata": {
        "id": "Kc0jB4cOl_zD",
        "colab_type": "code",
        "colab": {
          "base_uri": "https://localhost:8080/",
          "height": 295
        },
        "outputId": "ba0c96bd-cbef-4233-94ae-69b329455862"
      },
      "source": [
        "# ROC曲線をプロット\n",
        "plt.plot(fpr, tpr, label='ROC curve (area = %.2f)'%auc)\n",
        "plt.legend()\n",
        "plt.title('ROC curve')\n",
        "plt.xlabel('False Positive Rate')\n",
        "plt.ylabel('True Positive Rate')\n",
        "plt.grid(True)"
      ],
      "execution_count": 13,
      "outputs": [
        {
          "output_type": "display_data",
          "data": {
            "image/png": "[encoded data removed]",
            "text/plain": [
              "<Figure size 432x288 with 1 Axes>"
            ]
          },
          "metadata": {
            "tags": [],
            "needs_background": "light"
          }
        }
      ]
    },
    {
      "cell_type": "code",
      "metadata": {
        "id": "HjWkQrqtmBEY",
        "colab_type": "code",
        "colab": {}
      },
      "source": [
        ""
      ],
      "execution_count": 0,
      "outputs": []
    }
  ]
}