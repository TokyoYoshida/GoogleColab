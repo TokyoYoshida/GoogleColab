{
  "nbformat": 4,
  "nbformat_minor": 0,
  "metadata": {
    "colab": {
      "name": "playground_dqn_keiba",
      "provenance": [],
      "collapsed_sections": [],
      "include_colab_link": true
    },
    "kernelspec": {
      "name": "python3",
      "display_name": "Python 3"
    },
    "accelerator": "TPU"
  },
  "cells": [
    {
      "cell_type": "markdown",
      "metadata": {
        "id": "view-in-github",
        "colab_type": "text"
      },
      "source": [
        "<a href=\"https://colab.research.google.com/github/TokyoYoshida/GoogleColab/blob/master/playground_dqn_keiba.ipynb\" target=\"_parent\"><img src=\"https://colab.research.google.com/assets/colab-badge.svg\" alt=\"Open In Colab\"/></a>"
      ]
    },
    {
      "cell_type": "code",
      "metadata": {
        "id": "UXxOmD7gDtxX",
        "colab_type": "code",
        "outputId": "512a1b24-c6f9-4f1c-c11d-450d76d2ce89",
        "colab": {
          "base_uri": "https://localhost:8080/",
          "height": 34
        }
      },
      "source": [
        "from google.colab import drive\n",
        "drive.mount('/content/drive')\n",
        "# 必要ならば以下のようにディレクトリ移動する\n",
        " "
      ],
      "execution_count": 2,
      "outputs": [
        {
          "output_type": "stream",
          "text": [
            "Drive already mounted at /content/drive; to attempt to forcibly remount, call drive.mount(\"/content/drive\", force_remount=True).\n"
          ],
          "name": "stdout"
        }
      ]
    },
    {
      "cell_type": "code",
      "metadata": {
        "id": "FB5kzWFnDvLF",
        "colab_type": "code",
        "outputId": "6bc528b3-87f7-4409-fa97-00a0958e0bb0",
        "colab": {
          "base_uri": "https://localhost:8080/",
          "height": 34
        }
      },
      "source": [
        "%cd /content/drive/'My Drive'/'★個人専用ファイル'/'開発用・個人サービス開発'/'GoogleColab'/"
      ],
      "execution_count": 3,
      "outputs": [
        {
          "output_type": "stream",
          "text": [
            "/content/drive/My Drive/★個人専用ファイル/開発用・個人サービス開発/GoogleColab\n"
          ],
          "name": "stdout"
        }
      ]
    },
    {
      "cell_type": "code",
      "metadata": {
        "id": "7tT1SbekEPKY",
        "colab_type": "code",
        "outputId": "bab7de59-4d16-432f-dc65-c4b854be874f",
        "colab": {
          "base_uri": "https://localhost:8080/",
          "height": 255
        }
      },
      "source": [
        "%ls\n"
      ],
      "execution_count": 4,
      "outputs": [
        {
          "output_type": "stream",
          "text": [
            "\u001b[0m\u001b[01;34mdata\u001b[0m/\n",
            "duel_dqn_Pendulum-v0_weights.h5f\n",
            "\u001b[01;34mh5f\u001b[0m/\n",
            "model.txt\n",
            "playground_dqn_keiba\n",
            "playground_dqn_keiba_try_layer_add_depth\n",
            "playground_dqn_keiba_try_long_term_reward\n",
            "playground_dqn_keiba_try_simple\n",
            "playground_dqn_keiba_try_simple2\n",
            "playground_dqn_keiba_try_simple_x_1\n",
            "playground_dqn_study.ipynb\n",
            "playground_dqn_study_my_try.ipynb\n",
            "playground_dqn_study_my_try_modify_reward\n",
            "playground.ipynb\n"
          ],
          "name": "stdout"
        }
      ]
    },
    {
      "cell_type": "code",
      "metadata": {
        "id": "0oeldNv7-4ch",
        "colab_type": "code",
        "colab": {}
      },
      "source": [
        "import pandas as pd"
      ],
      "execution_count": 0,
      "outputs": []
    },
    {
      "cell_type": "code",
      "metadata": {
        "id": "zdsoSSOZZo9D",
        "colab_type": "code",
        "colab": {}
      },
      "source": [
        "import numpy as np"
      ],
      "execution_count": 0,
      "outputs": []
    },
    {
      "cell_type": "code",
      "metadata": {
        "id": "k9aBWsjhDpQp",
        "colab_type": "code",
        "colab": {}
      },
      "source": [
        "# 競馬データの作成"
      ],
      "execution_count": 0,
      "outputs": []
    },
    {
      "cell_type": "code",
      "metadata": {
        "id": "HIWclTGw-4nE",
        "colab_type": "code",
        "colab": {}
      },
      "source": [
        "ldat = pd.read_pickle(\"./data/keiba_dat_res_20190611_sorted.pkl\")"
      ],
      "execution_count": 0,
      "outputs": []
    },
    {
      "cell_type": "code",
      "metadata": {
        "id": "RPxKeoI6z0--",
        "colab_type": "code",
        "outputId": "c5f802f9-3599-4b0d-dd74-ef1e2aba6375",
        "colab": {
          "base_uri": "https://localhost:8080/",
          "height": 439
        }
      },
      "source": [
        "ldat"
      ],
      "execution_count": 9,
      "outputs": [
        {
          "output_type": "execute_result",
          "data": {
            "text/html": [
              "<div>\n",
              "<style scoped>\n",
              "    .dataframe tbody tr th:only-of-type {\n",
              "        vertical-align: middle;\n",
              "    }\n",
              "\n",
              "    .dataframe tbody tr th {\n",
              "        vertical-align: top;\n",
              "    }\n",
              "\n",
              "    .dataframe thead th {\n",
              "        text-align: right;\n",
              "    }\n",
              "</style>\n",
              "<table border=\"1\" class=\"dataframe\">\n",
              "  <thead>\n",
              "    <tr style=\"text-align: right;\">\n",
              "      <th></th>\n",
              "      <th>rank</th>\n",
              "      <th>frame_num</th>\n",
              "      <th>horse_num</th>\n",
              "      <th>name</th>\n",
              "      <th>sex</th>\n",
              "      <th>age</th>\n",
              "      <th>amount</th>\n",
              "      <th>jockey</th>\n",
              "      <th>time</th>\n",
              "      <th>diff_arrival</th>\n",
              "      <th>odds</th>\n",
              "      <th>popularity</th>\n",
              "      <th>weight</th>\n",
              "      <th>diff_weight</th>\n",
              "      <th>trainer</th>\n",
              "      <th>race_num</th>\n",
              "      <th>grade</th>\n",
              "      <th>ground</th>\n",
              "      <th>direction</th>\n",
              "      <th>unknown</th>\n",
              "      <th>distance</th>\n",
              "      <th>weather</th>\n",
              "      <th>condition</th>\n",
              "      <th>start_time</th>\n",
              "      <th>year</th>\n",
              "      <th>month</th>\n",
              "      <th>day</th>\n",
              "      <th>prev_rank</th>\n",
              "      <th>prev_frame_num</th>\n",
              "      <th>prev_horse_num</th>\n",
              "      <th>prev_name</th>\n",
              "      <th>prev_sex</th>\n",
              "      <th>prev_age</th>\n",
              "      <th>prev_amount</th>\n",
              "      <th>prev_jockey</th>\n",
              "      <th>prev_time</th>\n",
              "      <th>prev_diff_arrival</th>\n",
              "      <th>prev_odds</th>\n",
              "      <th>prev_popularity</th>\n",
              "      <th>prev_weight</th>\n",
              "      <th>prev_diff_weight</th>\n",
              "      <th>prev_trainer</th>\n",
              "      <th>prev_race_num</th>\n",
              "      <th>prev_grade</th>\n",
              "      <th>prev_ground</th>\n",
              "      <th>prev_direction</th>\n",
              "      <th>prev_unknown</th>\n",
              "      <th>prev_distance</th>\n",
              "      <th>prev_weather</th>\n",
              "      <th>prev_condition</th>\n",
              "      <th>prev_start_time</th>\n",
              "      <th>prev_year</th>\n",
              "      <th>prev_month</th>\n",
              "      <th>prev_day</th>\n",
              "      <th>winner</th>\n",
              "      <th>return</th>\n",
              "      <th>prev_time_float</th>\n",
              "      <th>start_time_float</th>\n",
              "      <th>prev_start_time_float</th>\n",
              "    </tr>\n",
              "  </thead>\n",
              "  <tbody>\n",
              "    <tr>\n",
              "      <th>0</th>\n",
              "      <td>1.0</td>\n",
              "      <td>6</td>\n",
              "      <td>6</td>\n",
              "      <td>0</td>\n",
              "      <td>0</td>\n",
              "      <td>2</td>\n",
              "      <td>54.0</td>\n",
              "      <td>0</td>\n",
              "      <td>1:31.6</td>\n",
              "      <td>0</td>\n",
              "      <td>3.2</td>\n",
              "      <td>1.0</td>\n",
              "      <td>474.0</td>\n",
              "      <td>0.0</td>\n",
              "      <td>0</td>\n",
              "      <td>1</td>\n",
              "      <td>9</td>\n",
              "      <td>0</td>\n",
              "      <td>0</td>\n",
              "      <td>-</td>\n",
              "      <td>1500.0</td>\n",
              "      <td>0</td>\n",
              "      <td>0</td>\n",
              "      <td>10:40</td>\n",
              "      <td>2006</td>\n",
              "      <td>8</td>\n",
              "      <td>12</td>\n",
              "      <td>3.0</td>\n",
              "      <td>6.0</td>\n",
              "      <td>6.0</td>\n",
              "      <td>0.0</td>\n",
              "      <td>0.0</td>\n",
              "      <td>2.0</td>\n",
              "      <td>51.0</td>\n",
              "      <td>75.0</td>\n",
              "      <td>1:12.2</td>\n",
              "      <td>1.0</td>\n",
              "      <td>9.6</td>\n",
              "      <td>3.0</td>\n",
              "      <td>474.0</td>\n",
              "      <td>-2.0</td>\n",
              "      <td>0.0</td>\n",
              "      <td>1.0</td>\n",
              "      <td>9.0</td>\n",
              "      <td>0.0</td>\n",
              "      <td>0.0</td>\n",
              "      <td>-</td>\n",
              "      <td>1200.0</td>\n",
              "      <td>1.0</td>\n",
              "      <td>0.0</td>\n",
              "      <td>10:40</td>\n",
              "      <td>2006.0</td>\n",
              "      <td>7.0</td>\n",
              "      <td>29.0</td>\n",
              "      <td>True</td>\n",
              "      <td>3.2</td>\n",
              "      <td>1561165932</td>\n",
              "      <td>1561200000</td>\n",
              "      <td>1561200000</td>\n",
              "    </tr>\n",
              "    <tr>\n",
              "      <th>1</th>\n",
              "      <td>2.0</td>\n",
              "      <td>7</td>\n",
              "      <td>8</td>\n",
              "      <td>1</td>\n",
              "      <td>1</td>\n",
              "      <td>2</td>\n",
              "      <td>54.0</td>\n",
              "      <td>1</td>\n",
              "      <td>1:31.6</td>\n",
              "      <td>1</td>\n",
              "      <td>6.4</td>\n",
              "      <td>4.0</td>\n",
              "      <td>448.0</td>\n",
              "      <td>-8.0</td>\n",
              "      <td>1</td>\n",
              "      <td>1</td>\n",
              "      <td>9</td>\n",
              "      <td>0</td>\n",
              "      <td>0</td>\n",
              "      <td>-</td>\n",
              "      <td>1500.0</td>\n",
              "      <td>0</td>\n",
              "      <td>0</td>\n",
              "      <td>10:40</td>\n",
              "      <td>2006</td>\n",
              "      <td>8</td>\n",
              "      <td>12</td>\n",
              "      <td>3.0</td>\n",
              "      <td>1.0</td>\n",
              "      <td>1.0</td>\n",
              "      <td>1.0</td>\n",
              "      <td>1.0</td>\n",
              "      <td>2.0</td>\n",
              "      <td>54.0</td>\n",
              "      <td>1.0</td>\n",
              "      <td>1:57.7</td>\n",
              "      <td>18.0</td>\n",
              "      <td>26.9</td>\n",
              "      <td>7.0</td>\n",
              "      <td>456.0</td>\n",
              "      <td>0.0</td>\n",
              "      <td>1.0</td>\n",
              "      <td>4.0</td>\n",
              "      <td>9.0</td>\n",
              "      <td>0.0</td>\n",
              "      <td>0.0</td>\n",
              "      <td>-</td>\n",
              "      <td>1800.0</td>\n",
              "      <td>1.0</td>\n",
              "      <td>1.0</td>\n",
              "      <td>12:30</td>\n",
              "      <td>2006.0</td>\n",
              "      <td>7.0</td>\n",
              "      <td>23.0</td>\n",
              "      <td>False</td>\n",
              "      <td>0.0</td>\n",
              "      <td>1561168662</td>\n",
              "      <td>1561200000</td>\n",
              "      <td>1561206600</td>\n",
              "    </tr>\n",
              "    <tr>\n",
              "      <th>2</th>\n",
              "      <td>3.0</td>\n",
              "      <td>7</td>\n",
              "      <td>7</td>\n",
              "      <td>2</td>\n",
              "      <td>1</td>\n",
              "      <td>2</td>\n",
              "      <td>54.0</td>\n",
              "      <td>2</td>\n",
              "      <td>1:31.9</td>\n",
              "      <td>2</td>\n",
              "      <td>4.3</td>\n",
              "      <td>3.0</td>\n",
              "      <td>476.0</td>\n",
              "      <td>0.0</td>\n",
              "      <td>2</td>\n",
              "      <td>1</td>\n",
              "      <td>9</td>\n",
              "      <td>0</td>\n",
              "      <td>0</td>\n",
              "      <td>-</td>\n",
              "      <td>1500.0</td>\n",
              "      <td>0</td>\n",
              "      <td>0</td>\n",
              "      <td>10:40</td>\n",
              "      <td>2006</td>\n",
              "      <td>8</td>\n",
              "      <td>12</td>\n",
              "      <td>4.0</td>\n",
              "      <td>1.0</td>\n",
              "      <td>1.0</td>\n",
              "      <td>2.0</td>\n",
              "      <td>1.0</td>\n",
              "      <td>2.0</td>\n",
              "      <td>54.0</td>\n",
              "      <td>2.0</td>\n",
              "      <td>1:12.5</td>\n",
              "      <td>1.0</td>\n",
              "      <td>6.7</td>\n",
              "      <td>3.0</td>\n",
              "      <td>476.0</td>\n",
              "      <td>-8.0</td>\n",
              "      <td>2.0</td>\n",
              "      <td>1.0</td>\n",
              "      <td>9.0</td>\n",
              "      <td>0.0</td>\n",
              "      <td>0.0</td>\n",
              "      <td>-</td>\n",
              "      <td>1200.0</td>\n",
              "      <td>1.0</td>\n",
              "      <td>0.0</td>\n",
              "      <td>10:40</td>\n",
              "      <td>2006.0</td>\n",
              "      <td>7.0</td>\n",
              "      <td>30.0</td>\n",
              "      <td>False</td>\n",
              "      <td>0.0</td>\n",
              "      <td>1561165950</td>\n",
              "      <td>1561200000</td>\n",
              "      <td>1561200000</td>\n",
              "    </tr>\n",
              "    <tr>\n",
              "      <th>3</th>\n",
              "      <td>4.0</td>\n",
              "      <td>2</td>\n",
              "      <td>2</td>\n",
              "      <td>3</td>\n",
              "      <td>1</td>\n",
              "      <td>2</td>\n",
              "      <td>51.0</td>\n",
              "      <td>3</td>\n",
              "      <td>1:32.1</td>\n",
              "      <td>3</td>\n",
              "      <td>33.1</td>\n",
              "      <td>7.0</td>\n",
              "      <td>484.0</td>\n",
              "      <td>0.0</td>\n",
              "      <td>3</td>\n",
              "      <td>1</td>\n",
              "      <td>9</td>\n",
              "      <td>0</td>\n",
              "      <td>0</td>\n",
              "      <td>-</td>\n",
              "      <td>1500.0</td>\n",
              "      <td>0</td>\n",
              "      <td>0</td>\n",
              "      <td>10:40</td>\n",
              "      <td>2006</td>\n",
              "      <td>8</td>\n",
              "      <td>12</td>\n",
              "      <td>12.0</td>\n",
              "      <td>1.0</td>\n",
              "      <td>1.0</td>\n",
              "      <td>3.0</td>\n",
              "      <td>1.0</td>\n",
              "      <td>2.0</td>\n",
              "      <td>51.0</td>\n",
              "      <td>3.0</td>\n",
              "      <td>1:57.3</td>\n",
              "      <td>7.0</td>\n",
              "      <td>11.9</td>\n",
              "      <td>5.0</td>\n",
              "      <td>484.0</td>\n",
              "      <td>0.0</td>\n",
              "      <td>3.0</td>\n",
              "      <td>5.0</td>\n",
              "      <td>9.0</td>\n",
              "      <td>0.0</td>\n",
              "      <td>0.0</td>\n",
              "      <td>-</td>\n",
              "      <td>1800.0</td>\n",
              "      <td>2.0</td>\n",
              "      <td>2.0</td>\n",
              "      <td>12:20</td>\n",
              "      <td>2006.0</td>\n",
              "      <td>7.0</td>\n",
              "      <td>2.0</td>\n",
              "      <td>False</td>\n",
              "      <td>0.0</td>\n",
              "      <td>1561168638</td>\n",
              "      <td>1561200000</td>\n",
              "      <td>1561206000</td>\n",
              "    </tr>\n",
              "    <tr>\n",
              "      <th>4</th>\n",
              "      <td>5.0</td>\n",
              "      <td>5</td>\n",
              "      <td>5</td>\n",
              "      <td>4</td>\n",
              "      <td>1</td>\n",
              "      <td>2</td>\n",
              "      <td>54.0</td>\n",
              "      <td>4</td>\n",
              "      <td>1:32.1</td>\n",
              "      <td>1</td>\n",
              "      <td>3.9</td>\n",
              "      <td>2.0</td>\n",
              "      <td>518.0</td>\n",
              "      <td>6.0</td>\n",
              "      <td>4</td>\n",
              "      <td>1</td>\n",
              "      <td>9</td>\n",
              "      <td>0</td>\n",
              "      <td>0</td>\n",
              "      <td>-</td>\n",
              "      <td>1500.0</td>\n",
              "      <td>0</td>\n",
              "      <td>0</td>\n",
              "      <td>10:40</td>\n",
              "      <td>2006</td>\n",
              "      <td>8</td>\n",
              "      <td>12</td>\n",
              "      <td>3.0</td>\n",
              "      <td>2.0</td>\n",
              "      <td>2.0</td>\n",
              "      <td>4.0</td>\n",
              "      <td>1.0</td>\n",
              "      <td>2.0</td>\n",
              "      <td>54.0</td>\n",
              "      <td>15.0</td>\n",
              "      <td>1:12.5</td>\n",
              "      <td>9.0</td>\n",
              "      <td>6.6</td>\n",
              "      <td>2.0</td>\n",
              "      <td>512.0</td>\n",
              "      <td>-2.0</td>\n",
              "      <td>4.0</td>\n",
              "      <td>1.0</td>\n",
              "      <td>9.0</td>\n",
              "      <td>0.0</td>\n",
              "      <td>0.0</td>\n",
              "      <td>-</td>\n",
              "      <td>1200.0</td>\n",
              "      <td>1.0</td>\n",
              "      <td>0.0</td>\n",
              "      <td>10:40</td>\n",
              "      <td>2006.0</td>\n",
              "      <td>7.0</td>\n",
              "      <td>30.0</td>\n",
              "      <td>False</td>\n",
              "      <td>0.0</td>\n",
              "      <td>1561165950</td>\n",
              "      <td>1561200000</td>\n",
              "      <td>1561200000</td>\n",
              "    </tr>\n",
              "    <tr>\n",
              "      <th>...</th>\n",
              "      <td>...</td>\n",
              "      <td>...</td>\n",
              "      <td>...</td>\n",
              "      <td>...</td>\n",
              "      <td>...</td>\n",
              "      <td>...</td>\n",
              "      <td>...</td>\n",
              "      <td>...</td>\n",
              "      <td>...</td>\n",
              "      <td>...</td>\n",
              "      <td>...</td>\n",
              "      <td>...</td>\n",
              "      <td>...</td>\n",
              "      <td>...</td>\n",
              "      <td>...</td>\n",
              "      <td>...</td>\n",
              "      <td>...</td>\n",
              "      <td>...</td>\n",
              "      <td>...</td>\n",
              "      <td>...</td>\n",
              "      <td>...</td>\n",
              "      <td>...</td>\n",
              "      <td>...</td>\n",
              "      <td>...</td>\n",
              "      <td>...</td>\n",
              "      <td>...</td>\n",
              "      <td>...</td>\n",
              "      <td>...</td>\n",
              "      <td>...</td>\n",
              "      <td>...</td>\n",
              "      <td>...</td>\n",
              "      <td>...</td>\n",
              "      <td>...</td>\n",
              "      <td>...</td>\n",
              "      <td>...</td>\n",
              "      <td>...</td>\n",
              "      <td>...</td>\n",
              "      <td>...</td>\n",
              "      <td>...</td>\n",
              "      <td>...</td>\n",
              "      <td>...</td>\n",
              "      <td>...</td>\n",
              "      <td>...</td>\n",
              "      <td>...</td>\n",
              "      <td>...</td>\n",
              "      <td>...</td>\n",
              "      <td>...</td>\n",
              "      <td>...</td>\n",
              "      <td>...</td>\n",
              "      <td>...</td>\n",
              "      <td>...</td>\n",
              "      <td>...</td>\n",
              "      <td>...</td>\n",
              "      <td>...</td>\n",
              "      <td>...</td>\n",
              "      <td>...</td>\n",
              "      <td>...</td>\n",
              "      <td>...</td>\n",
              "      <td>...</td>\n",
              "    </tr>\n",
              "    <tr>\n",
              "      <th>542850</th>\n",
              "      <td>9.0</td>\n",
              "      <td>8</td>\n",
              "      <td>13</td>\n",
              "      <td>42682</td>\n",
              "      <td>1</td>\n",
              "      <td>5</td>\n",
              "      <td>57.0</td>\n",
              "      <td>415</td>\n",
              "      <td>2:02.1</td>\n",
              "      <td>10</td>\n",
              "      <td>58.6</td>\n",
              "      <td>9.0</td>\n",
              "      <td>468.0</td>\n",
              "      <td>-2.0</td>\n",
              "      <td>94</td>\n",
              "      <td>12</td>\n",
              "      <td>9</td>\n",
              "      <td>0</td>\n",
              "      <td>0</td>\n",
              "      <td>-</td>\n",
              "      <td>2000.0</td>\n",
              "      <td>1</td>\n",
              "      <td>0</td>\n",
              "      <td>16:01</td>\n",
              "      <td>2017</td>\n",
              "      <td>3</td>\n",
              "      <td>5</td>\n",
              "      <td>8.0</td>\n",
              "      <td>1.0</td>\n",
              "      <td>1.0</td>\n",
              "      <td>42682.0</td>\n",
              "      <td>1.0</td>\n",
              "      <td>5.0</td>\n",
              "      <td>57.0</td>\n",
              "      <td>387.0</td>\n",
              "      <td>2:01.9</td>\n",
              "      <td>4.0</td>\n",
              "      <td>23.3</td>\n",
              "      <td>8.0</td>\n",
              "      <td>470.0</td>\n",
              "      <td>-2.0</td>\n",
              "      <td>94.0</td>\n",
              "      <td>9.0</td>\n",
              "      <td>9.0</td>\n",
              "      <td>0.0</td>\n",
              "      <td>0.0</td>\n",
              "      <td>-</td>\n",
              "      <td>2000.0</td>\n",
              "      <td>0.0</td>\n",
              "      <td>0.0</td>\n",
              "      <td>14:15</td>\n",
              "      <td>2017.0</td>\n",
              "      <td>2.0</td>\n",
              "      <td>25.0</td>\n",
              "      <td>False</td>\n",
              "      <td>0.0</td>\n",
              "      <td>1561168914</td>\n",
              "      <td>1561219260</td>\n",
              "      <td>1561212900</td>\n",
              "    </tr>\n",
              "    <tr>\n",
              "      <th>542851</th>\n",
              "      <td>10.0</td>\n",
              "      <td>5</td>\n",
              "      <td>6</td>\n",
              "      <td>44140</td>\n",
              "      <td>1</td>\n",
              "      <td>5</td>\n",
              "      <td>57.0</td>\n",
              "      <td>418</td>\n",
              "      <td>2:02.2</td>\n",
              "      <td>1</td>\n",
              "      <td>140.9</td>\n",
              "      <td>12.0</td>\n",
              "      <td>494.0</td>\n",
              "      <td>-2.0</td>\n",
              "      <td>116</td>\n",
              "      <td>12</td>\n",
              "      <td>9</td>\n",
              "      <td>0</td>\n",
              "      <td>0</td>\n",
              "      <td>-</td>\n",
              "      <td>2000.0</td>\n",
              "      <td>1</td>\n",
              "      <td>0</td>\n",
              "      <td>16:01</td>\n",
              "      <td>2017</td>\n",
              "      <td>3</td>\n",
              "      <td>5</td>\n",
              "      <td>8.0</td>\n",
              "      <td>1.0</td>\n",
              "      <td>1.0</td>\n",
              "      <td>44140.0</td>\n",
              "      <td>1.0</td>\n",
              "      <td>5.0</td>\n",
              "      <td>57.0</td>\n",
              "      <td>418.0</td>\n",
              "      <td>2:01.3</td>\n",
              "      <td>1.0</td>\n",
              "      <td>113.1</td>\n",
              "      <td>10.0</td>\n",
              "      <td>496.0</td>\n",
              "      <td>-4.0</td>\n",
              "      <td>116.0</td>\n",
              "      <td>10.0</td>\n",
              "      <td>9.0</td>\n",
              "      <td>0.0</td>\n",
              "      <td>0.0</td>\n",
              "      <td>-</td>\n",
              "      <td>2000.0</td>\n",
              "      <td>0.0</td>\n",
              "      <td>0.0</td>\n",
              "      <td>14:40</td>\n",
              "      <td>2017.0</td>\n",
              "      <td>2.0</td>\n",
              "      <td>19.0</td>\n",
              "      <td>False</td>\n",
              "      <td>0.0</td>\n",
              "      <td>1561168878</td>\n",
              "      <td>1561219260</td>\n",
              "      <td>1561214400</td>\n",
              "    </tr>\n",
              "    <tr>\n",
              "      <th>542852</th>\n",
              "      <td>11.0</td>\n",
              "      <td>5</td>\n",
              "      <td>7</td>\n",
              "      <td>45594</td>\n",
              "      <td>1</td>\n",
              "      <td>5</td>\n",
              "      <td>57.0</td>\n",
              "      <td>497</td>\n",
              "      <td>2:02.3</td>\n",
              "      <td>4</td>\n",
              "      <td>14.3</td>\n",
              "      <td>6.0</td>\n",
              "      <td>496.0</td>\n",
              "      <td>2.0</td>\n",
              "      <td>192</td>\n",
              "      <td>12</td>\n",
              "      <td>9</td>\n",
              "      <td>0</td>\n",
              "      <td>0</td>\n",
              "      <td>-</td>\n",
              "      <td>2000.0</td>\n",
              "      <td>1</td>\n",
              "      <td>0</td>\n",
              "      <td>16:01</td>\n",
              "      <td>2017</td>\n",
              "      <td>3</td>\n",
              "      <td>5</td>\n",
              "      <td>2.0</td>\n",
              "      <td>5.0</td>\n",
              "      <td>5.0</td>\n",
              "      <td>45594.0</td>\n",
              "      <td>1.0</td>\n",
              "      <td>5.0</td>\n",
              "      <td>54.0</td>\n",
              "      <td>497.0</td>\n",
              "      <td>2:01.3</td>\n",
              "      <td>9.0</td>\n",
              "      <td>19.5</td>\n",
              "      <td>6.0</td>\n",
              "      <td>494.0</td>\n",
              "      <td>-4.0</td>\n",
              "      <td>192.0</td>\n",
              "      <td>9.0</td>\n",
              "      <td>9.0</td>\n",
              "      <td>0.0</td>\n",
              "      <td>0.0</td>\n",
              "      <td>-</td>\n",
              "      <td>2000.0</td>\n",
              "      <td>0.0</td>\n",
              "      <td>0.0</td>\n",
              "      <td>14:15</td>\n",
              "      <td>2017.0</td>\n",
              "      <td>2.0</td>\n",
              "      <td>25.0</td>\n",
              "      <td>False</td>\n",
              "      <td>0.0</td>\n",
              "      <td>1561168878</td>\n",
              "      <td>1561219260</td>\n",
              "      <td>1561212900</td>\n",
              "    </tr>\n",
              "    <tr>\n",
              "      <th>542853</th>\n",
              "      <td>12.0</td>\n",
              "      <td>4</td>\n",
              "      <td>5</td>\n",
              "      <td>52157</td>\n",
              "      <td>0</td>\n",
              "      <td>4</td>\n",
              "      <td>55.0</td>\n",
              "      <td>254</td>\n",
              "      <td>2:02.6</td>\n",
              "      <td>2</td>\n",
              "      <td>174.9</td>\n",
              "      <td>13.0</td>\n",
              "      <td>460.0</td>\n",
              "      <td>-4.0</td>\n",
              "      <td>450</td>\n",
              "      <td>12</td>\n",
              "      <td>9</td>\n",
              "      <td>0</td>\n",
              "      <td>0</td>\n",
              "      <td>-</td>\n",
              "      <td>2000.0</td>\n",
              "      <td>1</td>\n",
              "      <td>0</td>\n",
              "      <td>16:01</td>\n",
              "      <td>2017</td>\n",
              "      <td>3</td>\n",
              "      <td>5</td>\n",
              "      <td>8.0</td>\n",
              "      <td>3.0</td>\n",
              "      <td>3.0</td>\n",
              "      <td>52157.0</td>\n",
              "      <td>0.0</td>\n",
              "      <td>4.0</td>\n",
              "      <td>54.0</td>\n",
              "      <td>246.0</td>\n",
              "      <td>2:03.0</td>\n",
              "      <td>3.0</td>\n",
              "      <td>61.0</td>\n",
              "      <td>10.0</td>\n",
              "      <td>464.0</td>\n",
              "      <td>1.0</td>\n",
              "      <td>450.0</td>\n",
              "      <td>10.0</td>\n",
              "      <td>9.0</td>\n",
              "      <td>0.0</td>\n",
              "      <td>0.0</td>\n",
              "      <td>-</td>\n",
              "      <td>2000.0</td>\n",
              "      <td>0.0</td>\n",
              "      <td>0.0</td>\n",
              "      <td>14:50</td>\n",
              "      <td>2017.0</td>\n",
              "      <td>2.0</td>\n",
              "      <td>26.0</td>\n",
              "      <td>False</td>\n",
              "      <td>0.0</td>\n",
              "      <td>1561168980</td>\n",
              "      <td>1561219260</td>\n",
              "      <td>1561215000</td>\n",
              "    </tr>\n",
              "    <tr>\n",
              "      <th>542854</th>\n",
              "      <td>13.0</td>\n",
              "      <td>7</td>\n",
              "      <td>11</td>\n",
              "      <td>43079</td>\n",
              "      <td>1</td>\n",
              "      <td>5</td>\n",
              "      <td>57.0</td>\n",
              "      <td>18</td>\n",
              "      <td>2:02.8</td>\n",
              "      <td>3</td>\n",
              "      <td>60.3</td>\n",
              "      <td>10.0</td>\n",
              "      <td>504.0</td>\n",
              "      <td>-4.0</td>\n",
              "      <td>106</td>\n",
              "      <td>12</td>\n",
              "      <td>9</td>\n",
              "      <td>0</td>\n",
              "      <td>0</td>\n",
              "      <td>-</td>\n",
              "      <td>2000.0</td>\n",
              "      <td>1</td>\n",
              "      <td>0</td>\n",
              "      <td>16:01</td>\n",
              "      <td>2017</td>\n",
              "      <td>3</td>\n",
              "      <td>5</td>\n",
              "      <td>14.0</td>\n",
              "      <td>8.0</td>\n",
              "      <td>15.0</td>\n",
              "      <td>43079.0</td>\n",
              "      <td>1.0</td>\n",
              "      <td>5.0</td>\n",
              "      <td>57.0</td>\n",
              "      <td>79.0</td>\n",
              "      <td>1:48.8</td>\n",
              "      <td>4.0</td>\n",
              "      <td>67.2</td>\n",
              "      <td>11.0</td>\n",
              "      <td>508.0</td>\n",
              "      <td>0.0</td>\n",
              "      <td>106.0</td>\n",
              "      <td>6.0</td>\n",
              "      <td>9.0</td>\n",
              "      <td>0.0</td>\n",
              "      <td>2.0</td>\n",
              "      <td>-</td>\n",
              "      <td>1800.0</td>\n",
              "      <td>1.0</td>\n",
              "      <td>0.0</td>\n",
              "      <td>13:00</td>\n",
              "      <td>2017.0</td>\n",
              "      <td>2.0</td>\n",
              "      <td>5.0</td>\n",
              "      <td>False</td>\n",
              "      <td>0.0</td>\n",
              "      <td>1561168128</td>\n",
              "      <td>1561219260</td>\n",
              "      <td>1561208400</td>\n",
              "    </tr>\n",
              "  </tbody>\n",
              "</table>\n",
              "<p>542855 rows × 59 columns</p>\n",
              "</div>"
            ],
            "text/plain": [
              "        rank  frame_num  ...  start_time_float  prev_start_time_float\n",
              "0        1.0          6  ...        1561200000             1561200000\n",
              "1        2.0          7  ...        1561200000             1561206600\n",
              "2        3.0          7  ...        1561200000             1561200000\n",
              "3        4.0          2  ...        1561200000             1561206000\n",
              "4        5.0          5  ...        1561200000             1561200000\n",
              "...      ...        ...  ...               ...                    ...\n",
              "542850   9.0          8  ...        1561219260             1561212900\n",
              "542851  10.0          5  ...        1561219260             1561214400\n",
              "542852  11.0          5  ...        1561219260             1561212900\n",
              "542853  12.0          4  ...        1561219260             1561215000\n",
              "542854  13.0          7  ...        1561219260             1561208400\n",
              "\n",
              "[542855 rows x 59 columns]"
            ]
          },
          "metadata": {
            "tags": []
          },
          "execution_count": 9
        }
      ]
    },
    {
      "cell_type": "code",
      "metadata": {
        "id": "iGwiRWJ4z1V4",
        "colab_type": "code",
        "colab": {}
      },
      "source": [
        ""
      ],
      "execution_count": 0,
      "outputs": []
    },
    {
      "cell_type": "code",
      "metadata": {
        "id": "DlRazfpWyqyc",
        "colab_type": "code",
        "colab": {}
      },
      "source": [
        "sdat = ldat.sample(frac=1).reset_index(drop=True)"
      ],
      "execution_count": 0,
      "outputs": []
    },
    {
      "cell_type": "code",
      "metadata": {
        "id": "tfUTHaPE-4xZ",
        "colab_type": "code",
        "colab": {}
      },
      "source": [
        "x = sdat[['frame_num', 'horse_num', 'name', 'sex', 'age', 'amount',\n",
        "       'jockey', 'odds', 'popularity', 'weight',\n",
        "       'diff_weight', 'trainer', 'race_num', 'grade', 'ground', 'direction',\n",
        "        'distance', 'weather', 'condition', 'start_time_float', 'year',\n",
        "       'month', 'day', 'prev_rank', 'prev_frame_num', 'prev_horse_num',\n",
        "       'prev_name', 'prev_sex', 'prev_age', 'prev_amount', 'prev_jockey',\n",
        "       'prev_time_float', 'prev_diff_arrival', 'prev_odds', 'prev_popularity',\n",
        "       'prev_weight', 'prev_diff_weight', 'prev_trainer', 'prev_race_num',\n",
        "       'prev_grade', 'prev_ground', 'prev_direction',\n",
        "       'prev_distance', 'prev_weather', 'prev_condition', 'prev_start_time_float',\n",
        "       'prev_year', 'prev_month', 'prev_day']].dropna(0)"
      ],
      "execution_count": 0,
      "outputs": []
    },
    {
      "cell_type": "code",
      "metadata": {
        "id": "3SW8SNVNSilw",
        "colab_type": "code",
        "colab": {}
      },
      "source": [
        "# x = sdat[['frame_num', 'horse_num', 'sex', 'age', 'amount',\n",
        "#        'odds', 'popularity', 'weight',\n",
        "#        'diff_weight', 'trainer', 'grade', 'ground', 'direction',\n",
        "#         'distance', 'weather', 'condition', 'start_time_float', 'prev_rank', 'prev_frame_num', 'prev_horse_num',\n",
        "#        'prev_sex', 'prev_age', 'prev_amount', 'prev_jockey',\n",
        "#        'prev_time_float', 'prev_diff_arrival', 'prev_odds', 'prev_popularity',\n",
        "#        'prev_weight', 'prev_diff_weight', 'prev_trainer',\n",
        "#        'prev_grade', 'prev_ground', 'prev_direction',\n",
        "#        'prev_distance', 'prev_weather', 'prev_condition', 'prev_start_time_float'\n",
        "#        ]].dropna(0)"
      ],
      "execution_count": 0,
      "outputs": []
    },
    {
      "cell_type": "code",
      "metadata": {
        "id": "L86xkmZGTZ-K",
        "colab_type": "code",
        "colab": {}
      },
      "source": [
        "x = sdat[[\"odds\",'prev_rank','prev_diff_arrival']].dropna(0)"
      ],
      "execution_count": 0,
      "outputs": []
    },
    {
      "cell_type": "code",
      "metadata": {
        "id": "izs3s8otL3XX",
        "colab_type": "code",
        "colab": {}
      },
      "source": [
        "# x = sdat[[\"odds\"]].dropna(0)"
      ],
      "execution_count": 0,
      "outputs": []
    },
    {
      "cell_type": "code",
      "metadata": {
        "id": "VT8CcCQR-48e",
        "colab_type": "code",
        "colab": {}
      },
      "source": [
        "y = sdat[[\"return\"]].dropna(0)"
      ],
      "execution_count": 0,
      "outputs": []
    },
    {
      "cell_type": "code",
      "metadata": {
        "id": "2jQ42aW4-5Ai",
        "colab_type": "code",
        "colab": {}
      },
      "source": [
        "# 競馬データの作成 終わり"
      ],
      "execution_count": 0,
      "outputs": []
    },
    {
      "cell_type": "code",
      "metadata": {
        "id": "gJdOFuv3-46d",
        "colab_type": "code",
        "colab": {}
      },
      "source": [
        "# 学習、テストデータの作成"
      ],
      "execution_count": 0,
      "outputs": []
    },
    {
      "cell_type": "code",
      "metadata": {
        "id": "p2wTrCZbcCdt",
        "colab_type": "code",
        "colab": {}
      },
      "source": [
        "trainlen = int(len(x)/2)"
      ],
      "execution_count": 0,
      "outputs": []
    },
    {
      "cell_type": "code",
      "metadata": {
        "id": "iFK08dQKcCoJ",
        "colab_type": "code",
        "colab": {}
      },
      "source": [
        "trainx = x.head(trainlen)\n",
        "trainy = y.head(trainlen)"
      ],
      "execution_count": 0,
      "outputs": []
    },
    {
      "cell_type": "code",
      "metadata": {
        "id": "rW4_Fl4icCt1",
        "colab_type": "code",
        "colab": {}
      },
      "source": [
        "testx = x.tail(len(x)-trainlen)\n",
        "testy = y.tail(len(x)-trainlen)"
      ],
      "execution_count": 0,
      "outputs": []
    },
    {
      "cell_type": "code",
      "metadata": {
        "id": "jzQJ4Mus-43A",
        "colab_type": "code",
        "colab": {}
      },
      "source": [
        "# 学習、テストデータの作成　終わり"
      ],
      "execution_count": 0,
      "outputs": []
    },
    {
      "cell_type": "code",
      "metadata": {
        "id": "4yO24DOecXKp",
        "colab_type": "code",
        "colab": {}
      },
      "source": [
        ""
      ],
      "execution_count": 0,
      "outputs": []
    },
    {
      "cell_type": "code",
      "metadata": {
        "id": "SJUwnya_cXRX",
        "colab_type": "code",
        "colab": {}
      },
      "source": [
        ""
      ],
      "execution_count": 0,
      "outputs": []
    },
    {
      "cell_type": "code",
      "metadata": {
        "id": "LutfR4VAcXO3",
        "colab_type": "code",
        "colab": {}
      },
      "source": [
        ""
      ],
      "execution_count": 0,
      "outputs": []
    },
    {
      "cell_type": "code",
      "metadata": {
        "id": "nqog9TrbFcpd",
        "colab_type": "code",
        "colab": {}
      },
      "source": [
        "!pip install -q keras==2.2.4"
      ],
      "execution_count": 0,
      "outputs": []
    },
    {
      "cell_type": "code",
      "metadata": {
        "id": "BTtTJTMOFssd",
        "colab_type": "code",
        "colab": {}
      },
      "source": [
        "import keras"
      ],
      "execution_count": 0,
      "outputs": []
    },
    {
      "cell_type": "code",
      "metadata": {
        "id": "h0QhjBgmFvtP",
        "colab_type": "code",
        "colab": {}
      },
      "source": [
        "!pip install -q keras-rl"
      ],
      "execution_count": 0,
      "outputs": []
    },
    {
      "cell_type": "code",
      "metadata": {
        "id": "aVHdpj8I9ggK",
        "colab_type": "code",
        "colab": {}
      },
      "source": [
        "from pprint import pprint"
      ],
      "execution_count": 0,
      "outputs": []
    },
    {
      "cell_type": "code",
      "metadata": {
        "id": "qULptQcKFwQ8",
        "colab_type": "code",
        "colab": {
          "base_uri": "https://localhost:8080/",
          "height": 357
        },
        "outputId": "2a13f5ee-ae12-4875-8aa8-43f71354b738"
      },
      "source": [
        "!pip install tensorflow==1.14.0"
      ],
      "execution_count": 198,
      "outputs": [
        {
          "output_type": "stream",
          "text": [
            "Requirement already satisfied: tensorflow==1.14.0 in /usr/local/lib/python3.6/dist-packages (1.14.0)\n",
            "Requirement already satisfied: numpy<2.0,>=1.14.5 in /usr/local/lib/python3.6/dist-packages (from tensorflow==1.14.0) (1.18.4)\n",
            "Requirement already satisfied: protobuf>=3.6.1 in /usr/local/lib/python3.6/dist-packages (from tensorflow==1.14.0) (3.10.0)\n",
            "Requirement already satisfied: astor>=0.6.0 in /usr/local/lib/python3.6/dist-packages (from tensorflow==1.14.0) (0.8.1)\n",
            "Requirement already satisfied: google-pasta>=0.1.6 in /usr/local/lib/python3.6/dist-packages (from tensorflow==1.14.0) (0.2.0)\n",
            "Requirement already satisfied: keras-preprocessing>=1.0.5 in /usr/local/lib/python3.6/dist-packages (from tensorflow==1.14.0) (1.1.0)\n",
            "Requirement already satisfied: tensorboard<1.15.0,>=1.14.0 in /usr/local/lib/python3.6/dist-packages (from tensorflow==1.14.0) (1.14.0)\n",
            "Requirement already satisfied: termcolor>=1.1.0 in /usr/local/lib/python3.6/dist-packages (from tensorflow==1.14.0) (1.1.0)\n",
            "Requirement already satisfied: tensorflow-estimator<1.15.0rc0,>=1.14.0rc0 in /usr/local/lib/python3.6/dist-packages (from tensorflow==1.14.0) (1.14.0)\n",
            "Requirement already satisfied: keras-applications>=1.0.6 in /usr/local/lib/python3.6/dist-packages (from tensorflow==1.14.0) (1.0.8)\n",
            "Requirement already satisfied: six>=1.10.0 in /usr/local/lib/python3.6/dist-packages (from tensorflow==1.14.0) (1.12.0)\n",
            "Requirement already satisfied: wheel>=0.26 in /usr/local/lib/python3.6/dist-packages (from tensorflow==1.14.0) (0.34.2)\n",
            "Requirement already satisfied: grpcio>=1.8.6 in /usr/local/lib/python3.6/dist-packages (from tensorflow==1.14.0) (1.28.1)\n",
            "Requirement already satisfied: absl-py>=0.7.0 in /usr/local/lib/python3.6/dist-packages (from tensorflow==1.14.0) (0.9.0)\n",
            "Requirement already satisfied: gast>=0.2.0 in /usr/local/lib/python3.6/dist-packages (from tensorflow==1.14.0) (0.2.2)\n",
            "Requirement already satisfied: wrapt>=1.11.1 in /usr/local/lib/python3.6/dist-packages (from tensorflow==1.14.0) (1.12.1)\n",
            "Requirement already satisfied: setuptools in /usr/local/lib/python3.6/dist-packages (from protobuf>=3.6.1->tensorflow==1.14.0) (46.1.3)\n",
            "Requirement already satisfied: markdown>=2.6.8 in /usr/local/lib/python3.6/dist-packages (from tensorboard<1.15.0,>=1.14.0->tensorflow==1.14.0) (3.2.1)\n",
            "Requirement already satisfied: werkzeug>=0.11.15 in /usr/local/lib/python3.6/dist-packages (from tensorboard<1.15.0,>=1.14.0->tensorflow==1.14.0) (1.0.1)\n",
            "Requirement already satisfied: h5py in /usr/local/lib/python3.6/dist-packages (from keras-applications>=1.0.6->tensorflow==1.14.0) (2.10.0)\n"
          ],
          "name": "stdout"
        }
      ]
    },
    {
      "cell_type": "code",
      "metadata": {
        "id": "XWW3TvU-cy4o",
        "colab_type": "code",
        "outputId": "0bef0d99-5b55-4d35-efc9-21579b7c576d",
        "colab": {
          "base_uri": "https://localhost:8080/",
          "height": 85
        }
      },
      "source": [
        "trainx.min()"
      ],
      "execution_count": 199,
      "outputs": [
        {
          "output_type": "execute_result",
          "data": {
            "text/plain": [
              "odds                 1.1\n",
              "prev_rank            1.0\n",
              "prev_diff_arrival    0.0\n",
              "dtype: float64"
            ]
          },
          "metadata": {
            "tags": []
          },
          "execution_count": 199
        }
      ]
    },
    {
      "cell_type": "code",
      "metadata": {
        "id": "mL1paZ9XQHQX",
        "colab_type": "code",
        "colab": {
          "base_uri": "https://localhost:8080/",
          "height": 1000
        },
        "outputId": "e775b2e9-a6af-404f-c3e4-11dade60e555"
      },
      "source": [
        "!pip list"
      ],
      "execution_count": 200,
      "outputs": [
        {
          "output_type": "stream",
          "text": [
            "Package                  Version             \n",
            "------------------------ --------------------\n",
            "absl-py                  0.9.0               \n",
            "alabaster                0.7.12              \n",
            "albumentations           0.1.12              \n",
            "altair                   4.1.0               \n",
            "asgiref                  3.2.7               \n",
            "astor                    0.8.1               \n",
            "astropy                  4.0.1.post1         \n",
            "astunparse               1.6.3               \n",
            "atari-py                 0.2.6               \n",
            "atomicwrites             1.4.0               \n",
            "attrs                    19.3.0              \n",
            "audioread                2.1.8               \n",
            "autograd                 1.3                 \n",
            "Babel                    2.8.0               \n",
            "backcall                 0.1.0               \n",
            "beautifulsoup4           4.6.3               \n",
            "bleach                   3.1.5               \n",
            "blis                     0.4.1               \n",
            "bokeh                    1.4.0               \n",
            "boto                     2.49.0              \n",
            "boto3                    1.13.4              \n",
            "botocore                 1.16.4              \n",
            "Bottleneck               1.3.2               \n",
            "branca                   0.4.1               \n",
            "bs4                      0.0.1               \n",
            "CacheControl             0.12.6              \n",
            "cachetools               3.1.1               \n",
            "catalogue                1.0.0               \n",
            "certifi                  2020.4.5.1          \n",
            "cffi                     1.14.0              \n",
            "chainer                  6.5.0               \n",
            "chardet                  3.0.4               \n",
            "click                    7.1.2               \n",
            "cloudpickle              1.3.0               \n",
            "cmake                    3.12.0              \n",
            "cmdstanpy                0.4.0               \n",
            "colorlover               0.3.0               \n",
            "community                1.0.0b1             \n",
            "contextlib2              0.5.5               \n",
            "convertdate              2.2.0               \n",
            "coverage                 3.7.1               \n",
            "coveralls                0.5                 \n",
            "crcmod                   1.7                 \n",
            "cufflinks                0.17.3              \n",
            "cvxopt                   1.2.5               \n",
            "cvxpy                    1.0.31              \n",
            "cycler                   0.10.0              \n",
            "cymem                    2.0.3               \n",
            "Cython                   0.29.17             \n",
            "daft                     0.0.4               \n",
            "dask                     2.12.0              \n",
            "dataclasses              0.7                 \n",
            "datascience              0.10.6              \n",
            "decorator                4.4.2               \n",
            "defusedxml               0.6.0               \n",
            "descartes                1.1.0               \n",
            "dill                     0.3.1.1             \n",
            "distributed              1.25.3              \n",
            "Django                   3.0.6               \n",
            "dlib                     19.18.0             \n",
            "docopt                   0.6.2               \n",
            "docutils                 0.15.2              \n",
            "dopamine-rl              1.0.5               \n",
            "earthengine-api          0.1.221             \n",
            "easydict                 1.9                 \n",
            "ecos                     2.0.7.post1         \n",
            "editdistance             0.5.3               \n",
            "en-core-web-sm           2.2.5               \n",
            "entrypoints              0.3                 \n",
            "ephem                    3.7.7.1             \n",
            "et-xmlfile               1.0.1               \n",
            "fa2                      0.3.5               \n",
            "fancyimpute              0.4.3               \n",
            "fastai                   1.0.61              \n",
            "fastdtw                  0.3.4               \n",
            "fastprogress             0.2.3               \n",
            "fastrlock                0.4                 \n",
            "fbprophet                0.6                 \n",
            "feather-format           0.4.1               \n",
            "featuretools             0.4.1               \n",
            "filelock                 3.0.12              \n",
            "firebase-admin           4.1.0               \n",
            "fix-yahoo-finance        0.0.22              \n",
            "Flask                    1.1.2               \n",
            "folium                   0.8.3               \n",
            "fsspec                   0.7.3               \n",
            "future                   0.16.0              \n",
            "gast                     0.2.2               \n",
            "GDAL                     2.2.2               \n",
            "gdown                    3.6.4               \n",
            "gensim                   3.6.0               \n",
            "geographiclib            1.50                \n",
            "geopy                    1.17.0              \n",
            "gin-config               0.3.0               \n",
            "glob2                    0.7                 \n",
            "google                   2.0.3               \n",
            "google-api-core          1.16.0              \n",
            "google-api-python-client 1.7.12              \n",
            "google-auth              1.7.2               \n",
            "google-auth-httplib2     0.0.3               \n",
            "google-auth-oauthlib     0.4.1               \n",
            "google-cloud-bigquery    1.21.0              \n",
            "google-cloud-core        1.0.3               \n",
            "google-cloud-datastore   1.8.0               \n",
            "google-cloud-firestore   1.6.2               \n",
            "google-cloud-language    1.2.0               \n",
            "google-cloud-storage     1.18.1              \n",
            "google-cloud-translate   1.5.0               \n",
            "google-colab             1.0.0               \n",
            "google-pasta             0.2.0               \n",
            "google-resumable-media   0.4.1               \n",
            "googleapis-common-protos 1.51.0              \n",
            "googledrivedownloader    0.4                 \n",
            "graphviz                 0.10.1              \n",
            "grpcio                   1.28.1              \n",
            "gspread                  3.0.1               \n",
            "gspread-dataframe        3.0.6               \n",
            "gym                      0.17.1              \n",
            "h5py                     2.10.0              \n",
            "HeapDict                 1.0.1               \n",
            "holidays                 0.9.12              \n",
            "html5lib                 1.0.1               \n",
            "httpimport               0.5.18              \n",
            "httplib2                 0.17.3              \n",
            "httplib2shim             0.0.3               \n",
            "humanize                 0.5.1               \n",
            "hyperopt                 0.1.2               \n",
            "ideep4py                 2.0.0.post3         \n",
            "idna                     2.9                 \n",
            "image                    1.5.31              \n",
            "imageio                  2.4.1               \n",
            "imagesize                1.2.0               \n",
            "imbalanced-learn         0.4.3               \n",
            "imblearn                 0.0                 \n",
            "imgaug                   0.2.9               \n",
            "importlib-metadata       1.6.0               \n",
            "imutils                  0.5.3               \n",
            "inflect                  2.1.0               \n",
            "intel-openmp             2020.0.133          \n",
            "intervaltree             2.1.0               \n",
            "ipykernel                4.10.1              \n",
            "ipython                  5.5.0               \n",
            "ipython-genutils         0.2.0               \n",
            "ipython-sql              0.3.9               \n",
            "ipywidgets               7.5.1               \n",
            "itsdangerous             1.1.0               \n",
            "jax                      0.1.64              \n",
            "jaxlib                   0.1.45              \n",
            "jdcal                    1.4.1               \n",
            "jedi                     0.17.0              \n",
            "jieba                    0.42.1              \n",
            "Jinja2                   2.11.2              \n",
            "jmespath                 0.9.5               \n",
            "joblib                   0.14.1              \n",
            "jpeg4py                  0.1.4               \n",
            "jsonschema               2.6.0               \n",
            "jupyter                  1.0.0               \n",
            "jupyter-client           5.3.4               \n",
            "jupyter-console          5.2.0               \n",
            "jupyter-core             4.6.3               \n",
            "kaggle                   1.5.6               \n",
            "kapre                    0.1.3.1             \n",
            "Keras                    2.2.4               \n",
            "Keras-Applications       1.0.8               \n",
            "Keras-Preprocessing      1.1.0               \n",
            "keras-rl                 0.4.2               \n",
            "keras-vis                0.4.1               \n",
            "kiwisolver               1.2.0               \n",
            "knnimpute                0.1.0               \n",
            "librosa                  0.6.3               \n",
            "lightgbm                 2.2.3               \n",
            "llvmlite                 0.31.0              \n",
            "lmdb                     0.98                \n",
            "lucid                    0.3.8               \n",
            "LunarCalendar            0.0.9               \n",
            "lxml                     4.2.6               \n",
            "Markdown                 3.2.1               \n",
            "MarkupSafe               1.1.1               \n",
            "matplotlib               3.2.1               \n",
            "matplotlib-venn          0.11.5              \n",
            "missingno                0.4.2               \n",
            "mistune                  0.8.4               \n",
            "mizani                   0.6.0               \n",
            "mkl                      2019.0              \n",
            "mlxtend                  0.14.0              \n",
            "more-itertools           8.2.0               \n",
            "moviepy                  0.2.3.5             \n",
            "mpmath                   1.1.0               \n",
            "msgpack                  1.0.0               \n",
            "multiprocess             0.70.9              \n",
            "multitasking             0.0.9               \n",
            "murmurhash               1.0.2               \n",
            "music21                  5.5.0               \n",
            "natsort                  5.5.0               \n",
            "nbconvert                5.6.1               \n",
            "nbformat                 5.0.6               \n",
            "networkx                 2.4                 \n",
            "nibabel                  3.0.2               \n",
            "nltk                     3.2.5               \n",
            "notebook                 5.2.2               \n",
            "np-utils                 0.5.12.1            \n",
            "numba                    0.48.0              \n",
            "numexpr                  2.7.1               \n",
            "numpy                    1.18.4              \n",
            "nvidia-ml-py3            7.352.0             \n",
            "oauth2client             4.1.3               \n",
            "oauthlib                 3.1.0               \n",
            "okgrade                  0.4.3               \n",
            "opencv-contrib-python    4.1.2.30            \n",
            "opencv-python            4.1.2.30            \n",
            "openpyxl                 2.5.9               \n",
            "opt-einsum               3.2.1               \n",
            "osqp                     0.6.1               \n",
            "packaging                20.3                \n",
            "palettable               3.3.0               \n",
            "pandas                   1.0.3               \n",
            "pandas-datareader        0.8.1               \n",
            "pandas-gbq               0.11.0              \n",
            "pandas-profiling         1.4.1               \n",
            "pandocfilters            1.4.2               \n",
            "parso                    0.7.0               \n",
            "pathlib                  1.0.1               \n",
            "patsy                    0.5.1               \n",
            "pexpect                  4.8.0               \n",
            "pickleshare              0.7.5               \n",
            "Pillow                   7.0.0               \n",
            "pip                      19.3.1              \n",
            "pip-tools                4.5.1               \n",
            "plac                     1.1.3               \n",
            "plotly                   4.4.1               \n",
            "plotnine                 0.6.0               \n",
            "pluggy                   0.7.1               \n",
            "portpicker               1.3.1               \n",
            "prefetch-generator       1.0.1               \n",
            "preshed                  3.0.2               \n",
            "prettytable              0.7.2               \n",
            "progressbar2             3.38.0              \n",
            "prometheus-client        0.7.1               \n",
            "promise                  2.3                 \n",
            "prompt-toolkit           1.0.18              \n",
            "protobuf                 3.10.0              \n",
            "psutil                   5.4.8               \n",
            "psycopg2                 2.7.6.1             \n",
            "ptvsd                    5.0.0a12            \n",
            "ptyprocess               0.6.0               \n",
            "py                       1.8.1               \n",
            "pyarrow                  0.14.1              \n",
            "pyasn1                   0.4.8               \n",
            "pyasn1-modules           0.2.8               \n",
            "pycocotools              2.0.0               \n",
            "pycparser                2.20                \n",
            "pydata-google-auth       1.1.0               \n",
            "pydot                    1.3.0               \n",
            "pydot-ng                 2.0.0               \n",
            "pydotplus                2.0.2               \n",
            "PyDrive                  1.3.1               \n",
            "pyemd                    0.5.1               \n",
            "pyglet                   1.5.0               \n",
            "Pygments                 2.1.3               \n",
            "pygobject                3.26.1              \n",
            "pymc3                    3.7                 \n",
            "PyMeeus                  0.3.7               \n",
            "pymongo                  3.10.1              \n",
            "pymystem3                0.2.0               \n",
            "PyOpenGL                 3.1.5               \n",
            "pyparsing                2.4.7               \n",
            "pyrsistent               0.16.0              \n",
            "pysndfile                1.3.8               \n",
            "PySocks                  1.7.1               \n",
            "pystan                   2.19.1.1            \n",
            "pytest                   3.6.4               \n",
            "python-apt               1.6.5+ubuntu0.2     \n",
            "python-chess             0.23.11             \n",
            "python-dateutil          2.8.1               \n",
            "python-louvain           0.14                \n",
            "python-slugify           4.0.0               \n",
            "python-utils             2.4.0               \n",
            "pytz                     2018.9              \n",
            "PyWavelets               1.1.1               \n",
            "PyYAML                   3.13                \n",
            "pyzmq                    19.0.1              \n",
            "qtconsole                4.7.3               \n",
            "QtPy                     1.9.0               \n",
            "regex                    2019.12.20          \n",
            "requests                 2.23.0              \n",
            "requests-oauthlib        1.3.0               \n",
            "resampy                  0.2.2               \n",
            "retrying                 1.3.3               \n",
            "rpy2                     3.2.7               \n",
            "rsa                      4.0                 \n",
            "s3fs                     0.4.2               \n",
            "s3transfer               0.3.3               \n",
            "scikit-image             0.16.2              \n",
            "scikit-learn             0.22.2.post1        \n",
            "scipy                    1.4.1               \n",
            "screen-resolution-extra  0.0.0               \n",
            "scs                      2.1.2               \n",
            "seaborn                  0.10.1              \n",
            "Send2Trash               1.5.0               \n",
            "setuptools               46.1.3              \n",
            "setuptools-git           1.2                 \n",
            "Shapely                  1.7.0               \n",
            "simplegeneric            0.8.1               \n",
            "six                      1.12.0              \n",
            "sklearn                  0.0                 \n",
            "sklearn-pandas           1.8.0               \n",
            "smart-open               2.0.0               \n",
            "snowballstemmer          2.0.0               \n",
            "sortedcontainers         2.1.0               \n",
            "spacy                    2.2.4               \n",
            "Sphinx                   1.8.5               \n",
            "sphinxcontrib-websupport 1.2.2               \n",
            "SQLAlchemy               1.3.16              \n",
            "sqlparse                 0.3.1               \n",
            "srsly                    1.0.2               \n",
            "statsmodels              0.10.2              \n",
            "sympy                    1.1.1               \n",
            "tables                   3.4.4               \n",
            "tabulate                 0.8.7               \n",
            "tb-nightly               1.14.0a20190603     \n",
            "tbb                      2020.0.133          \n",
            "tblib                    1.6.0               \n",
            "tensorboard              1.14.0              \n",
            "tensorboard-plugin-wit   1.6.0.post3         \n",
            "tensorboardcolab         0.0.22              \n",
            "tensorflow               1.14.0              \n",
            "tensorflow-addons        0.8.3               \n",
            "tensorflow-datasets      2.1.0               \n",
            "tensorflow-estimator     1.14.0              \n",
            "tensorflow-gcs-config    2.1.8               \n",
            "tensorflow-hub           0.8.0               \n",
            "tensorflow-metadata      0.21.2              \n",
            "tensorflow-privacy       0.2.2               \n",
            "tensorflow-probability   0.10.0rc0           \n",
            "termcolor                1.1.0               \n",
            "terminado                0.8.3               \n",
            "testpath                 0.4.4               \n",
            "text-unidecode           1.3                 \n",
            "textblob                 0.15.3              \n",
            "textgenrnn               1.4.1               \n",
            "tf-estimator-nightly     1.14.0.dev2019060501\n",
            "Theano                   1.0.4               \n",
            "thinc                    7.4.0               \n",
            "toolz                    0.10.0              \n",
            "torch                    1.5.0+cu101         \n",
            "torchsummary             1.5.1               \n",
            "torchtext                0.3.1               \n",
            "torchvision              0.6.0+cu101         \n",
            "tornado                  4.5.3               \n",
            "tqdm                     4.41.1              \n",
            "traitlets                4.3.3               \n",
            "tweepy                   3.6.0               \n",
            "typeguard                2.7.1               \n",
            "typing                   3.6.6               \n",
            "typing-extensions        3.6.6               \n",
            "tzlocal                  1.5.1               \n",
            "umap-learn               0.4.2               \n",
            "uritemplate              3.0.1               \n",
            "urllib3                  1.24.3              \n",
            "vega-datasets            0.8.0               \n",
            "wasabi                   0.6.0               \n",
            "wcwidth                  0.1.9               \n",
            "webencodings             0.5.1               \n",
            "Werkzeug                 1.0.1               \n",
            "wheel                    0.34.2              \n",
            "widgetsnbextension       3.5.1               \n",
            "wordcloud                1.5.0               \n",
            "wrapt                    1.12.1              \n",
            "xarray                   0.15.1              \n",
            "xgboost                  0.90                \n",
            "xkit                     0.0.0               \n",
            "xlrd                     1.1.0               \n",
            "xlwt                     1.3.0               \n",
            "yellowbrick              0.9.1               \n",
            "zict                     2.0.0               \n",
            "zipp                     3.1.0               \n"
          ],
          "name": "stdout"
        }
      ]
    },
    {
      "cell_type": "code",
      "metadata": {
        "id": "PxY0VLwhcy8C",
        "colab_type": "code",
        "outputId": "bafceab6-a1fe-4a7b-b472-1bca34486f1b",
        "colab": {
          "base_uri": "https://localhost:8080/",
          "height": 34
        }
      },
      "source": [
        "np.array(trainx.iloc[1])"
      ],
      "execution_count": 201,
      "outputs": [
        {
          "output_type": "execute_result",
          "data": {
            "text/plain": [
              "array([12.2,  8. , 14. ])"
            ]
          },
          "metadata": {
            "tags": []
          },
          "execution_count": 201
        }
      ]
    },
    {
      "cell_type": "code",
      "metadata": {
        "id": "nsQH_MC8pD5E",
        "colab_type": "code",
        "outputId": "b1ffdba9-ca19-486c-b475-09034f260149",
        "colab": {
          "base_uri": "https://localhost:8080/",
          "height": 34
        }
      },
      "source": [
        "float(trainy.iloc[0])"
      ],
      "execution_count": 202,
      "outputs": [
        {
          "output_type": "execute_result",
          "data": {
            "text/plain": [
              "0.0"
            ]
          },
          "metadata": {
            "tags": []
          },
          "execution_count": 202
        }
      ]
    },
    {
      "cell_type": "code",
      "metadata": {
        "id": "JT6WwE8OFwwk",
        "colab_type": "code",
        "colab": {}
      },
      "source": [
        "import numpy as np\n",
        "\n",
        "import gym\n",
        "from gym import spaces\n",
        "from gym.utils import seeding\n",
        "\n",
        "\n",
        "class HotterColder(gym.Env):\n",
        "    \"\"\"Hotter Colder\n",
        "    The goal of hotter colder is to guess closer to a randomly selected number\n",
        "    After each step the agent receives an observation of:\n",
        "    0 - No guess yet submitted (only after reset)\n",
        "    1 - Guess is lower than the target\n",
        "    2 - Guess is equal to the target\n",
        "    3 - Guess is higher than the target\n",
        "    The rewards is calculated as:\n",
        "    (min(action, self.number) + self.range) / (max(action, self.number) + self.range)\n",
        "    Ideally an agent will be able to recognise the 'scent' of a higher reward and\n",
        "    increase the rate in which is guesses in that direction until the reward reaches\n",
        "    its maximum\n",
        "    \"\"\"\n",
        "    def __init__(self, x, y):\n",
        "        self.x = x\n",
        "        self.y = y\n",
        "\n",
        "        self.range = 10  # +/- value the randomly select number can be between\n",
        "        self.bounds = 20  # Action space bounds\n",
        "\n",
        "        self.number = 0\n",
        "        self.guess_count = 0\n",
        "        self.guess_max = 200\n",
        "        self.race_num = 0\n",
        "\n",
        "        self.action_space = gym.spaces.Discrete(11)\n",
        "        min = np.array(self.x.min())\n",
        "        low = np.concatenate([min])\n",
        "        max = np.array(self.x.max())        \n",
        "        high = np.concatenate([max])\n",
        "        self.observation_space = gym.spaces.Box(low=low, high=high) \n",
        "        \n",
        "        self.seed()\n",
        "        self.reset()\n",
        "\n",
        "    def seed(self, seed=None):\n",
        "        self.np_random, seed = seeding.np_random(seed)\n",
        "        return [seed]\n",
        "\n",
        "    def step(self, action):\n",
        "        self.done =  self._is_done(action)\n",
        "\n",
        "        reward = 0\n",
        "        plus = 0\n",
        "        if self.done == False:\n",
        "          if action > 0:\n",
        "            plus = (-1 * action + float(self.y.iloc[self.race_num]*action))\n",
        "            reward = plus\n",
        "            self.amount += plus\n",
        "        else:\n",
        "            reward = self.amount\n",
        "\n",
        "#          print(\"\")\n",
        "\n",
        "#         self.amount += reward\n",
        "\n",
        "        self.guess_count += 1\n",
        "        self.race_num += 1\n",
        "\n",
        "        if self.race_num >= len(self.x):\n",
        "          self.race_num = 0\n",
        "\n",
        "#        print(action, end=\"\")\n",
        "#        pprint((self.x.iloc[self.race_num], reward, self.done, {\"guesses\": self.guess_count}))\n",
        "        return np.array(self.x.iloc[self.race_num]), reward, self.done, {\"guesses\": self.guess_count}\n",
        "\n",
        "    def reset(self):\n",
        "        self.done = False\n",
        "        self.amount = 0\n",
        "        self.guess_count = 0\n",
        "        \n",
        "#        pprint(np.concatenate([[self.amount],np.array(self.x.iloc[self.race_num])]))\n",
        "        return np.array(self.x.iloc[self.race_num])\n",
        "      \n",
        "    def _is_done(self, action):\n",
        "        if self.guess_count >= self.guess_max:\n",
        "#           print(\"Over\")\n",
        "          return True\n",
        "        return False"
      ],
      "execution_count": 0,
      "outputs": []
    },
    {
      "cell_type": "code",
      "metadata": {
        "id": "AqnYw2IWFxJU",
        "colab_type": "code",
        "outputId": "51757744-a2c7-47dd-81ed-4eb20f169e85",
        "colab": {
          "base_uri": "https://localhost:8080/",
          "height": 51
        }
      },
      "source": [
        "env = HotterColder(trainx, trainy)"
      ],
      "execution_count": 204,
      "outputs": [
        {
          "output_type": "stream",
          "text": [
            "/usr/local/lib/python3.6/dist-packages/gym/logger.py:30: UserWarning: \u001b[33mWARN: Box bound precision lowered by casting to float32\u001b[0m\n",
            "  warnings.warn(colorize('%s: %s'%('WARN', msg % args), 'yellow'))\n"
          ],
          "name": "stderr"
        }
      ]
    },
    {
      "cell_type": "code",
      "metadata": {
        "id": "adFXL4cUx8pn",
        "colab_type": "code",
        "colab": {}
      },
      "source": [
        "#x =  spaces.Box(low=np.array([-200]), high=np.array([200]),                                       dtype=np.float32)"
      ],
      "execution_count": 0,
      "outputs": []
    },
    {
      "cell_type": "code",
      "metadata": {
        "id": "J6kxbgCSyAqq",
        "colab_type": "code",
        "colab": {}
      },
      "source": [
        "nb_actions = env.action_space.n\n"
      ],
      "execution_count": 0,
      "outputs": []
    },
    {
      "cell_type": "code",
      "metadata": {
        "id": "qq3JKmJX4YUt",
        "colab_type": "code",
        "outputId": "06365735-c64f-4461-ee29-674bbf972c11",
        "colab": {
          "base_uri": "https://localhost:8080/",
          "height": 34
        }
      },
      "source": [
        "nb_actions"
      ],
      "execution_count": 207,
      "outputs": [
        {
          "output_type": "execute_result",
          "data": {
            "text/plain": [
              "11"
            ]
          },
          "metadata": {
            "tags": []
          },
          "execution_count": 207
        }
      ]
    },
    {
      "cell_type": "code",
      "metadata": {
        "id": "X23sqWZI1fKi",
        "colab_type": "code",
        "colab": {}
      },
      "source": [
        "# env.action_space.contains(np.array([-2000]))\n"
      ],
      "execution_count": 0,
      "outputs": []
    },
    {
      "cell_type": "code",
      "metadata": {
        "id": "SqTWlfL9EYZA",
        "colab_type": "code",
        "colab": {}
      },
      "source": [
        "# import gym\n",
        "\n",
        "# # GymのPendulum環境を作成\n",
        "# env = gym.make(\"Pendulum-v0\")\n",
        "\n",
        "# # 取りうる”打ち手”のアクション数と値の定義\n",
        "# nb_actions = 2\n",
        "# ACT_ID_TO_VALUE = {0: [-1], 1: [+1]}"
      ],
      "execution_count": 0,
      "outputs": []
    },
    {
      "cell_type": "code",
      "metadata": {
        "id": "Zu7q1TXbFCVv",
        "colab_type": "code",
        "colab": {}
      },
      "source": [
        "from rl.core import Processor\n",
        "\n",
        "\n",
        "class PendulumProcessor(Processor):\n",
        "\n",
        "    # Duel-DQNの出力と、Gym環境の入力の違いを吸収\n",
        "    def process_action(self, action):\n",
        "        return action\n",
        "\n",
        "    # Gym環境の報酬の出力と、Duel-DQNの報酬の入力との違いを吸収\n",
        "    def process_reward(self, reward):\n",
        "      return reward\n",
        "#         if reward > -0.2:\n",
        "#             return 1\n",
        "#         elif reward > -1.0:\n",
        "#             return 0\n",
        "#         else:\n",
        "#             return 0\n",
        "    def process_observation(self, observation):\n",
        "      return observation\n",
        "\n",
        "processor = PendulumProcessor()"
      ],
      "execution_count": 0,
      "outputs": []
    },
    {
      "cell_type": "code",
      "metadata": {
        "id": "mIhFvu7zFRc7",
        "colab_type": "code",
        "colab": {}
      },
      "source": [
        "from keras.models import Sequential\n",
        "from keras.layers import Dense, Activation, Flatten\n",
        "\n",
        "\n",
        "model = Sequential()\n",
        "model.add(Flatten(input_shape=(1,) + env.observation_space.shape))\n",
        "model.add(Dense(16))\n",
        "model.add(Activation(\"relu\"))\n",
        "model.add(Dense(16))\n",
        "model.add(Activation(\"relu\"))\n",
        "model.add(Dense(nb_actions, activation=\"linear\"))"
      ],
      "execution_count": 0,
      "outputs": []
    },
    {
      "cell_type": "code",
      "metadata": {
        "id": "HDlJ8WYULUzj",
        "colab_type": "code",
        "outputId": "c2427d12-d152-46c7-ec0b-bc04b139ff7f",
        "colab": {
          "base_uri": "https://localhost:8080/",
          "height": 34
        }
      },
      "source": [
        "(1,) + env.observation_space.shape"
      ],
      "execution_count": 212,
      "outputs": [
        {
          "output_type": "execute_result",
          "data": {
            "text/plain": [
              "(1, 3)"
            ]
          },
          "metadata": {
            "tags": []
          },
          "execution_count": 212
        }
      ]
    },
    {
      "cell_type": "code",
      "metadata": {
        "id": "cNWefvWLNOE8",
        "colab_type": "code",
        "colab": {}
      },
      "source": [
        ""
      ],
      "execution_count": 0,
      "outputs": []
    },
    {
      "cell_type": "code",
      "metadata": {
        "id": "uyzzMQBTHmgl",
        "colab_type": "code",
        "outputId": "4c8abdd9-a35e-46f5-c2bf-3eb2d304c189",
        "colab": {
          "base_uri": "https://localhost:8080/",
          "height": 425
        }
      },
      "source": [
        "from keras.optimizers import Adam\n",
        "\n",
        "from rl.agents.dqn import DQNAgent\n",
        "from rl.policy import BoltzmannQPolicy\n",
        "from rl.memory import SequentialMemory\n",
        "\n",
        "\n",
        "# Duel-DQNアルゴリズム関連の幾つかの設定\n",
        "memory = SequentialMemory(limit=50000, window_length=1)\n",
        "policy = BoltzmannQPolicy()\n",
        "\n",
        "# Duel-DQNのAgentクラスオブジェクトの準備 （上記processorやmodelを元に）\n",
        "dqn = DQNAgent(model=model, nb_actions=nb_actions, memory=memory, nb_steps_warmup=10,\n",
        "               enable_dueling_network=True, dueling_type=\"avg\", target_model_update=1e-2, policy=policy,processor=processor)\n",
        "dqn.compile(Adam(lr=1e-3), metrics=[\"mae\"])\n",
        "print(dqn.model.summary())\n",
        "\n",
        "\n"
      ],
      "execution_count": 213,
      "outputs": [
        {
          "output_type": "stream",
          "text": [
            "_________________________________________________________________\n",
            "Layer (type)                 Output Shape              Param #   \n",
            "=================================================================\n",
            "flatten_6_input (InputLayer) (None, 1, 3)              0         \n",
            "_________________________________________________________________\n",
            "flatten_6 (Flatten)          (None, 3)                 0         \n",
            "_________________________________________________________________\n",
            "dense_21 (Dense)             (None, 16)                64        \n",
            "_________________________________________________________________\n",
            "activation_11 (Activation)   (None, 16)                0         \n",
            "_________________________________________________________________\n",
            "dense_22 (Dense)             (None, 16)                272       \n",
            "_________________________________________________________________\n",
            "activation_12 (Activation)   (None, 16)                0         \n",
            "_________________________________________________________________\n",
            "dense_24 (Dense)             (None, 12)                204       \n",
            "_________________________________________________________________\n",
            "lambda_6 (Lambda)            (None, 11)                0         \n",
            "=================================================================\n",
            "Total params: 540\n",
            "Trainable params: 540\n",
            "Non-trainable params: 0\n",
            "_________________________________________________________________\n",
            "None\n"
          ],
          "name": "stdout"
        }
      ]
    },
    {
      "cell_type": "code",
      "metadata": {
        "id": "Uql1Js50Tb8O",
        "colab_type": "code",
        "colab": {}
      },
      "source": [
        "import rl.callbacks\n",
        "class EpisodeLogger(rl.callbacks.Callback):\n",
        "    def __init__(self):\n",
        "        self.observations = {}\n",
        "        self.rewards = {}\n",
        "        self.actions = {}\n",
        "\n",
        "    def on_episode_begin(self, episode, logs):\n",
        "        self.observations[episode] = []\n",
        "        self.rewards[episode] = []\n",
        "        self.actions[episode] = []\n",
        "\n",
        "    def on_step_end(self, step, logs):\n",
        "        episode = logs['episode']\n",
        "        self.observations[episode].append(logs['observation'])\n",
        "        self.rewards[episode].append(logs['reward'])\n",
        "        self.actions[episode].append(logs['action'])\n",
        "\n",
        "cb_ep = EpisodeLogger()"
      ],
      "execution_count": 0,
      "outputs": []
    },
    {
      "cell_type": "code",
      "metadata": {
        "id": "zdeS8JczcdkB",
        "colab_type": "code",
        "colab": {}
      },
      "source": [
        "#from keras.callbacks import EarlyStopping\n",
        "\n",
        "#early_stop = EarlyStopping(patience=69)"
      ],
      "execution_count": 0,
      "outputs": []
    },
    {
      "cell_type": "code",
      "metadata": {
        "id": "JkJxlTvZdG6N",
        "colab_type": "code",
        "colab": {}
      },
      "source": [
        "pd.DataFrame({\"dummy\":1},index=[0]).to_csv(\"h5f/save_start.csv\")"
      ],
      "execution_count": 0,
      "outputs": []
    },
    {
      "cell_type": "code",
      "metadata": {
        "id": "ka3BQCoIVk_x",
        "colab_type": "code",
        "outputId": "1eae0088-6faf-4e84-95a8-dcd27c435e8c",
        "colab": {
          "base_uri": "https://localhost:8080/",
          "height": 1000
        }
      },
      "source": [
        "# 定義課題環境に対して、アルゴリズムの学習を実行 （必要に応じて適切なCallbackも定義、設定可能）\n",
        "# 上記Processorクラスの適切な設定によって、Agent-環境間の入出力を通して設計課題に対しての学習が進行\n",
        "# dqn.fit(env, nb_steps=50000, visualize=False, callbacks=[early_stop], verbose=2)\n",
        "dqn.fit(env, nb_steps=100000, visualize=False, callbacks=[cb_ep], verbose=2)\n",
        "\n"
      ],
      "execution_count": 0,
      "outputs": [
        {
          "output_type": "stream",
          "text": [
            "Training for 100000 steps ...\n",
            "   201/100000: episode: 1, duration: 0.974s, episode steps: 201, steps per second: 206, episode reward: 528.800, mean reward: 2.631 [-10.000, 564.000], mean action: 2.746 [0.000, 10.000], mean observation: 29.433 [0.000, 790.000], loss: 623.494315, mean_absolute_error: 23.626560, mean_q: -20.428016\n",
            "   402/100000: episode: 2, duration: 0.984s, episode steps: 201, steps per second: 204, episode reward: 508.600, mean reward: 2.530 [-10.000, 416.400], mean action: 2.333 [0.000, 10.000], mean observation: 31.547 [0.000, 598.100], loss: 494.052551, mean_absolute_error: 24.465494, mean_q: -20.559746\n",
            "   603/100000: episode: 3, duration: 0.930s, episode steps: 201, steps per second: 216, episode reward: 103.600, mean reward: 0.515 [-10.000, 470.700], mean action: 2.945 [0.000, 10.000], mean observation: 28.173 [0.000, 407.400], loss: 355.455994, mean_absolute_error: 24.300392, mean_q: -20.691698\n",
            "   804/100000: episode: 4, duration: 0.976s, episode steps: 201, steps per second: 206, episode reward: -544.200, mean reward: -2.707 [-272.100, 100.800], mean action: 2.562 [0.000, 10.000], mean observation: 26.836 [0.000, 695.800], loss: 459.473328, mean_absolute_error: 23.715961, mean_q: -20.149990\n",
            "  1005/100000: episode: 5, duration: 0.995s, episode steps: 201, steps per second: 202, episode reward: -630.400, mean reward: -3.136 [-315.200, 22.800], mean action: 2.239 [0.000, 10.000], mean observation: 27.136 [0.000, 621.400], loss: 528.162903, mean_absolute_error: 24.147974, mean_q: -20.740593\n",
            "  1206/100000: episode: 6, duration: 1.004s, episode steps: 201, steps per second: 200, episode reward: -61.200, mean reward: -0.304 [-30.600, 219.600], mean action: 2.512 [0.000, 10.000], mean observation: 29.280 [0.000, 628.600], loss: 528.305115, mean_absolute_error: 24.664433, mean_q: -21.827227\n",
            "  1407/100000: episode: 7, duration: 1.102s, episode steps: 201, steps per second: 182, episode reward: -1207.000, mean reward: -6.005 [-603.500, 12.000], mean action: 3.254 [0.000, 10.000], mean observation: 24.786 [0.000, 649.800], loss: 420.528809, mean_absolute_error: 24.769733, mean_q: -21.899500\n",
            "  1608/100000: episode: 8, duration: 1.062s, episode steps: 201, steps per second: 189, episode reward: -1027.600, mean reward: -5.112 [-513.800, 17.100], mean action: 3.070 [0.000, 10.000], mean observation: 28.556 [0.000, 456.200], loss: 499.519012, mean_absolute_error: 25.207352, mean_q: -22.196503\n",
            "  1809/100000: episode: 9, duration: 1.035s, episode steps: 201, steps per second: 194, episode reward: 104.200, mean reward: 0.518 [-10.000, 222.000], mean action: 2.642 [0.000, 10.000], mean observation: 21.718 [0.000, 356.900], loss: 642.643799, mean_absolute_error: 24.939081, mean_q: -21.561476\n",
            "  2010/100000: episode: 10, duration: 1.023s, episode steps: 201, steps per second: 196, episode reward: -601.600, mean reward: -2.993 [-300.800, 21.000], mean action: 2.274 [0.000, 10.000], mean observation: 27.733 [0.000, 509.500], loss: 605.880615, mean_absolute_error: 24.416443, mean_q: -21.100447\n",
            "  2211/100000: episode: 11, duration: 1.089s, episode steps: 201, steps per second: 185, episode reward: -893.200, mean reward: -4.444 [-446.600, 10.600], mean action: 2.483 [0.000, 10.000], mean observation: 26.917 [0.000, 486.000], loss: 511.959473, mean_absolute_error: 23.848183, mean_q: -20.547449\n",
            "  2412/100000: episode: 12, duration: 1.206s, episode steps: 201, steps per second: 167, episode reward: -134.800, mean reward: -0.671 [-67.400, 168.000], mean action: 2.866 [0.000, 10.000], mean observation: 21.665 [0.000, 583.400], loss: 355.919769, mean_absolute_error: 24.380241, mean_q: -21.374008\n",
            "  2613/100000: episode: 13, duration: 1.011s, episode steps: 201, steps per second: 199, episode reward: -351.200, mean reward: -1.747 [-175.600, 59.700], mean action: 1.637 [0.000, 10.000], mean observation: 24.470 [0.000, 518.000], loss: 297.802460, mean_absolute_error: 24.647499, mean_q: -21.103729\n",
            "  2814/100000: episode: 14, duration: 1.033s, episode steps: 201, steps per second: 195, episode reward: -724.400, mean reward: -3.604 [-362.200, 32.400], mean action: 2.299 [0.000, 9.000], mean observation: 25.683 [0.000, 535.200], loss: 189.984818, mean_absolute_error: 24.700701, mean_q: -21.608665\n",
            "  3015/100000: episode: 15, duration: 1.002s, episode steps: 201, steps per second: 201, episode reward: -147.000, mean reward: -0.731 [-73.500, 194.400], mean action: 2.632 [0.000, 9.000], mean observation: 28.345 [0.000, 605.200], loss: 570.840088, mean_absolute_error: 25.064137, mean_q: -21.576294\n",
            "  3216/100000: episode: 16, duration: 0.958s, episode steps: 201, steps per second: 210, episode reward: -559.000, mean reward: -2.781 [-279.500, 132.000], mean action: 3.154 [0.000, 10.000], mean observation: 21.307 [0.000, 503.900], loss: 654.091797, mean_absolute_error: 25.507681, mean_q: -21.936508\n",
            "  3417/100000: episode: 17, duration: 0.996s, episode steps: 201, steps per second: 202, episode reward: -817.800, mean reward: -4.069 [-408.900, 47.200], mean action: 2.587 [0.000, 10.000], mean observation: 23.852 [0.000, 450.700], loss: 559.556519, mean_absolute_error: 25.153044, mean_q: -21.945395\n",
            "  3618/100000: episode: 18, duration: 0.967s, episode steps: 201, steps per second: 208, episode reward: -977.800, mean reward: -4.865 [-488.900, 15.400], mean action: 2.572 [0.000, 10.000], mean observation: 26.145 [0.000, 601.900], loss: 420.391144, mean_absolute_error: 25.613029, mean_q: -22.190596\n",
            "  3819/100000: episode: 19, duration: 0.968s, episode steps: 201, steps per second: 208, episode reward: -716.000, mean reward: -3.562 [-358.000, 29.400], mean action: 2.572 [0.000, 10.000], mean observation: 24.748 [0.000, 463.100], loss: 527.536743, mean_absolute_error: 25.807558, mean_q: -22.397184\n",
            "  4020/100000: episode: 20, duration: 0.980s, episode steps: 201, steps per second: 205, episode reward: -810.000, mean reward: -4.030 [-405.000, 88.200], mean action: 3.289 [0.000, 10.000], mean observation: 28.461 [0.000, 583.900], loss: 653.878906, mean_absolute_error: 25.186131, mean_q: -22.141542\n",
            "  4221/100000: episode: 21, duration: 0.943s, episode steps: 201, steps per second: 213, episode reward: -642.000, mean reward: -3.194 [-321.000, 62.000], mean action: 2.677 [0.000, 10.000], mean observation: 28.328 [0.000, 694.900], loss: 397.002991, mean_absolute_error: 26.178492, mean_q: -22.965548\n",
            "  4422/100000: episode: 22, duration: 0.990s, episode steps: 201, steps per second: 203, episode reward: -520.200, mean reward: -2.588 [-260.100, 40.000], mean action: 2.229 [0.000, 9.000], mean observation: 30.102 [0.000, 616.800], loss: 514.439697, mean_absolute_error: 26.589565, mean_q: -23.273262\n",
            "  4623/100000: episode: 23, duration: 0.919s, episode steps: 201, steps per second: 219, episode reward: -650.600, mean reward: -3.237 [-325.300, 81.200], mean action: 2.637 [0.000, 10.000], mean observation: 26.408 [0.000, 479.100], loss: 337.534821, mean_absolute_error: 26.284286, mean_q: -23.769930\n",
            "  4824/100000: episode: 24, duration: 0.941s, episode steps: 201, steps per second: 214, episode reward: -445.400, mean reward: -2.216 [-222.700, 153.900], mean action: 2.731 [0.000, 10.000], mean observation: 25.299 [0.000, 419.100], loss: 600.345398, mean_absolute_error: 27.660419, mean_q: -25.099007\n",
            "  5025/100000: episode: 25, duration: 0.997s, episode steps: 201, steps per second: 202, episode reward: 157.000, mean reward: 0.781 [-10.000, 202.400], mean action: 2.154 [0.000, 10.000], mean observation: 22.446 [0.000, 438.100], loss: 568.286682, mean_absolute_error: 28.475290, mean_q: -25.181198\n",
            "  5226/100000: episode: 26, duration: 1.011s, episode steps: 201, steps per second: 199, episode reward: -397.400, mean reward: -1.977 [-198.700, 61.200], mean action: 2.811 [0.000, 10.000], mean observation: 24.505 [0.000, 602.700], loss: 637.675354, mean_absolute_error: 28.535307, mean_q: -25.283005\n",
            "  5427/100000: episode: 27, duration: 0.966s, episode steps: 201, steps per second: 208, episode reward: 1031.200, mean reward: 5.130 [-10.000, 890.800], mean action: 2.333 [0.000, 10.000], mean observation: 22.769 [0.000, 409.700], loss: 295.188477, mean_absolute_error: 27.950247, mean_q: -24.894043\n",
            "  5628/100000: episode: 28, duration: 0.967s, episode steps: 201, steps per second: 208, episode reward: 1122.600, mean reward: 5.585 [-10.000, 561.300], mean action: 3.124 [0.000, 10.000], mean observation: 23.128 [0.000, 509.300], loss: 464.876129, mean_absolute_error: 27.900415, mean_q: -25.165218\n",
            "  5829/100000: episode: 29, duration: 0.954s, episode steps: 201, steps per second: 211, episode reward: -211.200, mean reward: -1.051 [-105.600, 102.900], mean action: 2.328 [0.000, 10.000], mean observation: 27.402 [0.000, 578.100], loss: 455.633789, mean_absolute_error: 26.583796, mean_q: -23.454767\n",
            "  6030/100000: episode: 30, duration: 0.992s, episode steps: 201, steps per second: 203, episode reward: -681.200, mean reward: -3.389 [-340.600, 28.500], mean action: 2.408 [0.000, 10.000], mean observation: 25.842 [0.000, 688.400], loss: 331.431488, mean_absolute_error: 26.799202, mean_q: -23.727577\n",
            "  6231/100000: episode: 31, duration: 0.973s, episode steps: 201, steps per second: 207, episode reward: -118.000, mean reward: -0.587 [-59.000, 514.400], mean action: 4.065 [0.000, 10.000], mean observation: 25.618 [0.000, 853.500], loss: 603.144592, mean_absolute_error: 26.352102, mean_q: -23.157076\n",
            "  6432/100000: episode: 32, duration: 0.960s, episode steps: 201, steps per second: 209, episode reward: 3225.200, mean reward: 16.046 [-10.000, 1927.800], mean action: 3.910 [0.000, 10.000], mean observation: 27.159 [0.000, 485.200], loss: 422.354858, mean_absolute_error: 26.262161, mean_q: -23.392330\n",
            "  6633/100000: episode: 33, duration: 0.981s, episode steps: 201, steps per second: 205, episode reward: -525.400, mean reward: -2.614 [-262.700, 93.600], mean action: 2.975 [0.000, 10.000], mean observation: 26.742 [0.000, 406.600], loss: 891.264587, mean_absolute_error: 25.206766, mean_q: -22.217018\n",
            "  6834/100000: episode: 34, duration: 0.965s, episode steps: 201, steps per second: 208, episode reward: 1714.200, mean reward: 8.528 [-10.000, 857.100], mean action: 2.900 [0.000, 10.000], mean observation: 24.671 [0.000, 507.500], loss: 501.361481, mean_absolute_error: 25.162678, mean_q: -21.792568\n",
            "  7035/100000: episode: 35, duration: 0.992s, episode steps: 201, steps per second: 203, episode reward: -352.400, mean reward: -1.753 [-176.200, 204.200], mean action: 2.836 [0.000, 10.000], mean observation: 25.887 [0.000, 574.000], loss: 925.510559, mean_absolute_error: 23.798901, mean_q: -19.955124\n",
            "  7236/100000: episode: 36, duration: 0.980s, episode steps: 201, steps per second: 205, episode reward: -596.800, mean reward: -2.969 [-298.400, 282.000], mean action: 3.632 [0.000, 10.000], mean observation: 27.803 [0.000, 498.400], loss: 414.214935, mean_absolute_error: 22.061443, mean_q: -18.868366\n",
            "  7437/100000: episode: 37, duration: 0.999s, episode steps: 201, steps per second: 201, episode reward: -824.800, mean reward: -4.103 [-412.400, 45.600], mean action: 3.144 [0.000, 10.000], mean observation: 24.536 [0.000, 577.300], loss: 676.214539, mean_absolute_error: 21.857811, mean_q: -18.322033\n",
            "  7638/100000: episode: 38, duration: 0.973s, episode steps: 201, steps per second: 206, episode reward: 241.600, mean reward: 1.202 [-10.000, 238.000], mean action: 2.771 [0.000, 10.000], mean observation: 30.056 [0.000, 497.000], loss: 708.106445, mean_absolute_error: 19.058294, mean_q: -15.006787\n",
            "  7839/100000: episode: 39, duration: 1.021s, episode steps: 201, steps per second: 197, episode reward: -255.400, mean reward: -1.271 [-127.700, 169.400], mean action: 3.035 [0.000, 10.000], mean observation: 27.837 [0.000, 632.300], loss: 410.030304, mean_absolute_error: 18.369928, mean_q: -14.684211\n",
            "  8040/100000: episode: 40, duration: 0.961s, episode steps: 201, steps per second: 209, episode reward: -513.600, mean reward: -2.555 [-256.800, 128.100], mean action: 2.771 [0.000, 10.000], mean observation: 27.638 [0.000, 553.000], loss: 390.491364, mean_absolute_error: 18.444277, mean_q: -15.135224\n",
            "  8241/100000: episode: 41, duration: 0.966s, episode steps: 201, steps per second: 208, episode reward: -661.400, mean reward: -3.291 [-330.700, 41.000], mean action: 2.517 [0.000, 10.000], mean observation: 27.517 [0.000, 631.900], loss: 520.134705, mean_absolute_error: 18.215700, mean_q: -15.036386\n",
            "  8442/100000: episode: 42, duration: 0.989s, episode steps: 201, steps per second: 203, episode reward: -402.000, mean reward: -2.000 [-201.000, 129.600], mean action: 2.274 [0.000, 10.000], mean observation: 23.051 [0.000, 451.100], loss: 430.307831, mean_absolute_error: 19.145414, mean_q: -15.759603\n",
            "  8643/100000: episode: 43, duration: 0.917s, episode steps: 201, steps per second: 219, episode reward: 1932.400, mean reward: 9.614 [-10.000, 966.200], mean action: 2.861 [0.000, 10.000], mean observation: 32.268 [0.000, 535.100], loss: 400.083557, mean_absolute_error: 18.982742, mean_q: -16.017462\n",
            "  8844/100000: episode: 44, duration: 0.919s, episode steps: 201, steps per second: 219, episode reward: -586.600, mean reward: -2.918 [-293.300, 36.000], mean action: 2.448 [0.000, 10.000], mean observation: 25.663 [0.000, 598.900], loss: 474.631836, mean_absolute_error: 20.874695, mean_q: -17.753054\n",
            "  9045/100000: episode: 45, duration: 0.945s, episode steps: 201, steps per second: 213, episode reward: -846.400, mean reward: -4.211 [-423.200, 52.800], mean action: 3.070 [0.000, 10.000], mean observation: 24.032 [0.000, 396.700], loss: 931.405396, mean_absolute_error: 21.085873, mean_q: -17.632704\n",
            "  9246/100000: episode: 46, duration: 0.969s, episode steps: 201, steps per second: 208, episode reward: 569.400, mean reward: 2.833 [-10.000, 685.800], mean action: 3.886 [0.000, 10.000], mean observation: 27.445 [0.000, 575.100], loss: 281.364227, mean_absolute_error: 22.527950, mean_q: -18.744663\n",
            "  9447/100000: episode: 47, duration: 0.978s, episode steps: 201, steps per second: 205, episode reward: -609.400, mean reward: -3.032 [-304.700, 118.000], mean action: 2.816 [0.000, 10.000], mean observation: 22.579 [0.000, 391.200], loss: 632.135437, mean_absolute_error: 22.415285, mean_q: -18.941914\n",
            "  9648/100000: episode: 48, duration: 0.990s, episode steps: 201, steps per second: 203, episode reward: -617.400, mean reward: -3.072 [-308.700, 104.800], mean action: 2.841 [0.000, 10.000], mean observation: 27.822 [0.000, 734.900], loss: 744.200867, mean_absolute_error: 21.211996, mean_q: -17.580780\n",
            "  9849/100000: episode: 49, duration: 0.963s, episode steps: 201, steps per second: 209, episode reward: -1097.000, mean reward: -5.458 [-548.500, 80.400], mean action: 3.851 [0.000, 10.000], mean observation: 25.502 [0.000, 546.100], loss: 666.309265, mean_absolute_error: 20.261730, mean_q: -16.944347\n",
            " 10050/100000: episode: 50, duration: 1.000s, episode steps: 201, steps per second: 201, episode reward: 525.800, mean reward: 2.616 [-10.000, 300.000], mean action: 3.114 [0.000, 10.000], mean observation: 25.904 [0.000, 547.200], loss: 715.441406, mean_absolute_error: 19.462898, mean_q: -16.010288\n",
            " 10251/100000: episode: 51, duration: 1.027s, episode steps: 201, steps per second: 196, episode reward: -498.800, mean reward: -2.482 [-249.400, 128.600], mean action: 3.517 [0.000, 10.000], mean observation: 25.900 [0.000, 495.100], loss: 436.318878, mean_absolute_error: 19.753672, mean_q: -16.654402\n",
            " 10452/100000: episode: 52, duration: 0.977s, episode steps: 201, steps per second: 206, episode reward: 1404.200, mean reward: 6.986 [-10.000, 1120.800], mean action: 3.672 [0.000, 10.000], mean observation: 25.395 [0.000, 428.000], loss: 935.145386, mean_absolute_error: 18.910057, mean_q: -15.718571\n",
            " 10653/100000: episode: 53, duration: 0.995s, episode steps: 201, steps per second: 202, episode reward: 436.200, mean reward: 2.170 [-10.000, 366.300], mean action: 3.900 [0.000, 10.000], mean observation: 25.053 [0.000, 447.300], loss: 509.010132, mean_absolute_error: 19.284933, mean_q: -16.171381\n",
            " 10854/100000: episode: 54, duration: 1.014s, episode steps: 201, steps per second: 198, episode reward: -497.400, mean reward: -2.475 [-248.700, 133.200], mean action: 3.204 [0.000, 10.000], mean observation: 25.146 [0.000, 361.700], loss: 426.027283, mean_absolute_error: 19.833178, mean_q: -16.675829\n",
            " 11055/100000: episode: 55, duration: 0.986s, episode steps: 201, steps per second: 204, episode reward: -836.400, mean reward: -4.161 [-418.200, 94.000], mean action: 3.080 [0.000, 10.000], mean observation: 23.811 [0.000, 460.800], loss: 570.981567, mean_absolute_error: 20.124149, mean_q: -17.168255\n",
            " 11256/100000: episode: 56, duration: 1.017s, episode steps: 201, steps per second: 198, episode reward: -737.200, mean reward: -3.668 [-368.600, 104.000], mean action: 2.801 [0.000, 10.000], mean observation: 27.003 [0.000, 643.500], loss: 403.194855, mean_absolute_error: 20.572229, mean_q: -17.252588\n",
            " 11457/100000: episode: 57, duration: 1.026s, episode steps: 201, steps per second: 196, episode reward: -255.400, mean reward: -1.271 [-127.700, 162.000], mean action: 2.498 [0.000, 10.000], mean observation: 22.719 [0.000, 500.600], loss: 450.658936, mean_absolute_error: 20.784252, mean_q: -17.537392\n",
            " 11658/100000: episode: 58, duration: 1.002s, episode steps: 201, steps per second: 201, episode reward: -637.000, mean reward: -3.169 [-318.500, 65.400], mean action: 2.801 [0.000, 10.000], mean observation: 24.503 [0.000, 471.300], loss: 955.204590, mean_absolute_error: 20.935188, mean_q: -17.560501\n",
            " 11859/100000: episode: 59, duration: 1.060s, episode steps: 201, steps per second: 190, episode reward: -443.800, mean reward: -2.208 [-221.900, 108.000], mean action: 3.418 [0.000, 10.000], mean observation: 26.370 [0.000, 499.500], loss: 888.395813, mean_absolute_error: 20.303774, mean_q: -16.547211\n",
            " 12060/100000: episode: 60, duration: 1.010s, episode steps: 201, steps per second: 199, episode reward: -884.200, mean reward: -4.399 [-442.100, 36.000], mean action: 3.164 [0.000, 10.000], mean observation: 24.417 [0.000, 598.700], loss: 794.164978, mean_absolute_error: 19.057413, mean_q: -15.184267\n",
            " 12261/100000: episode: 61, duration: 1.011s, episode steps: 201, steps per second: 199, episode reward: -758.000, mean reward: -3.771 [-379.000, 70.200], mean action: 3.259 [0.000, 10.000], mean observation: 26.633 [0.000, 435.400], loss: 661.528503, mean_absolute_error: 18.706383, mean_q: -14.911949\n",
            " 12462/100000: episode: 62, duration: 0.988s, episode steps: 201, steps per second: 203, episode reward: -955.400, mean reward: -4.753 [-477.700, 67.200], mean action: 3.811 [0.000, 10.000], mean observation: 26.363 [0.000, 650.500], loss: 733.422913, mean_absolute_error: 17.814156, mean_q: -14.002437\n",
            " 12663/100000: episode: 63, duration: 0.984s, episode steps: 201, steps per second: 204, episode reward: -361.200, mean reward: -1.797 [-180.600, 222.600], mean action: 3.254 [0.000, 10.000], mean observation: 28.011 [0.000, 495.000], loss: 981.216797, mean_absolute_error: 17.181351, mean_q: -13.313813\n",
            " 12864/100000: episode: 64, duration: 0.951s, episode steps: 201, steps per second: 211, episode reward: -1048.800, mean reward: -5.218 [-524.400, 112.800], mean action: 4.333 [0.000, 10.000], mean observation: 26.849 [0.000, 484.900], loss: 528.156433, mean_absolute_error: 15.511716, mean_q: -11.458499\n",
            " 13065/100000: episode: 65, duration: 0.956s, episode steps: 201, steps per second: 210, episode reward: 1011.800, mean reward: 5.034 [-10.000, 667.000], mean action: 3.303 [0.000, 10.000], mean observation: 23.133 [0.000, 374.600], loss: 810.949646, mean_absolute_error: 15.154448, mean_q: -11.314048\n",
            " 13266/100000: episode: 66, duration: 0.982s, episode steps: 201, steps per second: 205, episode reward: -317.200, mean reward: -1.578 [-158.600, 142.200], mean action: 3.398 [0.000, 10.000], mean observation: 21.922 [0.000, 384.500], loss: 1058.868286, mean_absolute_error: 13.681521, mean_q: -9.569394\n",
            " 13467/100000: episode: 67, duration: 0.968s, episode steps: 201, steps per second: 208, episode reward: -81.200, mean reward: -0.404 [-40.600, 216.000], mean action: 3.075 [0.000, 10.000], mean observation: 22.075 [0.000, 602.200], loss: 623.304443, mean_absolute_error: 13.038507, mean_q: -8.786529\n",
            " 13668/100000: episode: 68, duration: 0.963s, episode steps: 201, steps per second: 209, episode reward: -877.800, mean reward: -4.367 [-438.900, 32.400], mean action: 2.851 [0.000, 10.000], mean observation: 27.999 [0.000, 932.700], loss: 625.894836, mean_absolute_error: 12.922886, mean_q: -8.801138\n",
            " 13869/100000: episode: 69, duration: 0.919s, episode steps: 201, steps per second: 219, episode reward: -531.400, mean reward: -2.644 [-265.700, 96.000], mean action: 2.915 [0.000, 10.000], mean observation: 28.627 [0.000, 495.400], loss: 865.002930, mean_absolute_error: 13.243320, mean_q: -9.048592\n",
            " 14070/100000: episode: 70, duration: 0.939s, episode steps: 201, steps per second: 214, episode reward: -361.200, mean reward: -1.797 [-180.600, 124.800], mean action: 3.289 [0.000, 10.000], mean observation: 30.317 [0.000, 717.000], loss: 1117.029663, mean_absolute_error: 12.438200, mean_q: -7.772446\n",
            " 14271/100000: episode: 71, duration: 0.992s, episode steps: 201, steps per second: 203, episode reward: -674.800, mean reward: -3.357 [-337.400, 55.200], mean action: 3.458 [0.000, 10.000], mean observation: 23.768 [0.000, 381.500], loss: 531.873779, mean_absolute_error: 12.701799, mean_q: -8.001104\n",
            " 14472/100000: episode: 72, duration: 0.938s, episode steps: 201, steps per second: 214, episode reward: -796.600, mean reward: -3.963 [-398.300, 60.000], mean action: 3.134 [0.000, 10.000], mean observation: 23.971 [0.000, 418.000], loss: 586.069336, mean_absolute_error: 12.945648, mean_q: -8.595773\n",
            " 14673/100000: episode: 73, duration: 0.910s, episode steps: 201, steps per second: 221, episode reward: -408.800, mean reward: -2.034 [-204.400, 142.000], mean action: 3.637 [0.000, 10.000], mean observation: 29.291 [0.000, 513.200], loss: 591.702209, mean_absolute_error: 12.028955, mean_q: -8.305423\n",
            " 14874/100000: episode: 74, duration: 0.949s, episode steps: 201, steps per second: 212, episode reward: -712.000, mean reward: -3.542 [-356.000, 113.000], mean action: 3.065 [0.000, 10.000], mean observation: 28.763 [0.000, 627.900], loss: 440.237946, mean_absolute_error: 12.150973, mean_q: -8.499365\n",
            " 15075/100000: episode: 75, duration: 1.032s, episode steps: 201, steps per second: 195, episode reward: 173.800, mean reward: 0.865 [-10.000, 161.000], mean action: 2.861 [0.000, 10.000], mean observation: 24.969 [0.000, 522.100], loss: 651.846680, mean_absolute_error: 12.613813, mean_q: -8.748966\n",
            " 15276/100000: episode: 76, duration: 1.008s, episode steps: 201, steps per second: 199, episode reward: 373.200, mean reward: 1.857 [-10.000, 252.600], mean action: 3.065 [0.000, 10.000], mean observation: 26.762 [0.000, 643.700], loss: 558.049500, mean_absolute_error: 12.326536, mean_q: -8.331910\n",
            " 15477/100000: episode: 77, duration: 0.917s, episode steps: 201, steps per second: 219, episode reward: -132.000, mean reward: -0.657 [-66.000, 172.000], mean action: 2.677 [0.000, 10.000], mean observation: 25.523 [0.000, 524.000], loss: 807.465332, mean_absolute_error: 12.033865, mean_q: -8.262163\n",
            " 15678/100000: episode: 78, duration: 1.011s, episode steps: 201, steps per second: 199, episode reward: -99.600, mean reward: -0.496 [-49.800, 180.000], mean action: 3.129 [0.000, 10.000], mean observation: 24.818 [0.000, 593.400], loss: 794.614563, mean_absolute_error: 12.048367, mean_q: -7.984777\n",
            " 15879/100000: episode: 79, duration: 0.930s, episode steps: 201, steps per second: 216, episode reward: -838.800, mean reward: -4.173 [-419.400, 44.400], mean action: 2.851 [0.000, 10.000], mean observation: 29.051 [0.000, 655.300], loss: 514.705872, mean_absolute_error: 11.462555, mean_q: -7.897933\n",
            " 16080/100000: episode: 80, duration: 0.925s, episode steps: 201, steps per second: 217, episode reward: -514.800, mean reward: -2.561 [-257.400, 94.400], mean action: 2.423 [0.000, 10.000], mean observation: 30.309 [0.000, 801.200], loss: 788.271606, mean_absolute_error: 11.582959, mean_q: -7.708506\n",
            " 16281/100000: episode: 81, duration: 0.982s, episode steps: 201, steps per second: 205, episode reward: 911.200, mean reward: 4.533 [-10.000, 505.200], mean action: 2.547 [0.000, 10.000], mean observation: 28.322 [0.000, 568.900], loss: 750.745239, mean_absolute_error: 11.400986, mean_q: -7.772731\n",
            " 16482/100000: episode: 82, duration: 1.008s, episode steps: 201, steps per second: 199, episode reward: -638.400, mean reward: -3.176 [-319.200, 145.800], mean action: 3.149 [0.000, 10.000], mean observation: 29.440 [0.000, 578.000], loss: 718.670410, mean_absolute_error: 11.650449, mean_q: -7.694447\n",
            " 16683/100000: episode: 83, duration: 0.950s, episode steps: 201, steps per second: 212, episode reward: -1098.800, mean reward: -5.467 [-549.400, 59.600], mean action: 4.075 [0.000, 10.000], mean observation: 26.861 [0.000, 635.200], loss: 666.644897, mean_absolute_error: 9.996225, mean_q: -6.195849\n",
            " 16884/100000: episode: 84, duration: 0.966s, episode steps: 201, steps per second: 208, episode reward: -683.400, mean reward: -3.400 [-341.700, 127.200], mean action: 3.836 [0.000, 10.000], mean observation: 25.376 [0.000, 539.700], loss: 499.338684, mean_absolute_error: 9.735515, mean_q: -6.294416\n",
            " 17085/100000: episode: 85, duration: 0.929s, episode steps: 201, steps per second: 216, episode reward: 237.200, mean reward: 1.180 [-10.000, 478.800], mean action: 3.284 [0.000, 10.000], mean observation: 29.746 [0.000, 783.900], loss: 769.127625, mean_absolute_error: 10.008203, mean_q: -6.542050\n",
            " 17286/100000: episode: 86, duration: 0.946s, episode steps: 201, steps per second: 213, episode reward: -799.800, mean reward: -3.979 [-399.900, 54.400], mean action: 3.040 [0.000, 10.000], mean observation: 26.077 [0.000, 448.400], loss: 910.725098, mean_absolute_error: 10.429797, mean_q: -6.782304\n",
            " 17487/100000: episode: 87, duration: 0.909s, episode steps: 201, steps per second: 221, episode reward: -427.200, mean reward: -2.125 [-213.600, 151.200], mean action: 2.985 [0.000, 10.000], mean observation: 29.170 [0.000, 437.200], loss: 427.770691, mean_absolute_error: 10.522291, mean_q: -6.811947\n",
            " 17688/100000: episode: 88, duration: 0.872s, episode steps: 201, steps per second: 230, episode reward: -1024.200, mean reward: -5.096 [-512.100, 13.200], mean action: 2.721 [0.000, 10.000], mean observation: 27.219 [0.000, 560.200], loss: 843.898621, mean_absolute_error: 10.486279, mean_q: -6.858017\n",
            " 17889/100000: episode: 89, duration: 0.878s, episode steps: 201, steps per second: 229, episode reward: 273.600, mean reward: 1.361 [-10.000, 157.500], mean action: 2.582 [0.000, 10.000], mean observation: 30.730 [0.000, 545.700], loss: 520.148499, mean_absolute_error: 10.397517, mean_q: -7.154958\n",
            " 18090/100000: episode: 90, duration: 0.908s, episode steps: 201, steps per second: 221, episode reward: -337.600, mean reward: -1.680 [-168.800, 263.400], mean action: 2.448 [0.000, 10.000], mean observation: 25.306 [0.000, 377.500], loss: 910.213745, mean_absolute_error: 11.310499, mean_q: -7.793691\n",
            " 18291/100000: episode: 91, duration: 0.904s, episode steps: 201, steps per second: 222, episode reward: -438.600, mean reward: -2.182 [-219.300, 156.200], mean action: 2.627 [0.000, 10.000], mean observation: 28.569 [0.000, 998.600], loss: 729.308838, mean_absolute_error: 11.616680, mean_q: -8.280357\n",
            " 18492/100000: episode: 92, duration: 0.904s, episode steps: 201, steps per second: 222, episode reward: -492.800, mean reward: -2.452 [-246.400, 212.200], mean action: 2.891 [0.000, 10.000], mean observation: 28.081 [0.000, 944.500], loss: 628.121216, mean_absolute_error: 12.661835, mean_q: -9.169451\n",
            " 18693/100000: episode: 93, duration: 0.926s, episode steps: 201, steps per second: 217, episode reward: -349.600, mean reward: -1.739 [-174.800, 180.000], mean action: 2.279 [0.000, 10.000], mean observation: 28.277 [0.000, 583.600], loss: 513.111084, mean_absolute_error: 13.116681, mean_q: -9.587191\n",
            " 18894/100000: episode: 94, duration: 0.941s, episode steps: 201, steps per second: 214, episode reward: -616.800, mean reward: -3.069 [-308.400, 132.000], mean action: 2.736 [0.000, 10.000], mean observation: 26.500 [0.000, 599.500], loss: 858.509766, mean_absolute_error: 12.553852, mean_q: -9.141072\n",
            " 19095/100000: episode: 95, duration: 0.940s, episode steps: 201, steps per second: 214, episode reward: -660.600, mean reward: -3.287 [-330.300, 215.400], mean action: 3.343 [0.000, 10.000], mean observation: 24.497 [0.000, 611.700], loss: 551.926636, mean_absolute_error: 12.283572, mean_q: -8.975887\n",
            " 19296/100000: episode: 96, duration: 0.972s, episode steps: 201, steps per second: 207, episode reward: -917.600, mean reward: -4.565 [-458.800, 52.200], mean action: 3.040 [0.000, 10.000], mean observation: 23.776 [0.000, 550.500], loss: 473.814453, mean_absolute_error: 12.911976, mean_q: -9.684337\n",
            " 19497/100000: episode: 97, duration: 0.925s, episode steps: 201, steps per second: 217, episode reward: 9.600, mean reward: 0.048 [-10.000, 152.400], mean action: 2.443 [0.000, 10.000], mean observation: 27.920 [0.000, 645.100], loss: 460.465240, mean_absolute_error: 14.305350, mean_q: -10.786900\n",
            " 19698/100000: episode: 98, duration: 0.943s, episode steps: 201, steps per second: 213, episode reward: -397.800, mean reward: -1.979 [-198.900, 169.600], mean action: 2.483 [0.000, 10.000], mean observation: 27.051 [0.000, 432.100], loss: 481.611694, mean_absolute_error: 14.512568, mean_q: -11.055770\n",
            " 19899/100000: episode: 99, duration: 1.017s, episode steps: 201, steps per second: 198, episode reward: 37.000, mean reward: 0.184 [-10.000, 217.000], mean action: 3.095 [0.000, 10.000], mean observation: 27.998 [0.000, 429.500], loss: 518.876892, mean_absolute_error: 14.013477, mean_q: -10.849258\n",
            " 20100/100000: episode: 100, duration: 0.982s, episode steps: 201, steps per second: 205, episode reward: -110.000, mean reward: -0.547 [-55.000, 213.600], mean action: 2.333 [0.000, 10.000], mean observation: 25.720 [0.000, 488.400], loss: 616.173462, mean_absolute_error: 15.262411, mean_q: -11.873528\n",
            " 20301/100000: episode: 101, duration: 0.955s, episode steps: 201, steps per second: 211, episode reward: -437.600, mean reward: -2.177 [-218.800, 104.800], mean action: 2.577 [0.000, 10.000], mean observation: 27.421 [0.000, 488.800], loss: 510.452362, mean_absolute_error: 15.978071, mean_q: -12.643008\n",
            " 20502/100000: episode: 102, duration: 0.908s, episode steps: 201, steps per second: 221, episode reward: -251.600, mean reward: -1.252 [-125.800, 92.000], mean action: 1.886 [0.000, 10.000], mean observation: 28.131 [0.000, 674.300], loss: 570.831604, mean_absolute_error: 17.650318, mean_q: -13.628673\n",
            " 20703/100000: episode: 103, duration: 0.897s, episode steps: 201, steps per second: 224, episode reward: -405.000, mean reward: -2.015 [-202.500, 92.000], mean action: 2.109 [0.000, 10.000], mean observation: 25.059 [0.000, 391.500], loss: 373.347778, mean_absolute_error: 16.370031, mean_q: -12.708612\n",
            " 20904/100000: episode: 104, duration: 0.921s, episode steps: 201, steps per second: 218, episode reward: -639.600, mean reward: -3.182 [-319.800, 26.000], mean action: 1.945 [0.000, 9.000], mean observation: 26.002 [0.000, 472.500], loss: 586.312439, mean_absolute_error: 17.084969, mean_q: -13.147087\n",
            " 21105/100000: episode: 105, duration: 0.916s, episode steps: 201, steps per second: 220, episode reward: -371.600, mean reward: -1.849 [-185.800, 102.200], mean action: 1.965 [0.000, 10.000], mean observation: 25.995 [0.000, 694.500], loss: 517.343201, mean_absolute_error: 16.235435, mean_q: -12.654746\n",
            " 21306/100000: episode: 106, duration: 0.917s, episode steps: 201, steps per second: 219, episode reward: -571.800, mean reward: -2.845 [-285.900, 29.200], mean action: 2.159 [0.000, 8.000], mean observation: 26.995 [0.000, 584.900], loss: 596.339233, mean_absolute_error: 15.623944, mean_q: -12.175649\n",
            " 21507/100000: episode: 107, duration: 0.889s, episode steps: 201, steps per second: 226, episode reward: -617.600, mean reward: -3.073 [-308.800, 141.300], mean action: 2.896 [0.000, 9.000], mean observation: 28.986 [0.000, 449.200], loss: 1271.174194, mean_absolute_error: 15.247604, mean_q: -11.936094\n",
            " 21708/100000: episode: 108, duration: 0.902s, episode steps: 201, steps per second: 223, episode reward: -1100.400, mean reward: -5.475 [-550.200, 62.000], mean action: 3.821 [0.000, 10.000], mean observation: 24.570 [0.000, 459.800], loss: 797.771118, mean_absolute_error: 13.965865, mean_q: -10.953521\n",
            " 21909/100000: episode: 109, duration: 0.942s, episode steps: 201, steps per second: 213, episode reward: -582.600, mean reward: -2.899 [-291.300, 208.000], mean action: 3.463 [0.000, 10.000], mean observation: 23.700 [0.000, 647.900], loss: 525.380310, mean_absolute_error: 15.364652, mean_q: -12.212195\n",
            " 22110/100000: episode: 110, duration: 0.936s, episode steps: 201, steps per second: 215, episode reward: -930.200, mean reward: -4.628 [-465.100, 95.000], mean action: 3.423 [0.000, 10.000], mean observation: 26.911 [0.000, 487.400], loss: 720.964539, mean_absolute_error: 15.690842, mean_q: -12.082999\n",
            " 22311/100000: episode: 111, duration: 0.909s, episode steps: 201, steps per second: 221, episode reward: -877.400, mean reward: -4.365 [-438.700, 32.000], mean action: 2.781 [0.000, 10.000], mean observation: 28.268 [0.000, 575.700], loss: 704.941528, mean_absolute_error: 14.320662, mean_q: -10.869847\n",
            " 22512/100000: episode: 112, duration: 0.889s, episode steps: 201, steps per second: 226, episode reward: -334.200, mean reward: -1.663 [-167.100, 157.600], mean action: 2.199 [0.000, 10.000], mean observation: 28.917 [0.000, 758.600], loss: 817.228394, mean_absolute_error: 15.323665, mean_q: -11.640231\n",
            " 22713/100000: episode: 113, duration: 0.916s, episode steps: 201, steps per second: 219, episode reward: -826.400, mean reward: -4.111 [-413.200, 23.400], mean action: 2.517 [0.000, 10.000], mean observation: 25.407 [0.000, 651.100], loss: 389.080200, mean_absolute_error: 15.762151, mean_q: -12.153485\n",
            " 22914/100000: episode: 114, duration: 0.981s, episode steps: 201, steps per second: 205, episode reward: -47.200, mean reward: -0.235 [-23.600, 255.600], mean action: 2.448 [0.000, 10.000], mean observation: 26.159 [0.000, 427.400], loss: 351.864502, mean_absolute_error: 15.419194, mean_q: -11.956676\n",
            " 23115/100000: episode: 115, duration: 0.944s, episode steps: 201, steps per second: 213, episode reward: 319.200, mean reward: 1.588 [-10.000, 184.200], mean action: 2.697 [0.000, 10.000], mean observation: 28.972 [0.000, 569.900], loss: 341.003723, mean_absolute_error: 15.914738, mean_q: -12.313299\n",
            " 23316/100000: episode: 116, duration: 0.938s, episode steps: 201, steps per second: 214, episode reward: 1595.400, mean reward: 7.937 [-9.000, 1108.800], mean action: 2.393 [0.000, 9.000], mean observation: 26.305 [0.000, 408.500], loss: 589.610779, mean_absolute_error: 16.472263, mean_q: -12.678089\n",
            " 23517/100000: episode: 117, duration: 0.926s, episode steps: 201, steps per second: 217, episode reward: -658.200, mean reward: -3.275 [-329.100, 100.200], mean action: 2.876 [0.000, 10.000], mean observation: 29.318 [0.000, 537.600], loss: 417.659912, mean_absolute_error: 15.328375, mean_q: -11.702517\n",
            " 23718/100000: episode: 118, duration: 0.884s, episode steps: 201, steps per second: 227, episode reward: -425.200, mean reward: -2.115 [-212.600, 60.000], mean action: 2.413 [0.000, 10.000], mean observation: 28.263 [0.000, 489.400], loss: 317.855896, mean_absolute_error: 16.975613, mean_q: -13.642520\n",
            " 23919/100000: episode: 119, duration: 0.904s, episode steps: 201, steps per second: 222, episode reward: -506.600, mean reward: -2.520 [-253.300, 44.600], mean action: 1.846 [0.000, 9.000], mean observation: 27.119 [0.000, 553.300], loss: 575.484436, mean_absolute_error: 17.568983, mean_q: -13.570867\n",
            " 24120/100000: episode: 120, duration: 0.948s, episode steps: 201, steps per second: 212, episode reward: 113.800, mean reward: 0.566 [-10.000, 427.200], mean action: 2.199 [0.000, 10.000], mean observation: 24.124 [0.000, 535.800], loss: 319.975830, mean_absolute_error: 16.519814, mean_q: -12.912612\n",
            " 24321/100000: episode: 121, duration: 1.020s, episode steps: 201, steps per second: 197, episode reward: -463.600, mean reward: -2.306 [-231.800, 137.600], mean action: 2.851 [0.000, 10.000], mean observation: 27.661 [0.000, 870.400], loss: 781.514771, mean_absolute_error: 15.299897, mean_q: -11.939345\n",
            " 24522/100000: episode: 122, duration: 0.886s, episode steps: 201, steps per second: 227, episode reward: -756.400, mean reward: -3.763 [-378.200, 60.600], mean action: 2.876 [0.000, 10.000], mean observation: 26.288 [0.000, 513.800], loss: 438.555298, mean_absolute_error: 15.611643, mean_q: -12.341156\n",
            " 24723/100000: episode: 123, duration: 0.896s, episode steps: 201, steps per second: 224, episode reward: 24.600, mean reward: 0.122 [-10.000, 87.200], mean action: 1.697 [0.000, 10.000], mean observation: 29.927 [0.000, 900.900], loss: 435.080231, mean_absolute_error: 17.418375, mean_q: -13.302041\n",
            " 24924/100000: episode: 124, duration: 0.949s, episode steps: 201, steps per second: 212, episode reward: -355.400, mean reward: -1.768 [-177.700, 94.800], mean action: 1.915 [0.000, 10.000], mean observation: 28.314 [0.000, 690.700], loss: 471.150269, mean_absolute_error: 16.681749, mean_q: -12.936152\n",
            " 25125/100000: episode: 125, duration: 0.987s, episode steps: 201, steps per second: 204, episode reward: -444.000, mean reward: -2.209 [-222.000, 46.500], mean action: 1.741 [0.000, 9.000], mean observation: 28.072 [0.000, 726.800], loss: 614.980652, mean_absolute_error: 16.053917, mean_q: -12.655821\n",
            " 25326/100000: episode: 126, duration: 0.890s, episode steps: 201, steps per second: 226, episode reward: 511.400, mean reward: 2.544 [-10.000, 370.200], mean action: 2.871 [0.000, 10.000], mean observation: 28.405 [0.000, 642.900], loss: 561.355774, mean_absolute_error: 15.928876, mean_q: -12.964455\n",
            " 25527/100000: episode: 127, duration: 0.903s, episode steps: 201, steps per second: 223, episode reward: -311.600, mean reward: -1.550 [-155.800, 79.200], mean action: 2.642 [0.000, 8.000], mean observation: 25.951 [0.000, 535.300], loss: 379.478790, mean_absolute_error: 17.080849, mean_q: -14.075994\n",
            " 25728/100000: episode: 128, duration: 0.926s, episode steps: 201, steps per second: 217, episode reward: 48.200, mean reward: 0.240 [-10.000, 197.700], mean action: 2.498 [0.000, 10.000], mean observation: 23.746 [0.000, 597.400], loss: 529.527222, mean_absolute_error: 17.722263, mean_q: -14.642303\n",
            " 25929/100000: episode: 129, duration: 0.904s, episode steps: 201, steps per second: 222, episode reward: -270.600, mean reward: -1.346 [-135.300, 154.400], mean action: 2.711 [0.000, 10.000], mean observation: 27.929 [0.000, 542.600], loss: 356.506927, mean_absolute_error: 17.963762, mean_q: -15.272629\n",
            " 26130/100000: episode: 130, duration: 0.899s, episode steps: 201, steps per second: 224, episode reward: -812.800, mean reward: -4.044 [-406.400, 28.800], mean action: 2.682 [0.000, 10.000], mean observation: 25.997 [0.000, 386.700], loss: 291.805054, mean_absolute_error: 18.833675, mean_q: -16.150660\n",
            " 26331/100000: episode: 131, duration: 0.884s, episode steps: 201, steps per second: 227, episode reward: 404.000, mean reward: 2.010 [-10.000, 435.900], mean action: 2.020 [0.000, 10.000], mean observation: 30.369 [0.000, 553.100], loss: 332.591431, mean_absolute_error: 18.982836, mean_q: -16.091885\n",
            " 26532/100000: episode: 132, duration: 0.945s, episode steps: 201, steps per second: 213, episode reward: -682.400, mean reward: -3.395 [-341.200, 54.000], mean action: 2.960 [0.000, 10.000], mean observation: 24.619 [0.000, 485.200], loss: 772.695923, mean_absolute_error: 18.623705, mean_q: -15.762042\n",
            " 26733/100000: episode: 133, duration: 0.906s, episode steps: 201, steps per second: 222, episode reward: -575.600, mean reward: -2.864 [-287.800, 69.600], mean action: 3.373 [0.000, 10.000], mean observation: 31.147 [0.000, 893.400], loss: 919.298523, mean_absolute_error: 18.245121, mean_q: -14.854398\n",
            " 26934/100000: episode: 134, duration: 0.898s, episode steps: 201, steps per second: 224, episode reward: 929.200, mean reward: 4.623 [-10.000, 847.800], mean action: 3.299 [0.000, 10.000], mean observation: 29.946 [0.000, 511.700], loss: 626.669006, mean_absolute_error: 17.877405, mean_q: -14.744802\n",
            " 27135/100000: episode: 135, duration: 0.880s, episode steps: 201, steps per second: 228, episode reward: 653.200, mean reward: 3.250 [-10.000, 326.600], mean action: 3.294 [0.000, 10.000], mean observation: 23.733 [0.000, 546.200], loss: 469.945160, mean_absolute_error: 18.099503, mean_q: -14.856982\n",
            " 27336/100000: episode: 136, duration: 0.894s, episode steps: 201, steps per second: 225, episode reward: -276.200, mean reward: -1.374 [-138.100, 201.000], mean action: 3.035 [0.000, 10.000], mean observation: 24.594 [0.000, 664.700], loss: 529.028625, mean_absolute_error: 18.072550, mean_q: -14.902677\n",
            " 27537/100000: episode: 137, duration: 0.912s, episode steps: 201, steps per second: 220, episode reward: 361.000, mean reward: 1.796 [-10.000, 507.600], mean action: 3.104 [0.000, 10.000], mean observation: 30.046 [0.000, 646.300], loss: 562.345642, mean_absolute_error: 17.782856, mean_q: -14.516380\n",
            " 27738/100000: episode: 138, duration: 0.931s, episode steps: 201, steps per second: 216, episode reward: -983.000, mean reward: -4.891 [-491.500, 36.200], mean action: 3.289 [0.000, 10.000], mean observation: 25.046 [0.000, 797.900], loss: 366.368622, mean_absolute_error: 17.824913, mean_q: -14.816489\n",
            " 27939/100000: episode: 139, duration: 0.971s, episode steps: 201, steps per second: 207, episode reward: -348.200, mean reward: -1.732 [-174.100, 98.400], mean action: 3.801 [0.000, 10.000], mean observation: 22.268 [0.000, 418.800], loss: 463.697113, mean_absolute_error: 17.941006, mean_q: -15.008566\n",
            " 28140/100000: episode: 140, duration: 0.895s, episode steps: 201, steps per second: 225, episode reward: -206.600, mean reward: -1.028 [-103.300, 402.600], mean action: 3.279 [0.000, 10.000], mean observation: 23.576 [0.000, 567.900], loss: 516.251648, mean_absolute_error: 19.351000, mean_q: -16.265440\n",
            " 28341/100000: episode: 141, duration: 0.904s, episode steps: 201, steps per second: 222, episode reward: -564.800, mean reward: -2.810 [-282.400, 68.000], mean action: 2.711 [0.000, 10.000], mean observation: 27.028 [0.000, 424.000], loss: 334.070129, mean_absolute_error: 20.135670, mean_q: -17.052010\n",
            " 28542/100000: episode: 142, duration: 0.916s, episode steps: 201, steps per second: 220, episode reward: -681.800, mean reward: -3.392 [-340.900, 64.400], mean action: 2.975 [0.000, 10.000], mean observation: 24.119 [0.000, 490.000], loss: 679.204773, mean_absolute_error: 19.491753, mean_q: -16.688887\n",
            " 28743/100000: episode: 143, duration: 0.917s, episode steps: 201, steps per second: 219, episode reward: 781.400, mean reward: 3.888 [-10.000, 543.200], mean action: 3.139 [0.000, 10.000], mean observation: 27.150 [0.000, 557.400], loss: 662.799683, mean_absolute_error: 21.392756, mean_q: -18.367048\n",
            " 28944/100000: episode: 144, duration: 0.897s, episode steps: 201, steps per second: 224, episode reward: -1036.800, mean reward: -5.158 [-518.400, 89.400], mean action: 4.070 [0.000, 10.000], mean observation: 25.760 [0.000, 536.000], loss: 653.813904, mean_absolute_error: 19.905041, mean_q: -16.730946\n",
            " 29145/100000: episode: 145, duration: 0.938s, episode steps: 201, steps per second: 214, episode reward: -129.000, mean reward: -0.642 [-64.500, 280.700], mean action: 4.124 [0.000, 10.000], mean observation: 25.396 [0.000, 528.100], loss: 568.969543, mean_absolute_error: 19.270218, mean_q: -16.108549\n",
            " 29346/100000: episode: 146, duration: 0.911s, episode steps: 201, steps per second: 221, episode reward: -144.400, mean reward: -0.718 [-72.200, 632.400], mean action: 4.095 [0.000, 10.000], mean observation: 25.668 [0.000, 594.700], loss: 720.032043, mean_absolute_error: 18.549580, mean_q: -15.644531\n",
            " 29547/100000: episode: 147, duration: 0.979s, episode steps: 201, steps per second: 205, episode reward: -257.000, mean reward: -1.279 [-128.500, 119.700], mean action: 3.040 [0.000, 10.000], mean observation: 28.171 [0.000, 781.200], loss: 541.800476, mean_absolute_error: 19.522106, mean_q: -16.463261\n",
            " 29748/100000: episode: 148, duration: 0.959s, episode steps: 201, steps per second: 210, episode reward: 386.800, mean reward: 1.924 [-10.000, 265.300], mean action: 2.945 [0.000, 10.000], mean observation: 29.759 [0.000, 592.500], loss: 773.071960, mean_absolute_error: 19.488146, mean_q: -15.877214\n",
            " 29949/100000: episode: 149, duration: 0.934s, episode steps: 201, steps per second: 215, episode reward: 326.600, mean reward: 1.625 [-10.000, 305.400], mean action: 2.781 [0.000, 10.000], mean observation: 25.166 [0.000, 492.500], loss: 493.153076, mean_absolute_error: 19.248327, mean_q: -16.026102\n",
            " 30150/100000: episode: 150, duration: 0.946s, episode steps: 201, steps per second: 212, episode reward: 128.200, mean reward: 0.638 [-10.000, 254.000], mean action: 2.532 [0.000, 10.000], mean observation: 24.620 [0.000, 569.200], loss: 335.284851, mean_absolute_error: 19.060013, mean_q: -15.885442\n",
            " 30351/100000: episode: 151, duration: 0.973s, episode steps: 201, steps per second: 207, episode reward: -455.400, mean reward: -2.266 [-227.700, 86.500], mean action: 2.259 [0.000, 10.000], mean observation: 24.759 [0.000, 403.600], loss: 408.844147, mean_absolute_error: 18.359694, mean_q: -15.106426\n",
            " 30552/100000: episode: 152, duration: 0.918s, episode steps: 201, steps per second: 219, episode reward: -619.000, mean reward: -3.080 [-309.500, 188.000], mean action: 3.025 [0.000, 10.000], mean observation: 28.801 [0.000, 598.700], loss: 665.257568, mean_absolute_error: 17.778299, mean_q: -14.646002\n",
            " 30753/100000: episode: 153, duration: 0.893s, episode steps: 201, steps per second: 225, episode reward: -633.200, mean reward: -3.150 [-316.600, 249.200], mean action: 3.642 [0.000, 10.000], mean observation: 29.540 [0.000, 797.900], loss: 734.377014, mean_absolute_error: 17.195919, mean_q: -14.109409\n",
            " 30954/100000: episode: 154, duration: 0.906s, episode steps: 201, steps per second: 222, episode reward: -1042.200, mean reward: -5.185 [-521.100, 49.000], mean action: 3.652 [0.000, 10.000], mean observation: 25.797 [0.000, 481.200], loss: 509.245789, mean_absolute_error: 16.977417, mean_q: -13.944754\n",
            " 31155/100000: episode: 155, duration: 0.919s, episode steps: 201, steps per second: 219, episode reward: -1164.200, mean reward: -5.792 [-582.100, 43.400], mean action: 3.891 [0.000, 10.000], mean observation: 29.822 [0.000, 728.500], loss: 686.874634, mean_absolute_error: 16.490139, mean_q: -13.074039\n",
            " 31356/100000: episode: 156, duration: 0.908s, episode steps: 201, steps per second: 221, episode reward: -1115.200, mean reward: -5.548 [-557.600, 41.600], mean action: 3.622 [0.000, 10.000], mean observation: 21.192 [0.000, 468.700], loss: 883.052612, mean_absolute_error: 15.324542, mean_q: -12.000590\n",
            " 31557/100000: episode: 157, duration: 0.947s, episode steps: 201, steps per second: 212, episode reward: -1113.200, mean reward: -5.538 [-556.600, 49.200], mean action: 3.527 [0.000, 10.000], mean observation: 27.343 [0.000, 570.800], loss: 536.569946, mean_absolute_error: 15.784709, mean_q: -12.644691\n",
            " 31758/100000: episode: 158, duration: 0.895s, episode steps: 201, steps per second: 225, episode reward: -1090.800, mean reward: -5.427 [-545.400, 64.800], mean action: 3.532 [0.000, 10.000], mean observation: 23.611 [0.000, 618.900], loss: 534.132629, mean_absolute_error: 16.587461, mean_q: -13.646852\n",
            " 31959/100000: episode: 159, duration: 0.927s, episode steps: 201, steps per second: 217, episode reward: -169.400, mean reward: -0.843 [-84.700, 104.300], mean action: 2.030 [0.000, 10.000], mean observation: 27.531 [0.000, 459.900], loss: 415.436554, mean_absolute_error: 17.310493, mean_q: -14.118605\n",
            " 32160/100000: episode: 160, duration: 0.946s, episode steps: 201, steps per second: 213, episode reward: -664.200, mean reward: -3.304 [-332.100, 43.200], mean action: 2.861 [0.000, 10.000], mean observation: 23.764 [0.000, 430.100], loss: 407.117188, mean_absolute_error: 17.930256, mean_q: -14.964134\n",
            " 32361/100000: episode: 161, duration: 0.913s, episode steps: 201, steps per second: 220, episode reward: -697.200, mean reward: -3.469 [-348.600, 81.000], mean action: 2.473 [0.000, 10.000], mean observation: 28.119 [0.000, 509.100], loss: 977.100586, mean_absolute_error: 17.693003, mean_q: -14.654445\n",
            " 32562/100000: episode: 162, duration: 0.908s, episode steps: 201, steps per second: 221, episode reward: -885.800, mean reward: -4.407 [-442.900, 75.200], mean action: 2.871 [0.000, 10.000], mean observation: 29.011 [0.000, 574.800], loss: 438.851715, mean_absolute_error: 17.530106, mean_q: -14.739811\n",
            " 32763/100000: episode: 163, duration: 0.898s, episode steps: 201, steps per second: 224, episode reward: -925.000, mean reward: -4.602 [-462.500, 27.000], mean action: 3.075 [0.000, 10.000], mean observation: 23.422 [0.000, 435.700], loss: 258.769226, mean_absolute_error: 17.561552, mean_q: -14.918568\n",
            " 32964/100000: episode: 164, duration: 0.912s, episode steps: 201, steps per second: 220, episode reward: 923.200, mean reward: 4.593 [-10.000, 505.000], mean action: 3.134 [0.000, 10.000], mean observation: 26.855 [0.000, 450.000], loss: 572.960144, mean_absolute_error: 17.404400, mean_q: -14.795911\n",
            " 33165/100000: episode: 165, duration: 0.953s, episode steps: 201, steps per second: 211, episode reward: 469.800, mean reward: 2.337 [-10.000, 308.400], mean action: 3.274 [0.000, 10.000], mean observation: 27.609 [0.000, 453.500], loss: 400.617706, mean_absolute_error: 17.374989, mean_q: -14.834363\n",
            " 33366/100000: episode: 166, duration: 0.915s, episode steps: 201, steps per second: 220, episode reward: 600.000, mean reward: 2.985 [-10.000, 708.000], mean action: 3.134 [0.000, 10.000], mean observation: 26.892 [0.000, 593.700], loss: 379.483124, mean_absolute_error: 18.663008, mean_q: -15.954821\n",
            " 33567/100000: episode: 167, duration: 0.916s, episode steps: 201, steps per second: 220, episode reward: -358.000, mean reward: -1.781 [-179.000, 203.400], mean action: 2.582 [0.000, 10.000], mean observation: 23.889 [0.000, 667.700], loss: 717.885132, mean_absolute_error: 18.003654, mean_q: -14.849435\n",
            " 33768/100000: episode: 168, duration: 0.907s, episode steps: 201, steps per second: 222, episode reward: -165.400, mean reward: -0.823 [-82.700, 132.300], mean action: 2.642 [0.000, 10.000], mean observation: 28.190 [0.000, 590.700], loss: 445.224030, mean_absolute_error: 18.144106, mean_q: -15.134238\n",
            " 33969/100000: episode: 169, duration: 0.876s, episode steps: 201, steps per second: 229, episode reward: 983.600, mean reward: 4.894 [-10.000, 491.800], mean action: 2.726 [0.000, 10.000], mean observation: 29.077 [0.000, 605.900], loss: 497.820160, mean_absolute_error: 17.461498, mean_q: -14.488277\n",
            " 34170/100000: episode: 170, duration: 0.932s, episode steps: 201, steps per second: 216, episode reward: 985.400, mean reward: 4.902 [-10.000, 492.700], mean action: 2.284 [0.000, 10.000], mean observation: 26.515 [0.000, 507.400], loss: 357.712921, mean_absolute_error: 17.245232, mean_q: -14.478694\n",
            " 34371/100000: episode: 171, duration: 0.886s, episode steps: 201, steps per second: 227, episode reward: -951.400, mean reward: -4.733 [-475.700, 17.000], mean action: 2.796 [0.000, 10.000], mean observation: 26.854 [0.000, 712.700], loss: 416.549896, mean_absolute_error: 17.566799, mean_q: -14.867250\n",
            " 34572/100000: episode: 172, duration: 0.962s, episode steps: 201, steps per second: 209, episode reward: -796.000, mean reward: -3.960 [-398.000, 135.000], mean action: 3.338 [0.000, 10.000], mean observation: 25.476 [0.000, 547.900], loss: 443.000458, mean_absolute_error: 18.259279, mean_q: -15.681503\n",
            " 34773/100000: episode: 173, duration: 0.902s, episode steps: 201, steps per second: 223, episode reward: -1179.600, mean reward: -5.869 [-589.800, 42.700], mean action: 3.572 [0.000, 10.000], mean observation: 24.623 [0.000, 547.900], loss: 953.425842, mean_absolute_error: 16.848883, mean_q: -14.100884\n",
            " 34974/100000: episode: 174, duration: 0.921s, episode steps: 201, steps per second: 218, episode reward: 42.000, mean reward: 0.209 [-10.000, 107.200], mean action: 3.940 [0.000, 10.000], mean observation: 27.425 [0.000, 700.900], loss: 469.425018, mean_absolute_error: 16.799328, mean_q: -13.976643\n",
            " 35175/100000: episode: 175, duration: 0.910s, episode steps: 201, steps per second: 221, episode reward: -1134.000, mean reward: -5.642 [-567.000, 16.800], mean action: 3.318 [0.000, 10.000], mean observation: 26.013 [0.000, 503.000], loss: 436.247467, mean_absolute_error: 16.664793, mean_q: -13.952952\n",
            " 35376/100000: episode: 176, duration: 0.992s, episode steps: 201, steps per second: 203, episode reward: -891.000, mean reward: -4.433 [-445.500, 73.200], mean action: 3.488 [0.000, 10.000], mean observation: 25.430 [0.000, 540.000], loss: 602.975342, mean_absolute_error: 16.409262, mean_q: -13.758425\n",
            " 35577/100000: episode: 177, duration: 0.939s, episode steps: 201, steps per second: 214, episode reward: -1035.400, mean reward: -5.151 [-517.700, 63.700], mean action: 3.408 [0.000, 10.000], mean observation: 30.673 [0.000, 550.300], loss: 372.908203, mean_absolute_error: 17.315393, mean_q: -14.651535\n",
            " 35778/100000: episode: 178, duration: 0.947s, episode steps: 201, steps per second: 212, episode reward: 1056.800, mean reward: 5.258 [-10.000, 821.000], mean action: 3.114 [0.000, 10.000], mean observation: 28.272 [0.000, 593.000], loss: 418.852173, mean_absolute_error: 16.610582, mean_q: -13.314880\n",
            " 35979/100000: episode: 179, duration: 0.912s, episode steps: 201, steps per second: 220, episode reward: -283.400, mean reward: -1.410 [-141.700, 176.100], mean action: 2.836 [0.000, 10.000], mean observation: 25.214 [0.000, 487.200], loss: 744.089111, mean_absolute_error: 16.162609, mean_q: -13.174715\n",
            " 36180/100000: episode: 180, duration: 0.882s, episode steps: 201, steps per second: 228, episode reward: -429.600, mean reward: -2.137 [-214.800, 245.200], mean action: 3.050 [0.000, 10.000], mean observation: 29.964 [0.000, 600.400], loss: 448.909241, mean_absolute_error: 15.420675, mean_q: -12.463494\n",
            " 36381/100000: episode: 181, duration: 0.957s, episode steps: 201, steps per second: 210, episode reward: -683.600, mean reward: -3.401 [-341.800, 33.000], mean action: 2.284 [0.000, 10.000], mean observation: 28.291 [0.000, 650.000], loss: 484.690582, mean_absolute_error: 16.272184, mean_q: -13.195556\n",
            " 36582/100000: episode: 182, duration: 0.909s, episode steps: 201, steps per second: 221, episode reward: 48.600, mean reward: 0.242 [-10.000, 90.000], mean action: 2.294 [0.000, 10.000], mean observation: 27.187 [0.000, 536.800], loss: 301.324951, mean_absolute_error: 16.217510, mean_q: -13.476215\n",
            " 36783/100000: episode: 183, duration: 0.894s, episode steps: 201, steps per second: 225, episode reward: -872.200, mean reward: -4.339 [-436.100, 34.800], mean action: 2.851 [0.000, 10.000], mean observation: 25.838 [0.000, 516.900], loss: 463.494080, mean_absolute_error: 15.673359, mean_q: -12.950475\n",
            " 36984/100000: episode: 184, duration: 0.896s, episode steps: 201, steps per second: 224, episode reward: -194.400, mean reward: -0.967 [-97.200, 235.500], mean action: 2.517 [0.000, 10.000], mean observation: 29.737 [0.000, 509.800], loss: 396.765533, mean_absolute_error: 16.428286, mean_q: -13.581827\n",
            " 37185/100000: episode: 185, duration: 0.882s, episode steps: 201, steps per second: 228, episode reward: 462.200, mean reward: 2.300 [-10.000, 334.500], mean action: 2.701 [0.000, 10.000], mean observation: 25.128 [0.000, 488.700], loss: 676.920227, mean_absolute_error: 15.911571, mean_q: -13.026890\n",
            " 37386/100000: episode: 186, duration: 0.902s, episode steps: 201, steps per second: 223, episode reward: -356.800, mean reward: -1.775 [-178.400, 84.600], mean action: 2.796 [0.000, 10.000], mean observation: 27.077 [0.000, 599.100], loss: 268.807434, mean_absolute_error: 15.638307, mean_q: -13.068603\n",
            " 37587/100000: episode: 187, duration: 0.955s, episode steps: 201, steps per second: 210, episode reward: 99.200, mean reward: 0.494 [-10.000, 406.000], mean action: 2.871 [0.000, 10.000], mean observation: 26.455 [0.000, 545.000], loss: 381.989349, mean_absolute_error: 16.004667, mean_q: -13.366446\n",
            " 37788/100000: episode: 188, duration: 0.934s, episode steps: 201, steps per second: 215, episode reward: -656.200, mean reward: -3.265 [-328.100, 68.300], mean action: 2.920 [0.000, 10.000], mean observation: 25.457 [0.000, 564.400], loss: 443.800598, mean_absolute_error: 16.492128, mean_q: -13.721419\n",
            " 37989/100000: episode: 189, duration: 0.939s, episode steps: 201, steps per second: 214, episode reward: -484.600, mean reward: -2.411 [-242.300, 61.200], mean action: 2.493 [0.000, 10.000], mean observation: 30.769 [0.000, 539.500], loss: 412.219360, mean_absolute_error: 17.620333, mean_q: -14.742185\n",
            " 38190/100000: episode: 190, duration: 0.890s, episode steps: 201, steps per second: 226, episode reward: 248.200, mean reward: 1.235 [-10.000, 225.000], mean action: 2.796 [0.000, 10.000], mean observation: 29.369 [0.000, 580.000], loss: 695.089294, mean_absolute_error: 17.708277, mean_q: -14.980483\n",
            " 38391/100000: episode: 191, duration: 0.894s, episode steps: 201, steps per second: 225, episode reward: -603.000, mean reward: -3.000 [-301.500, 79.800], mean action: 3.000 [0.000, 10.000], mean observation: 27.712 [0.000, 472.600], loss: 305.948456, mean_absolute_error: 17.694969, mean_q: -15.190200\n",
            " 38592/100000: episode: 192, duration: 0.924s, episode steps: 201, steps per second: 218, episode reward: 196.400, mean reward: 0.977 [-10.000, 354.000], mean action: 2.721 [0.000, 10.000], mean observation: 25.561 [0.000, 510.400], loss: 808.570068, mean_absolute_error: 17.405199, mean_q: -14.596779\n",
            " 38793/100000: episode: 193, duration: 0.874s, episode steps: 201, steps per second: 230, episode reward: -497.400, mean reward: -2.475 [-248.700, 211.400], mean action: 3.806 [0.000, 10.000], mean observation: 28.646 [0.000, 726.300], loss: 694.962036, mean_absolute_error: 16.967691, mean_q: -14.144073\n",
            " 38994/100000: episode: 194, duration: 0.936s, episode steps: 201, steps per second: 215, episode reward: -569.200, mean reward: -2.832 [-284.600, 112.200], mean action: 3.557 [0.000, 10.000], mean observation: 25.958 [0.000, 633.100], loss: 493.913239, mean_absolute_error: 15.862906, mean_q: -13.000957\n",
            " 39195/100000: episode: 195, duration: 0.894s, episode steps: 201, steps per second: 225, episode reward: -688.800, mean reward: -3.427 [-344.400, 70.400], mean action: 3.184 [0.000, 10.000], mean observation: 26.916 [0.000, 494.500], loss: 487.062256, mean_absolute_error: 15.425922, mean_q: -13.062544\n",
            " 39396/100000: episode: 196, duration: 0.938s, episode steps: 201, steps per second: 214, episode reward: -468.000, mean reward: -2.328 [-234.000, 102.900], mean action: 3.104 [0.000, 10.000], mean observation: 22.288 [0.000, 537.000], loss: 813.753906, mean_absolute_error: 16.204245, mean_q: -13.386959\n",
            " 39597/100000: episode: 197, duration: 0.924s, episode steps: 201, steps per second: 217, episode reward: -72.200, mean reward: -0.359 [-36.100, 123.000], mean action: 2.801 [0.000, 10.000], mean observation: 26.493 [0.000, 503.500], loss: 266.394501, mean_absolute_error: 16.903379, mean_q: -13.647935\n",
            " 39798/100000: episode: 198, duration: 0.912s, episode steps: 201, steps per second: 221, episode reward: -676.000, mean reward: -3.363 [-338.000, 48.400], mean action: 2.562 [0.000, 8.000], mean observation: 28.122 [0.000, 522.900], loss: 337.414825, mean_absolute_error: 17.156040, mean_q: -13.716599\n",
            " 39999/100000: episode: 199, duration: 0.961s, episode steps: 201, steps per second: 209, episode reward: -488.600, mean reward: -2.431 [-244.300, 116.800], mean action: 2.448 [0.000, 10.000], mean observation: 28.572 [0.000, 518.200], loss: 398.157562, mean_absolute_error: 17.453606, mean_q: -14.651818\n",
            " 40200/100000: episode: 200, duration: 0.876s, episode steps: 201, steps per second: 229, episode reward: -424.200, mean reward: -2.110 [-212.100, 136.200], mean action: 3.095 [0.000, 10.000], mean observation: 26.295 [0.000, 467.600], loss: 717.217041, mean_absolute_error: 17.427786, mean_q: -14.834229\n",
            " 40401/100000: episode: 201, duration: 0.901s, episode steps: 201, steps per second: 223, episode reward: -744.400, mean reward: -3.703 [-372.200, 57.000], mean action: 3.204 [0.000, 10.000], mean observation: 28.261 [0.000, 541.800], loss: 429.840759, mean_absolute_error: 16.547253, mean_q: -13.981863\n",
            " 40602/100000: episode: 202, duration: 0.884s, episode steps: 201, steps per second: 227, episode reward: -838.600, mean reward: -4.172 [-419.300, 97.200], mean action: 3.468 [0.000, 10.000], mean observation: 27.952 [0.000, 663.500], loss: 758.187012, mean_absolute_error: 16.260654, mean_q: -13.711724\n",
            " 40803/100000: episode: 203, duration: 0.885s, episode steps: 201, steps per second: 227, episode reward: -498.400, mean reward: -2.480 [-249.200, 204.400], mean action: 3.577 [0.000, 10.000], mean observation: 28.474 [0.000, 519.600], loss: 776.989746, mean_absolute_error: 15.262210, mean_q: -12.763176\n",
            " 41004/100000: episode: 204, duration: 0.902s, episode steps: 201, steps per second: 223, episode reward: 8.200, mean reward: 0.041 [-10.000, 383.600], mean action: 2.965 [0.000, 10.000], mean observation: 29.544 [0.000, 478.900], loss: 446.953522, mean_absolute_error: 16.731955, mean_q: -14.200771\n",
            " 41205/100000: episode: 205, duration: 0.881s, episode steps: 201, steps per second: 228, episode reward: -308.000, mean reward: -1.532 [-154.000, 103.200], mean action: 2.751 [0.000, 10.000], mean observation: 27.359 [0.000, 448.900], loss: 344.460754, mean_absolute_error: 17.707504, mean_q: -15.143545\n",
            " 41406/100000: episode: 206, duration: 0.900s, episode steps: 201, steps per second: 223, episode reward: -434.400, mean reward: -2.161 [-217.200, 71.400], mean action: 2.672 [0.000, 10.000], mean observation: 25.007 [0.000, 622.900], loss: 501.713165, mean_absolute_error: 18.854837, mean_q: -16.481100\n",
            " 41607/100000: episode: 207, duration: 0.893s, episode steps: 201, steps per second: 225, episode reward: -115.800, mean reward: -0.576 [-57.900, 187.500], mean action: 3.577 [0.000, 10.000], mean observation: 24.527 [0.000, 527.900], loss: 819.480042, mean_absolute_error: 17.695328, mean_q: -15.035647\n",
            " 41808/100000: episode: 208, duration: 0.875s, episode steps: 201, steps per second: 230, episode reward: -891.600, mean reward: -4.436 [-445.800, 28.400], mean action: 2.731 [0.000, 10.000], mean observation: 29.907 [0.000, 708.100], loss: 689.670410, mean_absolute_error: 17.127554, mean_q: -14.173618\n",
            " 42009/100000: episode: 209, duration: 0.874s, episode steps: 201, steps per second: 230, episode reward: -89.400, mean reward: -0.445 [-44.700, 162.000], mean action: 2.796 [0.000, 10.000], mean observation: 27.590 [0.000, 449.100], loss: 364.280426, mean_absolute_error: 17.687931, mean_q: -14.526533\n",
            " 42210/100000: episode: 210, duration: 0.887s, episode steps: 201, steps per second: 227, episode reward: 3.000, mean reward: 0.015 [-10.000, 140.400], mean action: 2.323 [0.000, 10.000], mean observation: 28.957 [0.000, 525.100], loss: 269.477295, mean_absolute_error: 17.560946, mean_q: -14.701564\n",
            " 42411/100000: episode: 211, duration: 0.916s, episode steps: 201, steps per second: 219, episode reward: -362.600, mean reward: -1.804 [-181.300, 104.800], mean action: 2.383 [0.000, 10.000], mean observation: 25.284 [0.000, 596.700], loss: 532.789001, mean_absolute_error: 17.620230, mean_q: -14.833297\n",
            " 42612/100000: episode: 212, duration: 0.890s, episode steps: 201, steps per second: 226, episode reward: -1138.800, mean reward: -5.666 [-569.400, 49.800], mean action: 3.483 [0.000, 10.000], mean observation: 25.423 [0.000, 438.000], loss: 604.667542, mean_absolute_error: 16.706034, mean_q: -13.897012\n",
            " 42813/100000: episode: 213, duration: 0.913s, episode steps: 201, steps per second: 220, episode reward: -1210.600, mean reward: -6.023 [-605.300, 67.200], mean action: 3.900 [0.000, 10.000], mean observation: 27.152 [0.000, 720.900], loss: 849.890381, mean_absolute_error: 15.854665, mean_q: -13.294079\n",
            " 43014/100000: episode: 214, duration: 0.899s, episode steps: 201, steps per second: 224, episode reward: 1147.200, mean reward: 5.707 [-10.000, 573.600], mean action: 3.741 [0.000, 10.000], mean observation: 26.983 [0.000, 571.400], loss: 380.552155, mean_absolute_error: 15.597411, mean_q: -13.212816\n",
            " 43215/100000: episode: 215, duration: 0.938s, episode steps: 201, steps per second: 214, episode reward: -457.400, mean reward: -2.276 [-228.700, 127.800], mean action: 3.219 [0.000, 10.000], mean observation: 25.714 [0.000, 511.200], loss: 330.068756, mean_absolute_error: 16.320328, mean_q: -13.805017\n",
            " 43416/100000: episode: 216, duration: 0.906s, episode steps: 201, steps per second: 222, episode reward: -695.400, mean reward: -3.460 [-347.700, 179.900], mean action: 3.522 [0.000, 10.000], mean observation: 24.241 [0.000, 544.200], loss: 377.382538, mean_absolute_error: 16.810331, mean_q: -14.229138\n",
            " 43617/100000: episode: 217, duration: 0.884s, episode steps: 201, steps per second: 227, episode reward: -193.200, mean reward: -0.961 [-96.600, 128.100], mean action: 2.876 [0.000, 10.000], mean observation: 24.630 [0.000, 526.600], loss: 625.552734, mean_absolute_error: 16.887991, mean_q: -14.148590\n",
            " 43818/100000: episode: 218, duration: 0.883s, episode steps: 201, steps per second: 228, episode reward: 2263.800, mean reward: 11.263 [-10.000, 1133.400], mean action: 3.527 [0.000, 10.000], mean observation: 26.935 [0.000, 552.300], loss: 402.002319, mean_absolute_error: 15.744755, mean_q: -13.279120\n",
            " 44019/100000: episode: 219, duration: 0.911s, episode steps: 201, steps per second: 221, episode reward: -1109.800, mean reward: -5.521 [-554.900, 34.300], mean action: 3.692 [0.000, 10.000], mean observation: 26.663 [0.000, 539.200], loss: 333.286743, mean_absolute_error: 15.905006, mean_q: -13.551194\n",
            " 44220/100000: episode: 220, duration: 0.891s, episode steps: 201, steps per second: 226, episode reward: -1074.800, mean reward: -5.347 [-537.400, 38.800], mean action: 3.423 [0.000, 9.000], mean observation: 28.048 [0.000, 569.200], loss: 514.744995, mean_absolute_error: 15.905416, mean_q: -13.083270\n",
            " 44421/100000: episode: 221, duration: 0.890s, episode steps: 201, steps per second: 226, episode reward: 1874.200, mean reward: 9.324 [-9.000, 1080.600], mean action: 3.443 [0.000, 9.000], mean observation: 26.852 [0.000, 727.300], loss: 460.748566, mean_absolute_error: 15.065143, mean_q: -12.204271\n",
            " 44622/100000: episode: 222, duration: 0.875s, episode steps: 201, steps per second: 230, episode reward: 108.600, mean reward: 0.540 [-10.000, 161.400], mean action: 2.841 [0.000, 10.000], mean observation: 23.738 [0.000, 350.500], loss: 321.813873, mean_absolute_error: 14.849357, mean_q: -11.814028\n",
            " 44823/100000: episode: 223, duration: 0.908s, episode steps: 201, steps per second: 221, episode reward: 918.000, mean reward: 4.567 [-10.000, 459.000], mean action: 2.995 [0.000, 10.000], mean observation: 30.529 [0.000, 565.500], loss: 951.522217, mean_absolute_error: 14.494352, mean_q: -11.465674\n",
            " 45024/100000: episode: 224, duration: 0.914s, episode steps: 201, steps per second: 220, episode reward: -506.000, mean reward: -2.517 [-253.000, 126.000], mean action: 3.308 [0.000, 10.000], mean observation: 26.530 [0.000, 611.900], loss: 825.476624, mean_absolute_error: 13.779096, mean_q: -10.914845\n",
            " 45225/100000: episode: 225, duration: 0.937s, episode steps: 201, steps per second: 215, episode reward: -756.800, mean reward: -3.765 [-378.400, 182.300], mean action: 3.199 [0.000, 10.000], mean observation: 29.215 [0.000, 508.400], loss: 506.539398, mean_absolute_error: 13.792738, mean_q: -11.295831\n",
            " 45426/100000: episode: 226, duration: 0.956s, episode steps: 201, steps per second: 210, episode reward: 953.000, mean reward: 4.741 [-10.000, 476.500], mean action: 3.194 [0.000, 10.000], mean observation: 28.698 [0.000, 611.200], loss: 550.544312, mean_absolute_error: 14.053965, mean_q: -11.584092\n",
            " 45627/100000: episode: 227, duration: 0.872s, episode steps: 201, steps per second: 231, episode reward: -909.600, mean reward: -4.525 [-454.800, 76.800], mean action: 3.448 [0.000, 10.000], mean observation: 28.434 [0.000, 833.100], loss: 725.407471, mean_absolute_error: 14.064937, mean_q: -11.519855\n",
            " 45828/100000: episode: 228, duration: 0.880s, episode steps: 201, steps per second: 228, episode reward: -828.000, mean reward: -4.119 [-414.000, 93.600], mean action: 2.746 [0.000, 10.000], mean observation: 25.041 [0.000, 519.600], loss: 358.749847, mean_absolute_error: 14.117134, mean_q: -11.598394\n",
            " 46029/100000: episode: 229, duration: 0.920s, episode steps: 201, steps per second: 218, episode reward: -993.400, mean reward: -4.942 [-496.700, 16.800], mean action: 3.025 [0.000, 10.000], mean observation: 25.500 [0.000, 563.900], loss: 787.890686, mean_absolute_error: 14.676943, mean_q: -11.983648\n",
            " 46230/100000: episode: 230, duration: 0.914s, episode steps: 201, steps per second: 220, episode reward: -467.600, mean reward: -2.326 [-233.800, 75.400], mean action: 3.348 [0.000, 10.000], mean observation: 27.946 [0.000, 720.900], loss: 609.488037, mean_absolute_error: 14.525454, mean_q: -11.802385\n",
            " 46431/100000: episode: 231, duration: 0.906s, episode steps: 201, steps per second: 222, episode reward: -545.600, mean reward: -2.714 [-272.800, 169.800], mean action: 3.204 [0.000, 10.000], mean observation: 26.558 [0.000, 420.100], loss: 525.668701, mean_absolute_error: 13.604322, mean_q: -10.942050\n",
            " 46632/100000: episode: 232, duration: 0.911s, episode steps: 201, steps per second: 221, episode reward: -224.000, mean reward: -1.114 [-112.000, 183.600], mean action: 2.383 [0.000, 8.000], mean observation: 28.009 [0.000, 771.300], loss: 606.329224, mean_absolute_error: 14.538650, mean_q: -12.102585\n",
            " 46833/100000: episode: 233, duration: 0.945s, episode steps: 201, steps per second: 213, episode reward: -911.600, mean reward: -4.535 [-455.800, 27.400], mean action: 2.950 [0.000, 10.000], mean observation: 27.654 [0.000, 514.000], loss: 370.428986, mean_absolute_error: 14.203196, mean_q: -11.653028\n",
            " 47034/100000: episode: 234, duration: 0.909s, episode steps: 201, steps per second: 221, episode reward: -263.800, mean reward: -1.312 [-131.900, 88.200], mean action: 2.532 [0.000, 9.000], mean observation: 25.714 [0.000, 611.100], loss: 638.742859, mean_absolute_error: 14.721405, mean_q: -12.140338\n",
            " 47235/100000: episode: 235, duration: 0.942s, episode steps: 201, steps per second: 213, episode reward: -606.800, mean reward: -3.019 [-303.400, 75.300], mean action: 3.338 [0.000, 9.000], mean observation: 25.778 [0.000, 463.500], loss: 580.161682, mean_absolute_error: 15.327736, mean_q: -12.287426\n",
            " 47436/100000: episode: 236, duration: 0.936s, episode steps: 201, steps per second: 215, episode reward: -830.600, mean reward: -4.132 [-415.300, 45.600], mean action: 2.900 [0.000, 10.000], mean observation: 25.810 [0.000, 504.500], loss: 666.548279, mean_absolute_error: 14.760409, mean_q: -11.670767\n",
            " 47637/100000: episode: 237, duration: 0.949s, episode steps: 201, steps per second: 212, episode reward: -730.600, mean reward: -3.635 [-365.300, 99.400], mean action: 3.199 [0.000, 10.000], mean observation: 25.761 [0.000, 499.700], loss: 503.018219, mean_absolute_error: 14.535960, mean_q: -11.937642\n",
            " 47838/100000: episode: 238, duration: 0.911s, episode steps: 201, steps per second: 221, episode reward: -174.200, mean reward: -0.867 [-87.100, 173.400], mean action: 3.030 [0.000, 10.000], mean observation: 26.678 [0.000, 468.400], loss: 408.297577, mean_absolute_error: 14.954524, mean_q: -12.495846\n",
            " 48039/100000: episode: 239, duration: 0.962s, episode steps: 201, steps per second: 209, episode reward: -558.000, mean reward: -2.776 [-279.000, 94.400], mean action: 2.945 [0.000, 10.000], mean observation: 29.822 [0.000, 485.500], loss: 802.288818, mean_absolute_error: 15.759642, mean_q: -13.042031\n",
            " 48240/100000: episode: 240, duration: 0.963s, episode steps: 201, steps per second: 209, episode reward: -764.000, mean reward: -3.801 [-382.000, 29.200], mean action: 2.960 [0.000, 10.000], mean observation: 27.744 [0.000, 420.600], loss: 730.139526, mean_absolute_error: 15.843141, mean_q: -13.051075\n",
            " 48441/100000: episode: 241, duration: 0.875s, episode steps: 201, steps per second: 230, episode reward: 657.600, mean reward: 3.272 [-9.000, 571.200], mean action: 3.080 [0.000, 10.000], mean observation: 25.915 [0.000, 503.600], loss: 378.885101, mean_absolute_error: 16.499598, mean_q: -13.936011\n",
            " 48642/100000: episode: 242, duration: 0.983s, episode steps: 201, steps per second: 204, episode reward: 36.800, mean reward: 0.183 [-10.000, 255.600], mean action: 3.199 [0.000, 10.000], mean observation: 26.740 [0.000, 514.900], loss: 680.333435, mean_absolute_error: 16.349300, mean_q: -13.455430\n",
            " 48843/100000: episode: 243, duration: 0.970s, episode steps: 201, steps per second: 207, episode reward: 616.600, mean reward: 3.068 [-10.000, 356.400], mean action: 2.632 [0.000, 10.000], mean observation: 28.445 [0.000, 476.100], loss: 1078.453613, mean_absolute_error: 15.386636, mean_q: -12.304643\n",
            " 49044/100000: episode: 244, duration: 0.914s, episode steps: 201, steps per second: 220, episode reward: -579.800, mean reward: -2.885 [-289.900, 104.000], mean action: 2.433 [0.000, 10.000], mean observation: 25.441 [0.000, 455.600], loss: 774.394775, mean_absolute_error: 15.169565, mean_q: -12.265091\n",
            " 49245/100000: episode: 245, duration: 0.929s, episode steps: 201, steps per second: 216, episode reward: -367.000, mean reward: -1.826 [-183.500, 131.400], mean action: 2.826 [0.000, 10.000], mean observation: 29.475 [0.000, 661.300], loss: 495.183289, mean_absolute_error: 15.224494, mean_q: -12.189359\n",
            " 49446/100000: episode: 246, duration: 0.966s, episode steps: 201, steps per second: 208, episode reward: -587.600, mean reward: -2.923 [-293.800, 76.000], mean action: 2.667 [0.000, 10.000], mean observation: 28.643 [0.000, 722.700], loss: 387.759094, mean_absolute_error: 15.304386, mean_q: -12.403528\n",
            " 49647/100000: episode: 247, duration: 0.985s, episode steps: 201, steps per second: 204, episode reward: 366.200, mean reward: 1.822 [-10.000, 375.900], mean action: 2.876 [0.000, 10.000], mean observation: 26.480 [0.000, 587.100], loss: 633.895874, mean_absolute_error: 15.790408, mean_q: -13.037805\n",
            " 49848/100000: episode: 248, duration: 0.970s, episode steps: 201, steps per second: 207, episode reward: -810.800, mean reward: -4.034 [-405.400, 50.800], mean action: 2.841 [0.000, 10.000], mean observation: 27.591 [0.000, 603.600], loss: 526.983337, mean_absolute_error: 17.292974, mean_q: -14.149599\n",
            " 50049/100000: episode: 249, duration: 0.944s, episode steps: 201, steps per second: 213, episode reward: -10.600, mean reward: -0.053 [-10.000, 288.900], mean action: 2.299 [0.000, 10.000], mean observation: 22.172 [0.000, 434.600], loss: 669.237427, mean_absolute_error: 17.123304, mean_q: -13.776415\n",
            " 50250/100000: episode: 250, duration: 0.891s, episode steps: 201, steps per second: 226, episode reward: 146.800, mean reward: 0.730 [-7.000, 137.900], mean action: 2.139 [0.000, 7.000], mean observation: 28.526 [0.000, 577.800], loss: 294.970428, mean_absolute_error: 17.077057, mean_q: -13.939147\n",
            " 50451/100000: episode: 251, duration: 0.898s, episode steps: 201, steps per second: 224, episode reward: -733.800, mean reward: -3.651 [-366.900, 43.000], mean action: 2.836 [0.000, 10.000], mean observation: 25.311 [0.000, 455.300], loss: 511.458435, mean_absolute_error: 17.283274, mean_q: -14.373566\n",
            " 50652/100000: episode: 252, duration: 0.926s, episode steps: 201, steps per second: 217, episode reward: -797.400, mean reward: -3.967 [-398.700, 76.400], mean action: 3.055 [0.000, 10.000], mean observation: 26.766 [0.000, 496.100], loss: 1272.126831, mean_absolute_error: 17.307171, mean_q: -14.228395\n",
            " 50853/100000: episode: 253, duration: 0.919s, episode steps: 201, steps per second: 219, episode reward: -1027.800, mean reward: -5.113 [-513.900, 108.000], mean action: 3.836 [0.000, 8.000], mean observation: 26.383 [0.000, 601.500], loss: 552.908875, mean_absolute_error: 16.602558, mean_q: -13.077684\n",
            " 51054/100000: episode: 254, duration: 0.891s, episode steps: 201, steps per second: 225, episode reward: -923.800, mean reward: -4.596 [-461.900, 71.400], mean action: 3.478 [0.000, 10.000], mean observation: 25.880 [0.000, 433.600], loss: 544.044006, mean_absolute_error: 16.245626, mean_q: -13.589310\n",
            " 51255/100000: episode: 255, duration: 0.883s, episode steps: 201, steps per second: 228, episode reward: -294.400, mean reward: -1.465 [-147.200, 136.800], mean action: 3.348 [0.000, 10.000], mean observation: 23.836 [0.000, 610.100], loss: 430.312378, mean_absolute_error: 16.654818, mean_q: -14.100698\n",
            " 51456/100000: episode: 256, duration: 0.906s, episode steps: 201, steps per second: 222, episode reward: -464.000, mean reward: -2.308 [-232.000, 175.800], mean action: 3.652 [0.000, 10.000], mean observation: 25.201 [0.000, 504.600], loss: 612.098816, mean_absolute_error: 16.877728, mean_q: -14.321095\n",
            " 51657/100000: episode: 257, duration: 0.884s, episode steps: 201, steps per second: 227, episode reward: -1097.200, mean reward: -5.459 [-548.600, 27.000], mean action: 3.318 [0.000, 10.000], mean observation: 28.479 [0.000, 951.600], loss: 578.170532, mean_absolute_error: 16.301817, mean_q: -13.182506\n",
            " 51858/100000: episode: 258, duration: 0.896s, episode steps: 201, steps per second: 224, episode reward: -1.000, mean reward: -0.005 [-10.000, 159.000], mean action: 3.030 [0.000, 10.000], mean observation: 24.956 [0.000, 532.600], loss: 994.286377, mean_absolute_error: 16.410273, mean_q: -13.039819\n",
            " 52059/100000: episode: 259, duration: 0.901s, episode steps: 201, steps per second: 223, episode reward: 63.000, mean reward: 0.313 [-10.000, 409.800], mean action: 3.229 [0.000, 10.000], mean observation: 24.369 [0.000, 593.600], loss: 746.259888, mean_absolute_error: 16.354134, mean_q: -13.464125\n",
            " 52260/100000: episode: 260, duration: 0.984s, episode steps: 201, steps per second: 204, episode reward: -768.200, mean reward: -3.822 [-384.100, 50.000], mean action: 3.318 [0.000, 10.000], mean observation: 25.315 [0.000, 604.600], loss: 830.371887, mean_absolute_error: 15.762930, mean_q: -12.896707\n",
            " 52461/100000: episode: 261, duration: 0.915s, episode steps: 201, steps per second: 220, episode reward: -850.200, mean reward: -4.230 [-425.100, 97.400], mean action: 3.308 [0.000, 10.000], mean observation: 25.801 [0.000, 560.400], loss: 685.808044, mean_absolute_error: 14.299779, mean_q: -11.297129\n",
            " 52662/100000: episode: 262, duration: 0.882s, episode steps: 201, steps per second: 228, episode reward: -644.800, mean reward: -3.208 [-322.400, 38.000], mean action: 2.861 [0.000, 10.000], mean observation: 30.057 [0.000, 616.900], loss: 368.396362, mean_absolute_error: 14.760959, mean_q: -11.801500\n",
            " 52863/100000: episode: 263, duration: 0.905s, episode steps: 201, steps per second: 222, episode reward: -366.400, mean reward: -1.823 [-183.200, 154.500], mean action: 3.647 [0.000, 10.000], mean observation: 28.390 [0.000, 574.200], loss: 564.153503, mean_absolute_error: 14.271645, mean_q: -11.390999\n",
            " 53064/100000: episode: 264, duration: 0.880s, episode steps: 201, steps per second: 228, episode reward: -179.400, mean reward: -0.893 [-89.700, 182.700], mean action: 3.423 [0.000, 10.000], mean observation: 27.443 [0.000, 417.500], loss: 869.504333, mean_absolute_error: 13.186402, mean_q: -10.311577\n",
            " 53265/100000: episode: 265, duration: 0.906s, episode steps: 201, steps per second: 222, episode reward: -855.600, mean reward: -4.257 [-427.800, 40.400], mean action: 2.776 [0.000, 10.000], mean observation: 28.343 [0.000, 474.200], loss: 294.629364, mean_absolute_error: 13.557484, mean_q: -10.823612\n",
            " 53466/100000: episode: 266, duration: 0.903s, episode steps: 201, steps per second: 223, episode reward: -605.400, mean reward: -3.012 [-302.700, 37.800], mean action: 3.045 [0.000, 10.000], mean observation: 25.783 [0.000, 564.300], loss: 706.136841, mean_absolute_error: 13.343388, mean_q: -10.540275\n",
            " 53667/100000: episode: 267, duration: 0.894s, episode steps: 201, steps per second: 225, episode reward: -1125.600, mean reward: -5.600 [-562.800, 33.200], mean action: 3.219 [0.000, 10.000], mean observation: 28.533 [0.000, 655.600], loss: 724.085815, mean_absolute_error: 13.922417, mean_q: -11.164472\n",
            " 53868/100000: episode: 268, duration: 0.935s, episode steps: 201, steps per second: 215, episode reward: -624.400, mean reward: -3.106 [-312.200, 48.800], mean action: 3.119 [0.000, 10.000], mean observation: 28.295 [0.000, 692.900], loss: 742.040649, mean_absolute_error: 13.915753, mean_q: -11.236453\n"
          ],
          "name": "stdout"
        }
      ]
    },
    {
      "cell_type": "code",
      "metadata": {
        "id": "TAzrMyOTHmxi",
        "colab_type": "code",
        "colab": {}
      },
      "source": [
        "# 学習後のモデルの重みの出力\n",
        "dqn.save_weights(\"h5f/my_dqn_weights_try_modify_reward.h5f\", overwrite=True)\n",
        "\n"
      ],
      "execution_count": 0,
      "outputs": []
    },
    {
      "cell_type": "code",
      "metadata": {
        "id": "58y45XXrVcZl",
        "colab_type": "code",
        "colab": {
          "base_uri": "https://localhost:8080/",
          "height": 296
        },
        "outputId": "7f453acb-7ba7-4943-92cf-943afaf1999a"
      },
      "source": [
        "%matplotlib inline\n",
        "import matplotlib.pyplot as plt\n",
        "\n",
        "for obs in cb_ep.rewards.values():\n",
        "    plt.plot([o for o in obs])\n",
        "plt.xlabel(\"step\")\n",
        "plt.ylabel(\"pos\")"
      ],
      "execution_count": 231,
      "outputs": [
        {
          "output_type": "execute_result",
          "data": {
            "text/plain": [
              "Text(0, 0.5, 'pos')"
            ]
          },
          "metadata": {
            "tags": []
          },
          "execution_count": 231
        },
        {
          "output_type": "display_data",
          "data": {
            "image/png": "[encoded data removed]",
            "text/plain": [
              "<Figure size 432x288 with 1 Axes>"
            ]
          },
          "metadata": {
            "tags": [],
            "needs_background": "light"
          }
        }
      ]
    },
    {
      "cell_type": "code",
      "metadata": {
        "id": "2uorHBKYVHaS",
        "colab_type": "code",
        "colab": {}
      },
      "source": [
        "# dqn.load_weights(\"h5f/my_dqn_weights_try_modify_reward.h5f\")\n"
      ],
      "execution_count": 0,
      "outputs": []
    },
    {
      "cell_type": "code",
      "metadata": {
        "id": "vHT0OfELHqrk",
        "colab_type": "code",
        "outputId": "4348f3ff-518f-4b4a-bac5-4b20baeb0201",
        "colab": {
          "base_uri": "https://localhost:8080/",
          "height": 391
        }
      },
      "source": [
        "# 学習済モデルに対して、テストを実行 （必要に応じて適切なCallbackも定義、設定可能）\n",
        "dqn.test(env, nb_episodes=20, visualize=False, callbacks=[cb_ep])"
      ],
      "execution_count": 220,
      "outputs": [
        {
          "output_type": "stream",
          "text": [
            "Testing for 20 episodes ...\n",
            "Episode 1: reward: -589.800, steps: 201\n",
            "Episode 2: reward: -583.400, steps: 201\n",
            "Episode 3: reward: -998.800, steps: 201\n",
            "Episode 4: reward: -518.800, steps: 201\n",
            "Episode 5: reward: -371.400, steps: 201\n",
            "Episode 6: reward: -515.800, steps: 201\n",
            "Episode 7: reward: -0.200, steps: 201\n",
            "Episode 8: reward: 551.200, steps: 201\n",
            "Episode 9: reward: 1684.000, steps: 201\n",
            "Episode 10: reward: -522.400, steps: 201\n",
            "Episode 11: reward: -707.000, steps: 201\n",
            "Episode 12: reward: -133.400, steps: 201\n",
            "Episode 13: reward: 1201.600, steps: 201\n",
            "Episode 14: reward: -814.600, steps: 201\n",
            "Episode 15: reward: -758.000, steps: 201\n",
            "Episode 16: reward: -597.000, steps: 201\n",
            "Episode 17: reward: -646.000, steps: 201\n",
            "Episode 18: reward: -8.000, steps: 201\n",
            "Episode 19: reward: -607.000, steps: 201\n",
            "Episode 20: reward: 1123.800, steps: 201\n"
          ],
          "name": "stdout"
        },
        {
          "output_type": "execute_result",
          "data": {
            "text/plain": [
              "<keras.callbacks.History at 0x7fefb96c85c0>"
            ]
          },
          "metadata": {
            "tags": []
          },
          "execution_count": 220
        }
      ]
    },
    {
      "cell_type": "code",
      "metadata": {
        "id": "E-A5ApZnHvx5",
        "colab_type": "code",
        "outputId": "5fdf1d37-e038-4350-ff55-aa50531b8102",
        "colab": {
          "base_uri": "https://localhost:8080/",
          "height": 296
        }
      },
      "source": [
        "%matplotlib inline\n",
        "import matplotlib.pyplot as plt\n",
        "\n",
        "for obs in cb_ep.observations.values():\n",
        "    plt.plot([o for o in obs])\n",
        "plt.xlabel(\"step\")\n",
        "plt.ylabel(\"pos\")"
      ],
      "execution_count": 221,
      "outputs": [
        {
          "output_type": "execute_result",
          "data": {
            "text/plain": [
              "Text(0, 0.5, 'pos')"
            ]
          },
          "metadata": {
            "tags": []
          },
          "execution_count": 221
        },
        {
          "output_type": "display_data",
          "data": {
            "image/png": "[encoded data removed]",
            "text/plain": [
              "<Figure size 432x288 with 1 Axes>"
            ]
          },
          "metadata": {
            "tags": [],
            "needs_background": "light"
          }
        }
      ]
    },
    {
      "cell_type": "code",
      "metadata": {
        "id": "J6kBmjN9TvYL",
        "colab_type": "code",
        "outputId": "cac6a0c8-6eaf-4a14-80b3-e16ef1fbc8fc",
        "colab": {
          "base_uri": "https://localhost:8080/",
          "height": 54
        }
      },
      "source": [
        "print(cb_ep.actions[0])"
      ],
      "execution_count": 222,
      "outputs": [
        {
          "output_type": "stream",
          "text": [
            "[2, 2, 2, 2, 1, 8, 3, 9, 2, 2, 3, 9, 1, 2, 8, 6, 0, 0, 6, 9, 0, 2, 9, 2, 9, 3, 3, 1, 0, 6, 2, 2, 0, 2, 1, 1, 0, 3, 0, 0, 9, 0, 2, 6, 3, 6, 9, 1, 0, 6, 1, 1, 2, 6, 1, 0, 2, 3, 0, 3, 9, 0, 0, 9, 0, 6, 0, 9, 9, 2, 2, 6, 0, 9, 2, 1, 2, 8, 6, 0, 1, 2, 9, 2, 2, 3, 6, 2, 0, 0, 3, 6, 1, 1, 9, 1, 2, 0, 2, 3, 2, 0, 2, 2, 9, 0, 0, 2, 0, 3, 8, 0, 9, 0, 9, 3, 0, 6, 8, 0, 0, 2, 8, 9, 6, 0, 2, 6, 2, 2, 0, 0, 2, 0, 2, 2, 2, 3, 6, 0, 0, 2, 2, 0, 0, 6, 1, 3, 9, 2, 0, 9, 1, 2, 0, 0, 2, 1, 2, 2, 2, 0, 3, 9, 3, 1, 0, 1, 1, 2, 9, 9, 1, 6, 0, 2, 6, 9, 2, 3, 8, 3, 2, 10, 2, 0, 0, 2, 9, 2, 2, 0, 2, 2, 8, 0, 2, 0, 3, 1, 0]\n"
          ],
          "name": "stdout"
        }
      ]
    },
    {
      "cell_type": "code",
      "metadata": {
        "id": "j5l3xRXuTzjx",
        "colab_type": "code",
        "colab": {}
      },
      "source": [
        "a  = np.array([1,2,3])\n",
        "b = np.array([4,5,6])"
      ],
      "execution_count": 0,
      "outputs": []
    },
    {
      "cell_type": "code",
      "metadata": {
        "id": "GX9lQdr8mLk_",
        "colab_type": "code",
        "outputId": "1c8690f4-70e9-4a9f-f6c8-795635db852a",
        "colab": {
          "base_uri": "https://localhost:8080/",
          "height": 34
        }
      },
      "source": [
        "np.concatenate([[1],b])"
      ],
      "execution_count": 224,
      "outputs": [
        {
          "output_type": "execute_result",
          "data": {
            "text/plain": [
              "array([1, 4, 5, 6])"
            ]
          },
          "metadata": {
            "tags": []
          },
          "execution_count": 224
        }
      ]
    },
    {
      "cell_type": "code",
      "metadata": {
        "id": "AybG9q1OtZst",
        "colab_type": "code",
        "colab": {}
      },
      "source": [
        ""
      ],
      "execution_count": 0,
      "outputs": []
    }
  ]
}