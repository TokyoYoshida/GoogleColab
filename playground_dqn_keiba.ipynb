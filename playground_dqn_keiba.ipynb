{
  "nbformat": 4,
  "nbformat_minor": 0,
  "metadata": {
    "colab": {
      "name": "playground_dqn_keiba",
      "provenance": [],
      "collapsed_sections": [],
      "include_colab_link": true
    },
    "kernelspec": {
      "name": "python3",
      "display_name": "Python 3"
    },
    "accelerator": "TPU"
  },
  "cells": [
    {
      "cell_type": "markdown",
      "metadata": {
        "id": "view-in-github",
        "colab_type": "text"
      },
      "source": [
        "<a href=\"https://colab.research.google.com/github/TokyoYoshida/GoogleColab/blob/master/playground_dqn_keiba.ipynb\" target=\"_parent\"><img src=\"https://colab.research.google.com/assets/colab-badge.svg\" alt=\"Open In Colab\"/></a>"
      ]
    },
    {
      "cell_type": "code",
      "metadata": {
        "id": "UXxOmD7gDtxX",
        "colab_type": "code",
        "outputId": "512a1b24-c6f9-4f1c-c11d-450d76d2ce89",
        "colab": {
          "base_uri": "https://localhost:8080/",
          "height": 34
        }
      },
      "source": [
        "from google.colab import drive\n",
        "drive.mount('/content/drive')\n",
        "# 必要ならば以下のようにディレクトリ移動する\n",
        " "
      ],
      "execution_count": 2,
      "outputs": [
        {
          "output_type": "stream",
          "text": [
            "Drive already mounted at /content/drive; to attempt to forcibly remount, call drive.mount(\"/content/drive\", force_remount=True).\n"
          ],
          "name": "stdout"
        }
      ]
    },
    {
      "cell_type": "code",
      "metadata": {
        "id": "FB5kzWFnDvLF",
        "colab_type": "code",
        "outputId": "6bc528b3-87f7-4409-fa97-00a0958e0bb0",
        "colab": {
          "base_uri": "https://localhost:8080/",
          "height": 34
        }
      },
      "source": [
        "%cd /content/drive/'My Drive'/'★個人専用ファイル'/'開発用・個人サービス開発'/'GoogleColab'/"
      ],
      "execution_count": 3,
      "outputs": [
        {
          "output_type": "stream",
          "text": [
            "/content/drive/My Drive/★個人専用ファイル/開発用・個人サービス開発/GoogleColab\n"
          ],
          "name": "stdout"
        }
      ]
    },
    {
      "cell_type": "code",
      "metadata": {
        "id": "7tT1SbekEPKY",
        "colab_type": "code",
        "outputId": "bab7de59-4d16-432f-dc65-c4b854be874f",
        "colab": {
          "base_uri": "https://localhost:8080/",
          "height": 255
        }
      },
      "source": [
        "%ls\n"
      ],
      "execution_count": 4,
      "outputs": [
        {
          "output_type": "stream",
          "text": [
            "\u001b[0m\u001b[01;34mdata\u001b[0m/\n",
            "duel_dqn_Pendulum-v0_weights.h5f\n",
            "\u001b[01;34mh5f\u001b[0m/\n",
            "model.txt\n",
            "playground_dqn_keiba\n",
            "playground_dqn_keiba_try_layer_add_depth\n",
            "playground_dqn_keiba_try_long_term_reward\n",
            "playground_dqn_keiba_try_simple\n",
            "playground_dqn_keiba_try_simple2\n",
            "playground_dqn_keiba_try_simple_x_1\n",
            "playground_dqn_study.ipynb\n",
            "playground_dqn_study_my_try.ipynb\n",
            "playground_dqn_study_my_try_modify_reward\n",
            "playground.ipynb\n"
          ],
          "name": "stdout"
        }
      ]
    },
    {
      "cell_type": "code",
      "metadata": {
        "id": "0oeldNv7-4ch",
        "colab_type": "code",
        "colab": {}
      },
      "source": [
        "import pandas as pd"
      ],
      "execution_count": 0,
      "outputs": []
    },
    {
      "cell_type": "code",
      "metadata": {
        "id": "zdsoSSOZZo9D",
        "colab_type": "code",
        "colab": {}
      },
      "source": [
        "import numpy as np"
      ],
      "execution_count": 0,
      "outputs": []
    },
    {
      "cell_type": "code",
      "metadata": {
        "id": "k9aBWsjhDpQp",
        "colab_type": "code",
        "colab": {}
      },
      "source": [
        "# 競馬データの作成"
      ],
      "execution_count": 0,
      "outputs": []
    },
    {
      "cell_type": "code",
      "metadata": {
        "id": "HIWclTGw-4nE",
        "colab_type": "code",
        "colab": {}
      },
      "source": [
        "ldat = pd.read_pickle(\"./data/keiba_dat_res_20190611_sorted.pkl\")"
      ],
      "execution_count": 0,
      "outputs": []
    },
    {
      "cell_type": "code",
      "metadata": {
        "id": "RPxKeoI6z0--",
        "colab_type": "code",
        "outputId": "c5f802f9-3599-4b0d-dd74-ef1e2aba6375",
        "colab": {
          "base_uri": "https://localhost:8080/",
          "height": 439
        }
      },
      "source": [
        "ldat"
      ],
      "execution_count": 9,
      "outputs": [
        {
          "output_type": "execute_result",
          "data": {
            "text/html": [
              "<div>\n",
              "<style scoped>\n",
              "    .dataframe tbody tr th:only-of-type {\n",
              "        vertical-align: middle;\n",
              "    }\n",
              "\n",
              "    .dataframe tbody tr th {\n",
              "        vertical-align: top;\n",
              "    }\n",
              "\n",
              "    .dataframe thead th {\n",
              "        text-align: right;\n",
              "    }\n",
              "</style>\n",
              "<table border=\"1\" class=\"dataframe\">\n",
              "  <thead>\n",
              "    <tr style=\"text-align: right;\">\n",
              "      <th></th>\n",
              "      <th>rank</th>\n",
              "      <th>frame_num</th>\n",
              "      <th>horse_num</th>\n",
              "      <th>name</th>\n",
              "      <th>sex</th>\n",
              "      <th>age</th>\n",
              "      <th>amount</th>\n",
              "      <th>jockey</th>\n",
              "      <th>time</th>\n",
              "      <th>diff_arrival</th>\n",
              "      <th>odds</th>\n",
              "      <th>popularity</th>\n",
              "      <th>weight</th>\n",
              "      <th>diff_weight</th>\n",
              "      <th>trainer</th>\n",
              "      <th>race_num</th>\n",
              "      <th>grade</th>\n",
              "      <th>ground</th>\n",
              "      <th>direction</th>\n",
              "      <th>unknown</th>\n",
              "      <th>distance</th>\n",
              "      <th>weather</th>\n",
              "      <th>condition</th>\n",
              "      <th>start_time</th>\n",
              "      <th>year</th>\n",
              "      <th>month</th>\n",
              "      <th>day</th>\n",
              "      <th>prev_rank</th>\n",
              "      <th>prev_frame_num</th>\n",
              "      <th>prev_horse_num</th>\n",
              "      <th>prev_name</th>\n",
              "      <th>prev_sex</th>\n",
              "      <th>prev_age</th>\n",
              "      <th>prev_amount</th>\n",
              "      <th>prev_jockey</th>\n",
              "      <th>prev_time</th>\n",
              "      <th>prev_diff_arrival</th>\n",
              "      <th>prev_odds</th>\n",
              "      <th>prev_popularity</th>\n",
              "      <th>prev_weight</th>\n",
              "      <th>prev_diff_weight</th>\n",
              "      <th>prev_trainer</th>\n",
              "      <th>prev_race_num</th>\n",
              "      <th>prev_grade</th>\n",
              "      <th>prev_ground</th>\n",
              "      <th>prev_direction</th>\n",
              "      <th>prev_unknown</th>\n",
              "      <th>prev_distance</th>\n",
              "      <th>prev_weather</th>\n",
              "      <th>prev_condition</th>\n",
              "      <th>prev_start_time</th>\n",
              "      <th>prev_year</th>\n",
              "      <th>prev_month</th>\n",
              "      <th>prev_day</th>\n",
              "      <th>winner</th>\n",
              "      <th>return</th>\n",
              "      <th>prev_time_float</th>\n",
              "      <th>start_time_float</th>\n",
              "      <th>prev_start_time_float</th>\n",
              "    </tr>\n",
              "  </thead>\n",
              "  <tbody>\n",
              "    <tr>\n",
              "      <th>0</th>\n",
              "      <td>1.0</td>\n",
              "      <td>6</td>\n",
              "      <td>6</td>\n",
              "      <td>0</td>\n",
              "      <td>0</td>\n",
              "      <td>2</td>\n",
              "      <td>54.0</td>\n",
              "      <td>0</td>\n",
              "      <td>1:31.6</td>\n",
              "      <td>0</td>\n",
              "      <td>3.2</td>\n",
              "      <td>1.0</td>\n",
              "      <td>474.0</td>\n",
              "      <td>0.0</td>\n",
              "      <td>0</td>\n",
              "      <td>1</td>\n",
              "      <td>9</td>\n",
              "      <td>0</td>\n",
              "      <td>0</td>\n",
              "      <td>-</td>\n",
              "      <td>1500.0</td>\n",
              "      <td>0</td>\n",
              "      <td>0</td>\n",
              "      <td>10:40</td>\n",
              "      <td>2006</td>\n",
              "      <td>8</td>\n",
              "      <td>12</td>\n",
              "      <td>3.0</td>\n",
              "      <td>6.0</td>\n",
              "      <td>6.0</td>\n",
              "      <td>0.0</td>\n",
              "      <td>0.0</td>\n",
              "      <td>2.0</td>\n",
              "      <td>51.0</td>\n",
              "      <td>75.0</td>\n",
              "      <td>1:12.2</td>\n",
              "      <td>1.0</td>\n",
              "      <td>9.6</td>\n",
              "      <td>3.0</td>\n",
              "      <td>474.0</td>\n",
              "      <td>-2.0</td>\n",
              "      <td>0.0</td>\n",
              "      <td>1.0</td>\n",
              "      <td>9.0</td>\n",
              "      <td>0.0</td>\n",
              "      <td>0.0</td>\n",
              "      <td>-</td>\n",
              "      <td>1200.0</td>\n",
              "      <td>1.0</td>\n",
              "      <td>0.0</td>\n",
              "      <td>10:40</td>\n",
              "      <td>2006.0</td>\n",
              "      <td>7.0</td>\n",
              "      <td>29.0</td>\n",
              "      <td>True</td>\n",
              "      <td>3.2</td>\n",
              "      <td>1561165932</td>\n",
              "      <td>1561200000</td>\n",
              "      <td>1561200000</td>\n",
              "    </tr>\n",
              "    <tr>\n",
              "      <th>1</th>\n",
              "      <td>2.0</td>\n",
              "      <td>7</td>\n",
              "      <td>8</td>\n",
              "      <td>1</td>\n",
              "      <td>1</td>\n",
              "      <td>2</td>\n",
              "      <td>54.0</td>\n",
              "      <td>1</td>\n",
              "      <td>1:31.6</td>\n",
              "      <td>1</td>\n",
              "      <td>6.4</td>\n",
              "      <td>4.0</td>\n",
              "      <td>448.0</td>\n",
              "      <td>-8.0</td>\n",
              "      <td>1</td>\n",
              "      <td>1</td>\n",
              "      <td>9</td>\n",
              "      <td>0</td>\n",
              "      <td>0</td>\n",
              "      <td>-</td>\n",
              "      <td>1500.0</td>\n",
              "      <td>0</td>\n",
              "      <td>0</td>\n",
              "      <td>10:40</td>\n",
              "      <td>2006</td>\n",
              "      <td>8</td>\n",
              "      <td>12</td>\n",
              "      <td>3.0</td>\n",
              "      <td>1.0</td>\n",
              "      <td>1.0</td>\n",
              "      <td>1.0</td>\n",
              "      <td>1.0</td>\n",
              "      <td>2.0</td>\n",
              "      <td>54.0</td>\n",
              "      <td>1.0</td>\n",
              "      <td>1:57.7</td>\n",
              "      <td>18.0</td>\n",
              "      <td>26.9</td>\n",
              "      <td>7.0</td>\n",
              "      <td>456.0</td>\n",
              "      <td>0.0</td>\n",
              "      <td>1.0</td>\n",
              "      <td>4.0</td>\n",
              "      <td>9.0</td>\n",
              "      <td>0.0</td>\n",
              "      <td>0.0</td>\n",
              "      <td>-</td>\n",
              "      <td>1800.0</td>\n",
              "      <td>1.0</td>\n",
              "      <td>1.0</td>\n",
              "      <td>12:30</td>\n",
              "      <td>2006.0</td>\n",
              "      <td>7.0</td>\n",
              "      <td>23.0</td>\n",
              "      <td>False</td>\n",
              "      <td>0.0</td>\n",
              "      <td>1561168662</td>\n",
              "      <td>1561200000</td>\n",
              "      <td>1561206600</td>\n",
              "    </tr>\n",
              "    <tr>\n",
              "      <th>2</th>\n",
              "      <td>3.0</td>\n",
              "      <td>7</td>\n",
              "      <td>7</td>\n",
              "      <td>2</td>\n",
              "      <td>1</td>\n",
              "      <td>2</td>\n",
              "      <td>54.0</td>\n",
              "      <td>2</td>\n",
              "      <td>1:31.9</td>\n",
              "      <td>2</td>\n",
              "      <td>4.3</td>\n",
              "      <td>3.0</td>\n",
              "      <td>476.0</td>\n",
              "      <td>0.0</td>\n",
              "      <td>2</td>\n",
              "      <td>1</td>\n",
              "      <td>9</td>\n",
              "      <td>0</td>\n",
              "      <td>0</td>\n",
              "      <td>-</td>\n",
              "      <td>1500.0</td>\n",
              "      <td>0</td>\n",
              "      <td>0</td>\n",
              "      <td>10:40</td>\n",
              "      <td>2006</td>\n",
              "      <td>8</td>\n",
              "      <td>12</td>\n",
              "      <td>4.0</td>\n",
              "      <td>1.0</td>\n",
              "      <td>1.0</td>\n",
              "      <td>2.0</td>\n",
              "      <td>1.0</td>\n",
              "      <td>2.0</td>\n",
              "      <td>54.0</td>\n",
              "      <td>2.0</td>\n",
              "      <td>1:12.5</td>\n",
              "      <td>1.0</td>\n",
              "      <td>6.7</td>\n",
              "      <td>3.0</td>\n",
              "      <td>476.0</td>\n",
              "      <td>-8.0</td>\n",
              "      <td>2.0</td>\n",
              "      <td>1.0</td>\n",
              "      <td>9.0</td>\n",
              "      <td>0.0</td>\n",
              "      <td>0.0</td>\n",
              "      <td>-</td>\n",
              "      <td>1200.0</td>\n",
              "      <td>1.0</td>\n",
              "      <td>0.0</td>\n",
              "      <td>10:40</td>\n",
              "      <td>2006.0</td>\n",
              "      <td>7.0</td>\n",
              "      <td>30.0</td>\n",
              "      <td>False</td>\n",
              "      <td>0.0</td>\n",
              "      <td>1561165950</td>\n",
              "      <td>1561200000</td>\n",
              "      <td>1561200000</td>\n",
              "    </tr>\n",
              "    <tr>\n",
              "      <th>3</th>\n",
              "      <td>4.0</td>\n",
              "      <td>2</td>\n",
              "      <td>2</td>\n",
              "      <td>3</td>\n",
              "      <td>1</td>\n",
              "      <td>2</td>\n",
              "      <td>51.0</td>\n",
              "      <td>3</td>\n",
              "      <td>1:32.1</td>\n",
              "      <td>3</td>\n",
              "      <td>33.1</td>\n",
              "      <td>7.0</td>\n",
              "      <td>484.0</td>\n",
              "      <td>0.0</td>\n",
              "      <td>3</td>\n",
              "      <td>1</td>\n",
              "      <td>9</td>\n",
              "      <td>0</td>\n",
              "      <td>0</td>\n",
              "      <td>-</td>\n",
              "      <td>1500.0</td>\n",
              "      <td>0</td>\n",
              "      <td>0</td>\n",
              "      <td>10:40</td>\n",
              "      <td>2006</td>\n",
              "      <td>8</td>\n",
              "      <td>12</td>\n",
              "      <td>12.0</td>\n",
              "      <td>1.0</td>\n",
              "      <td>1.0</td>\n",
              "      <td>3.0</td>\n",
              "      <td>1.0</td>\n",
              "      <td>2.0</td>\n",
              "      <td>51.0</td>\n",
              "      <td>3.0</td>\n",
              "      <td>1:57.3</td>\n",
              "      <td>7.0</td>\n",
              "      <td>11.9</td>\n",
              "      <td>5.0</td>\n",
              "      <td>484.0</td>\n",
              "      <td>0.0</td>\n",
              "      <td>3.0</td>\n",
              "      <td>5.0</td>\n",
              "      <td>9.0</td>\n",
              "      <td>0.0</td>\n",
              "      <td>0.0</td>\n",
              "      <td>-</td>\n",
              "      <td>1800.0</td>\n",
              "      <td>2.0</td>\n",
              "      <td>2.0</td>\n",
              "      <td>12:20</td>\n",
              "      <td>2006.0</td>\n",
              "      <td>7.0</td>\n",
              "      <td>2.0</td>\n",
              "      <td>False</td>\n",
              "      <td>0.0</td>\n",
              "      <td>1561168638</td>\n",
              "      <td>1561200000</td>\n",
              "      <td>1561206000</td>\n",
              "    </tr>\n",
              "    <tr>\n",
              "      <th>4</th>\n",
              "      <td>5.0</td>\n",
              "      <td>5</td>\n",
              "      <td>5</td>\n",
              "      <td>4</td>\n",
              "      <td>1</td>\n",
              "      <td>2</td>\n",
              "      <td>54.0</td>\n",
              "      <td>4</td>\n",
              "      <td>1:32.1</td>\n",
              "      <td>1</td>\n",
              "      <td>3.9</td>\n",
              "      <td>2.0</td>\n",
              "      <td>518.0</td>\n",
              "      <td>6.0</td>\n",
              "      <td>4</td>\n",
              "      <td>1</td>\n",
              "      <td>9</td>\n",
              "      <td>0</td>\n",
              "      <td>0</td>\n",
              "      <td>-</td>\n",
              "      <td>1500.0</td>\n",
              "      <td>0</td>\n",
              "      <td>0</td>\n",
              "      <td>10:40</td>\n",
              "      <td>2006</td>\n",
              "      <td>8</td>\n",
              "      <td>12</td>\n",
              "      <td>3.0</td>\n",
              "      <td>2.0</td>\n",
              "      <td>2.0</td>\n",
              "      <td>4.0</td>\n",
              "      <td>1.0</td>\n",
              "      <td>2.0</td>\n",
              "      <td>54.0</td>\n",
              "      <td>15.0</td>\n",
              "      <td>1:12.5</td>\n",
              "      <td>9.0</td>\n",
              "      <td>6.6</td>\n",
              "      <td>2.0</td>\n",
              "      <td>512.0</td>\n",
              "      <td>-2.0</td>\n",
              "      <td>4.0</td>\n",
              "      <td>1.0</td>\n",
              "      <td>9.0</td>\n",
              "      <td>0.0</td>\n",
              "      <td>0.0</td>\n",
              "      <td>-</td>\n",
              "      <td>1200.0</td>\n",
              "      <td>1.0</td>\n",
              "      <td>0.0</td>\n",
              "      <td>10:40</td>\n",
              "      <td>2006.0</td>\n",
              "      <td>7.0</td>\n",
              "      <td>30.0</td>\n",
              "      <td>False</td>\n",
              "      <td>0.0</td>\n",
              "      <td>1561165950</td>\n",
              "      <td>1561200000</td>\n",
              "      <td>1561200000</td>\n",
              "    </tr>\n",
              "    <tr>\n",
              "      <th>...</th>\n",
              "      <td>...</td>\n",
              "      <td>...</td>\n",
              "      <td>...</td>\n",
              "      <td>...</td>\n",
              "      <td>...</td>\n",
              "      <td>...</td>\n",
              "      <td>...</td>\n",
              "      <td>...</td>\n",
              "      <td>...</td>\n",
              "      <td>...</td>\n",
              "      <td>...</td>\n",
              "      <td>...</td>\n",
              "      <td>...</td>\n",
              "      <td>...</td>\n",
              "      <td>...</td>\n",
              "      <td>...</td>\n",
              "      <td>...</td>\n",
              "      <td>...</td>\n",
              "      <td>...</td>\n",
              "      <td>...</td>\n",
              "      <td>...</td>\n",
              "      <td>...</td>\n",
              "      <td>...</td>\n",
              "      <td>...</td>\n",
              "      <td>...</td>\n",
              "      <td>...</td>\n",
              "      <td>...</td>\n",
              "      <td>...</td>\n",
              "      <td>...</td>\n",
              "      <td>...</td>\n",
              "      <td>...</td>\n",
              "      <td>...</td>\n",
              "      <td>...</td>\n",
              "      <td>...</td>\n",
              "      <td>...</td>\n",
              "      <td>...</td>\n",
              "      <td>...</td>\n",
              "      <td>...</td>\n",
              "      <td>...</td>\n",
              "      <td>...</td>\n",
              "      <td>...</td>\n",
              "      <td>...</td>\n",
              "      <td>...</td>\n",
              "      <td>...</td>\n",
              "      <td>...</td>\n",
              "      <td>...</td>\n",
              "      <td>...</td>\n",
              "      <td>...</td>\n",
              "      <td>...</td>\n",
              "      <td>...</td>\n",
              "      <td>...</td>\n",
              "      <td>...</td>\n",
              "      <td>...</td>\n",
              "      <td>...</td>\n",
              "      <td>...</td>\n",
              "      <td>...</td>\n",
              "      <td>...</td>\n",
              "      <td>...</td>\n",
              "      <td>...</td>\n",
              "    </tr>\n",
              "    <tr>\n",
              "      <th>542850</th>\n",
              "      <td>9.0</td>\n",
              "      <td>8</td>\n",
              "      <td>13</td>\n",
              "      <td>42682</td>\n",
              "      <td>1</td>\n",
              "      <td>5</td>\n",
              "      <td>57.0</td>\n",
              "      <td>415</td>\n",
              "      <td>2:02.1</td>\n",
              "      <td>10</td>\n",
              "      <td>58.6</td>\n",
              "      <td>9.0</td>\n",
              "      <td>468.0</td>\n",
              "      <td>-2.0</td>\n",
              "      <td>94</td>\n",
              "      <td>12</td>\n",
              "      <td>9</td>\n",
              "      <td>0</td>\n",
              "      <td>0</td>\n",
              "      <td>-</td>\n",
              "      <td>2000.0</td>\n",
              "      <td>1</td>\n",
              "      <td>0</td>\n",
              "      <td>16:01</td>\n",
              "      <td>2017</td>\n",
              "      <td>3</td>\n",
              "      <td>5</td>\n",
              "      <td>8.0</td>\n",
              "      <td>1.0</td>\n",
              "      <td>1.0</td>\n",
              "      <td>42682.0</td>\n",
              "      <td>1.0</td>\n",
              "      <td>5.0</td>\n",
              "      <td>57.0</td>\n",
              "      <td>387.0</td>\n",
              "      <td>2:01.9</td>\n",
              "      <td>4.0</td>\n",
              "      <td>23.3</td>\n",
              "      <td>8.0</td>\n",
              "      <td>470.0</td>\n",
              "      <td>-2.0</td>\n",
              "      <td>94.0</td>\n",
              "      <td>9.0</td>\n",
              "      <td>9.0</td>\n",
              "      <td>0.0</td>\n",
              "      <td>0.0</td>\n",
              "      <td>-</td>\n",
              "      <td>2000.0</td>\n",
              "      <td>0.0</td>\n",
              "      <td>0.0</td>\n",
              "      <td>14:15</td>\n",
              "      <td>2017.0</td>\n",
              "      <td>2.0</td>\n",
              "      <td>25.0</td>\n",
              "      <td>False</td>\n",
              "      <td>0.0</td>\n",
              "      <td>1561168914</td>\n",
              "      <td>1561219260</td>\n",
              "      <td>1561212900</td>\n",
              "    </tr>\n",
              "    <tr>\n",
              "      <th>542851</th>\n",
              "      <td>10.0</td>\n",
              "      <td>5</td>\n",
              "      <td>6</td>\n",
              "      <td>44140</td>\n",
              "      <td>1</td>\n",
              "      <td>5</td>\n",
              "      <td>57.0</td>\n",
              "      <td>418</td>\n",
              "      <td>2:02.2</td>\n",
              "      <td>1</td>\n",
              "      <td>140.9</td>\n",
              "      <td>12.0</td>\n",
              "      <td>494.0</td>\n",
              "      <td>-2.0</td>\n",
              "      <td>116</td>\n",
              "      <td>12</td>\n",
              "      <td>9</td>\n",
              "      <td>0</td>\n",
              "      <td>0</td>\n",
              "      <td>-</td>\n",
              "      <td>2000.0</td>\n",
              "      <td>1</td>\n",
              "      <td>0</td>\n",
              "      <td>16:01</td>\n",
              "      <td>2017</td>\n",
              "      <td>3</td>\n",
              "      <td>5</td>\n",
              "      <td>8.0</td>\n",
              "      <td>1.0</td>\n",
              "      <td>1.0</td>\n",
              "      <td>44140.0</td>\n",
              "      <td>1.0</td>\n",
              "      <td>5.0</td>\n",
              "      <td>57.0</td>\n",
              "      <td>418.0</td>\n",
              "      <td>2:01.3</td>\n",
              "      <td>1.0</td>\n",
              "      <td>113.1</td>\n",
              "      <td>10.0</td>\n",
              "      <td>496.0</td>\n",
              "      <td>-4.0</td>\n",
              "      <td>116.0</td>\n",
              "      <td>10.0</td>\n",
              "      <td>9.0</td>\n",
              "      <td>0.0</td>\n",
              "      <td>0.0</td>\n",
              "      <td>-</td>\n",
              "      <td>2000.0</td>\n",
              "      <td>0.0</td>\n",
              "      <td>0.0</td>\n",
              "      <td>14:40</td>\n",
              "      <td>2017.0</td>\n",
              "      <td>2.0</td>\n",
              "      <td>19.0</td>\n",
              "      <td>False</td>\n",
              "      <td>0.0</td>\n",
              "      <td>1561168878</td>\n",
              "      <td>1561219260</td>\n",
              "      <td>1561214400</td>\n",
              "    </tr>\n",
              "    <tr>\n",
              "      <th>542852</th>\n",
              "      <td>11.0</td>\n",
              "      <td>5</td>\n",
              "      <td>7</td>\n",
              "      <td>45594</td>\n",
              "      <td>1</td>\n",
              "      <td>5</td>\n",
              "      <td>57.0</td>\n",
              "      <td>497</td>\n",
              "      <td>2:02.3</td>\n",
              "      <td>4</td>\n",
              "      <td>14.3</td>\n",
              "      <td>6.0</td>\n",
              "      <td>496.0</td>\n",
              "      <td>2.0</td>\n",
              "      <td>192</td>\n",
              "      <td>12</td>\n",
              "      <td>9</td>\n",
              "      <td>0</td>\n",
              "      <td>0</td>\n",
              "      <td>-</td>\n",
              "      <td>2000.0</td>\n",
              "      <td>1</td>\n",
              "      <td>0</td>\n",
              "      <td>16:01</td>\n",
              "      <td>2017</td>\n",
              "      <td>3</td>\n",
              "      <td>5</td>\n",
              "      <td>2.0</td>\n",
              "      <td>5.0</td>\n",
              "      <td>5.0</td>\n",
              "      <td>45594.0</td>\n",
              "      <td>1.0</td>\n",
              "      <td>5.0</td>\n",
              "      <td>54.0</td>\n",
              "      <td>497.0</td>\n",
              "      <td>2:01.3</td>\n",
              "      <td>9.0</td>\n",
              "      <td>19.5</td>\n",
              "      <td>6.0</td>\n",
              "      <td>494.0</td>\n",
              "      <td>-4.0</td>\n",
              "      <td>192.0</td>\n",
              "      <td>9.0</td>\n",
              "      <td>9.0</td>\n",
              "      <td>0.0</td>\n",
              "      <td>0.0</td>\n",
              "      <td>-</td>\n",
              "      <td>2000.0</td>\n",
              "      <td>0.0</td>\n",
              "      <td>0.0</td>\n",
              "      <td>14:15</td>\n",
              "      <td>2017.0</td>\n",
              "      <td>2.0</td>\n",
              "      <td>25.0</td>\n",
              "      <td>False</td>\n",
              "      <td>0.0</td>\n",
              "      <td>1561168878</td>\n",
              "      <td>1561219260</td>\n",
              "      <td>1561212900</td>\n",
              "    </tr>\n",
              "    <tr>\n",
              "      <th>542853</th>\n",
              "      <td>12.0</td>\n",
              "      <td>4</td>\n",
              "      <td>5</td>\n",
              "      <td>52157</td>\n",
              "      <td>0</td>\n",
              "      <td>4</td>\n",
              "      <td>55.0</td>\n",
              "      <td>254</td>\n",
              "      <td>2:02.6</td>\n",
              "      <td>2</td>\n",
              "      <td>174.9</td>\n",
              "      <td>13.0</td>\n",
              "      <td>460.0</td>\n",
              "      <td>-4.0</td>\n",
              "      <td>450</td>\n",
              "      <td>12</td>\n",
              "      <td>9</td>\n",
              "      <td>0</td>\n",
              "      <td>0</td>\n",
              "      <td>-</td>\n",
              "      <td>2000.0</td>\n",
              "      <td>1</td>\n",
              "      <td>0</td>\n",
              "      <td>16:01</td>\n",
              "      <td>2017</td>\n",
              "      <td>3</td>\n",
              "      <td>5</td>\n",
              "      <td>8.0</td>\n",
              "      <td>3.0</td>\n",
              "      <td>3.0</td>\n",
              "      <td>52157.0</td>\n",
              "      <td>0.0</td>\n",
              "      <td>4.0</td>\n",
              "      <td>54.0</td>\n",
              "      <td>246.0</td>\n",
              "      <td>2:03.0</td>\n",
              "      <td>3.0</td>\n",
              "      <td>61.0</td>\n",
              "      <td>10.0</td>\n",
              "      <td>464.0</td>\n",
              "      <td>1.0</td>\n",
              "      <td>450.0</td>\n",
              "      <td>10.0</td>\n",
              "      <td>9.0</td>\n",
              "      <td>0.0</td>\n",
              "      <td>0.0</td>\n",
              "      <td>-</td>\n",
              "      <td>2000.0</td>\n",
              "      <td>0.0</td>\n",
              "      <td>0.0</td>\n",
              "      <td>14:50</td>\n",
              "      <td>2017.0</td>\n",
              "      <td>2.0</td>\n",
              "      <td>26.0</td>\n",
              "      <td>False</td>\n",
              "      <td>0.0</td>\n",
              "      <td>1561168980</td>\n",
              "      <td>1561219260</td>\n",
              "      <td>1561215000</td>\n",
              "    </tr>\n",
              "    <tr>\n",
              "      <th>542854</th>\n",
              "      <td>13.0</td>\n",
              "      <td>7</td>\n",
              "      <td>11</td>\n",
              "      <td>43079</td>\n",
              "      <td>1</td>\n",
              "      <td>5</td>\n",
              "      <td>57.0</td>\n",
              "      <td>18</td>\n",
              "      <td>2:02.8</td>\n",
              "      <td>3</td>\n",
              "      <td>60.3</td>\n",
              "      <td>10.0</td>\n",
              "      <td>504.0</td>\n",
              "      <td>-4.0</td>\n",
              "      <td>106</td>\n",
              "      <td>12</td>\n",
              "      <td>9</td>\n",
              "      <td>0</td>\n",
              "      <td>0</td>\n",
              "      <td>-</td>\n",
              "      <td>2000.0</td>\n",
              "      <td>1</td>\n",
              "      <td>0</td>\n",
              "      <td>16:01</td>\n",
              "      <td>2017</td>\n",
              "      <td>3</td>\n",
              "      <td>5</td>\n",
              "      <td>14.0</td>\n",
              "      <td>8.0</td>\n",
              "      <td>15.0</td>\n",
              "      <td>43079.0</td>\n",
              "      <td>1.0</td>\n",
              "      <td>5.0</td>\n",
              "      <td>57.0</td>\n",
              "      <td>79.0</td>\n",
              "      <td>1:48.8</td>\n",
              "      <td>4.0</td>\n",
              "      <td>67.2</td>\n",
              "      <td>11.0</td>\n",
              "      <td>508.0</td>\n",
              "      <td>0.0</td>\n",
              "      <td>106.0</td>\n",
              "      <td>6.0</td>\n",
              "      <td>9.0</td>\n",
              "      <td>0.0</td>\n",
              "      <td>2.0</td>\n",
              "      <td>-</td>\n",
              "      <td>1800.0</td>\n",
              "      <td>1.0</td>\n",
              "      <td>0.0</td>\n",
              "      <td>13:00</td>\n",
              "      <td>2017.0</td>\n",
              "      <td>2.0</td>\n",
              "      <td>5.0</td>\n",
              "      <td>False</td>\n",
              "      <td>0.0</td>\n",
              "      <td>1561168128</td>\n",
              "      <td>1561219260</td>\n",
              "      <td>1561208400</td>\n",
              "    </tr>\n",
              "  </tbody>\n",
              "</table>\n",
              "<p>542855 rows × 59 columns</p>\n",
              "</div>"
            ],
            "text/plain": [
              "        rank  frame_num  ...  start_time_float  prev_start_time_float\n",
              "0        1.0          6  ...        1561200000             1561200000\n",
              "1        2.0          7  ...        1561200000             1561206600\n",
              "2        3.0          7  ...        1561200000             1561200000\n",
              "3        4.0          2  ...        1561200000             1561206000\n",
              "4        5.0          5  ...        1561200000             1561200000\n",
              "...      ...        ...  ...               ...                    ...\n",
              "542850   9.0          8  ...        1561219260             1561212900\n",
              "542851  10.0          5  ...        1561219260             1561214400\n",
              "542852  11.0          5  ...        1561219260             1561212900\n",
              "542853  12.0          4  ...        1561219260             1561215000\n",
              "542854  13.0          7  ...        1561219260             1561208400\n",
              "\n",
              "[542855 rows x 59 columns]"
            ]
          },
          "metadata": {
            "tags": []
          },
          "execution_count": 9
        }
      ]
    },
    {
      "cell_type": "code",
      "metadata": {
        "id": "iGwiRWJ4z1V4",
        "colab_type": "code",
        "colab": {}
      },
      "source": [
        ""
      ],
      "execution_count": 0,
      "outputs": []
    },
    {
      "cell_type": "code",
      "metadata": {
        "id": "DlRazfpWyqyc",
        "colab_type": "code",
        "colab": {}
      },
      "source": [
        "sdat = ldat.sample(frac=1).reset_index(drop=True)"
      ],
      "execution_count": 0,
      "outputs": []
    },
    {
      "cell_type": "code",
      "metadata": {
        "id": "tfUTHaPE-4xZ",
        "colab_type": "code",
        "colab": {}
      },
      "source": [
        "x = sdat[['frame_num', 'horse_num', 'name', 'sex', 'age', 'amount',\n",
        "       'jockey', 'odds', 'popularity', 'weight',\n",
        "       'diff_weight', 'trainer', 'race_num', 'grade', 'ground', 'direction',\n",
        "        'distance', 'weather', 'condition', 'start_time_float', 'year',\n",
        "       'month', 'day', 'prev_rank', 'prev_frame_num', 'prev_horse_num',\n",
        "       'prev_name', 'prev_sex', 'prev_age', 'prev_amount', 'prev_jockey',\n",
        "       'prev_time_float', 'prev_diff_arrival', 'prev_odds', 'prev_popularity',\n",
        "       'prev_weight', 'prev_diff_weight', 'prev_trainer', 'prev_race_num',\n",
        "       'prev_grade', 'prev_ground', 'prev_direction',\n",
        "       'prev_distance', 'prev_weather', 'prev_condition', 'prev_start_time_float',\n",
        "       'prev_year', 'prev_month', 'prev_day']].dropna(0)"
      ],
      "execution_count": 0,
      "outputs": []
    },
    {
      "cell_type": "code",
      "metadata": {
        "id": "izs3s8otL3XX",
        "colab_type": "code",
        "colab": {}
      },
      "source": [
        "x = sdat[[\"return\"]].dropna(0)"
      ],
      "execution_count": 0,
      "outputs": []
    },
    {
      "cell_type": "code",
      "metadata": {
        "id": "VT8CcCQR-48e",
        "colab_type": "code",
        "colab": {}
      },
      "source": [
        "y = sdat[[\"return\"]].dropna(0)"
      ],
      "execution_count": 0,
      "outputs": []
    },
    {
      "cell_type": "code",
      "metadata": {
        "id": "2jQ42aW4-5Ai",
        "colab_type": "code",
        "colab": {}
      },
      "source": [
        "# 競馬データの作成 終わり"
      ],
      "execution_count": 0,
      "outputs": []
    },
    {
      "cell_type": "code",
      "metadata": {
        "id": "gJdOFuv3-46d",
        "colab_type": "code",
        "colab": {}
      },
      "source": [
        "# 学習、テストデータの作成"
      ],
      "execution_count": 0,
      "outputs": []
    },
    {
      "cell_type": "code",
      "metadata": {
        "id": "p2wTrCZbcCdt",
        "colab_type": "code",
        "colab": {}
      },
      "source": [
        "trainlen = int(len(x)/2)"
      ],
      "execution_count": 0,
      "outputs": []
    },
    {
      "cell_type": "code",
      "metadata": {
        "id": "iFK08dQKcCoJ",
        "colab_type": "code",
        "colab": {}
      },
      "source": [
        "trainx = x.head(trainlen)\n",
        "trainy = y.head(trainlen)"
      ],
      "execution_count": 0,
      "outputs": []
    },
    {
      "cell_type": "code",
      "metadata": {
        "id": "rW4_Fl4icCt1",
        "colab_type": "code",
        "colab": {}
      },
      "source": [
        "testx = x.tail(len(x)-trainlen)\n",
        "testy = y.tail(len(x)-trainlen)"
      ],
      "execution_count": 0,
      "outputs": []
    },
    {
      "cell_type": "code",
      "metadata": {
        "id": "jzQJ4Mus-43A",
        "colab_type": "code",
        "colab": {}
      },
      "source": [
        "# 学習、テストデータの作成　終わり"
      ],
      "execution_count": 0,
      "outputs": []
    },
    {
      "cell_type": "code",
      "metadata": {
        "id": "4yO24DOecXKp",
        "colab_type": "code",
        "colab": {}
      },
      "source": [
        ""
      ],
      "execution_count": 0,
      "outputs": []
    },
    {
      "cell_type": "code",
      "metadata": {
        "id": "SJUwnya_cXRX",
        "colab_type": "code",
        "colab": {}
      },
      "source": [
        ""
      ],
      "execution_count": 0,
      "outputs": []
    },
    {
      "cell_type": "code",
      "metadata": {
        "id": "LutfR4VAcXO3",
        "colab_type": "code",
        "colab": {}
      },
      "source": [
        ""
      ],
      "execution_count": 0,
      "outputs": []
    },
    {
      "cell_type": "code",
      "metadata": {
        "id": "nqog9TrbFcpd",
        "colab_type": "code",
        "colab": {}
      },
      "source": [
        "!pip install -q keras==2.2.4"
      ],
      "execution_count": 0,
      "outputs": []
    },
    {
      "cell_type": "code",
      "metadata": {
        "id": "BTtTJTMOFssd",
        "colab_type": "code",
        "outputId": "2e754b77-2534-4e24-802c-c703a99b791b",
        "colab": {
          "base_uri": "https://localhost:8080/",
          "height": 462
        }
      },
      "source": [
        "import keras"
      ],
      "execution_count": 21,
      "outputs": [
        {
          "output_type": "stream",
          "text": [
            "Using TensorFlow backend.\n",
            "/usr/local/lib/python3.6/dist-packages/tensorflow/python/framework/dtypes.py:516: FutureWarning: Passing (type, 1) or '1type' as a synonym of type is deprecated; in a future version of numpy, it will be understood as (type, (1,)) / '(1,)type'.\n",
            "  _np_qint8 = np.dtype([(\"qint8\", np.int8, 1)])\n",
            "/usr/local/lib/python3.6/dist-packages/tensorflow/python/framework/dtypes.py:517: FutureWarning: Passing (type, 1) or '1type' as a synonym of type is deprecated; in a future version of numpy, it will be understood as (type, (1,)) / '(1,)type'.\n",
            "  _np_quint8 = np.dtype([(\"quint8\", np.uint8, 1)])\n",
            "/usr/local/lib/python3.6/dist-packages/tensorflow/python/framework/dtypes.py:518: FutureWarning: Passing (type, 1) or '1type' as a synonym of type is deprecated; in a future version of numpy, it will be understood as (type, (1,)) / '(1,)type'.\n",
            "  _np_qint16 = np.dtype([(\"qint16\", np.int16, 1)])\n",
            "/usr/local/lib/python3.6/dist-packages/tensorflow/python/framework/dtypes.py:519: FutureWarning: Passing (type, 1) or '1type' as a synonym of type is deprecated; in a future version of numpy, it will be understood as (type, (1,)) / '(1,)type'.\n",
            "  _np_quint16 = np.dtype([(\"quint16\", np.uint16, 1)])\n",
            "/usr/local/lib/python3.6/dist-packages/tensorflow/python/framework/dtypes.py:520: FutureWarning: Passing (type, 1) or '1type' as a synonym of type is deprecated; in a future version of numpy, it will be understood as (type, (1,)) / '(1,)type'.\n",
            "  _np_qint32 = np.dtype([(\"qint32\", np.int32, 1)])\n",
            "/usr/local/lib/python3.6/dist-packages/tensorflow/python/framework/dtypes.py:525: FutureWarning: Passing (type, 1) or '1type' as a synonym of type is deprecated; in a future version of numpy, it will be understood as (type, (1,)) / '(1,)type'.\n",
            "  np_resource = np.dtype([(\"resource\", np.ubyte, 1)])\n",
            "/usr/local/lib/python3.6/dist-packages/tensorboard/compat/tensorflow_stub/dtypes.py:541: FutureWarning: Passing (type, 1) or '1type' as a synonym of type is deprecated; in a future version of numpy, it will be understood as (type, (1,)) / '(1,)type'.\n",
            "  _np_qint8 = np.dtype([(\"qint8\", np.int8, 1)])\n",
            "/usr/local/lib/python3.6/dist-packages/tensorboard/compat/tensorflow_stub/dtypes.py:542: FutureWarning: Passing (type, 1) or '1type' as a synonym of type is deprecated; in a future version of numpy, it will be understood as (type, (1,)) / '(1,)type'.\n",
            "  _np_quint8 = np.dtype([(\"quint8\", np.uint8, 1)])\n",
            "/usr/local/lib/python3.6/dist-packages/tensorboard/compat/tensorflow_stub/dtypes.py:543: FutureWarning: Passing (type, 1) or '1type' as a synonym of type is deprecated; in a future version of numpy, it will be understood as (type, (1,)) / '(1,)type'.\n",
            "  _np_qint16 = np.dtype([(\"qint16\", np.int16, 1)])\n",
            "/usr/local/lib/python3.6/dist-packages/tensorboard/compat/tensorflow_stub/dtypes.py:544: FutureWarning: Passing (type, 1) or '1type' as a synonym of type is deprecated; in a future version of numpy, it will be understood as (type, (1,)) / '(1,)type'.\n",
            "  _np_quint16 = np.dtype([(\"quint16\", np.uint16, 1)])\n",
            "/usr/local/lib/python3.6/dist-packages/tensorboard/compat/tensorflow_stub/dtypes.py:545: FutureWarning: Passing (type, 1) or '1type' as a synonym of type is deprecated; in a future version of numpy, it will be understood as (type, (1,)) / '(1,)type'.\n",
            "  _np_qint32 = np.dtype([(\"qint32\", np.int32, 1)])\n",
            "/usr/local/lib/python3.6/dist-packages/tensorboard/compat/tensorflow_stub/dtypes.py:550: FutureWarning: Passing (type, 1) or '1type' as a synonym of type is deprecated; in a future version of numpy, it will be understood as (type, (1,)) / '(1,)type'.\n",
            "  np_resource = np.dtype([(\"resource\", np.ubyte, 1)])\n"
          ],
          "name": "stderr"
        }
      ]
    },
    {
      "cell_type": "code",
      "metadata": {
        "id": "h0QhjBgmFvtP",
        "colab_type": "code",
        "colab": {}
      },
      "source": [
        "!pip install -q keras-rl"
      ],
      "execution_count": 0,
      "outputs": []
    },
    {
      "cell_type": "code",
      "metadata": {
        "id": "aVHdpj8I9ggK",
        "colab_type": "code",
        "colab": {}
      },
      "source": [
        "from pprint import pprint"
      ],
      "execution_count": 0,
      "outputs": []
    },
    {
      "cell_type": "code",
      "metadata": {
        "id": "qULptQcKFwQ8",
        "colab_type": "code",
        "colab": {
          "base_uri": "https://localhost:8080/",
          "height": 357
        },
        "outputId": "3bc6b494-7979-49ec-93b7-e4e685449c37"
      },
      "source": [
        "!pip install tensorflow==1.14.0"
      ],
      "execution_count": 24,
      "outputs": [
        {
          "output_type": "stream",
          "text": [
            "Requirement already satisfied: tensorflow==1.14.0 in /usr/local/lib/python3.6/dist-packages (1.14.0)\n",
            "Requirement already satisfied: keras-preprocessing>=1.0.5 in /usr/local/lib/python3.6/dist-packages (from tensorflow==1.14.0) (1.1.0)\n",
            "Requirement already satisfied: tensorflow-estimator<1.15.0rc0,>=1.14.0rc0 in /usr/local/lib/python3.6/dist-packages (from tensorflow==1.14.0) (1.14.0)\n",
            "Requirement already satisfied: termcolor>=1.1.0 in /usr/local/lib/python3.6/dist-packages (from tensorflow==1.14.0) (1.1.0)\n",
            "Requirement already satisfied: six>=1.10.0 in /usr/local/lib/python3.6/dist-packages (from tensorflow==1.14.0) (1.12.0)\n",
            "Requirement already satisfied: tensorboard<1.15.0,>=1.14.0 in /usr/local/lib/python3.6/dist-packages (from tensorflow==1.14.0) (1.14.0)\n",
            "Requirement already satisfied: keras-applications>=1.0.6 in /usr/local/lib/python3.6/dist-packages (from tensorflow==1.14.0) (1.0.8)\n",
            "Requirement already satisfied: numpy<2.0,>=1.14.5 in /usr/local/lib/python3.6/dist-packages (from tensorflow==1.14.0) (1.18.4)\n",
            "Requirement already satisfied: astor>=0.6.0 in /usr/local/lib/python3.6/dist-packages (from tensorflow==1.14.0) (0.8.1)\n",
            "Requirement already satisfied: google-pasta>=0.1.6 in /usr/local/lib/python3.6/dist-packages (from tensorflow==1.14.0) (0.2.0)\n",
            "Requirement already satisfied: protobuf>=3.6.1 in /usr/local/lib/python3.6/dist-packages (from tensorflow==1.14.0) (3.10.0)\n",
            "Requirement already satisfied: grpcio>=1.8.6 in /usr/local/lib/python3.6/dist-packages (from tensorflow==1.14.0) (1.28.1)\n",
            "Requirement already satisfied: gast>=0.2.0 in /usr/local/lib/python3.6/dist-packages (from tensorflow==1.14.0) (0.2.2)\n",
            "Requirement already satisfied: wrapt>=1.11.1 in /usr/local/lib/python3.6/dist-packages (from tensorflow==1.14.0) (1.12.1)\n",
            "Requirement already satisfied: absl-py>=0.7.0 in /usr/local/lib/python3.6/dist-packages (from tensorflow==1.14.0) (0.9.0)\n",
            "Requirement already satisfied: wheel>=0.26 in /usr/local/lib/python3.6/dist-packages (from tensorflow==1.14.0) (0.34.2)\n",
            "Requirement already satisfied: setuptools>=41.0.0 in /usr/local/lib/python3.6/dist-packages (from tensorboard<1.15.0,>=1.14.0->tensorflow==1.14.0) (46.1.3)\n",
            "Requirement already satisfied: werkzeug>=0.11.15 in /usr/local/lib/python3.6/dist-packages (from tensorboard<1.15.0,>=1.14.0->tensorflow==1.14.0) (1.0.1)\n",
            "Requirement already satisfied: markdown>=2.6.8 in /usr/local/lib/python3.6/dist-packages (from tensorboard<1.15.0,>=1.14.0->tensorflow==1.14.0) (3.2.1)\n",
            "Requirement already satisfied: h5py in /usr/local/lib/python3.6/dist-packages (from keras-applications>=1.0.6->tensorflow==1.14.0) (2.10.0)\n"
          ],
          "name": "stdout"
        }
      ]
    },
    {
      "cell_type": "code",
      "metadata": {
        "id": "XWW3TvU-cy4o",
        "colab_type": "code",
        "outputId": "426d159b-2231-4871-c322-c50c1dcc7ab1",
        "colab": {
          "base_uri": "https://localhost:8080/",
          "height": 51
        }
      },
      "source": [
        "trainx.min()"
      ],
      "execution_count": 25,
      "outputs": [
        {
          "output_type": "execute_result",
          "data": {
            "text/plain": [
              "return    0.0\n",
              "dtype: float64"
            ]
          },
          "metadata": {
            "tags": []
          },
          "execution_count": 25
        }
      ]
    },
    {
      "cell_type": "code",
      "metadata": {
        "id": "mL1paZ9XQHQX",
        "colab_type": "code",
        "colab": {
          "base_uri": "https://localhost:8080/",
          "height": 1000
        },
        "outputId": "39320948-3cb9-458d-89e5-a814071494d0"
      },
      "source": [
        "!pip list"
      ],
      "execution_count": 26,
      "outputs": [
        {
          "output_type": "stream",
          "text": [
            "Package                  Version             \n",
            "------------------------ --------------------\n",
            "absl-py                  0.9.0               \n",
            "alabaster                0.7.12              \n",
            "albumentations           0.1.12              \n",
            "altair                   4.1.0               \n",
            "asgiref                  3.2.7               \n",
            "astor                    0.8.1               \n",
            "astropy                  4.0.1.post1         \n",
            "astunparse               1.6.3               \n",
            "atari-py                 0.2.6               \n",
            "atomicwrites             1.4.0               \n",
            "attrs                    19.3.0              \n",
            "audioread                2.1.8               \n",
            "autograd                 1.3                 \n",
            "Babel                    2.8.0               \n",
            "backcall                 0.1.0               \n",
            "beautifulsoup4           4.6.3               \n",
            "bleach                   3.1.5               \n",
            "blis                     0.4.1               \n",
            "bokeh                    1.4.0               \n",
            "boto                     2.49.0              \n",
            "boto3                    1.13.4              \n",
            "botocore                 1.16.4              \n",
            "Bottleneck               1.3.2               \n",
            "branca                   0.4.1               \n",
            "bs4                      0.0.1               \n",
            "CacheControl             0.12.6              \n",
            "cachetools               3.1.1               \n",
            "catalogue                1.0.0               \n",
            "certifi                  2020.4.5.1          \n",
            "cffi                     1.14.0              \n",
            "chainer                  6.5.0               \n",
            "chardet                  3.0.4               \n",
            "click                    7.1.2               \n",
            "cloudpickle              1.3.0               \n",
            "cmake                    3.12.0              \n",
            "cmdstanpy                0.4.0               \n",
            "colorlover               0.3.0               \n",
            "community                1.0.0b1             \n",
            "contextlib2              0.5.5               \n",
            "convertdate              2.2.0               \n",
            "coverage                 3.7.1               \n",
            "coveralls                0.5                 \n",
            "crcmod                   1.7                 \n",
            "cufflinks                0.17.3              \n",
            "cvxopt                   1.2.5               \n",
            "cvxpy                    1.0.31              \n",
            "cycler                   0.10.0              \n",
            "cymem                    2.0.3               \n",
            "Cython                   0.29.17             \n",
            "daft                     0.0.4               \n",
            "dask                     2.12.0              \n",
            "dataclasses              0.7                 \n",
            "datascience              0.10.6              \n",
            "decorator                4.4.2               \n",
            "defusedxml               0.6.0               \n",
            "descartes                1.1.0               \n",
            "dill                     0.3.1.1             \n",
            "distributed              1.25.3              \n",
            "Django                   3.0.6               \n",
            "dlib                     19.18.0             \n",
            "docopt                   0.6.2               \n",
            "docutils                 0.15.2              \n",
            "dopamine-rl              1.0.5               \n",
            "earthengine-api          0.1.221             \n",
            "easydict                 1.9                 \n",
            "ecos                     2.0.7.post1         \n",
            "editdistance             0.5.3               \n",
            "en-core-web-sm           2.2.5               \n",
            "entrypoints              0.3                 \n",
            "ephem                    3.7.7.1             \n",
            "et-xmlfile               1.0.1               \n",
            "fa2                      0.3.5               \n",
            "fancyimpute              0.4.3               \n",
            "fastai                   1.0.61              \n",
            "fastdtw                  0.3.4               \n",
            "fastprogress             0.2.3               \n",
            "fastrlock                0.4                 \n",
            "fbprophet                0.6                 \n",
            "feather-format           0.4.1               \n",
            "featuretools             0.4.1               \n",
            "filelock                 3.0.12              \n",
            "firebase-admin           4.1.0               \n",
            "fix-yahoo-finance        0.0.22              \n",
            "Flask                    1.1.2               \n",
            "folium                   0.8.3               \n",
            "fsspec                   0.7.3               \n",
            "future                   0.16.0              \n",
            "gast                     0.2.2               \n",
            "GDAL                     2.2.2               \n",
            "gdown                    3.6.4               \n",
            "gensim                   3.6.0               \n",
            "geographiclib            1.50                \n",
            "geopy                    1.17.0              \n",
            "gin-config               0.3.0               \n",
            "glob2                    0.7                 \n",
            "google                   2.0.3               \n",
            "google-api-core          1.16.0              \n",
            "google-api-python-client 1.7.12              \n",
            "google-auth              1.7.2               \n",
            "google-auth-httplib2     0.0.3               \n",
            "google-auth-oauthlib     0.4.1               \n",
            "google-cloud-bigquery    1.21.0              \n",
            "google-cloud-core        1.0.3               \n",
            "google-cloud-datastore   1.8.0               \n",
            "google-cloud-firestore   1.6.2               \n",
            "google-cloud-language    1.2.0               \n",
            "google-cloud-storage     1.18.1              \n",
            "google-cloud-translate   1.5.0               \n",
            "google-colab             1.0.0               \n",
            "google-pasta             0.2.0               \n",
            "google-resumable-media   0.4.1               \n",
            "googleapis-common-protos 1.51.0              \n",
            "googledrivedownloader    0.4                 \n",
            "graphviz                 0.10.1              \n",
            "grpcio                   1.28.1              \n",
            "gspread                  3.0.1               \n",
            "gspread-dataframe        3.0.6               \n",
            "gym                      0.17.1              \n",
            "h5py                     2.10.0              \n",
            "HeapDict                 1.0.1               \n",
            "holidays                 0.9.12              \n",
            "html5lib                 1.0.1               \n",
            "httpimport               0.5.18              \n",
            "httplib2                 0.17.3              \n",
            "httplib2shim             0.0.3               \n",
            "humanize                 0.5.1               \n",
            "hyperopt                 0.1.2               \n",
            "ideep4py                 2.0.0.post3         \n",
            "idna                     2.9                 \n",
            "image                    1.5.31              \n",
            "imageio                  2.4.1               \n",
            "imagesize                1.2.0               \n",
            "imbalanced-learn         0.4.3               \n",
            "imblearn                 0.0                 \n",
            "imgaug                   0.2.9               \n",
            "importlib-metadata       1.6.0               \n",
            "imutils                  0.5.3               \n",
            "inflect                  2.1.0               \n",
            "intel-openmp             2020.0.133          \n",
            "intervaltree             2.1.0               \n",
            "ipykernel                4.10.1              \n",
            "ipython                  5.5.0               \n",
            "ipython-genutils         0.2.0               \n",
            "ipython-sql              0.3.9               \n",
            "ipywidgets               7.5.1               \n",
            "itsdangerous             1.1.0               \n",
            "jax                      0.1.64              \n",
            "jaxlib                   0.1.45              \n",
            "jdcal                    1.4.1               \n",
            "jedi                     0.17.0              \n",
            "jieba                    0.42.1              \n",
            "Jinja2                   2.11.2              \n",
            "jmespath                 0.9.5               \n",
            "joblib                   0.14.1              \n",
            "jpeg4py                  0.1.4               \n",
            "jsonschema               2.6.0               \n",
            "jupyter                  1.0.0               \n",
            "jupyter-client           5.3.4               \n",
            "jupyter-console          5.2.0               \n",
            "jupyter-core             4.6.3               \n",
            "kaggle                   1.5.6               \n",
            "kapre                    0.1.3.1             \n",
            "Keras                    2.2.4               \n",
            "Keras-Applications       1.0.8               \n",
            "Keras-Preprocessing      1.1.0               \n",
            "keras-rl                 0.4.2               \n",
            "keras-vis                0.4.1               \n",
            "kiwisolver               1.2.0               \n",
            "knnimpute                0.1.0               \n",
            "librosa                  0.6.3               \n",
            "lightgbm                 2.2.3               \n",
            "llvmlite                 0.31.0              \n",
            "lmdb                     0.98                \n",
            "lucid                    0.3.8               \n",
            "LunarCalendar            0.0.9               \n",
            "lxml                     4.2.6               \n",
            "Markdown                 3.2.1               \n",
            "MarkupSafe               1.1.1               \n",
            "matplotlib               3.2.1               \n",
            "matplotlib-venn          0.11.5              \n",
            "missingno                0.4.2               \n",
            "mistune                  0.8.4               \n",
            "mizani                   0.6.0               \n",
            "mkl                      2019.0              \n",
            "mlxtend                  0.14.0              \n",
            "more-itertools           8.2.0               \n",
            "moviepy                  0.2.3.5             \n",
            "mpmath                   1.1.0               \n",
            "msgpack                  1.0.0               \n",
            "multiprocess             0.70.9              \n",
            "multitasking             0.0.9               \n",
            "murmurhash               1.0.2               \n",
            "music21                  5.5.0               \n",
            "natsort                  5.5.0               \n",
            "nbconvert                5.6.1               \n",
            "nbformat                 5.0.6               \n",
            "networkx                 2.4                 \n",
            "nibabel                  3.0.2               \n",
            "nltk                     3.2.5               \n",
            "notebook                 5.2.2               \n",
            "np-utils                 0.5.12.1            \n",
            "numba                    0.48.0              \n",
            "numexpr                  2.7.1               \n",
            "numpy                    1.18.4              \n",
            "nvidia-ml-py3            7.352.0             \n",
            "oauth2client             4.1.3               \n",
            "oauthlib                 3.1.0               \n",
            "okgrade                  0.4.3               \n",
            "opencv-contrib-python    4.1.2.30            \n",
            "opencv-python            4.1.2.30            \n",
            "openpyxl                 2.5.9               \n",
            "opt-einsum               3.2.1               \n",
            "osqp                     0.6.1               \n",
            "packaging                20.3                \n",
            "palettable               3.3.0               \n",
            "pandas                   1.0.3               \n",
            "pandas-datareader        0.8.1               \n",
            "pandas-gbq               0.11.0              \n",
            "pandas-profiling         1.4.1               \n",
            "pandocfilters            1.4.2               \n",
            "parso                    0.7.0               \n",
            "pathlib                  1.0.1               \n",
            "patsy                    0.5.1               \n",
            "pexpect                  4.8.0               \n",
            "pickleshare              0.7.5               \n",
            "Pillow                   7.0.0               \n",
            "pip                      19.3.1              \n",
            "pip-tools                4.5.1               \n",
            "plac                     1.1.3               \n",
            "plotly                   4.4.1               \n",
            "plotnine                 0.6.0               \n",
            "pluggy                   0.7.1               \n",
            "portpicker               1.3.1               \n",
            "prefetch-generator       1.0.1               \n",
            "preshed                  3.0.2               \n",
            "prettytable              0.7.2               \n",
            "progressbar2             3.38.0              \n",
            "prometheus-client        0.7.1               \n",
            "promise                  2.3                 \n",
            "prompt-toolkit           1.0.18              \n",
            "protobuf                 3.10.0              \n",
            "psutil                   5.4.8               \n",
            "psycopg2                 2.7.6.1             \n",
            "ptvsd                    5.0.0a12            \n",
            "ptyprocess               0.6.0               \n",
            "py                       1.8.1               \n",
            "pyarrow                  0.14.1              \n",
            "pyasn1                   0.4.8               \n",
            "pyasn1-modules           0.2.8               \n",
            "pycocotools              2.0.0               \n",
            "pycparser                2.20                \n",
            "pydata-google-auth       1.1.0               \n",
            "pydot                    1.3.0               \n",
            "pydot-ng                 2.0.0               \n",
            "pydotplus                2.0.2               \n",
            "PyDrive                  1.3.1               \n",
            "pyemd                    0.5.1               \n",
            "pyglet                   1.5.0               \n",
            "Pygments                 2.1.3               \n",
            "pygobject                3.26.1              \n",
            "pymc3                    3.7                 \n",
            "PyMeeus                  0.3.7               \n",
            "pymongo                  3.10.1              \n",
            "pymystem3                0.2.0               \n",
            "PyOpenGL                 3.1.5               \n",
            "pyparsing                2.4.7               \n",
            "pyrsistent               0.16.0              \n",
            "pysndfile                1.3.8               \n",
            "PySocks                  1.7.1               \n",
            "pystan                   2.19.1.1            \n",
            "pytest                   3.6.4               \n",
            "python-apt               1.6.5+ubuntu0.2     \n",
            "python-chess             0.23.11             \n",
            "python-dateutil          2.8.1               \n",
            "python-louvain           0.14                \n",
            "python-slugify           4.0.0               \n",
            "python-utils             2.4.0               \n",
            "pytz                     2018.9              \n",
            "PyWavelets               1.1.1               \n",
            "PyYAML                   3.13                \n",
            "pyzmq                    19.0.1              \n",
            "qtconsole                4.7.3               \n",
            "QtPy                     1.9.0               \n",
            "regex                    2019.12.20          \n",
            "requests                 2.23.0              \n",
            "requests-oauthlib        1.3.0               \n",
            "resampy                  0.2.2               \n",
            "retrying                 1.3.3               \n",
            "rpy2                     3.2.7               \n",
            "rsa                      4.0                 \n",
            "s3fs                     0.4.2               \n",
            "s3transfer               0.3.3               \n",
            "scikit-image             0.16.2              \n",
            "scikit-learn             0.22.2.post1        \n",
            "scipy                    1.4.1               \n",
            "screen-resolution-extra  0.0.0               \n",
            "scs                      2.1.2               \n",
            "seaborn                  0.10.1              \n",
            "Send2Trash               1.5.0               \n",
            "setuptools               46.1.3              \n",
            "setuptools-git           1.2                 \n",
            "Shapely                  1.7.0               \n",
            "simplegeneric            0.8.1               \n",
            "six                      1.12.0              \n",
            "sklearn                  0.0                 \n",
            "sklearn-pandas           1.8.0               \n",
            "smart-open               2.0.0               \n",
            "snowballstemmer          2.0.0               \n",
            "sortedcontainers         2.1.0               \n",
            "spacy                    2.2.4               \n",
            "Sphinx                   1.8.5               \n",
            "sphinxcontrib-websupport 1.2.2               \n",
            "SQLAlchemy               1.3.16              \n",
            "sqlparse                 0.3.1               \n",
            "srsly                    1.0.2               \n",
            "statsmodels              0.10.2              \n",
            "sympy                    1.1.1               \n",
            "tables                   3.4.4               \n",
            "tabulate                 0.8.7               \n",
            "tb-nightly               1.14.0a20190603     \n",
            "tbb                      2020.0.133          \n",
            "tblib                    1.6.0               \n",
            "tensorboard              1.14.0              \n",
            "tensorboard-plugin-wit   1.6.0.post3         \n",
            "tensorboardcolab         0.0.22              \n",
            "tensorflow               1.14.0              \n",
            "tensorflow-addons        0.8.3               \n",
            "tensorflow-datasets      2.1.0               \n",
            "tensorflow-estimator     1.14.0              \n",
            "tensorflow-gcs-config    2.1.8               \n",
            "tensorflow-hub           0.8.0               \n",
            "tensorflow-metadata      0.21.2              \n",
            "tensorflow-privacy       0.2.2               \n",
            "tensorflow-probability   0.10.0rc0           \n",
            "termcolor                1.1.0               \n",
            "terminado                0.8.3               \n",
            "testpath                 0.4.4               \n",
            "text-unidecode           1.3                 \n",
            "textblob                 0.15.3              \n",
            "textgenrnn               1.4.1               \n",
            "tf-estimator-nightly     1.14.0.dev2019060501\n",
            "Theano                   1.0.4               \n",
            "thinc                    7.4.0               \n",
            "toolz                    0.10.0              \n",
            "torch                    1.5.0+cu101         \n",
            "torchsummary             1.5.1               \n",
            "torchtext                0.3.1               \n",
            "torchvision              0.6.0+cu101         \n",
            "tornado                  4.5.3               \n",
            "tqdm                     4.41.1              \n",
            "traitlets                4.3.3               \n",
            "tweepy                   3.6.0               \n",
            "typeguard                2.7.1               \n",
            "typing                   3.6.6               \n",
            "typing-extensions        3.6.6               \n",
            "tzlocal                  1.5.1               \n",
            "umap-learn               0.4.2               \n",
            "uritemplate              3.0.1               \n",
            "urllib3                  1.24.3              \n",
            "vega-datasets            0.8.0               \n",
            "wasabi                   0.6.0               \n",
            "wcwidth                  0.1.9               \n",
            "webencodings             0.5.1               \n",
            "Werkzeug                 1.0.1               \n",
            "wheel                    0.34.2              \n",
            "widgetsnbextension       3.5.1               \n",
            "wordcloud                1.5.0               \n",
            "wrapt                    1.12.1              \n",
            "xarray                   0.15.1              \n",
            "xgboost                  0.90                \n",
            "xkit                     0.0.0               \n",
            "xlrd                     1.1.0               \n",
            "xlwt                     1.3.0               \n",
            "yellowbrick              0.9.1               \n",
            "zict                     2.0.0               \n",
            "zipp                     3.1.0               \n"
          ],
          "name": "stdout"
        }
      ]
    },
    {
      "cell_type": "code",
      "metadata": {
        "id": "PxY0VLwhcy8C",
        "colab_type": "code",
        "outputId": "6c04a8b2-693a-4f1f-aa17-ec218ee661b9",
        "colab": {
          "base_uri": "https://localhost:8080/",
          "height": 34
        }
      },
      "source": [
        "np.array(trainx.iloc[1])"
      ],
      "execution_count": 27,
      "outputs": [
        {
          "output_type": "execute_result",
          "data": {
            "text/plain": [
              "array([0.])"
            ]
          },
          "metadata": {
            "tags": []
          },
          "execution_count": 27
        }
      ]
    },
    {
      "cell_type": "code",
      "metadata": {
        "id": "nsQH_MC8pD5E",
        "colab_type": "code",
        "outputId": "4c717f0c-98e9-410c-d96a-8b22b7841bfc",
        "colab": {
          "base_uri": "https://localhost:8080/",
          "height": 34
        }
      },
      "source": [
        "float(trainy.iloc[0])"
      ],
      "execution_count": 28,
      "outputs": [
        {
          "output_type": "execute_result",
          "data": {
            "text/plain": [
              "0.0"
            ]
          },
          "metadata": {
            "tags": []
          },
          "execution_count": 28
        }
      ]
    },
    {
      "cell_type": "code",
      "metadata": {
        "id": "JT6WwE8OFwwk",
        "colab_type": "code",
        "colab": {}
      },
      "source": [
        "import numpy as np\n",
        "\n",
        "import gym\n",
        "from gym import spaces\n",
        "from gym.utils import seeding\n",
        "\n",
        "\n",
        "class HotterColder(gym.Env):\n",
        "    \"\"\"Hotter Colder\n",
        "    The goal of hotter colder is to guess closer to a randomly selected number\n",
        "    After each step the agent receives an observation of:\n",
        "    0 - No guess yet submitted (only after reset)\n",
        "    1 - Guess is lower than the target\n",
        "    2 - Guess is equal to the target\n",
        "    3 - Guess is higher than the target\n",
        "    The rewards is calculated as:\n",
        "    (min(action, self.number) + self.range) / (max(action, self.number) + self.range)\n",
        "    Ideally an agent will be able to recognise the 'scent' of a higher reward and\n",
        "    increase the rate in which is guesses in that direction until the reward reaches\n",
        "    its maximum\n",
        "    \"\"\"\n",
        "    def __init__(self, x, y):\n",
        "        self.x = x\n",
        "        self.y = y\n",
        "\n",
        "        self.range = 10  # +/- value the randomly select number can be between\n",
        "        self.bounds = 20  # Action space bounds\n",
        "\n",
        "        self.number = 0\n",
        "        self.guess_count = 0\n",
        "        self.guess_max = 200\n",
        "        self.race_num = 0\n",
        "\n",
        "        self.action_space = gym.spaces.Discrete(11)\n",
        "        min = np.array(self.x.min())\n",
        "        low = np.concatenate([min])\n",
        "        max = np.array(self.x.max())        \n",
        "        high = np.concatenate([max])\n",
        "        self.observation_space = gym.spaces.Box(low=low, high=high) \n",
        "        \n",
        "        self.seed()\n",
        "        self.reset()\n",
        "\n",
        "    def seed(self, seed=None):\n",
        "        self.np_random, seed = seeding.np_random(seed)\n",
        "        return [seed]\n",
        "\n",
        "    def step(self, action):\n",
        "        self.done =  self._is_done(action)\n",
        "\n",
        "        reward = 0\n",
        "        plus = 0\n",
        "        if self.done == False:\n",
        "          if action > 0:\n",
        "            plus = (-1 * action + float(self.y.iloc[self.race_num]*action))\n",
        "            reward = plus\n",
        "            self.amount += plus\n",
        "        else:\n",
        "            reward = self.amount\n",
        "\n",
        "#          print(\"\")\n",
        "\n",
        "#         self.amount += reward\n",
        "\n",
        "        self.guess_count += 1\n",
        "        self.race_num += 1\n",
        "\n",
        "        if self.race_num >= len(self.x):\n",
        "          self.race_num = 0\n",
        "\n",
        "#        print(action, end=\"\")\n",
        "#        pprint((self.x.iloc[self.race_num], reward, self.done, {\"guesses\": self.guess_count}))\n",
        "        return np.array(self.x.iloc[self.race_num]), reward, self.done, {\"guesses\": self.guess_count}\n",
        "\n",
        "    def reset(self):\n",
        "        self.done = False\n",
        "        self.amount = 0\n",
        "        self.guess_count = 0\n",
        "        \n",
        "#        pprint(np.concatenate([[self.amount],np.array(self.x.iloc[self.race_num])]))\n",
        "        return np.array(self.x.iloc[self.race_num])\n",
        "      \n",
        "    def _is_done(self, action):\n",
        "        if self.guess_count >= self.guess_max:\n",
        "#           print(\"Over\")\n",
        "          return True\n",
        "        return False"
      ],
      "execution_count": 0,
      "outputs": []
    },
    {
      "cell_type": "code",
      "metadata": {
        "id": "AqnYw2IWFxJU",
        "colab_type": "code",
        "outputId": "5b9b2909-0400-4b83-ed84-5ac80fee556b",
        "colab": {
          "base_uri": "https://localhost:8080/",
          "height": 51
        }
      },
      "source": [
        "env = HotterColder(trainx, trainy)"
      ],
      "execution_count": 30,
      "outputs": [
        {
          "output_type": "stream",
          "text": [
            "/usr/local/lib/python3.6/dist-packages/gym/logger.py:30: UserWarning: \u001b[33mWARN: Box bound precision lowered by casting to float32\u001b[0m\n",
            "  warnings.warn(colorize('%s: %s'%('WARN', msg % args), 'yellow'))\n"
          ],
          "name": "stderr"
        }
      ]
    },
    {
      "cell_type": "code",
      "metadata": {
        "id": "adFXL4cUx8pn",
        "colab_type": "code",
        "colab": {}
      },
      "source": [
        "#x =  spaces.Box(low=np.array([-200]), high=np.array([200]),                                       dtype=np.float32)"
      ],
      "execution_count": 0,
      "outputs": []
    },
    {
      "cell_type": "code",
      "metadata": {
        "id": "J6kxbgCSyAqq",
        "colab_type": "code",
        "colab": {}
      },
      "source": [
        "nb_actions = env.action_space.n\n"
      ],
      "execution_count": 0,
      "outputs": []
    },
    {
      "cell_type": "code",
      "metadata": {
        "id": "qq3JKmJX4YUt",
        "colab_type": "code",
        "outputId": "16e9a841-5f9a-4f39-cb81-6e75d8f50bd4",
        "colab": {
          "base_uri": "https://localhost:8080/",
          "height": 34
        }
      },
      "source": [
        "nb_actions"
      ],
      "execution_count": 33,
      "outputs": [
        {
          "output_type": "execute_result",
          "data": {
            "text/plain": [
              "11"
            ]
          },
          "metadata": {
            "tags": []
          },
          "execution_count": 33
        }
      ]
    },
    {
      "cell_type": "code",
      "metadata": {
        "id": "X23sqWZI1fKi",
        "colab_type": "code",
        "colab": {}
      },
      "source": [
        "# env.action_space.contains(np.array([-2000]))\n"
      ],
      "execution_count": 0,
      "outputs": []
    },
    {
      "cell_type": "code",
      "metadata": {
        "id": "SqTWlfL9EYZA",
        "colab_type": "code",
        "colab": {}
      },
      "source": [
        "# import gym\n",
        "\n",
        "# # GymのPendulum環境を作成\n",
        "# env = gym.make(\"Pendulum-v0\")\n",
        "\n",
        "# # 取りうる”打ち手”のアクション数と値の定義\n",
        "# nb_actions = 2\n",
        "# ACT_ID_TO_VALUE = {0: [-1], 1: [+1]}"
      ],
      "execution_count": 0,
      "outputs": []
    },
    {
      "cell_type": "code",
      "metadata": {
        "id": "Zu7q1TXbFCVv",
        "colab_type": "code",
        "colab": {}
      },
      "source": [
        "from rl.core import Processor\n",
        "\n",
        "\n",
        "class PendulumProcessor(Processor):\n",
        "\n",
        "    # Duel-DQNの出力と、Gym環境の入力の違いを吸収\n",
        "    def process_action(self, action):\n",
        "        return action\n",
        "\n",
        "    # Gym環境の報酬の出力と、Duel-DQNの報酬の入力との違いを吸収\n",
        "    def process_reward(self, reward):\n",
        "      return reward\n",
        "#         if reward > -0.2:\n",
        "#             return 1\n",
        "#         elif reward > -1.0:\n",
        "#             return 0\n",
        "#         else:\n",
        "#             return 0\n",
        "    def process_observation(self, observation):\n",
        "      return observation\n",
        "\n",
        "processor = PendulumProcessor()"
      ],
      "execution_count": 0,
      "outputs": []
    },
    {
      "cell_type": "code",
      "metadata": {
        "id": "mIhFvu7zFRc7",
        "colab_type": "code",
        "outputId": "6443d3f3-fb40-41d8-f892-cd4e02f864a3",
        "colab": {
          "base_uri": "https://localhost:8080/",
          "height": 139
        }
      },
      "source": [
        "from keras.models import Sequential\n",
        "from keras.layers import Dense, Activation, Flatten\n",
        "\n",
        "\n",
        "model = Sequential()\n",
        "model.add(Flatten(input_shape=(1,) + env.observation_space.shape))\n",
        "model.add(Dense(16))\n",
        "model.add(Activation(\"relu\"))\n",
        "model.add(Dense(16))\n",
        "model.add(Activation(\"relu\"))\n",
        "model.add(Dense(nb_actions, activation=\"linear\"))"
      ],
      "execution_count": 37,
      "outputs": [
        {
          "output_type": "stream",
          "text": [
            "WARNING:tensorflow:From /usr/local/lib/python3.6/dist-packages/keras/backend/tensorflow_backend.py:74: The name tf.get_default_graph is deprecated. Please use tf.compat.v1.get_default_graph instead.\n",
            "\n",
            "WARNING:tensorflow:From /usr/local/lib/python3.6/dist-packages/keras/backend/tensorflow_backend.py:517: The name tf.placeholder is deprecated. Please use tf.compat.v1.placeholder instead.\n",
            "\n",
            "WARNING:tensorflow:From /usr/local/lib/python3.6/dist-packages/keras/backend/tensorflow_backend.py:4138: The name tf.random_uniform is deprecated. Please use tf.random.uniform instead.\n",
            "\n"
          ],
          "name": "stdout"
        }
      ]
    },
    {
      "cell_type": "code",
      "metadata": {
        "id": "HDlJ8WYULUzj",
        "colab_type": "code",
        "outputId": "cb6f04d6-b5bc-4f5f-8f92-0821fdb06d5d",
        "colab": {
          "base_uri": "https://localhost:8080/",
          "height": 34
        }
      },
      "source": [
        "(1,) + env.observation_space.shape"
      ],
      "execution_count": 38,
      "outputs": [
        {
          "output_type": "execute_result",
          "data": {
            "text/plain": [
              "(1, 1)"
            ]
          },
          "metadata": {
            "tags": []
          },
          "execution_count": 38
        }
      ]
    },
    {
      "cell_type": "code",
      "metadata": {
        "id": "cNWefvWLNOE8",
        "colab_type": "code",
        "colab": {}
      },
      "source": [
        ""
      ],
      "execution_count": 0,
      "outputs": []
    },
    {
      "cell_type": "code",
      "metadata": {
        "id": "uyzzMQBTHmgl",
        "colab_type": "code",
        "outputId": "36a1536d-b2c2-4fc3-9cf4-73b62bf73128",
        "colab": {
          "base_uri": "https://localhost:8080/",
          "height": 547
        }
      },
      "source": [
        "from keras.optimizers import Adam\n",
        "\n",
        "from rl.agents.dqn import DQNAgent\n",
        "from rl.policy import BoltzmannQPolicy\n",
        "from rl.memory import SequentialMemory\n",
        "\n",
        "\n",
        "# Duel-DQNアルゴリズム関連の幾つかの設定\n",
        "memory = SequentialMemory(limit=50000, window_length=1)\n",
        "policy = BoltzmannQPolicy()\n",
        "\n",
        "# Duel-DQNのAgentクラスオブジェクトの準備 （上記processorやmodelを元に）\n",
        "dqn = DQNAgent(model=model, nb_actions=nb_actions, memory=memory, nb_steps_warmup=10,\n",
        "               enable_dueling_network=True, dueling_type=\"avg\", target_model_update=1e-2, policy=policy,processor=processor)\n",
        "dqn.compile(Adam(lr=1e-3), metrics=[\"mae\"])\n",
        "print(dqn.model.summary())\n",
        "\n",
        "\n"
      ],
      "execution_count": 39,
      "outputs": [
        {
          "output_type": "stream",
          "text": [
            "WARNING:tensorflow:From /usr/local/lib/python3.6/dist-packages/keras/backend/tensorflow_backend.py:174: The name tf.get_default_session is deprecated. Please use tf.compat.v1.get_default_session instead.\n",
            "\n",
            "WARNING:tensorflow:From /usr/local/lib/python3.6/dist-packages/keras/backend/tensorflow_backend.py:181: The name tf.ConfigProto is deprecated. Please use tf.compat.v1.ConfigProto instead.\n",
            "\n",
            "WARNING:tensorflow:From /usr/local/lib/python3.6/dist-packages/keras/optimizers.py:790: The name tf.train.Optimizer is deprecated. Please use tf.compat.v1.train.Optimizer instead.\n",
            "\n",
            "_________________________________________________________________\n",
            "Layer (type)                 Output Shape              Param #   \n",
            "=================================================================\n",
            "flatten_1_input (InputLayer) (None, 1, 1)              0         \n",
            "_________________________________________________________________\n",
            "flatten_1 (Flatten)          (None, 1)                 0         \n",
            "_________________________________________________________________\n",
            "dense_1 (Dense)              (None, 16)                32        \n",
            "_________________________________________________________________\n",
            "activation_1 (Activation)    (None, 16)                0         \n",
            "_________________________________________________________________\n",
            "dense_2 (Dense)              (None, 16)                272       \n",
            "_________________________________________________________________\n",
            "activation_2 (Activation)    (None, 16)                0         \n",
            "_________________________________________________________________\n",
            "dense_4 (Dense)              (None, 12)                204       \n",
            "_________________________________________________________________\n",
            "lambda_1 (Lambda)            (None, 11)                0         \n",
            "=================================================================\n",
            "Total params: 508\n",
            "Trainable params: 508\n",
            "Non-trainable params: 0\n",
            "_________________________________________________________________\n",
            "None\n"
          ],
          "name": "stdout"
        }
      ]
    },
    {
      "cell_type": "code",
      "metadata": {
        "id": "zdeS8JczcdkB",
        "colab_type": "code",
        "colab": {}
      },
      "source": [
        "#from keras.callbacks import EarlyStopping\n",
        "\n",
        "#early_stop = EarlyStopping(patience=69)"
      ],
      "execution_count": 0,
      "outputs": []
    },
    {
      "cell_type": "code",
      "metadata": {
        "id": "JkJxlTvZdG6N",
        "colab_type": "code",
        "colab": {}
      },
      "source": [
        "pd.DataFrame({\"dummy\":1},index=[0]).to_csv(\"h5f/save_start.csv\")"
      ],
      "execution_count": 0,
      "outputs": []
    },
    {
      "cell_type": "code",
      "metadata": {
        "id": "ka3BQCoIVk_x",
        "colab_type": "code",
        "outputId": "2d88fe0d-7f1f-4620-d5e6-50a72f47608a",
        "colab": {
          "base_uri": "https://localhost:8080/",
          "height": 972
        }
      },
      "source": [
        "# 定義課題環境に対して、アルゴリズムの学習を実行 （必要に応じて適切なCallbackも定義、設定可能）\n",
        "# 上記Processorクラスの適切な設定によって、Agent-環境間の入出力を通して設計課題に対しての学習が進行\n",
        "# dqn.fit(env, nb_steps=50000, visualize=False, callbacks=[early_stop], verbose=2)\n",
        "dqn.fit(env, nb_steps=10000, visualize=False, verbose=2)\n",
        "# 学習後のモデルの重みの出力\n",
        "dqn.save_weights(\"h5f/my_dqn_weights_try_modify_reward.h5f\", overwrite=True)\n",
        "\n"
      ],
      "execution_count": 42,
      "outputs": [
        {
          "output_type": "stream",
          "text": [
            "Training for 10000 steps ...\n"
          ],
          "name": "stdout"
        },
        {
          "output_type": "stream",
          "text": [
            "/usr/local/lib/python3.6/dist-packages/rl/memory.py:39: UserWarning: Not enough entries to sample without replacement. Consider increasing your warm-up phase to avoid oversampling!\n",
            "  warnings.warn('Not enough entries to sample without replacement. Consider increasing your warm-up phase to avoid oversampling!')\n",
            "/usr/local/lib/python3.6/dist-packages/rl/memory.py:39: UserWarning: Not enough entries to sample without replacement. Consider increasing your warm-up phase to avoid oversampling!\n",
            "  warnings.warn('Not enough entries to sample without replacement. Consider increasing your warm-up phase to avoid oversampling!')\n"
          ],
          "name": "stderr"
        },
        {
          "output_type": "stream",
          "text": [
            "  201/10000: episode: 1, duration: 1.475s, episode steps: 201, steps per second: 136, episode reward: 1728.200, mean reward: 8.598 [-10.000, 891.000], mean action: 4.925 [0.000, 10.000], mean observation: 0.928 [0.000, 90.100], loss: 4447.507475, mean_absolute_error: 3.376935, mean_q: 3.431106\n",
            "  402/10000: episode: 2, duration: 0.865s, episode steps: 201, steps per second: 232, episode reward: -144.000, mean reward: -0.716 [-72.000, 319.000], mean action: 5.502 [0.000, 10.000], mean observation: 0.510 [0.000, 32.900], loss: 2022.690430, mean_absolute_error: 3.112838, mean_q: 4.582244\n",
            "  603/10000: episode: 3, duration: 0.846s, episode steps: 201, steps per second: 238, episode reward: -866.000, mean reward: -4.308 [-433.000, 342.000], mean action: 6.756 [0.000, 10.000], mean observation: 1.991 [0.000, 343.000], loss: 2711.092041, mean_absolute_error: 5.009438, mean_q: 9.258860\n",
            "  804/10000: episode: 4, duration: 0.849s, episode steps: 201, steps per second: 237, episode reward: -508.000, mean reward: -2.527 [-254.000, 555.000], mean action: 8.552 [0.000, 10.000], mean observation: 0.724 [0.000, 56.500], loss: 4333.317871, mean_absolute_error: 6.194345, mean_q: 12.960010\n",
            " 1005/10000: episode: 5, duration: 0.842s, episode steps: 201, steps per second: 239, episode reward: -638.000, mean reward: -3.174 [-319.000, 578.000], mean action: 9.085 [0.000, 10.000], mean observation: 0.745 [0.000, 58.800], loss: 2760.186768, mean_absolute_error: 5.963516, mean_q: 13.926398\n",
            " 1206/10000: episode: 6, duration: 0.827s, episode steps: 201, steps per second: 243, episode reward: -2716.000, mean reward: -13.512 [-1358.000, 218.000], mean action: 9.045 [0.000, 10.000], mean observation: 0.255 [0.000, 22.800], loss: 1570.043213, mean_absolute_error: 5.561396, mean_q: 13.865713\n",
            " 1407/10000: episode: 7, duration: 0.810s, episode steps: 201, steps per second: 248, episode reward: -1184.000, mean reward: -5.891 [-592.000, 591.000], mean action: 8.612 [0.000, 10.000], mean observation: 0.562 [0.000, 60.100], loss: 3393.726318, mean_absolute_error: 5.715662, mean_q: 14.084414\n",
            " 1608/10000: episode: 8, duration: 0.857s, episode steps: 201, steps per second: 235, episode reward: -842.000, mean reward: -4.189 [-421.000, 259.000], mean action: 8.109 [0.000, 10.000], mean observation: 0.600 [0.000, 26.900], loss: 8130.191406, mean_absolute_error: 5.452827, mean_q: 12.589412\n",
            " 1809/10000: episode: 9, duration: 0.876s, episode steps: 201, steps per second: 229, episode reward: -1532.000, mean reward: -7.622 [-766.000, 93.000], mean action: 7.184 [0.000, 10.000], mean observation: 0.393 [0.000, 12.100], loss: 1586.350708, mean_absolute_error: 4.965880, mean_q: 12.548850\n",
            " 2010/10000: episode: 10, duration: 0.818s, episode steps: 201, steps per second: 246, episode reward: 1620.000, mean reward: 8.060 [-10.000, 810.000], mean action: 6.801 [0.000, 10.000], mean observation: 1.078 [0.000, 53.100], loss: 4668.744629, mean_absolute_error: 5.305662, mean_q: 12.939456\n",
            " 2211/10000: episode: 11, duration: 0.820s, episode steps: 201, steps per second: 245, episode reward: -1440.000, mean reward: -7.164 [-720.000, 163.000], mean action: 5.602 [0.000, 10.000], mean observation: 0.200 [0.000, 17.300], loss: 3312.719482, mean_absolute_error: 4.436907, mean_q: 10.278462\n",
            " 2412/10000: episode: 12, duration: 0.868s, episode steps: 201, steps per second: 232, episode reward: 2298.000, mean reward: 11.433 [-10.000, 1149.000], mean action: 5.517 [0.000, 10.000], mean observation: 1.121 [0.000, 74.600], loss: 2053.308105, mean_absolute_error: 3.788842, mean_q: 8.916976\n",
            " 2613/10000: episode: 13, duration: 0.865s, episode steps: 201, steps per second: 232, episode reward: -355.200, mean reward: -1.767 [-177.600, 268.000], mean action: 4.662 [0.000, 10.000], mean observation: 0.394 [0.000, 27.800], loss: 4494.537109, mean_absolute_error: 4.315521, mean_q: 9.685041\n",
            " 2814/10000: episode: 14, duration: 0.852s, episode steps: 201, steps per second: 236, episode reward: 4006.000, mean reward: 19.930 [-10.000, 2003.000], mean action: 4.766 [0.000, 10.000], mean observation: 1.473 [0.000, 76.100], loss: 2693.950928, mean_absolute_error: 3.796610, mean_q: 8.225899\n",
            " 3015/10000: episode: 15, duration: 0.843s, episode steps: 201, steps per second: 238, episode reward: 468.000, mean reward: 2.328 [-10.000, 234.000], mean action: 4.164 [0.000, 10.000], mean observation: 0.537 [0.000, 18.200], loss: 3353.183838, mean_absolute_error: 4.091851, mean_q: 8.801590\n",
            " 3216/10000: episode: 16, duration: 0.870s, episode steps: 201, steps per second: 231, episode reward: -942.000, mean reward: -4.687 [-471.000, 80.000], mean action: 4.025 [0.000, 10.000], mean observation: 0.168 [0.000, 9.000], loss: 5162.812988, mean_absolute_error: 4.534640, mean_q: 9.892570\n",
            " 3417/10000: episode: 17, duration: 0.821s, episode steps: 201, steps per second: 245, episode reward: 192.000, mean reward: 0.955 [-10.000, 117.000], mean action: 3.438 [0.000, 10.000], mean observation: 0.390 [0.000, 12.700], loss: 3538.364014, mean_absolute_error: 3.832551, mean_q: 8.171538\n",
            " 3618/10000: episode: 18, duration: 0.828s, episode steps: 201, steps per second: 243, episode reward: 914.000, mean reward: 4.547 [-10.000, 457.000], mean action: 3.174 [0.000, 10.000], mean observation: 0.544 [0.000, 31.800], loss: 5598.740234, mean_absolute_error: 4.714624, mean_q: 10.875643\n",
            " 3819/10000: episode: 19, duration: 0.797s, episode steps: 201, steps per second: 252, episode reward: 2154.800, mean reward: 10.720 [-10.000, 1077.400], mean action: 3.353 [0.000, 10.000], mean observation: 0.888 [0.000, 50.000], loss: 2482.829834, mean_absolute_error: 3.781190, mean_q: 8.390832\n",
            " 4020/10000: episode: 20, duration: 0.837s, episode steps: 201, steps per second: 240, episode reward: 757.600, mean reward: 3.769 [-10.000, 378.800], mean action: 3.234 [0.000, 10.000], mean observation: 0.518 [0.000, 26.200], loss: 2598.203613, mean_absolute_error: 4.206024, mean_q: 9.725682\n",
            " 4221/10000: episode: 21, duration: 0.858s, episode steps: 201, steps per second: 234, episode reward: 2683.600, mean reward: 13.351 [-10.000, 1341.800], mean action: 2.746 [0.000, 10.000], mean observation: 0.956 [0.000, 74.700], loss: 4045.152344, mean_absolute_error: 5.051560, mean_q: 11.837925\n",
            " 4422/10000: episode: 22, duration: 0.801s, episode steps: 201, steps per second: 251, episode reward: 224.800, mean reward: 1.118 [-10.000, 112.400], mean action: 2.154 [0.000, 10.000], mean observation: 0.284 [0.000, 9.600], loss: 2474.557617, mean_absolute_error: 4.491404, mean_q: 10.428769\n",
            " 4623/10000: episode: 23, duration: 0.832s, episode steps: 201, steps per second: 241, episode reward: 1116.400, mean reward: 5.554 [-10.000, 558.200], mean action: 1.990 [0.000, 10.000], mean observation: 0.511 [0.000, 19.100], loss: 7110.929199, mean_absolute_error: 5.275357, mean_q: 12.040941\n",
            " 4824/10000: episode: 24, duration: 0.807s, episode steps: 201, steps per second: 249, episode reward: 1342.800, mean reward: 6.681 [-9.000, 671.400], mean action: 1.547 [0.000, 10.000], mean observation: 0.506 [0.000, 16.900], loss: 2711.037354, mean_absolute_error: 5.278430, mean_q: 12.504675\n",
            " 5025/10000: episode: 25, duration: 0.787s, episode steps: 201, steps per second: 256, episode reward: -32.000, mean reward: -0.159 [-16.000, 63.000], mean action: 1.313 [0.000, 10.000], mean observation: 0.145 [0.000, 7.300], loss: 4697.819824, mean_absolute_error: 6.090137, mean_q: 14.534764\n",
            " 5226/10000: episode: 26, duration: 0.811s, episode steps: 201, steps per second: 248, episode reward: 2230.800, mean reward: 11.099 [-4.000, 1115.400], mean action: 1.284 [0.000, 10.000], mean observation: 0.900 [0.000, 66.300], loss: 4469.992676, mean_absolute_error: 6.279067, mean_q: 14.850128\n",
            " 5427/10000: episode: 27, duration: 0.795s, episode steps: 201, steps per second: 253, episode reward: 1054.800, mean reward: 5.248 [-5.000, 527.400], mean action: 0.721 [0.000, 10.000], mean observation: 0.365 [0.000, 22.000], loss: 2018.798340, mean_absolute_error: 7.016857, mean_q: 17.121996\n",
            " 5628/10000: episode: 28, duration: 0.789s, episode steps: 201, steps per second: 255, episode reward: 2692.000, mean reward: 13.393 [-4.000, 1346.000], mean action: 0.647 [0.000, 10.000], mean observation: 0.741 [0.000, 47.300], loss: 2360.470215, mean_absolute_error: 8.739687, mean_q: 21.652000\n",
            " 5829/10000: episode: 29, duration: 0.754s, episode steps: 201, steps per second: 266, episode reward: 2428.000, mean reward: 12.080 [-4.000, 1214.000], mean action: 0.706 [0.000, 10.000], mean observation: 0.717 [0.000, 31.600], loss: 4394.380859, mean_absolute_error: 9.112926, mean_q: 22.955191\n",
            " 6030/10000: episode: 30, duration: 0.760s, episode steps: 201, steps per second: 264, episode reward: 930.000, mean reward: 4.627 [-2.000, 465.000], mean action: 0.358 [0.000, 10.000], mean observation: 0.277 [0.000, 19.400], loss: 5112.879395, mean_absolute_error: 11.183977, mean_q: 27.085958\n",
            " 6231/10000: episode: 31, duration: 0.751s, episode steps: 201, steps per second: 268, episode reward: 1476.000, mean reward: 7.343 [0.000, 738.000], mean action: 0.348 [0.000, 10.000], mean observation: 0.571 [0.000, 32.700], loss: 2824.118164, mean_absolute_error: 12.898778, mean_q: 32.409805\n",
            " 6432/10000: episode: 32, duration: 0.765s, episode steps: 201, steps per second: 263, episode reward: 1173.600, mean reward: 5.839 [0.000, 586.800], mean action: 0.159 [0.000, 10.000], mean observation: 1.086 [0.000, 140.900], loss: 4053.737549, mean_absolute_error: 16.262987, mean_q: 40.653889\n",
            " 6633/10000: episode: 33, duration: 0.767s, episode steps: 201, steps per second: 262, episode reward: 494.000, mean reward: 2.458 [0.000, 247.000], mean action: 0.100 [0.000, 10.000], mean observation: 0.570 [0.000, 70.700], loss: 4228.354980, mean_absolute_error: 18.940706, mean_q: 47.450638\n",
            " 6834/10000: episode: 34, duration: 0.781s, episode steps: 201, steps per second: 257, episode reward: 1872.000, mean reward: 9.313 [0.000, 936.000], mean action: 0.299 [0.000, 10.000], mean observation: 0.599 [0.000, 31.200], loss: 2252.755127, mean_absolute_error: 21.184862, mean_q: 53.066410\n",
            " 7035/10000: episode: 35, duration: 0.802s, episode steps: 201, steps per second: 251, episode reward: 2230.000, mean reward: 11.095 [0.000, 1115.000], mean action: 0.299 [0.000, 10.000], mean observation: 0.819 [0.000, 30.700], loss: 2801.908936, mean_absolute_error: 25.926840, mean_q: 63.967476\n",
            " 7236/10000: episode: 36, duration: 0.772s, episode steps: 201, steps per second: 260, episode reward: 1164.000, mean reward: 5.791 [0.000, 582.000], mean action: 0.249 [0.000, 10.000], mean observation: 0.488 [0.000, 22.600], loss: 3204.682861, mean_absolute_error: 30.378225, mean_q: 73.654961\n",
            " 7437/10000: episode: 37, duration: 0.751s, episode steps: 201, steps per second: 268, episode reward: 2674.800, mean reward: 13.307 [0.000, 1337.400], mean action: 0.269 [0.000, 10.000], mean observation: 1.229 [0.000, 61.600], loss: 5076.097168, mean_absolute_error: 36.860271, mean_q: 87.190765\n",
            " 7638/10000: episode: 38, duration: 0.796s, episode steps: 201, steps per second: 252, episode reward: 1658.000, mean reward: 8.249 [0.000, 829.000], mean action: 0.249 [0.000, 10.000], mean observation: 0.556 [0.000, 28.500], loss: 3785.835938, mean_absolute_error: 45.616367, mean_q: 103.397194\n",
            " 7839/10000: episode: 39, duration: 0.789s, episode steps: 201, steps per second: 255, episode reward: 1810.600, mean reward: 9.008 [0.000, 905.300], mean action: 0.353 [0.000, 10.000], mean observation: 1.069 [0.000, 92.300], loss: 5192.442871, mean_absolute_error: 54.809486, mean_q: 118.547440\n",
            " 8040/10000: episode: 40, duration: 0.754s, episode steps: 201, steps per second: 266, episode reward: 1616.000, mean reward: 8.040 [0.000, 808.000], mean action: 0.348 [0.000, 10.000], mean observation: 0.649 [0.000, 30.700], loss: 2767.379150, mean_absolute_error: 65.863693, mean_q: 136.409180\n",
            " 8241/10000: episode: 41, duration: 0.797s, episode steps: 201, steps per second: 252, episode reward: 2552.000, mean reward: 12.697 [0.000, 1276.000], mean action: 0.547 [0.000, 10.000], mean observation: 0.665 [0.000, 30.300], loss: 3519.938965, mean_absolute_error: 76.951164, mean_q: 151.187805\n",
            " 8442/10000: episode: 42, duration: 0.770s, episode steps: 201, steps per second: 261, episode reward: 556.000, mean reward: 2.766 [0.000, 278.000], mean action: 0.199 [0.000, 10.000], mean observation: 0.241 [0.000, 11.700], loss: 1983.679932, mean_absolute_error: 88.895966, mean_q: 166.769394\n",
            " 8643/10000: episode: 43, duration: 0.809s, episode steps: 201, steps per second: 248, episode reward: 1506.400, mean reward: 7.495 [0.000, 753.200], mean action: 0.478 [0.000, 10.000], mean observation: 0.970 [0.000, 91.600], loss: 2839.043213, mean_absolute_error: 103.643051, mean_q: 185.712051\n",
            " 8844/10000: episode: 44, duration: 0.795s, episode steps: 201, steps per second: 253, episode reward: 2234.000, mean reward: 11.114 [0.000, 1117.000], mean action: 0.448 [0.000, 10.000], mean observation: 0.648 [0.000, 30.400], loss: 2610.602051, mean_absolute_error: 118.094315, mean_q: 201.208527\n",
            " 9045/10000: episode: 45, duration: 0.759s, episode steps: 201, steps per second: 265, episode reward: 1174.000, mean reward: 5.841 [0.000, 587.000], mean action: 0.498 [0.000, 10.000], mean observation: 0.392 [0.000, 12.800], loss: 3717.868164, mean_absolute_error: 136.193329, mean_q: 220.137726\n",
            " 9246/10000: episode: 46, duration: 0.768s, episode steps: 201, steps per second: 262, episode reward: 1580.000, mean reward: 7.861 [0.000, 790.000], mean action: 0.647 [0.000, 10.000], mean observation: 0.486 [0.000, 17.600], loss: 2175.548584, mean_absolute_error: 153.126648, mean_q: 236.713196\n",
            " 9447/10000: episode: 47, duration: 0.770s, episode steps: 201, steps per second: 261, episode reward: 2138.000, mean reward: 10.637 [0.000, 1069.000], mean action: 0.746 [0.000, 10.000], mean observation: 0.614 [0.000, 26.500], loss: 3680.552979, mean_absolute_error: 170.129684, mean_q: 252.309921\n",
            " 9648/10000: episode: 48, duration: 0.768s, episode steps: 201, steps per second: 262, episode reward: 1420.000, mean reward: 7.065 [0.000, 710.000], mean action: 0.647 [0.000, 10.000], mean observation: 0.434 [0.000, 16.900], loss: 3124.369385, mean_absolute_error: 187.163406, mean_q: 269.269867\n",
            " 9849/10000: episode: 49, duration: 0.788s, episode steps: 201, steps per second: 255, episode reward: 1574.000, mean reward: 7.831 [-2.000, 787.000], mean action: 0.856 [0.000, 10.000], mean observation: 0.477 [0.000, 13.200], loss: 2823.363281, mean_absolute_error: 202.597321, mean_q: 282.616608\n",
            "done, took 40.850 seconds\n"
          ],
          "name": "stdout"
        }
      ]
    },
    {
      "cell_type": "code",
      "metadata": {
        "id": "TAzrMyOTHmxi",
        "colab_type": "code",
        "colab": {}
      },
      "source": [
        "# 学習後のモデルの重みの出力\n",
        "dqn.save_weights(\"h5f/my_dqn_weights_try_modify_reward.h5f\", overwrite=True)\n",
        "\n"
      ],
      "execution_count": 0,
      "outputs": []
    },
    {
      "cell_type": "code",
      "metadata": {
        "id": "2uorHBKYVHaS",
        "colab_type": "code",
        "colab": {}
      },
      "source": [
        "dqn.load_weights(\"h5f/my_dqn_weights_try_modify_reward.h5f\")\n"
      ],
      "execution_count": 0,
      "outputs": []
    },
    {
      "cell_type": "code",
      "metadata": {
        "id": "Uql1Js50Tb8O",
        "colab_type": "code",
        "colab": {}
      },
      "source": [
        "import rl.callbacks\n",
        "class EpisodeLogger(rl.callbacks.Callback):\n",
        "    def __init__(self):\n",
        "        self.observations = {}\n",
        "        self.rewards = {}\n",
        "        self.actions = {}\n",
        "\n",
        "    def on_episode_begin(self, episode, logs):\n",
        "        self.observations[episode] = []\n",
        "        self.rewards[episode] = []\n",
        "        self.actions[episode] = []\n",
        "\n",
        "    def on_step_end(self, step, logs):\n",
        "        episode = logs['episode']\n",
        "        self.observations[episode].append(logs['observation'])\n",
        "        self.rewards[episode].append(logs['reward'])\n",
        "        self.actions[episode].append(logs['action'])\n",
        "\n",
        "cb_ep = EpisodeLogger()"
      ],
      "execution_count": 0,
      "outputs": []
    },
    {
      "cell_type": "code",
      "metadata": {
        "id": "vHT0OfELHqrk",
        "colab_type": "code",
        "outputId": "e0223758-ca17-4465-85f0-64a2f8effef4",
        "colab": {
          "base_uri": "https://localhost:8080/",
          "height": 391
        }
      },
      "source": [
        "# 学習済モデルに対して、テストを実行 （必要に応じて適切なCallbackも定義、設定可能）\n",
        "dqn.test(env, nb_episodes=20, visualize=False, callbacks=[cb_ep])"
      ],
      "execution_count": 0,
      "outputs": [
        {
          "output_type": "stream",
          "text": [
            "Testing for 20 episodes ...\n",
            "Episode 1: reward: -166.600, steps: 201\n",
            "Episode 2: reward: -26.400, steps: 201\n",
            "Episode 3: reward: -96.000, steps: 201\n",
            "Episode 4: reward: -109.100, steps: 201\n",
            "Episode 5: reward: -112.300, steps: 201\n",
            "Episode 6: reward: -122.800, steps: 201\n",
            "Episode 7: reward: -151.300, steps: 201\n",
            "Episode 8: reward: -100.000, steps: 201\n",
            "Episode 9: reward: -166.900, steps: 201\n",
            "Episode 10: reward: -83.600, steps: 201\n",
            "Episode 11: reward: -77.500, steps: 201\n",
            "Episode 12: reward: 23.200, steps: 201\n",
            "Episode 13: reward: -73.200, steps: 201\n",
            "Episode 14: reward: 65.300, steps: 201\n",
            "Episode 15: reward: 94.800, steps: 201\n",
            "Episode 16: reward: -52.200, steps: 201\n",
            "Episode 17: reward: -93.300, steps: 201\n",
            "Episode 18: reward: -46.700, steps: 201\n",
            "Episode 19: reward: -106.200, steps: 201\n",
            "Episode 20: reward: -41.800, steps: 201\n"
          ],
          "name": "stdout"
        },
        {
          "output_type": "execute_result",
          "data": {
            "text/plain": [
              "<keras.callbacks.History at 0x7f0db9280a20>"
            ]
          },
          "metadata": {
            "tags": []
          },
          "execution_count": 37
        }
      ]
    },
    {
      "cell_type": "code",
      "metadata": {
        "id": "E-A5ApZnHvx5",
        "colab_type": "code",
        "outputId": "b6391fcb-8f4e-4673-ac4b-9f99c1c3c0f8",
        "colab": {
          "base_uri": "https://localhost:8080/",
          "height": 307
        }
      },
      "source": [
        "%matplotlib inline\n",
        "import matplotlib.pyplot as plt\n",
        "\n",
        "for obs in cb_ep.observations.values():\n",
        "    plt.plot([o for o in obs])\n",
        "plt.xlabel(\"step\")\n",
        "plt.ylabel(\"pos\")"
      ],
      "execution_count": 0,
      "outputs": [
        {
          "output_type": "execute_result",
          "data": {
            "text/plain": [
              "Text(0, 0.5, 'pos')"
            ]
          },
          "metadata": {
            "tags": []
          },
          "execution_count": 40
        },
        {
          "output_type": "display_data",
          "data": {
            "image/png": "[encoded data removed]",
            "text/plain": [
              "<Figure size 432x288 with 1 Axes>"
            ]
          },
          "metadata": {
            "tags": []
          }
        }
      ]
    },
    {
      "cell_type": "code",
      "metadata": {
        "id": "J6kBmjN9TvYL",
        "colab_type": "code",
        "outputId": "3b9e9905-45ac-4e8b-b033-65abb0f7ee53",
        "colab": {
          "base_uri": "https://localhost:8080/",
          "height": 1000
        }
      },
      "source": [
        "cb_ep.actions[0]"
      ],
      "execution_count": 0,
      "outputs": [
        {
          "output_type": "execute_result",
          "data": {
            "text/plain": [
              "[1,\n",
              " 1,\n",
              " 1,\n",
              " 1,\n",
              " 1,\n",
              " 1,\n",
              " 1,\n",
              " 1,\n",
              " 1,\n",
              " 1,\n",
              " 1,\n",
              " 1,\n",
              " 1,\n",
              " 1,\n",
              " 1,\n",
              " 1,\n",
              " 1,\n",
              " 1,\n",
              " 1,\n",
              " 1,\n",
              " 1,\n",
              " 1,\n",
              " 1,\n",
              " 1,\n",
              " 1,\n",
              " 1,\n",
              " 1,\n",
              " 1,\n",
              " 1,\n",
              " 1,\n",
              " 1,\n",
              " 1,\n",
              " 1,\n",
              " 1,\n",
              " 1,\n",
              " 1,\n",
              " 1,\n",
              " 1,\n",
              " 1,\n",
              " 1,\n",
              " 1,\n",
              " 1,\n",
              " 1,\n",
              " 1,\n",
              " 1,\n",
              " 1,\n",
              " 1,\n",
              " 1,\n",
              " 1,\n",
              " 1,\n",
              " 1,\n",
              " 1,\n",
              " 1,\n",
              " 1,\n",
              " 1,\n",
              " 1,\n",
              " 1,\n",
              " 1,\n",
              " 1,\n",
              " 1,\n",
              " 1,\n",
              " 1,\n",
              " 1,\n",
              " 1,\n",
              " 1,\n",
              " 1,\n",
              " 1,\n",
              " 1,\n",
              " 1,\n",
              " 1,\n",
              " 1,\n",
              " 1,\n",
              " 1,\n",
              " 1,\n",
              " 1,\n",
              " 1,\n",
              " 1,\n",
              " 1,\n",
              " 1,\n",
              " 1,\n",
              " 1,\n",
              " 1,\n",
              " 1,\n",
              " 1,\n",
              " 1,\n",
              " 1,\n",
              " 1,\n",
              " 1,\n",
              " 1,\n",
              " 1,\n",
              " 1,\n",
              " 1,\n",
              " 1,\n",
              " 1,\n",
              " 1,\n",
              " 1,\n",
              " 1,\n",
              " 1,\n",
              " 1,\n",
              " 1,\n",
              " 1,\n",
              " 1,\n",
              " 1,\n",
              " 1,\n",
              " 1,\n",
              " 1,\n",
              " 1,\n",
              " 1,\n",
              " 1,\n",
              " 1,\n",
              " 1,\n",
              " 1,\n",
              " 1,\n",
              " 1,\n",
              " 1,\n",
              " 1,\n",
              " 1,\n",
              " 1,\n",
              " 1,\n",
              " 1,\n",
              " 1,\n",
              " 1,\n",
              " 1,\n",
              " 1,\n",
              " 1,\n",
              " 1,\n",
              " 1,\n",
              " 1,\n",
              " 1,\n",
              " 1,\n",
              " 1,\n",
              " 1,\n",
              " 1,\n",
              " 1,\n",
              " 1,\n",
              " 1,\n",
              " 1,\n",
              " 1,\n",
              " 1,\n",
              " 1,\n",
              " 1,\n",
              " 1,\n",
              " 1,\n",
              " 1,\n",
              " 1,\n",
              " 1,\n",
              " 1,\n",
              " 1,\n",
              " 1,\n",
              " 1,\n",
              " 1,\n",
              " 1,\n",
              " 1,\n",
              " 1,\n",
              " 1,\n",
              " 1,\n",
              " 1,\n",
              " 1,\n",
              " 1,\n",
              " 1,\n",
              " 1,\n",
              " 1,\n",
              " 1,\n",
              " 1,\n",
              " 1,\n",
              " 1,\n",
              " 1,\n",
              " 1,\n",
              " 1,\n",
              " 1,\n",
              " 1,\n",
              " 1,\n",
              " 1,\n",
              " 1,\n",
              " 1,\n",
              " 1,\n",
              " 1,\n",
              " 1,\n",
              " 1,\n",
              " 1,\n",
              " 1,\n",
              " 1,\n",
              " 1,\n",
              " 1,\n",
              " 1,\n",
              " 1,\n",
              " 1,\n",
              " 1,\n",
              " 1,\n",
              " 1,\n",
              " 1,\n",
              " 1,\n",
              " 1,\n",
              " 1,\n",
              " 1,\n",
              " 1,\n",
              " 1,\n",
              " 1,\n",
              " 1,\n",
              " 1,\n",
              " 1]"
            ]
          },
          "metadata": {
            "tags": []
          },
          "execution_count": 38
        }
      ]
    },
    {
      "cell_type": "code",
      "metadata": {
        "id": "j5l3xRXuTzjx",
        "colab_type": "code",
        "colab": {}
      },
      "source": [
        "a  = np.array([1,2,3])\n",
        "b = np.array([4,5,6])"
      ],
      "execution_count": 0,
      "outputs": []
    },
    {
      "cell_type": "code",
      "metadata": {
        "id": "GX9lQdr8mLk_",
        "colab_type": "code",
        "outputId": "1e49aedc-95c5-4c46-f9a7-cc1ca80d5628",
        "colab": {
          "base_uri": "https://localhost:8080/",
          "height": 34
        }
      },
      "source": [
        "np.concatenate([[1],b])"
      ],
      "execution_count": 0,
      "outputs": [
        {
          "output_type": "execute_result",
          "data": {
            "text/plain": [
              "array([1, 4, 5, 6])"
            ]
          },
          "metadata": {
            "tags": []
          },
          "execution_count": 56
        }
      ]
    },
    {
      "cell_type": "code",
      "metadata": {
        "id": "AybG9q1OtZst",
        "colab_type": "code",
        "colab": {}
      },
      "source": [
        ""
      ],
      "execution_count": 0,
      "outputs": []
    }
  ]
}