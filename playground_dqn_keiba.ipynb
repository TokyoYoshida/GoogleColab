{
  "nbformat": 4,
  "nbformat_minor": 0,
  "metadata": {
    "colab": {
      "name": "playground_dqn_keiba",
      "provenance": [],
      "collapsed_sections": [],
      "include_colab_link": true
    },
    "kernelspec": {
      "name": "python3",
      "display_name": "Python 3"
    },
    "accelerator": "TPU"
  },
  "cells": [
    {
      "cell_type": "markdown",
      "metadata": {
        "id": "view-in-github",
        "colab_type": "text"
      },
      "source": [
        "<a href=\"https://colab.research.google.com/github/TokyoYoshida/GoogleColab/blob/master/playground_dqn_keiba.ipynb\" target=\"_parent\"><img src=\"https://colab.research.google.com/assets/colab-badge.svg\" alt=\"Open In Colab\"/></a>"
      ]
    },
    {
      "cell_type": "code",
      "metadata": {
        "id": "UXxOmD7gDtxX",
        "colab_type": "code",
        "outputId": "a0f172fe-3fd4-4f1b-8817-cc3b35359bce",
        "colab": {
          "base_uri": "https://localhost:8080/",
          "height": 34
        }
      },
      "source": [
        "from google.colab import drive\n",
        "drive.mount('/content/drive')\n",
        "# 必要ならば以下のようにディレクトリ移動する\n",
        " "
      ],
      "execution_count": 1,
      "outputs": [
        {
          "output_type": "stream",
          "text": [
            "Drive already mounted at /content/drive; to attempt to forcibly remount, call drive.mount(\"/content/drive\", force_remount=True).\n"
          ],
          "name": "stdout"
        }
      ]
    },
    {
      "cell_type": "code",
      "metadata": {
        "id": "FB5kzWFnDvLF",
        "colab_type": "code",
        "outputId": "7d666fcd-60e4-4df7-c7e1-669332158c89",
        "colab": {
          "base_uri": "https://localhost:8080/",
          "height": 34
        }
      },
      "source": [
        "%cd /content/drive/'My Drive'/'★個人専用ファイル'/'開発用・個人サービス開発'/'GoogleColab'/"
      ],
      "execution_count": 2,
      "outputs": [
        {
          "output_type": "stream",
          "text": [
            "/content/drive/My Drive/★個人専用ファイル/開発用・個人サービス開発/GoogleColab\n"
          ],
          "name": "stdout"
        }
      ]
    },
    {
      "cell_type": "code",
      "metadata": {
        "id": "7tT1SbekEPKY",
        "colab_type": "code",
        "outputId": "26e7459f-84d7-4f6a-e89e-1f8f24c7140a",
        "colab": {
          "base_uri": "https://localhost:8080/",
          "height": 272
        }
      },
      "source": [
        "%ls data/keiba\n"
      ],
      "execution_count": 3,
      "outputs": [
        {
          "output_type": "stream",
          "text": [
            "darby.csv\n",
            "keiba_dat_res_20200528_2355.pkl\n",
            "keiba_dat_res_20200528.pkl\n",
            "keiba_dat_res_20200529_2306_20200531backup.pkl\n",
            "keiba_dat_res_20200529_2306.pkl\n",
            "keiba_dat_res_20200531_1207.pkl\n",
            "keiba_dat_res_20200531_1707.pkl\n",
            "keiba_predict_20200604_1617.pkl\n",
            "result_20200528_2020年時点最新競馬データ.csv\n",
            "調教師一覧.csv\n",
            "調教師一覧.gsheet\n",
            "馬一覧.csv\n",
            "馬一覧.gsheet\n",
            "騎手一覧.csv\n",
            "騎手一覧.gsheet\n"
          ],
          "name": "stdout"
        }
      ]
    },
    {
      "cell_type": "code",
      "metadata": {
        "id": "0oeldNv7-4ch",
        "colab_type": "code",
        "colab": {}
      },
      "source": [
        "import pandas as pd"
      ],
      "execution_count": 0,
      "outputs": []
    },
    {
      "cell_type": "code",
      "metadata": {
        "id": "zdsoSSOZZo9D",
        "colab_type": "code",
        "colab": {}
      },
      "source": [
        "import numpy as np"
      ],
      "execution_count": 0,
      "outputs": []
    },
    {
      "cell_type": "code",
      "metadata": {
        "id": "k9aBWsjhDpQp",
        "colab_type": "code",
        "colab": {}
      },
      "source": [
        "# 競馬データの作成"
      ],
      "execution_count": 0,
      "outputs": []
    },
    {
      "cell_type": "code",
      "metadata": {
        "id": "HIWclTGw-4nE",
        "colab_type": "code",
        "colab": {}
      },
      "source": [
        "ldat = pd.read_pickle(\"./data/keiba/keiba_predict_20200604_1617.pkl\")"
      ],
      "execution_count": 0,
      "outputs": []
    },
    {
      "cell_type": "code",
      "metadata": {
        "id": "fhQOvyWq7dVf",
        "colab_type": "code",
        "colab": {}
      },
      "source": [
        "# ３位以内に入ったら、複勝オッズとして1.1倍をつけておく\n",
        "ldat.loc[(ldat[\"high_rank\"]==1) & (ldat[\"return\"] == 0), \"return\"] = 1.1"
      ],
      "execution_count": 0,
      "outputs": []
    },
    {
      "cell_type": "code",
      "metadata": {
        "id": "RPxKeoI6z0--",
        "colab_type": "code",
        "colab": {}
      },
      "source": [
        "# ディープラーニングが勝ち予想した馬に限定する\n",
        "ldat = ldat.query(\"winner_predict_win > 0\")"
      ],
      "execution_count": 0,
      "outputs": []
    },
    {
      "cell_type": "code",
      "metadata": {
        "id": "iGwiRWJ4z1V4",
        "colab_type": "code",
        "colab": {}
      },
      "source": [
        ""
      ],
      "execution_count": 0,
      "outputs": []
    },
    {
      "cell_type": "code",
      "metadata": {
        "id": "DlRazfpWyqyc",
        "colab_type": "code",
        "colab": {}
      },
      "source": [
        "sdat = ldat.sample(frac=1).reset_index(drop=True)"
      ],
      "execution_count": 0,
      "outputs": []
    },
    {
      "cell_type": "code",
      "metadata": {
        "id": "tfUTHaPE-4xZ",
        "colab_type": "code",
        "colab": {}
      },
      "source": [
        "# x = sdat[['frame_num', 'horse_num', 'name', 'sex', 'age', 'amount',\n",
        "#        'jockey', 'odds', 'popularity', 'weight',\n",
        "#        'diff_weight', 'trainer', 'race_num', 'grade', 'ground', 'direction',\n",
        "#         'distance', 'weather', 'condition', 'start_time_float', 'year',\n",
        "#        'month', 'day', 'prev_rank', 'prev_frame_num', 'prev_horse_num',\n",
        "#        'prev_name', 'prev_sex', 'prev_age', 'prev_amount', 'prev_jockey',\n",
        "#        'prev_time_float', 'prev_diff_arrival', 'prev_odds', 'prev_popularity',\n",
        "#        'prev_weight', 'prev_diff_weight', 'prev_trainer', 'prev_race_num',\n",
        "#        'prev_grade', 'prev_ground', 'prev_direction',\n",
        "#        'prev_distance', 'prev_weather', 'prev_condition', 'prev_start_time_float',\n",
        "#        'prev_year', 'prev_month', 'prev_day']].dropna(0)"
      ],
      "execution_count": 0,
      "outputs": []
    },
    {
      "cell_type": "code",
      "metadata": {
        "id": "3SW8SNVNSilw",
        "colab_type": "code",
        "colab": {}
      },
      "source": [
        "# x = sdat[['frame_num', 'horse_num', 'sex', 'age', 'amount',\n",
        "#        'odds', 'popularity', 'weight',\n",
        "#        'diff_weight', 'trainer', 'grade', 'ground', 'direction',\n",
        "#         'distance', 'weather', 'condition', 'start_time_float', 'prev_rank', 'prev_frame_num', 'prev_horse_num',\n",
        "#        'prev_sex', 'prev_age', 'prev_amount', 'prev_jockey',\n",
        "#        'prev_time_float', 'prev_diff_arrival', 'prev_odds', 'prev_popularity',\n",
        "#        'prev_weight', 'prev_diff_weight', 'prev_trainer',\n",
        "#        'prev_grade', 'prev_ground', 'prev_direction',\n",
        "#        'prev_distance', 'prev_weather', 'prev_condition', 'prev_start_time_float'\n",
        "#        ]].dropna(0)"
      ],
      "execution_count": 0,
      "outputs": []
    },
    {
      "cell_type": "code",
      "metadata": {
        "id": "L86xkmZGTZ-K",
        "colab_type": "code",
        "colab": {}
      },
      "source": [
        "x = sdat[[\"odds\",\"winner_predict_win\"]].dropna(0)"
      ],
      "execution_count": 0,
      "outputs": []
    },
    {
      "cell_type": "code",
      "metadata": {
        "id": "izs3s8otL3XX",
        "colab_type": "code",
        "colab": {}
      },
      "source": [
        "# x = sdat[[\"odds\"]].dropna(0)"
      ],
      "execution_count": 0,
      "outputs": []
    },
    {
      "cell_type": "code",
      "metadata": {
        "id": "VT8CcCQR-48e",
        "colab_type": "code",
        "colab": {}
      },
      "source": [
        "y = sdat[[\"return\"]].dropna(0)"
      ],
      "execution_count": 0,
      "outputs": []
    },
    {
      "cell_type": "code",
      "metadata": {
        "id": "2jQ42aW4-5Ai",
        "colab_type": "code",
        "colab": {}
      },
      "source": [
        "# 競馬データの作成 終わり"
      ],
      "execution_count": 0,
      "outputs": []
    },
    {
      "cell_type": "code",
      "metadata": {
        "id": "gJdOFuv3-46d",
        "colab_type": "code",
        "colab": {}
      },
      "source": [
        "# 学習、テストデータの作成"
      ],
      "execution_count": 0,
      "outputs": []
    },
    {
      "cell_type": "code",
      "metadata": {
        "id": "p2wTrCZbcCdt",
        "colab_type": "code",
        "colab": {}
      },
      "source": [
        "trainlen = int(len(x)/2)"
      ],
      "execution_count": 0,
      "outputs": []
    },
    {
      "cell_type": "code",
      "metadata": {
        "id": "iFK08dQKcCoJ",
        "colab_type": "code",
        "colab": {}
      },
      "source": [
        "trainx = x.head(trainlen)\n",
        "trainy = y.head(trainlen)"
      ],
      "execution_count": 0,
      "outputs": []
    },
    {
      "cell_type": "code",
      "metadata": {
        "id": "rW4_Fl4icCt1",
        "colab_type": "code",
        "colab": {}
      },
      "source": [
        "testx = x.tail(len(x)-trainlen)\n",
        "testy = y.tail(len(x)-trainlen)"
      ],
      "execution_count": 0,
      "outputs": []
    },
    {
      "cell_type": "code",
      "metadata": {
        "id": "jzQJ4Mus-43A",
        "colab_type": "code",
        "colab": {}
      },
      "source": [
        "# 学習、テストデータの作成　終わり"
      ],
      "execution_count": 0,
      "outputs": []
    },
    {
      "cell_type": "code",
      "metadata": {
        "id": "4yO24DOecXKp",
        "colab_type": "code",
        "colab": {}
      },
      "source": [
        ""
      ],
      "execution_count": 0,
      "outputs": []
    },
    {
      "cell_type": "code",
      "metadata": {
        "id": "SJUwnya_cXRX",
        "colab_type": "code",
        "colab": {}
      },
      "source": [
        "#!pip uninstall -y keras"
      ],
      "execution_count": 0,
      "outputs": []
    },
    {
      "cell_type": "code",
      "metadata": {
        "id": "LutfR4VAcXO3",
        "colab_type": "code",
        "colab": {}
      },
      "source": [
        "#!pip uninstall -y tensorflow"
      ],
      "execution_count": 0,
      "outputs": []
    },
    {
      "cell_type": "code",
      "metadata": {
        "id": "qULptQcKFwQ8",
        "colab_type": "code",
        "outputId": "f369a7ee-6969-47de-a2d4-c2c16175cdeb",
        "colab": {
          "base_uri": "https://localhost:8080/",
          "height": 391
        }
      },
      "source": [
        "!pip install tensorflow==1.14"
      ],
      "execution_count": 184,
      "outputs": [
        {
          "output_type": "stream",
          "text": [
            "Requirement already satisfied: tensorflow==1.14 in /usr/local/lib/python3.6/dist-packages (1.14.0)\n",
            "Requirement already satisfied: tensorboard<1.15.0,>=1.14.0 in /usr/local/lib/python3.6/dist-packages (from tensorflow==1.14) (1.14.0)\n",
            "Requirement already satisfied: protobuf>=3.6.1 in /usr/local/lib/python3.6/dist-packages (from tensorflow==1.14) (3.10.0)\n",
            "Requirement already satisfied: termcolor>=1.1.0 in /usr/local/lib/python3.6/dist-packages (from tensorflow==1.14) (1.1.0)\n",
            "Requirement already satisfied: wrapt>=1.11.1 in /usr/local/lib/python3.6/dist-packages (from tensorflow==1.14) (1.12.1)\n",
            "Requirement already satisfied: six>=1.10.0 in /usr/local/lib/python3.6/dist-packages (from tensorflow==1.14) (1.12.0)\n",
            "Requirement already satisfied: wheel>=0.26 in /usr/local/lib/python3.6/dist-packages (from tensorflow==1.14) (0.34.2)\n",
            "Requirement already satisfied: keras-applications>=1.0.6 in /usr/local/lib/python3.6/dist-packages (from tensorflow==1.14) (1.0.8)\n",
            "Requirement already satisfied: absl-py>=0.7.0 in /usr/local/lib/python3.6/dist-packages (from tensorflow==1.14) (0.9.0)\n",
            "Requirement already satisfied: gast>=0.2.0 in /usr/local/lib/python3.6/dist-packages (from tensorflow==1.14) (0.3.3)\n",
            "Requirement already satisfied: grpcio>=1.8.6 in /usr/local/lib/python3.6/dist-packages (from tensorflow==1.14) (1.29.0)\n",
            "Requirement already satisfied: keras-preprocessing>=1.0.5 in /usr/local/lib/python3.6/dist-packages (from tensorflow==1.14) (1.1.2)\n",
            "Requirement already satisfied: numpy<2.0,>=1.14.5 in /usr/local/lib/python3.6/dist-packages (from tensorflow==1.14) (1.18.4)\n",
            "Requirement already satisfied: google-pasta>=0.1.6 in /usr/local/lib/python3.6/dist-packages (from tensorflow==1.14) (0.2.0)\n",
            "Requirement already satisfied: tensorflow-estimator<1.15.0rc0,>=1.14.0rc0 in /usr/local/lib/python3.6/dist-packages (from tensorflow==1.14) (1.14.0)\n",
            "Requirement already satisfied: astor>=0.6.0 in /usr/local/lib/python3.6/dist-packages (from tensorflow==1.14) (0.8.1)\n",
            "Requirement already satisfied: setuptools>=41.0.0 in /usr/local/lib/python3.6/dist-packages (from tensorboard<1.15.0,>=1.14.0->tensorflow==1.14) (47.1.1)\n",
            "Requirement already satisfied: werkzeug>=0.11.15 in /usr/local/lib/python3.6/dist-packages (from tensorboard<1.15.0,>=1.14.0->tensorflow==1.14) (1.0.1)\n",
            "Requirement already satisfied: markdown>=2.6.8 in /usr/local/lib/python3.6/dist-packages (from tensorboard<1.15.0,>=1.14.0->tensorflow==1.14) (3.2.2)\n",
            "Requirement already satisfied: h5py in /usr/local/lib/python3.6/dist-packages (from keras-applications>=1.0.6->tensorflow==1.14) (2.10.0)\n",
            "Requirement already satisfied: importlib-metadata; python_version < \"3.8\" in /usr/local/lib/python3.6/dist-packages (from markdown>=2.6.8->tensorboard<1.15.0,>=1.14.0->tensorflow==1.14) (1.6.0)\n",
            "Requirement already satisfied: zipp>=0.5 in /usr/local/lib/python3.6/dist-packages (from importlib-metadata; python_version < \"3.8\"->markdown>=2.6.8->tensorboard<1.15.0,>=1.14.0->tensorflow==1.14) (3.1.0)\n"
          ],
          "name": "stdout"
        }
      ]
    },
    {
      "cell_type": "code",
      "metadata": {
        "id": "YPH6Z9Cjsf_o",
        "colab_type": "code",
        "colab": {}
      },
      "source": [
        "#!pip install tensorflow"
      ],
      "execution_count": 0,
      "outputs": []
    },
    {
      "cell_type": "code",
      "metadata": {
        "id": "nqog9TrbFcpd",
        "colab_type": "code",
        "colab": {}
      },
      "source": [
        "!pip install -q keras==2.0.8"
      ],
      "execution_count": 0,
      "outputs": []
    },
    {
      "cell_type": "code",
      "metadata": {
        "id": "BTtTJTMOFssd",
        "colab_type": "code",
        "colab": {}
      },
      "source": [
        "import keras"
      ],
      "execution_count": 0,
      "outputs": []
    },
    {
      "cell_type": "code",
      "metadata": {
        "id": "AwMMRuLyRpqd",
        "colab_type": "code",
        "colab": {}
      },
      "source": [
        "#pip uninstall -q keras-rl"
      ],
      "execution_count": 0,
      "outputs": []
    },
    {
      "cell_type": "code",
      "metadata": {
        "id": "h0QhjBgmFvtP",
        "colab_type": "code",
        "colab": {}
      },
      "source": [
        "!pip install -q keras-rl"
      ],
      "execution_count": 0,
      "outputs": []
    },
    {
      "cell_type": "code",
      "metadata": {
        "id": "aVHdpj8I9ggK",
        "colab_type": "code",
        "colab": {}
      },
      "source": [
        "from pprint import pprint"
      ],
      "execution_count": 0,
      "outputs": []
    },
    {
      "cell_type": "code",
      "metadata": {
        "id": "XWW3TvU-cy4o",
        "colab_type": "code",
        "colab": {
          "base_uri": "https://localhost:8080/",
          "height": 68
        },
        "outputId": "64086c0e-6974-46c4-f2bb-d16f9a3763ae"
      },
      "source": [
        "trainx.min()"
      ],
      "execution_count": 191,
      "outputs": [
        {
          "output_type": "execute_result",
          "data": {
            "text/plain": [
              "odds                  1.0\n",
              "winner_predict_win    0.0\n",
              "dtype: float64"
            ]
          },
          "metadata": {
            "tags": []
          },
          "execution_count": 191
        }
      ]
    },
    {
      "cell_type": "code",
      "metadata": {
        "id": "mL1paZ9XQHQX",
        "colab_type": "code",
        "colab": {
          "base_uri": "https://localhost:8080/",
          "height": 1000
        },
        "outputId": "e44782c1-42a7-4a05-c9fe-27b6838655a9"
      },
      "source": [
        "!pip list"
      ],
      "execution_count": 192,
      "outputs": [
        {
          "output_type": "stream",
          "text": [
            "Package                  Version        \n",
            "------------------------ ---------------\n",
            "-ensorflow               2.2.0          \n",
            "absl-py                  0.9.0          \n",
            "alabaster                0.7.12         \n",
            "albumentations           0.1.12         \n",
            "altair                   4.1.0          \n",
            "asgiref                  3.2.7          \n",
            "astor                    0.8.1          \n",
            "astropy                  4.0.1.post1    \n",
            "astunparse               1.6.3          \n",
            "atari-py                 0.2.6          \n",
            "atomicwrites             1.4.0          \n",
            "attrs                    19.3.0         \n",
            "audioread                2.1.8          \n",
            "autograd                 1.3            \n",
            "Babel                    2.8.0          \n",
            "backcall                 0.1.0          \n",
            "beautifulsoup4           4.6.3          \n",
            "bleach                   3.1.5          \n",
            "blis                     0.4.1          \n",
            "bokeh                    1.4.0          \n",
            "boto                     2.49.0         \n",
            "boto3                    1.13.19        \n",
            "botocore                 1.16.19        \n",
            "Bottleneck               1.3.2          \n",
            "branca                   0.4.1          \n",
            "bs4                      0.0.1          \n",
            "CacheControl             0.12.6         \n",
            "cachetools               3.1.1          \n",
            "catalogue                1.0.0          \n",
            "certifi                  2020.4.5.1     \n",
            "cffi                     1.14.0         \n",
            "chainer                  6.5.0          \n",
            "chardet                  3.0.4          \n",
            "click                    7.1.2          \n",
            "cloudpickle              1.3.0          \n",
            "cmake                    3.12.0         \n",
            "cmdstanpy                0.4.0          \n",
            "colorlover               0.3.0          \n",
            "community                1.0.0b1        \n",
            "contextlib2              0.5.5          \n",
            "convertdate              2.2.1          \n",
            "coverage                 3.7.1          \n",
            "coveralls                0.5            \n",
            "crcmod                   1.7            \n",
            "cufflinks                0.17.3         \n",
            "cvxopt                   1.2.5          \n",
            "cvxpy                    1.0.31         \n",
            "cycler                   0.10.0         \n",
            "cymem                    2.0.3          \n",
            "Cython                   0.29.19        \n",
            "daft                     0.0.4          \n",
            "dask                     2.12.0         \n",
            "dataclasses              0.7            \n",
            "datascience              0.10.6         \n",
            "decorator                4.4.2          \n",
            "defusedxml               0.6.0          \n",
            "descartes                1.1.0          \n",
            "dill                     0.3.1.1        \n",
            "distributed              1.25.3         \n",
            "Django                   3.0.6          \n",
            "dlib                     19.18.0        \n",
            "docopt                   0.6.2          \n",
            "docutils                 0.15.2         \n",
            "dopamine-rl              1.0.5          \n",
            "earthengine-api          0.1.223        \n",
            "easydict                 1.9            \n",
            "ecos                     2.0.7.post1    \n",
            "editdistance             0.5.3          \n",
            "en-core-web-sm           2.2.5          \n",
            "entrypoints              0.3            \n",
            "ephem                    3.7.7.1        \n",
            "et-xmlfile               1.0.1          \n",
            "fa2                      0.3.5          \n",
            "fancyimpute              0.4.3          \n",
            "fastai                   1.0.61         \n",
            "fastdtw                  0.3.4          \n",
            "fastprogress             0.2.3          \n",
            "fastrlock                0.4            \n",
            "fbprophet                0.6            \n",
            "feather-format           0.4.1          \n",
            "featuretools             0.4.1          \n",
            "filelock                 3.0.12         \n",
            "firebase-admin           4.1.0          \n",
            "fix-yahoo-finance        0.0.22         \n",
            "Flask                    1.1.2          \n",
            "folium                   0.8.3          \n",
            "fsspec                   0.7.4          \n",
            "future                   0.16.0         \n",
            "gast                     0.3.3          \n",
            "GDAL                     2.2.2          \n",
            "gdown                    3.6.4          \n",
            "gensim                   3.6.0          \n",
            "geographiclib            1.50           \n",
            "geopy                    1.17.0         \n",
            "gin-config               0.3.0          \n",
            "glob2                    0.7            \n",
            "google                   2.0.3          \n",
            "google-api-core          1.16.0         \n",
            "google-api-python-client 1.7.12         \n",
            "google-auth              1.7.2          \n",
            "google-auth-httplib2     0.0.3          \n",
            "google-auth-oauthlib     0.4.1          \n",
            "google-cloud-bigquery    1.21.0         \n",
            "google-cloud-core        1.0.3          \n",
            "google-cloud-datastore   1.8.0          \n",
            "google-cloud-firestore   1.7.0          \n",
            "google-cloud-language    1.2.0          \n",
            "google-cloud-storage     1.18.1         \n",
            "google-cloud-translate   1.5.0          \n",
            "google-colab             1.0.0          \n",
            "google-pasta             0.2.0          \n",
            "google-resumable-media   0.4.1          \n",
            "googleapis-common-protos 1.51.0         \n",
            "googledrivedownloader    0.4            \n",
            "graphviz                 0.10.1         \n",
            "grpcio                   1.29.0         \n",
            "gspread                  3.0.1          \n",
            "gspread-dataframe        3.0.7          \n",
            "gym                      0.17.2         \n",
            "h5py                     2.10.0         \n",
            "HeapDict                 1.0.1          \n",
            "holidays                 0.9.12         \n",
            "html5lib                 1.0.1          \n",
            "httpimport               0.5.18         \n",
            "httplib2                 0.17.4         \n",
            "httplib2shim             0.0.3          \n",
            "humanize                 0.5.1          \n",
            "hyperopt                 0.1.2          \n",
            "ideep4py                 2.0.0.post3    \n",
            "idna                     2.9            \n",
            "image                    1.5.32         \n",
            "imageio                  2.4.1          \n",
            "imagesize                1.2.0          \n",
            "imbalanced-learn         0.4.3          \n",
            "imblearn                 0.0            \n",
            "imgaug                   0.2.9          \n",
            "importlib-metadata       1.6.0          \n",
            "imutils                  0.5.3          \n",
            "inflect                  2.1.0          \n",
            "intel-openmp             2020.0.133     \n",
            "intervaltree             2.1.0          \n",
            "ipykernel                4.10.1         \n",
            "ipython                  5.5.0          \n",
            "ipython-genutils         0.2.0          \n",
            "ipython-sql              0.3.9          \n",
            "ipywidgets               7.5.1          \n",
            "itsdangerous             1.1.0          \n",
            "jax                      0.1.68         \n",
            "jaxlib                   0.1.47         \n",
            "jdcal                    1.4.1          \n",
            "jedi                     0.17.0         \n",
            "jieba                    0.42.1         \n",
            "Jinja2                   2.11.2         \n",
            "jmespath                 0.10.0         \n",
            "joblib                   0.15.1         \n",
            "jpeg4py                  0.1.4          \n",
            "jsonschema               2.6.0          \n",
            "jupyter                  1.0.0          \n",
            "jupyter-client           5.3.4          \n",
            "jupyter-console          5.2.0          \n",
            "jupyter-core             4.6.3          \n",
            "kaggle                   1.5.6          \n",
            "kapre                    0.1.3.1        \n",
            "Keras                    2.0.8          \n",
            "Keras-Applications       1.0.8          \n",
            "Keras-Preprocessing      1.1.2          \n",
            "keras-rl                 0.4.2          \n",
            "keras-vis                0.4.1          \n",
            "kiwisolver               1.2.0          \n",
            "knnimpute                0.1.0          \n",
            "librosa                  0.6.3          \n",
            "lightgbm                 2.2.3          \n",
            "llvmlite                 0.31.0         \n",
            "lmdb                     0.98           \n",
            "lucid                    0.3.8          \n",
            "LunarCalendar            0.0.9          \n",
            "lxml                     4.2.6          \n",
            "Markdown                 3.2.2          \n",
            "MarkupSafe               1.1.1          \n",
            "matplotlib               3.2.1          \n",
            "matplotlib-venn          0.11.5         \n",
            "missingno                0.4.2          \n",
            "mistune                  0.8.4          \n",
            "mizani                   0.6.0          \n",
            "mkl                      2019.0         \n",
            "mlxtend                  0.14.0         \n",
            "more-itertools           8.3.0          \n",
            "moviepy                  0.2.3.5        \n",
            "mpmath                   1.1.0          \n",
            "msgpack                  1.0.0          \n",
            "multiprocess             0.70.9         \n",
            "multitasking             0.0.9          \n",
            "murmurhash               1.0.2          \n",
            "music21                  5.5.0          \n",
            "natsort                  5.5.0          \n",
            "nbconvert                5.6.1          \n",
            "nbformat                 5.0.6          \n",
            "networkx                 2.4            \n",
            "nibabel                  3.0.2          \n",
            "nltk                     3.2.5          \n",
            "notebook                 5.2.2          \n",
            "np-utils                 0.5.12.1       \n",
            "numba                    0.48.0         \n",
            "numexpr                  2.7.1          \n",
            "numpy                    1.18.4         \n",
            "nvidia-ml-py3            7.352.0        \n",
            "oauth2client             4.1.3          \n",
            "oauthlib                 3.1.0          \n",
            "okgrade                  0.4.3          \n",
            "opencv-contrib-python    4.1.2.30       \n",
            "opencv-python            4.1.2.30       \n",
            "openpyxl                 2.5.9          \n",
            "opt-einsum               3.2.1          \n",
            "osqp                     0.6.1          \n",
            "packaging                20.4           \n",
            "palettable               3.3.0          \n",
            "pandas                   1.0.4          \n",
            "pandas-datareader        0.8.1          \n",
            "pandas-gbq               0.11.0         \n",
            "pandas-profiling         1.4.1          \n",
            "pandocfilters            1.4.2          \n",
            "parso                    0.7.0          \n",
            "pathlib                  1.0.1          \n",
            "patsy                    0.5.1          \n",
            "pexpect                  4.8.0          \n",
            "pickleshare              0.7.5          \n",
            "Pillow                   7.0.0          \n",
            "pip                      19.3.1         \n",
            "pip-tools                4.5.1          \n",
            "plac                     1.1.3          \n",
            "plotly                   4.4.1          \n",
            "plotnine                 0.6.0          \n",
            "pluggy                   0.7.1          \n",
            "portpicker               1.3.1          \n",
            "prefetch-generator       1.0.1          \n",
            "preshed                  3.0.2          \n",
            "prettytable              0.7.2          \n",
            "progressbar2             3.38.0         \n",
            "prometheus-client        0.8.0          \n",
            "promise                  2.3            \n",
            "prompt-toolkit           1.0.18         \n",
            "protobuf                 3.10.0         \n",
            "psutil                   5.4.8          \n",
            "psycopg2                 2.7.6.1        \n",
            "ptyprocess               0.6.0          \n",
            "py                       1.8.1          \n",
            "pyarrow                  0.14.1         \n",
            "pyasn1                   0.4.8          \n",
            "pyasn1-modules           0.2.8          \n",
            "pycocotools              2.0.0          \n",
            "pycparser                2.20           \n",
            "pydata-google-auth       1.1.0          \n",
            "pydot                    1.3.0          \n",
            "pydot-ng                 2.0.0          \n",
            "pydotplus                2.0.2          \n",
            "PyDrive                  1.3.1          \n",
            "pyemd                    0.5.1          \n",
            "pyglet                   1.5.0          \n",
            "Pygments                 2.1.3          \n",
            "pygobject                3.26.1         \n",
            "pymc3                    3.7            \n",
            "PyMeeus                  0.3.7          \n",
            "pymongo                  3.10.1         \n",
            "pymystem3                0.2.0          \n",
            "PyOpenGL                 3.1.5          \n",
            "pyparsing                2.4.7          \n",
            "pyrsistent               0.16.0         \n",
            "pysndfile                1.3.8          \n",
            "PySocks                  1.7.1          \n",
            "pystan                   2.19.1.1       \n",
            "pytest                   3.6.4          \n",
            "python-apt               1.6.5+ubuntu0.2\n",
            "python-chess             0.23.11        \n",
            "python-dateutil          2.8.1          \n",
            "python-louvain           0.14           \n",
            "python-slugify           4.0.0          \n",
            "python-utils             2.4.0          \n",
            "pytz                     2018.9         \n",
            "PyWavelets               1.1.1          \n",
            "PyYAML                   3.13           \n",
            "pyzmq                    19.0.1         \n",
            "qtconsole                4.7.4          \n",
            "QtPy                     1.9.0          \n",
            "regex                    2019.12.20     \n",
            "requests                 2.23.0         \n",
            "requests-oauthlib        1.3.0          \n",
            "resampy                  0.2.2          \n",
            "retrying                 1.3.3          \n",
            "rpy2                     3.2.7          \n",
            "rsa                      4.0            \n",
            "s3fs                     0.4.2          \n",
            "s3transfer               0.3.3          \n",
            "scikit-image             0.16.2         \n",
            "scikit-learn             0.22.2.post1   \n",
            "scipy                    1.4.1          \n",
            "screen-resolution-extra  0.0.0          \n",
            "scs                      2.1.2          \n",
            "seaborn                  0.10.1         \n",
            "Send2Trash               1.5.0          \n",
            "setuptools               47.1.1         \n",
            "setuptools-git           1.2            \n",
            "Shapely                  1.7.0          \n",
            "simplegeneric            0.8.1          \n",
            "six                      1.12.0         \n",
            "sklearn                  0.0            \n",
            "sklearn-pandas           1.8.0          \n",
            "smart-open               2.0.0          \n",
            "snowballstemmer          2.0.0          \n",
            "sortedcontainers         2.1.0          \n",
            "spacy                    2.2.4          \n",
            "Sphinx                   1.8.5          \n",
            "sphinxcontrib-websupport 1.2.2          \n",
            "SQLAlchemy               1.3.17         \n",
            "sqlparse                 0.3.1          \n",
            "srsly                    1.0.2          \n",
            "statsmodels              0.10.2         \n",
            "sympy                    1.1.1          \n",
            "tables                   3.4.4          \n",
            "tabulate                 0.8.7          \n",
            "tbb                      2020.0.133     \n",
            "tblib                    1.6.0          \n",
            "tensorboard              1.14.0         \n",
            "tensorboard-plugin-wit   1.6.0.post3    \n",
            "tensorboardcolab         0.0.22         \n",
            "tensorflow               1.14.0         \n",
            "tensorflow-addons        0.8.3          \n",
            "tensorflow-datasets      2.1.0          \n",
            "tensorflow-estimator     1.14.0         \n",
            "tensorflow-gcs-config    2.1.8          \n",
            "tensorflow-hub           0.8.0          \n",
            "tensorflow-metadata      0.22.1         \n",
            "tensorflow-privacy       0.2.2          \n",
            "tensorflow-probability   0.10.0         \n",
            "termcolor                1.1.0          \n",
            "terminado                0.8.3          \n",
            "testpath                 0.4.4          \n",
            "text-unidecode           1.3            \n",
            "textblob                 0.15.3         \n",
            "textgenrnn               1.4.1          \n",
            "Theano                   1.0.4          \n",
            "thinc                    7.4.0          \n",
            "tifffile                 2020.5.30      \n",
            "toolz                    0.10.0         \n",
            "torch                    1.5.0+cu101    \n",
            "torchsummary             1.5.1          \n",
            "torchtext                0.3.1          \n",
            "torchvision              0.6.0+cu101    \n",
            "tornado                  4.5.3          \n",
            "tqdm                     4.41.1         \n",
            "traitlets                4.3.3          \n",
            "tweepy                   3.6.0          \n",
            "typeguard                2.7.1          \n",
            "typing                   3.6.6          \n",
            "typing-extensions        3.6.6          \n",
            "tzlocal                  1.5.1          \n",
            "umap-learn               0.4.3          \n",
            "uritemplate              3.0.1          \n",
            "urllib3                  1.24.3         \n",
            "vega-datasets            0.8.0          \n",
            "wasabi                   0.6.0          \n",
            "wcwidth                  0.2.2          \n",
            "webencodings             0.5.1          \n",
            "Werkzeug                 1.0.1          \n",
            "wheel                    0.34.2         \n",
            "widgetsnbextension       3.5.1          \n",
            "wordcloud                1.5.0          \n",
            "wrapt                    1.12.1         \n",
            "xarray                   0.15.1         \n",
            "xgboost                  0.90           \n",
            "xkit                     0.0.0          \n",
            "xlrd                     1.1.0          \n",
            "xlwt                     1.3.0          \n",
            "yellowbrick              0.9.1          \n",
            "zict                     2.0.0          \n",
            "zipp                     3.1.0          \n"
          ],
          "name": "stdout"
        }
      ]
    },
    {
      "cell_type": "code",
      "metadata": {
        "id": "PxY0VLwhcy8C",
        "colab_type": "code",
        "colab": {
          "base_uri": "https://localhost:8080/",
          "height": 34
        },
        "outputId": "7728041a-6a32-4bb1-94ba-bccb0187b61d"
      },
      "source": [
        "np.array(trainx.iloc[1])"
      ],
      "execution_count": 193,
      "outputs": [
        {
          "output_type": "execute_result",
          "data": {
            "text/plain": [
              "array([16.3,  0. ])"
            ]
          },
          "metadata": {
            "tags": []
          },
          "execution_count": 193
        }
      ]
    },
    {
      "cell_type": "code",
      "metadata": {
        "id": "nsQH_MC8pD5E",
        "colab_type": "code",
        "colab": {
          "base_uri": "https://localhost:8080/",
          "height": 34
        },
        "outputId": "f6e92e0c-c69b-44bf-bb7d-7d7a4e09f37d"
      },
      "source": [
        "float(trainy.iloc[0])"
      ],
      "execution_count": 194,
      "outputs": [
        {
          "output_type": "execute_result",
          "data": {
            "text/plain": [
              "0.0"
            ]
          },
          "metadata": {
            "tags": []
          },
          "execution_count": 194
        }
      ]
    },
    {
      "cell_type": "code",
      "metadata": {
        "id": "JT6WwE8OFwwk",
        "colab_type": "code",
        "colab": {}
      },
      "source": [
        "import numpy as np\n",
        "\n",
        "import gym\n",
        "from gym import spaces\n",
        "from gym.utils import seeding\n",
        "\n",
        "\n",
        "class HotterColder(gym.Env):\n",
        "    \"\"\"Hotter Colder\n",
        "    The goal of hotter colder is to guess closer to a randomly selected number\n",
        "    After each step the agent receives an observation of:\n",
        "    0 - No guess yet submitted (only after reset)\n",
        "    1 - Guess is lower than the target\n",
        "    2 - Guess is equal to the target\n",
        "    3 - Guess is higher than the target\n",
        "    The rewards is calculated as:\n",
        "    (min(action, self.number) + self.range) / (max(action, self.number) + self.range)\n",
        "    Ideally an agent will be able to recognise the 'scent' of a higher reward and\n",
        "    increase the rate in which is guesses in that direction until the reward reaches\n",
        "    its maximum\n",
        "    \"\"\"\n",
        "    def __init__(self, x, y):\n",
        "        self.x = x\n",
        "        self.y = y\n",
        "\n",
        "        self.range = 10  # +/- value the randomly select number can be between\n",
        "        self.bounds = 20  # Action space bounds\n",
        "\n",
        "        self.number = 0\n",
        "        self.guess_count = 0\n",
        "        self.guess_max = 200\n",
        "        self.race_num = 0\n",
        "\n",
        "        self.action_space = gym.spaces.Discrete(11)\n",
        "        min = np.array(self.x.min())\n",
        "        low = np.concatenate([min])\n",
        "        max = np.array(self.x.max())        \n",
        "        high = np.concatenate([max])\n",
        "        self.observation_space = gym.spaces.Box(low=low, high=high) \n",
        "        \n",
        "        self.seed()\n",
        "        self.reset()\n",
        "\n",
        "    def seed(self, seed=None):\n",
        "        self.np_random, seed = seeding.np_random(seed)\n",
        "        return [seed]\n",
        "\n",
        "    def step(self, action):\n",
        "        self.done =  self._is_done(action)\n",
        "\n",
        "        reward = 0\n",
        "        plus = 0\n",
        "        if self.done == False:\n",
        "          if action > 0:\n",
        "            plus = (-1 * action + float(self.y.iloc[self.race_num]*action))\n",
        "            reward = plus\n",
        "            self.amount += plus\n",
        "        else:\n",
        "            reward = self.amount\n",
        "\n",
        "#          print(\"\")\n",
        "\n",
        "#         self.amount += reward\n",
        "\n",
        "        self.guess_count += 1\n",
        "        self.race_num += 1\n",
        "\n",
        "        if self.race_num >= len(self.x):\n",
        "          self.race_num = 0\n",
        "\n",
        "#        print(action, end=\"\")\n",
        "#        pprint((self.x.iloc[self.race_num], reward, self.done, {\"guesses\": self.guess_count}))\n",
        "        return np.array(self.x.iloc[self.race_num]), reward, self.done, {\"guesses\": self.guess_count}\n",
        "\n",
        "    def reset(self):\n",
        "        self.done = False\n",
        "        self.amount = 0\n",
        "        self.guess_count = 0\n",
        "        \n",
        "#        pprint(np.concatenate([[self.amount],np.array(self.x.iloc[self.race_num])]))\n",
        "        return np.array(self.x.iloc[self.race_num])\n",
        "      \n",
        "    def _is_done(self, action):\n",
        "        if self.guess_count >= self.guess_max:\n",
        "#           print(\"Over\")\n",
        "          return True\n",
        "        return False"
      ],
      "execution_count": 0,
      "outputs": []
    },
    {
      "cell_type": "code",
      "metadata": {
        "id": "AqnYw2IWFxJU",
        "colab_type": "code",
        "colab": {
          "base_uri": "https://localhost:8080/",
          "height": 51
        },
        "outputId": "b51f57dd-3808-45fb-d7a7-0e302983c92c"
      },
      "source": [
        "env = HotterColder(trainx, trainy)"
      ],
      "execution_count": 196,
      "outputs": [
        {
          "output_type": "stream",
          "text": [
            "/usr/local/lib/python3.6/dist-packages/gym/logger.py:30: UserWarning: \u001b[33mWARN: Box bound precision lowered by casting to float32\u001b[0m\n",
            "  warnings.warn(colorize('%s: %s'%('WARN', msg % args), 'yellow'))\n"
          ],
          "name": "stderr"
        }
      ]
    },
    {
      "cell_type": "code",
      "metadata": {
        "id": "adFXL4cUx8pn",
        "colab_type": "code",
        "colab": {}
      },
      "source": [
        "#x =  spaces.Box(low=np.array([-200]), high=np.array([200]),                                       dtype=np.float32)"
      ],
      "execution_count": 0,
      "outputs": []
    },
    {
      "cell_type": "code",
      "metadata": {
        "id": "J6kxbgCSyAqq",
        "colab_type": "code",
        "colab": {}
      },
      "source": [
        "nb_actions = env.action_space.n\n"
      ],
      "execution_count": 0,
      "outputs": []
    },
    {
      "cell_type": "code",
      "metadata": {
        "id": "qq3JKmJX4YUt",
        "colab_type": "code",
        "colab": {
          "base_uri": "https://localhost:8080/",
          "height": 34
        },
        "outputId": "5ec6f61d-e6ae-45bd-8141-bfde849dea36"
      },
      "source": [
        "nb_actions"
      ],
      "execution_count": 199,
      "outputs": [
        {
          "output_type": "execute_result",
          "data": {
            "text/plain": [
              "11"
            ]
          },
          "metadata": {
            "tags": []
          },
          "execution_count": 199
        }
      ]
    },
    {
      "cell_type": "code",
      "metadata": {
        "id": "X23sqWZI1fKi",
        "colab_type": "code",
        "colab": {}
      },
      "source": [
        "# env.action_space.contains(np.array([-2000]))\n"
      ],
      "execution_count": 0,
      "outputs": []
    },
    {
      "cell_type": "code",
      "metadata": {
        "id": "SqTWlfL9EYZA",
        "colab_type": "code",
        "colab": {}
      },
      "source": [
        "# import gym\n",
        "\n",
        "# # GymのPendulum環境を作成\n",
        "# env = gym.make(\"Pendulum-v0\")\n",
        "\n",
        "# # 取りうる”打ち手”のアクション数と値の定義\n",
        "# nb_actions = 2\n",
        "# ACT_ID_TO_VALUE = {0: [-1], 1: [+1]}"
      ],
      "execution_count": 0,
      "outputs": []
    },
    {
      "cell_type": "code",
      "metadata": {
        "id": "Zu7q1TXbFCVv",
        "colab_type": "code",
        "colab": {}
      },
      "source": [
        "from rl.core import Processor\n",
        "\n",
        "\n",
        "class PendulumProcessor(Processor):\n",
        "\n",
        "    # Duel-DQNの出力と、Gym環境の入力の違いを吸収\n",
        "    def process_action(self, action):\n",
        "        return action\n",
        "\n",
        "    # Gym環境の報酬の出力と、Duel-DQNの報酬の入力との違いを吸収\n",
        "    def process_reward(self, reward):\n",
        "      return reward\n",
        "#         if reward > -0.2:\n",
        "#             return 1\n",
        "#         elif reward > -1.0:\n",
        "#             return 0\n",
        "#         else:\n",
        "#             return 0\n",
        "    def process_observation(self, observation):\n",
        "      return observation\n",
        "\n",
        "processor = PendulumProcessor()"
      ],
      "execution_count": 0,
      "outputs": []
    },
    {
      "cell_type": "code",
      "metadata": {
        "id": "mIhFvu7zFRc7",
        "colab_type": "code",
        "colab": {}
      },
      "source": [
        "from keras.models import Sequential\n",
        "from keras.layers import Dense, Activation, Flatten\n",
        "\n",
        "\n",
        "model = Sequential()\n",
        "model.add(Flatten(input_shape=(1,) + env.observation_space.shape))\n",
        "model.add(Dense(16))\n",
        "model.add(Activation(\"relu\"))\n",
        "model.add(Dense(16))\n",
        "model.add(Activation(\"relu\"))\n",
        "model.add(Dense(nb_actions, activation=\"linear\"))"
      ],
      "execution_count": 0,
      "outputs": []
    },
    {
      "cell_type": "code",
      "metadata": {
        "id": "HDlJ8WYULUzj",
        "colab_type": "code",
        "colab": {
          "base_uri": "https://localhost:8080/",
          "height": 34
        },
        "outputId": "c74ebbb3-abc7-4fb5-a4d1-cdc399918ace"
      },
      "source": [
        "(1,) + env.observation_space.shape"
      ],
      "execution_count": 204,
      "outputs": [
        {
          "output_type": "execute_result",
          "data": {
            "text/plain": [
              "(1, 2)"
            ]
          },
          "metadata": {
            "tags": []
          },
          "execution_count": 204
        }
      ]
    },
    {
      "cell_type": "code",
      "metadata": {
        "id": "cNWefvWLNOE8",
        "colab_type": "code",
        "colab": {}
      },
      "source": [
        ""
      ],
      "execution_count": 0,
      "outputs": []
    },
    {
      "cell_type": "code",
      "metadata": {
        "id": "uyzzMQBTHmgl",
        "colab_type": "code",
        "colab": {
          "base_uri": "https://localhost:8080/",
          "height": 425
        },
        "outputId": "9da397e9-2cc8-4d4c-d337-db28a3d198c8"
      },
      "source": [
        "from keras.optimizers import Adam\n",
        "\n",
        "from rl.agents.dqn import DQNAgent\n",
        "from rl.policy import BoltzmannQPolicy\n",
        "from rl.memory import SequentialMemory\n",
        "\n",
        "\n",
        "# Duel-DQNアルゴリズム関連の幾つかの設定\n",
        "memory = SequentialMemory(limit=50000, window_length=1)\n",
        "policy = BoltzmannQPolicy()\n",
        "\n",
        "# Duel-DQNのAgentクラスオブジェクトの準備 （上記processorやmodelを元に）\n",
        "dqn = DQNAgent(model=model, nb_actions=nb_actions, memory=memory, nb_steps_warmup=10,\n",
        "               enable_dueling_network=True, dueling_type=\"avg\", target_model_update=1e-2, policy=policy,processor=processor)\n",
        "dqn.compile(Adam(lr=1e-3), metrics=[\"mae\"])\n",
        "print(dqn.model.summary())\n",
        "\n",
        "\n"
      ],
      "execution_count": 205,
      "outputs": [
        {
          "output_type": "stream",
          "text": [
            "_________________________________________________________________\n",
            "Layer (type)                 Output Shape              Param #   \n",
            "=================================================================\n",
            "flatten_3_input (InputLayer) (None, 1, 2)              0         \n",
            "_________________________________________________________________\n",
            "flatten_3 (Flatten)          (None, 2)                 0         \n",
            "_________________________________________________________________\n",
            "dense_9 (Dense)              (None, 16)                48        \n",
            "_________________________________________________________________\n",
            "activation_5 (Activation)    (None, 16)                0         \n",
            "_________________________________________________________________\n",
            "dense_10 (Dense)             (None, 16)                272       \n",
            "_________________________________________________________________\n",
            "activation_6 (Activation)    (None, 16)                0         \n",
            "_________________________________________________________________\n",
            "dense_12 (Dense)             (None, 12)                204       \n",
            "_________________________________________________________________\n",
            "lambda_3 (Lambda)            (None, 11)                0         \n",
            "=================================================================\n",
            "Total params: 524\n",
            "Trainable params: 524\n",
            "Non-trainable params: 0\n",
            "_________________________________________________________________\n",
            "None\n"
          ],
          "name": "stdout"
        }
      ]
    },
    {
      "cell_type": "code",
      "metadata": {
        "id": "Uql1Js50Tb8O",
        "colab_type": "code",
        "colab": {}
      },
      "source": [
        "import rl.callbacks\n",
        "class EpisodeLogger(rl.callbacks.Callback):\n",
        "    def __init__(self):\n",
        "        self.observations = {}\n",
        "        self.rewards = {}\n",
        "        self.actions = {}\n",
        "\n",
        "    def on_episode_begin(self, episode, logs):\n",
        "        self.observations[episode] = []\n",
        "        self.rewards[episode] = []\n",
        "        self.actions[episode] = []\n",
        "\n",
        "    def on_step_end(self, step, logs):\n",
        "        episode = logs['episode']\n",
        "        self.observations[episode].append(logs['observation'])\n",
        "        self.rewards[episode].append(logs['reward'])\n",
        "        self.actions[episode].append(logs['action'])\n",
        "\n",
        "cb_train = EpisodeLogger()"
      ],
      "execution_count": 0,
      "outputs": []
    },
    {
      "cell_type": "code",
      "metadata": {
        "id": "zdeS8JczcdkB",
        "colab_type": "code",
        "colab": {}
      },
      "source": [
        "#from keras.callbacks import EarlyStopping\n",
        "\n",
        "#early_stop = EarlyStopping(patience=69)"
      ],
      "execution_count": 0,
      "outputs": []
    },
    {
      "cell_type": "code",
      "metadata": {
        "id": "JkJxlTvZdG6N",
        "colab_type": "code",
        "colab": {}
      },
      "source": [
        "pd.DataFrame({\"dummy\":1},index=[0]).to_csv(\"h5f/save_start.csv\")"
      ],
      "execution_count": 0,
      "outputs": []
    },
    {
      "cell_type": "code",
      "metadata": {
        "id": "ka3BQCoIVk_x",
        "colab_type": "code",
        "colab": {
          "base_uri": "https://localhost:8080/",
          "height": 1000
        },
        "outputId": "861bfe31-a840-48df-9ae1-261b44ead1e4"
      },
      "source": [
        "# 定義課題環境に対して、アルゴリズムの学習を実行 （必要に応じて適切なCallbackも定義、設定可能）\n",
        "# 上記Processorクラスの適切な設定によって、Agent-環境間の入出力を通して設計課題に対しての学習が進行\n",
        "# dqn.fit(env, nb_steps=50000, visualize=False, callbacks=[early_stop], verbose=2)\n",
        "dqn.fit(env, nb_steps=100000, visualize=False, callbacks=[cb_train], verbose=2)\n",
        "# 学習後のモデルの重みの出力\n",
        "dqn.save_weights(\"h5f/my_dqn_weights_try_modify_reward.h5f\", overwrite=True)\n",
        "\n",
        "\n"
      ],
      "execution_count": 209,
      "outputs": [
        {
          "output_type": "stream",
          "text": [
            "Training for 100000 steps ...\n"
          ],
          "name": "stdout"
        },
        {
          "output_type": "stream",
          "text": [
            "/usr/local/lib/python3.6/dist-packages/rl/memory.py:39: UserWarning: Not enough entries to sample without replacement. Consider increasing your warm-up phase to avoid oversampling!\n",
            "  warnings.warn('Not enough entries to sample without replacement. Consider increasing your warm-up phase to avoid oversampling!')\n",
            "/usr/local/lib/python3.6/dist-packages/rl/memory.py:39: UserWarning: Not enough entries to sample without replacement. Consider increasing your warm-up phase to avoid oversampling!\n",
            "  warnings.warn('Not enough entries to sample without replacement. Consider increasing your warm-up phase to avoid oversampling!')\n"
          ],
          "name": "stderr"
        },
        {
          "output_type": "stream",
          "text": [
            "   201/100000: episode: 1, duration: 1.675s, episode steps: 201, steps per second: 120, episode reward: 6.000, mean reward: 0.030 [-10.000, 363.300], mean action: 4.328 [0.000, 10.000], mean observation: 35.805 [0.000, 546.100], loss: 241.166938, mean_absolute_error: 3.635580, mean_q: 4.560531\n",
            "   402/100000: episode: 2, duration: 0.929s, episode steps: 201, steps per second: 216, episode reward: -271.000, mean reward: -1.348 [-135.500, 109.900], mean action: 3.771 [0.000, 10.000], mean observation: 31.947 [0.000, 393.800], loss: 282.635590, mean_absolute_error: 5.065229, mean_q: 3.121772\n",
            "   603/100000: episode: 3, duration: 0.924s, episode steps: 201, steps per second: 217, episode reward: 47.000, mean reward: 0.234 [-9.000, 123.900], mean action: 3.015 [0.000, 9.000], mean observation: 34.989 [0.000, 547.400], loss: 198.861206, mean_absolute_error: 5.858896, mean_q: 3.363611\n",
            "   804/100000: episode: 4, duration: 0.899s, episode steps: 201, steps per second: 224, episode reward: -427.600, mean reward: -2.127 [-213.800, 36.600], mean action: 2.930 [0.000, 10.000], mean observation: 37.475 [0.000, 598.300], loss: 160.677872, mean_absolute_error: 5.611802, mean_q: 3.358315\n",
            "  1005/100000: episode: 5, duration: 0.914s, episode steps: 201, steps per second: 220, episode reward: -116.200, mean reward: -0.578 [-58.100, 195.500], mean action: 2.900 [0.000, 10.000], mean observation: 35.818 [0.000, 562.700], loss: 141.207153, mean_absolute_error: 5.369549, mean_q: 3.062778\n",
            "  1206/100000: episode: 6, duration: 0.888s, episode steps: 201, steps per second: 226, episode reward: -554.200, mean reward: -2.757 [-277.100, 86.000], mean action: 3.279 [0.000, 10.000], mean observation: 34.958 [0.000, 543.500], loss: 171.047714, mean_absolute_error: 5.036546, mean_q: 2.746985\n",
            "  1407/100000: episode: 7, duration: 0.961s, episode steps: 201, steps per second: 209, episode reward: 474.400, mean reward: 2.360 [-10.000, 326.700], mean action: 3.522 [0.000, 10.000], mean observation: 27.736 [0.000, 515.300], loss: 206.265686, mean_absolute_error: 4.330421, mean_q: 2.310870\n",
            "  1608/100000: episode: 8, duration: 1.032s, episode steps: 201, steps per second: 195, episode reward: -209.600, mean reward: -1.043 [-104.800, 246.400], mean action: 3.985 [0.000, 10.000], mean observation: 29.533 [0.000, 698.100], loss: 147.836884, mean_absolute_error: 3.031257, mean_q: 1.573552\n",
            "  1809/100000: episode: 9, duration: 1.035s, episode steps: 201, steps per second: 194, episode reward: -840.800, mean reward: -4.183 [-420.400, 55.200], mean action: 3.637 [0.000, 10.000], mean observation: 28.470 [0.000, 422.200], loss: 232.241486, mean_absolute_error: 2.522058, mean_q: 1.238690\n",
            "  2010/100000: episode: 10, duration: 1.033s, episode steps: 201, steps per second: 195, episode reward: -623.600, mean reward: -3.102 [-311.800, 75.600], mean action: 4.095 [0.000, 10.000], mean observation: 27.996 [0.000, 372.500], loss: 260.214325, mean_absolute_error: 2.380803, mean_q: 1.237131\n",
            "  2211/100000: episode: 11, duration: 1.013s, episode steps: 201, steps per second: 198, episode reward: -599.600, mean reward: -2.983 [-299.800, 64.800], mean action: 3.741 [0.000, 10.000], mean observation: 31.324 [0.000, 537.500], loss: 318.410034, mean_absolute_error: 2.070522, mean_q: 0.956372\n",
            "  2412/100000: episode: 12, duration: 1.057s, episode steps: 201, steps per second: 190, episode reward: -208.800, mean reward: -1.039 [-104.400, 200.200], mean action: 3.836 [0.000, 10.000], mean observation: 31.043 [0.000, 601.300], loss: 248.683304, mean_absolute_error: 2.936157, mean_q: 1.204151\n",
            "  2613/100000: episode: 13, duration: 1.030s, episode steps: 201, steps per second: 195, episode reward: -324.400, mean reward: -1.614 [-162.200, 90.600], mean action: 3.458 [0.000, 10.000], mean observation: 34.682 [0.000, 932.700], loss: 267.759125, mean_absolute_error: 4.437723, mean_q: 1.109931\n",
            "  2814/100000: episode: 14, duration: 1.077s, episode steps: 201, steps per second: 187, episode reward: -467.400, mean reward: -2.325 [-233.700, 44.800], mean action: 3.134 [0.000, 10.000], mean observation: 36.238 [0.000, 536.800], loss: 244.700363, mean_absolute_error: 4.302638, mean_q: 0.920889\n",
            "  3015/100000: episode: 15, duration: 1.057s, episode steps: 201, steps per second: 190, episode reward: 153.400, mean reward: 0.763 [-10.000, 167.300], mean action: 2.945 [0.000, 10.000], mean observation: 40.443 [0.000, 571.900], loss: 204.837448, mean_absolute_error: 4.406239, mean_q: 0.631285\n",
            "  3216/100000: episode: 16, duration: 1.054s, episode steps: 201, steps per second: 191, episode reward: -397.800, mean reward: -1.979 [-198.900, 114.100], mean action: 3.085 [0.000, 10.000], mean observation: 40.351 [0.000, 754.700], loss: 291.343994, mean_absolute_error: 4.662926, mean_q: 0.454295\n",
            "  3417/100000: episode: 17, duration: 1.003s, episode steps: 201, steps per second: 200, episode reward: 377.800, mean reward: 1.880 [-10.000, 477.400], mean action: 3.861 [0.000, 10.000], mean observation: 27.702 [0.000, 402.000], loss: 274.810822, mean_absolute_error: 4.588143, mean_q: 0.298012\n",
            "  3618/100000: episode: 18, duration: 0.940s, episode steps: 201, steps per second: 214, episode reward: -390.400, mean reward: -1.942 [-195.200, 125.100], mean action: 3.662 [0.000, 10.000], mean observation: 28.448 [0.000, 456.900], loss: 216.830444, mean_absolute_error: 4.201943, mean_q: 0.286744\n",
            "  3819/100000: episode: 19, duration: 0.908s, episode steps: 201, steps per second: 221, episode reward: 963.400, mean reward: 4.793 [-10.000, 481.700], mean action: 3.502 [0.000, 10.000], mean observation: 33.892 [0.000, 451.500], loss: 286.863892, mean_absolute_error: 5.751375, mean_q: -0.070744\n",
            "  4020/100000: episode: 20, duration: 0.947s, episode steps: 201, steps per second: 212, episode reward: -809.800, mean reward: -4.029 [-404.900, 50.000], mean action: 4.085 [0.000, 10.000], mean observation: 29.185 [0.000, 563.500], loss: 297.684479, mean_absolute_error: 6.267267, mean_q: -0.000657\n",
            "  4221/100000: episode: 21, duration: 0.951s, episode steps: 201, steps per second: 211, episode reward: 315.400, mean reward: 1.569 [-9.000, 272.300], mean action: 4.726 [0.000, 9.000], mean observation: 35.132 [0.000, 507.700], loss: 274.588531, mean_absolute_error: 5.523061, mean_q: 0.036564\n",
            "  4422/100000: episode: 22, duration: 0.926s, episode steps: 201, steps per second: 217, episode reward: 193.000, mean reward: 0.960 [-9.000, 218.400], mean action: 2.985 [0.000, 9.000], mean observation: 36.283 [0.000, 511.100], loss: 313.652100, mean_absolute_error: 5.741324, mean_q: -0.160047\n",
            "  4623/100000: episode: 23, duration: 0.967s, episode steps: 201, steps per second: 208, episode reward: 287.800, mean reward: 1.432 [-10.000, 232.200], mean action: 3.318 [0.000, 10.000], mean observation: 26.827 [0.000, 438.700], loss: 214.922455, mean_absolute_error: 5.560683, mean_q: -0.356020\n",
            "  4824/100000: episode: 24, duration: 0.939s, episode steps: 201, steps per second: 214, episode reward: 362.000, mean reward: 1.801 [-9.000, 181.000], mean action: 3.478 [0.000, 9.000], mean observation: 30.380 [0.000, 495.000], loss: 291.303925, mean_absolute_error: 5.614094, mean_q: -0.309326\n",
            "  5025/100000: episode: 25, duration: 0.964s, episode steps: 201, steps per second: 208, episode reward: -415.600, mean reward: -2.068 [-207.800, 79.800], mean action: 3.428 [0.000, 9.000], mean observation: 34.587 [0.000, 565.900], loss: 285.521851, mean_absolute_error: 6.189894, mean_q: -0.221463\n",
            "  5226/100000: episode: 26, duration: 0.928s, episode steps: 201, steps per second: 216, episode reward: -456.200, mean reward: -2.270 [-228.100, 85.400], mean action: 4.015 [0.000, 10.000], mean observation: 41.244 [0.000, 624.800], loss: 289.612915, mean_absolute_error: 6.297369, mean_q: 0.171516\n",
            "  5427/100000: episode: 27, duration: 0.994s, episode steps: 201, steps per second: 202, episode reward: -200.400, mean reward: -0.997 [-100.200, 143.800], mean action: 3.408 [0.000, 10.000], mean observation: 27.828 [0.000, 516.000], loss: 321.361328, mean_absolute_error: 6.759660, mean_q: 0.033662\n",
            "  5628/100000: episode: 28, duration: 0.930s, episode steps: 201, steps per second: 216, episode reward: 107.800, mean reward: 0.536 [-9.000, 104.400], mean action: 3.507 [0.000, 10.000], mean observation: 31.349 [0.000, 418.900], loss: 267.988586, mean_absolute_error: 5.721817, mean_q: 0.057124\n",
            "  5829/100000: episode: 29, duration: 0.949s, episode steps: 201, steps per second: 212, episode reward: 293.400, mean reward: 1.460 [-9.000, 174.300], mean action: 3.254 [0.000, 9.000], mean observation: 29.300 [0.000, 522.000], loss: 210.838272, mean_absolute_error: 5.582340, mean_q: 0.275484\n",
            "  6030/100000: episode: 30, duration: 0.932s, episode steps: 201, steps per second: 216, episode reward: -407.000, mean reward: -2.025 [-203.500, 88.900], mean action: 3.129 [0.000, 10.000], mean observation: 37.441 [0.000, 746.900], loss: 215.631607, mean_absolute_error: 5.131510, mean_q: 0.236434\n",
            "  6231/100000: episode: 31, duration: 0.961s, episode steps: 201, steps per second: 209, episode reward: 235.600, mean reward: 1.172 [-9.000, 117.800], mean action: 3.562 [0.000, 9.000], mean observation: 27.238 [0.000, 471.300], loss: 255.236481, mean_absolute_error: 5.274572, mean_q: 0.403065\n",
            "  6432/100000: episode: 32, duration: 0.985s, episode steps: 201, steps per second: 204, episode reward: 156.200, mean reward: 0.777 [-10.000, 212.400], mean action: 3.697 [0.000, 10.000], mean observation: 28.103 [0.000, 496.300], loss: 294.121124, mean_absolute_error: 5.356659, mean_q: 0.531045\n",
            "  6633/100000: episode: 33, duration: 1.027s, episode steps: 201, steps per second: 196, episode reward: -439.200, mean reward: -2.185 [-219.600, 181.200], mean action: 3.697 [0.000, 9.000], mean observation: 28.566 [0.000, 481.500], loss: 283.848602, mean_absolute_error: 4.533542, mean_q: 0.476320\n",
            "  6834/100000: episode: 34, duration: 0.998s, episode steps: 201, steps per second: 201, episode reward: 236.800, mean reward: 1.178 [-10.000, 120.600], mean action: 3.483 [0.000, 10.000], mean observation: 36.491 [0.000, 554.400], loss: 238.141205, mean_absolute_error: 4.231074, mean_q: 0.476441\n",
            "  7035/100000: episode: 35, duration: 0.947s, episode steps: 201, steps per second: 212, episode reward: -94.000, mean reward: -0.468 [-47.000, 116.100], mean action: 3.776 [0.000, 9.000], mean observation: 31.550 [0.000, 504.500], loss: 276.276581, mean_absolute_error: 4.601702, mean_q: 0.656364\n",
            "  7236/100000: episode: 36, duration: 0.937s, episode steps: 201, steps per second: 215, episode reward: 1140.200, mean reward: 5.673 [-9.000, 570.100], mean action: 3.841 [0.000, 9.000], mean observation: 28.864 [0.000, 366.600], loss: 272.323425, mean_absolute_error: 5.556958, mean_q: 1.055321\n",
            "  7437/100000: episode: 37, duration: 0.951s, episode steps: 201, steps per second: 211, episode reward: -794.000, mean reward: -3.950 [-397.000, 63.000], mean action: 4.209 [0.000, 9.000], mean observation: 36.300 [0.000, 663.300], loss: 263.233551, mean_absolute_error: 5.908320, mean_q: 1.063787\n",
            "  7638/100000: episode: 38, duration: 0.922s, episode steps: 201, steps per second: 218, episode reward: -441.000, mean reward: -2.194 [-220.500, 171.000], mean action: 3.607 [0.000, 9.000], mean observation: 33.735 [0.000, 496.800], loss: 272.619049, mean_absolute_error: 7.532086, mean_q: 1.213766\n",
            "  7839/100000: episode: 39, duration: 0.939s, episode steps: 201, steps per second: 214, episode reward: -369.400, mean reward: -1.838 [-184.700, 58.800], mean action: 2.905 [0.000, 9.000], mean observation: 33.245 [0.000, 637.000], loss: 239.538864, mean_absolute_error: 7.371235, mean_q: 1.137866\n",
            "  8040/100000: episode: 40, duration: 0.941s, episode steps: 201, steps per second: 214, episode reward: -582.600, mean reward: -2.899 [-291.300, 55.200], mean action: 2.796 [0.000, 9.000], mean observation: 33.250 [0.000, 577.100], loss: 298.408722, mean_absolute_error: 7.967930, mean_q: 1.319785\n",
            "  8241/100000: episode: 41, duration: 0.937s, episode steps: 201, steps per second: 214, episode reward: 1350.600, mean reward: 6.719 [-9.000, 675.300], mean action: 3.194 [0.000, 9.000], mean observation: 34.639 [0.000, 483.800], loss: 411.391571, mean_absolute_error: 6.840099, mean_q: 2.172175\n",
            "  8442/100000: episode: 42, duration: 0.908s, episode steps: 201, steps per second: 221, episode reward: -732.600, mean reward: -3.645 [-366.300, 104.400], mean action: 4.303 [0.000, 9.000], mean observation: 27.154 [0.000, 502.600], loss: 416.688477, mean_absolute_error: 6.750647, mean_q: 2.618046\n",
            "  8643/100000: episode: 43, duration: 0.894s, episode steps: 201, steps per second: 225, episode reward: -423.800, mean reward: -2.108 [-211.900, 88.800], mean action: 3.552 [0.000, 9.000], mean observation: 31.400 [0.000, 560.400], loss: 324.026245, mean_absolute_error: 7.243075, mean_q: 2.718129\n",
            "  8844/100000: episode: 44, duration: 0.939s, episode steps: 201, steps per second: 214, episode reward: -346.200, mean reward: -1.722 [-173.100, 74.700], mean action: 3.582 [0.000, 9.000], mean observation: 35.334 [0.000, 421.300], loss: 365.163483, mean_absolute_error: 5.992013, mean_q: 2.662627\n",
            "  9045/100000: episode: 45, duration: 0.942s, episode steps: 201, steps per second: 213, episode reward: 775.600, mean reward: 3.859 [-9.000, 387.800], mean action: 3.796 [0.000, 9.000], mean observation: 33.478 [0.000, 446.100], loss: 255.662552, mean_absolute_error: 5.782829, mean_q: 2.718271\n",
            "  9246/100000: episode: 46, duration: 0.917s, episode steps: 201, steps per second: 219, episode reward: 295.600, mean reward: 1.471 [-9.000, 232.800], mean action: 3.652 [0.000, 9.000], mean observation: 31.201 [0.000, 418.800], loss: 355.082123, mean_absolute_error: 6.350575, mean_q: 3.369710\n",
            "  9447/100000: episode: 47, duration: 0.914s, episode steps: 201, steps per second: 220, episode reward: -513.200, mean reward: -2.553 [-256.600, 109.800], mean action: 3.627 [0.000, 9.000], mean observation: 33.421 [0.000, 497.300], loss: 304.628784, mean_absolute_error: 6.474185, mean_q: 3.543407\n",
            "  9648/100000: episode: 48, duration: 0.946s, episode steps: 201, steps per second: 213, episode reward: -39.600, mean reward: -0.197 [-19.800, 113.400], mean action: 3.672 [0.000, 9.000], mean observation: 34.079 [0.000, 618.400], loss: 272.669434, mean_absolute_error: 6.568488, mean_q: 3.771034\n",
            "  9849/100000: episode: 49, duration: 0.932s, episode steps: 201, steps per second: 216, episode reward: -853.400, mean reward: -4.246 [-426.700, 49.800], mean action: 3.905 [0.000, 9.000], mean observation: 30.377 [0.000, 584.800], loss: 378.687897, mean_absolute_error: 7.540959, mean_q: 4.235112\n",
            " 10050/100000: episode: 50, duration: 0.927s, episode steps: 201, steps per second: 217, episode reward: 156.600, mean reward: 0.779 [-9.000, 148.000], mean action: 3.418 [0.000, 9.000], mean observation: 31.519 [0.000, 479.300], loss: 314.811371, mean_absolute_error: 7.409610, mean_q: 4.000912\n",
            " 10251/100000: episode: 51, duration: 0.969s, episode steps: 201, steps per second: 207, episode reward: 22.400, mean reward: 0.111 [-9.000, 123.200], mean action: 2.846 [0.000, 9.000], mean observation: 37.029 [0.000, 660.900], loss: 277.177429, mean_absolute_error: 8.180439, mean_q: 3.917470\n",
            " 10452/100000: episode: 52, duration: 0.906s, episode steps: 201, steps per second: 222, episode reward: 337.000, mean reward: 1.677 [-9.000, 239.400], mean action: 3.473 [0.000, 9.000], mean observation: 29.674 [0.000, 457.400], loss: 270.627441, mean_absolute_error: 8.685451, mean_q: 4.696733\n",
            " 10653/100000: episode: 53, duration: 0.907s, episode steps: 201, steps per second: 222, episode reward: 1438.200, mean reward: 7.155 [-9.000, 719.100], mean action: 3.647 [0.000, 9.000], mean observation: 28.651 [0.000, 500.400], loss: 296.915344, mean_absolute_error: 8.550551, mean_q: 4.853678\n",
            " 10854/100000: episode: 54, duration: 0.926s, episode steps: 201, steps per second: 217, episode reward: 92.400, mean reward: 0.460 [-9.000, 195.300], mean action: 3.448 [0.000, 9.000], mean observation: 30.639 [0.000, 473.800], loss: 322.579834, mean_absolute_error: 8.801626, mean_q: 5.070672\n",
            " 11055/100000: episode: 55, duration: 0.950s, episode steps: 201, steps per second: 212, episode reward: 244.400, mean reward: 1.216 [-9.000, 149.800], mean action: 3.826 [0.000, 9.000], mean observation: 30.586 [0.000, 627.200], loss: 341.136597, mean_absolute_error: 8.595889, mean_q: 5.887908\n",
            " 11256/100000: episode: 56, duration: 0.941s, episode steps: 201, steps per second: 214, episode reward: -162.600, mean reward: -0.809 [-81.300, 170.500], mean action: 3.468 [0.000, 9.000], mean observation: 27.766 [0.000, 468.600], loss: 405.845154, mean_absolute_error: 10.025329, mean_q: 6.764033\n",
            " 11457/100000: episode: 57, duration: 0.910s, episode steps: 201, steps per second: 221, episode reward: 1130.400, mean reward: 5.624 [-9.000, 565.200], mean action: 3.731 [0.000, 9.000], mean observation: 29.753 [0.000, 573.700], loss: 373.133087, mean_absolute_error: 9.959938, mean_q: 7.070740\n",
            " 11658/100000: episode: 58, duration: 0.912s, episode steps: 201, steps per second: 220, episode reward: -206.400, mean reward: -1.027 [-103.200, 163.800], mean action: 3.627 [0.000, 9.000], mean observation: 38.670 [0.000, 503.500], loss: 360.065460, mean_absolute_error: 10.633048, mean_q: 8.283239\n",
            " 11859/100000: episode: 59, duration: 0.935s, episode steps: 201, steps per second: 215, episode reward: -489.000, mean reward: -2.433 [-244.500, 142.200], mean action: 4.682 [0.000, 9.000], mean observation: 35.916 [0.000, 702.100], loss: 302.141205, mean_absolute_error: 11.612104, mean_q: 9.817116\n",
            " 12060/100000: episode: 60, duration: 0.908s, episode steps: 201, steps per second: 221, episode reward: -438.000, mean reward: -2.179 [-219.000, 90.300], mean action: 4.229 [0.000, 9.000], mean observation: 34.668 [0.000, 485.700], loss: 266.795502, mean_absolute_error: 11.881809, mean_q: 10.158976\n",
            " 12261/100000: episode: 61, duration: 0.922s, episode steps: 201, steps per second: 218, episode reward: 60.800, mean reward: 0.302 [-9.000, 178.800], mean action: 3.711 [0.000, 9.000], mean observation: 34.540 [0.000, 719.600], loss: 450.473114, mean_absolute_error: 12.929199, mean_q: 11.036558\n",
            " 12462/100000: episode: 62, duration: 0.914s, episode steps: 201, steps per second: 220, episode reward: -159.800, mean reward: -0.795 [-79.900, 134.400], mean action: 3.557 [0.000, 9.000], mean observation: 35.632 [0.000, 618.400], loss: 321.959503, mean_absolute_error: 12.984562, mean_q: 11.319645\n",
            " 12663/100000: episode: 63, duration: 0.926s, episode steps: 201, steps per second: 217, episode reward: -654.800, mean reward: -3.258 [-327.400, 91.800], mean action: 4.095 [0.000, 9.000], mean observation: 30.356 [0.000, 388.700], loss: 305.160126, mean_absolute_error: 13.192822, mean_q: 11.783864\n",
            " 12864/100000: episode: 64, duration: 0.913s, episode steps: 201, steps per second: 220, episode reward: -181.600, mean reward: -0.903 [-90.800, 172.800], mean action: 4.134 [0.000, 9.000], mean observation: 30.255 [0.000, 379.000], loss: 368.021912, mean_absolute_error: 12.169415, mean_q: 11.275458\n",
            " 13065/100000: episode: 65, duration: 0.914s, episode steps: 201, steps per second: 220, episode reward: 342.600, mean reward: 1.704 [-9.000, 205.800], mean action: 3.463 [0.000, 9.000], mean observation: 29.508 [0.000, 556.200], loss: 319.792969, mean_absolute_error: 12.028859, mean_q: 10.797737\n",
            " 13266/100000: episode: 66, duration: 0.900s, episode steps: 201, steps per second: 223, episode reward: 254.000, mean reward: 1.264 [-9.000, 171.900], mean action: 3.920 [0.000, 9.000], mean observation: 36.766 [0.000, 571.000], loss: 301.188660, mean_absolute_error: 12.137403, mean_q: 11.362260\n",
            " 13467/100000: episode: 67, duration: 0.922s, episode steps: 201, steps per second: 218, episode reward: -234.200, mean reward: -1.165 [-117.100, 155.700], mean action: 3.811 [0.000, 9.000], mean observation: 33.138 [0.000, 468.500], loss: 434.331238, mean_absolute_error: 11.231268, mean_q: 10.591381\n",
            " 13668/100000: episode: 68, duration: 0.924s, episode steps: 201, steps per second: 217, episode reward: -328.400, mean reward: -1.634 [-164.200, 120.500], mean action: 4.154 [0.000, 9.000], mean observation: 29.763 [0.000, 597.900], loss: 279.003357, mean_absolute_error: 11.333662, mean_q: 11.089771\n",
            " 13869/100000: episode: 69, duration: 0.960s, episode steps: 201, steps per second: 209, episode reward: 23.400, mean reward: 0.116 [-9.000, 132.600], mean action: 4.159 [0.000, 9.000], mean observation: 37.476 [0.000, 532.900], loss: 370.553955, mean_absolute_error: 11.573709, mean_q: 11.453747\n",
            " 14070/100000: episode: 70, duration: 0.948s, episode steps: 201, steps per second: 212, episode reward: 870.200, mean reward: 4.329 [-9.000, 435.100], mean action: 4.338 [0.000, 9.000], mean observation: 34.119 [0.000, 509.500], loss: 395.424530, mean_absolute_error: 12.335622, mean_q: 11.827779\n",
            " 14271/100000: episode: 71, duration: 0.913s, episode steps: 201, steps per second: 220, episode reward: -78.400, mean reward: -0.390 [-39.200, 99.400], mean action: 3.672 [0.000, 9.000], mean observation: 34.952 [0.000, 708.600], loss: 248.831589, mean_absolute_error: 12.112647, mean_q: 12.052897\n",
            " 14472/100000: episode: 72, duration: 0.927s, episode steps: 201, steps per second: 217, episode reward: 997.200, mean reward: 4.961 [-9.000, 498.600], mean action: 3.816 [0.000, 9.000], mean observation: 34.135 [0.000, 547.800], loss: 280.760925, mean_absolute_error: 11.623873, mean_q: 12.027032\n",
            " 14673/100000: episode: 73, duration: 0.910s, episode steps: 201, steps per second: 221, episode reward: -614.400, mean reward: -3.057 [-307.200, 62.000], mean action: 3.617 [0.000, 9.000], mean observation: 30.011 [0.000, 521.600], loss: 350.976410, mean_absolute_error: 12.277188, mean_q: 12.609220\n",
            " 14874/100000: episode: 74, duration: 0.926s, episode steps: 201, steps per second: 217, episode reward: -147.200, mean reward: -0.732 [-73.600, 58.000], mean action: 2.846 [0.000, 9.000], mean observation: 35.811 [0.000, 539.200], loss: 306.242859, mean_absolute_error: 12.007734, mean_q: 12.334474\n",
            " 15075/100000: episode: 75, duration: 0.930s, episode steps: 201, steps per second: 216, episode reward: 403.800, mean reward: 2.009 [-9.000, 238.000], mean action: 2.871 [0.000, 9.000], mean observation: 27.903 [0.000, 483.800], loss: 242.512131, mean_absolute_error: 12.438787, mean_q: 13.104511\n",
            " 15276/100000: episode: 76, duration: 0.935s, episode steps: 201, steps per second: 215, episode reward: -160.600, mean reward: -0.799 [-80.300, 70.400], mean action: 2.891 [0.000, 9.000], mean observation: 38.117 [0.000, 577.200], loss: 276.887207, mean_absolute_error: 12.626652, mean_q: 12.592879\n",
            " 15477/100000: episode: 77, duration: 0.949s, episode steps: 201, steps per second: 212, episode reward: 631.600, mean reward: 3.142 [-9.000, 315.800], mean action: 2.816 [0.000, 9.000], mean observation: 30.036 [0.000, 588.400], loss: 311.557678, mean_absolute_error: 12.623905, mean_q: 12.474631\n",
            " 15678/100000: episode: 78, duration: 0.954s, episode steps: 201, steps per second: 211, episode reward: 109.400, mean reward: 0.544 [-9.000, 132.300], mean action: 2.990 [0.000, 9.000], mean observation: 38.518 [0.000, 683.400], loss: 324.149628, mean_absolute_error: 12.553563, mean_q: 12.944416\n",
            " 15879/100000: episode: 79, duration: 0.906s, episode steps: 201, steps per second: 222, episode reward: -97.000, mean reward: -0.483 [-48.500, 96.600], mean action: 3.294 [0.000, 9.000], mean observation: 40.737 [0.000, 530.500], loss: 346.599731, mean_absolute_error: 13.186467, mean_q: 13.338289\n",
            " 16080/100000: episode: 80, duration: 0.897s, episode steps: 201, steps per second: 224, episode reward: -502.200, mean reward: -2.499 [-251.100, 54.800], mean action: 3.532 [0.000, 9.000], mean observation: 22.960 [0.000, 510.200], loss: 275.945374, mean_absolute_error: 12.741023, mean_q: 13.613866\n",
            " 16281/100000: episode: 81, duration: 0.899s, episode steps: 201, steps per second: 224, episode reward: 1421.200, mean reward: 7.071 [-9.000, 710.600], mean action: 3.119 [0.000, 9.000], mean observation: 38.650 [0.000, 615.600], loss: 241.981201, mean_absolute_error: 12.111691, mean_q: 13.281151\n",
            " 16482/100000: episode: 82, duration: 0.917s, episode steps: 201, steps per second: 219, episode reward: -380.000, mean reward: -1.891 [-190.000, 81.800], mean action: 3.124 [0.000, 9.000], mean observation: 32.792 [0.000, 590.900], loss: 244.237915, mean_absolute_error: 12.265038, mean_q: 13.485786\n",
            " 16683/100000: episode: 83, duration: 0.930s, episode steps: 201, steps per second: 216, episode reward: 874.400, mean reward: 4.350 [-9.000, 437.200], mean action: 3.080 [0.000, 9.000], mean observation: 36.314 [0.000, 530.900], loss: 243.742065, mean_absolute_error: 12.321808, mean_q: 13.232425\n",
            " 16884/100000: episode: 84, duration: 0.977s, episode steps: 201, steps per second: 206, episode reward: -103.800, mean reward: -0.516 [-51.900, 114.500], mean action: 3.313 [0.000, 9.000], mean observation: 29.461 [0.000, 415.400], loss: 281.144043, mean_absolute_error: 11.375072, mean_q: 12.865647\n",
            " 17085/100000: episode: 85, duration: 0.936s, episode steps: 201, steps per second: 215, episode reward: 126.800, mean reward: 0.631 [-9.000, 127.400], mean action: 3.338 [0.000, 9.000], mean observation: 36.184 [0.000, 639.100], loss: 257.596832, mean_absolute_error: 11.103924, mean_q: 12.689509\n",
            " 17286/100000: episode: 86, duration: 0.922s, episode steps: 201, steps per second: 218, episode reward: -394.400, mean reward: -1.962 [-197.200, 85.800], mean action: 4.174 [0.000, 9.000], mean observation: 29.852 [0.000, 472.400], loss: 287.432831, mean_absolute_error: 11.531014, mean_q: 13.498774\n",
            " 17487/100000: episode: 87, duration: 0.947s, episode steps: 201, steps per second: 212, episode reward: 144.800, mean reward: 0.720 [-9.000, 153.000], mean action: 3.930 [0.000, 9.000], mean observation: 33.598 [0.000, 630.500], loss: 288.733246, mean_absolute_error: 11.089080, mean_q: 12.982257\n",
            " 17688/100000: episode: 88, duration: 0.951s, episode steps: 201, steps per second: 211, episode reward: 823.000, mean reward: 4.095 [-9.000, 661.000], mean action: 3.821 [0.000, 9.000], mean observation: 35.709 [0.000, 727.600], loss: 345.023895, mean_absolute_error: 10.959663, mean_q: 13.128471\n",
            " 17889/100000: episode: 89, duration: 0.934s, episode steps: 201, steps per second: 215, episode reward: -89.800, mean reward: -0.447 [-44.900, 270.000], mean action: 3.816 [0.000, 9.000], mean observation: 32.599 [0.000, 607.700], loss: 345.332275, mean_absolute_error: 11.368302, mean_q: 13.522097\n",
            " 18090/100000: episode: 90, duration: 0.939s, episode steps: 201, steps per second: 214, episode reward: 791.600, mean reward: 3.938 [-9.000, 395.800], mean action: 3.876 [0.000, 9.000], mean observation: 34.063 [0.000, 458.200], loss: 280.338043, mean_absolute_error: 12.181655, mean_q: 14.323133\n",
            " 18291/100000: episode: 91, duration: 0.962s, episode steps: 201, steps per second: 209, episode reward: -760.200, mean reward: -3.782 [-380.100, 106.500], mean action: 3.378 [0.000, 9.000], mean observation: 35.400 [0.000, 476.600], loss: 325.793854, mean_absolute_error: 12.812158, mean_q: 15.119969\n",
            " 18492/100000: episode: 92, duration: 0.949s, episode steps: 201, steps per second: 212, episode reward: -533.800, mean reward: -2.656 [-266.900, 34.800], mean action: 3.219 [0.000, 9.000], mean observation: 35.850 [0.000, 566.800], loss: 327.152435, mean_absolute_error: 12.393421, mean_q: 14.500039\n",
            " 18693/100000: episode: 93, duration: 0.960s, episode steps: 201, steps per second: 209, episode reward: 4023.200, mean reward: 20.016 [-9.000, 2011.600], mean action: 4.144 [0.000, 9.000], mean observation: 31.314 [0.000, 430.100], loss: 372.674744, mean_absolute_error: 12.551155, mean_q: 15.831635\n",
            " 18894/100000: episode: 94, duration: 0.952s, episode steps: 201, steps per second: 211, episode reward: 485.800, mean reward: 2.417 [-9.000, 525.000], mean action: 4.224 [0.000, 9.000], mean observation: 35.111 [0.000, 609.800], loss: 667.989502, mean_absolute_error: 14.443860, mean_q: 18.645046\n",
            " 19095/100000: episode: 95, duration: 0.968s, episode steps: 201, steps per second: 208, episode reward: -193.000, mean reward: -0.960 [-96.500, 273.500], mean action: 4.741 [0.000, 9.000], mean observation: 32.039 [0.000, 681.900], loss: 419.621490, mean_absolute_error: 16.776491, mean_q: 21.335670\n",
            " 19296/100000: episode: 96, duration: 0.980s, episode steps: 201, steps per second: 205, episode reward: 426.200, mean reward: 2.120 [-9.000, 213.500], mean action: 4.647 [0.000, 9.000], mean observation: 30.276 [0.000, 467.400], loss: 683.383423, mean_absolute_error: 18.881260, mean_q: 24.483263\n",
            " 19497/100000: episode: 97, duration: 0.971s, episode steps: 201, steps per second: 207, episode reward: 695.600, mean reward: 3.461 [-8.000, 550.000], mean action: 4.189 [0.000, 8.000], mean observation: 30.459 [0.000, 411.800], loss: 580.732910, mean_absolute_error: 21.365961, mean_q: 27.368971\n",
            " 19698/100000: episode: 98, duration: 0.995s, episode steps: 201, steps per second: 202, episode reward: -339.600, mean reward: -1.690 [-169.800, 84.000], mean action: 3.473 [0.000, 9.000], mean observation: 32.495 [0.000, 524.600], loss: 356.109131, mean_absolute_error: 21.305637, mean_q: 26.277626\n",
            " 19899/100000: episode: 99, duration: 1.001s, episode steps: 201, steps per second: 201, episode reward: -132.000, mean reward: -0.657 [-66.000, 123.800], mean action: 4.333 [0.000, 9.000], mean observation: 27.279 [0.000, 506.800], loss: 383.252716, mean_absolute_error: 22.116060, mean_q: 27.877867\n",
            " 20100/100000: episode: 100, duration: 0.999s, episode steps: 201, steps per second: 201, episode reward: 451.400, mean reward: 2.246 [-9.000, 225.700], mean action: 3.338 [0.000, 9.000], mean observation: 32.983 [0.000, 481.300], loss: 424.836273, mean_absolute_error: 22.376127, mean_q: 27.655716\n",
            " 20301/100000: episode: 101, duration: 0.984s, episode steps: 201, steps per second: 204, episode reward: -835.800, mean reward: -4.158 [-417.900, 30.000], mean action: 3.323 [0.000, 9.000], mean observation: 35.590 [0.000, 590.900], loss: 686.053894, mean_absolute_error: 22.974154, mean_q: 28.507511\n",
            " 20502/100000: episode: 102, duration: 0.948s, episode steps: 201, steps per second: 212, episode reward: -512.600, mean reward: -2.550 [-256.300, 100.000], mean action: 4.378 [0.000, 9.000], mean observation: 37.071 [0.000, 567.300], loss: 563.338013, mean_absolute_error: 22.746914, mean_q: 29.427187\n",
            " 20703/100000: episode: 103, duration: 0.959s, episode steps: 201, steps per second: 210, episode reward: 835.600, mean reward: 4.157 [-9.000, 417.800], mean action: 3.970 [0.000, 9.000], mean observation: 33.244 [0.000, 673.700], loss: 459.509766, mean_absolute_error: 23.454403, mean_q: 30.163761\n",
            " 20904/100000: episode: 104, duration: 0.995s, episode steps: 201, steps per second: 202, episode reward: -282.000, mean reward: -1.403 [-141.000, 109.200], mean action: 3.677 [0.000, 9.000], mean observation: 31.991 [0.000, 616.100], loss: 482.246552, mean_absolute_error: 24.024637, mean_q: 30.630754\n",
            " 21105/100000: episode: 105, duration: 0.950s, episode steps: 201, steps per second: 212, episode reward: 880.800, mean reward: 4.382 [-9.000, 556.800], mean action: 3.886 [0.000, 9.000], mean observation: 31.697 [0.000, 743.400], loss: 330.471161, mean_absolute_error: 24.611044, mean_q: 31.666626\n",
            " 21306/100000: episode: 106, duration: 0.920s, episode steps: 201, steps per second: 219, episode reward: -569.400, mean reward: -2.833 [-284.700, 79.000], mean action: 3.522 [0.000, 9.000], mean observation: 34.140 [0.000, 583.100], loss: 419.538727, mean_absolute_error: 25.396362, mean_q: 32.444202\n",
            " 21507/100000: episode: 107, duration: 0.954s, episode steps: 201, steps per second: 211, episode reward: -332.600, mean reward: -1.655 [-166.300, 127.200], mean action: 4.413 [0.000, 9.000], mean observation: 34.883 [0.000, 681.900], loss: 487.703796, mean_absolute_error: 25.743261, mean_q: 33.034096\n",
            " 21708/100000: episode: 108, duration: 0.966s, episode steps: 201, steps per second: 208, episode reward: 1076.400, mean reward: 5.355 [-9.000, 538.200], mean action: 4.080 [0.000, 9.000], mean observation: 29.818 [0.000, 658.100], loss: 385.501526, mean_absolute_error: 26.789062, mean_q: 34.141632\n",
            " 21909/100000: episode: 109, duration: 0.981s, episode steps: 201, steps per second: 205, episode reward: 414.000, mean reward: 2.060 [-9.000, 207.000], mean action: 3.706 [0.000, 9.000], mean observation: 31.109 [0.000, 697.600], loss: 605.552185, mean_absolute_error: 26.540699, mean_q: 34.116455\n",
            " 22110/100000: episode: 110, duration: 0.935s, episode steps: 201, steps per second: 215, episode reward: -461.200, mean reward: -2.295 [-230.600, 98.400], mean action: 4.095 [0.000, 9.000], mean observation: 30.228 [0.000, 470.300], loss: 409.605408, mean_absolute_error: 26.591984, mean_q: 34.304771\n",
            " 22311/100000: episode: 111, duration: 1.058s, episode steps: 201, steps per second: 190, episode reward: -63.400, mean reward: -0.315 [-31.700, 175.200], mean action: 3.826 [0.000, 9.000], mean observation: 36.512 [0.000, 542.100], loss: 492.471252, mean_absolute_error: 26.455807, mean_q: 34.125481\n",
            " 22512/100000: episode: 112, duration: 1.130s, episode steps: 201, steps per second: 178, episode reward: 2056.000, mean reward: 10.229 [-9.000, 1028.000], mean action: 4.358 [0.000, 9.000], mean observation: 30.756 [0.000, 500.200], loss: 432.290497, mean_absolute_error: 27.687107, mean_q: 36.256893\n",
            " 22713/100000: episode: 113, duration: 1.053s, episode steps: 201, steps per second: 191, episode reward: -705.400, mean reward: -3.509 [-352.700, 62.400], mean action: 4.179 [0.000, 9.000], mean observation: 36.338 [0.000, 460.600], loss: 517.197144, mean_absolute_error: 28.908134, mean_q: 38.128654\n",
            " 22914/100000: episode: 114, duration: 1.086s, episode steps: 201, steps per second: 185, episode reward: -356.400, mean reward: -1.773 [-178.200, 186.500], mean action: 4.338 [0.000, 9.000], mean observation: 29.261 [0.000, 593.000], loss: 479.738892, mean_absolute_error: 29.412319, mean_q: 38.136669\n",
            " 23115/100000: episode: 115, duration: 1.078s, episode steps: 201, steps per second: 186, episode reward: 135.800, mean reward: 0.676 [-9.000, 152.500], mean action: 4.338 [0.000, 9.000], mean observation: 31.246 [0.000, 654.600], loss: 508.304260, mean_absolute_error: 30.402931, mean_q: 40.020103\n",
            " 23316/100000: episode: 116, duration: 0.956s, episode steps: 201, steps per second: 210, episode reward: 1950.400, mean reward: 9.703 [-9.000, 1219.000], mean action: 4.249 [0.000, 9.000], mean observation: 38.263 [0.000, 500.400], loss: 418.933685, mean_absolute_error: 30.788147, mean_q: 40.453758\n",
            " 23517/100000: episode: 117, duration: 0.942s, episode steps: 201, steps per second: 213, episode reward: 197.600, mean reward: 0.983 [-8.000, 251.500], mean action: 3.418 [0.000, 9.000], mean observation: 34.876 [0.000, 586.000], loss: 448.963165, mean_absolute_error: 30.679619, mean_q: 39.936382\n",
            " 23718/100000: episode: 118, duration: 0.957s, episode steps: 201, steps per second: 210, episode reward: -672.800, mean reward: -3.347 [-336.400, 97.500], mean action: 5.000 [0.000, 9.000], mean observation: 39.518 [0.000, 527.300], loss: 613.471558, mean_absolute_error: 32.462879, mean_q: 43.715588\n",
            " 23919/100000: episode: 119, duration: 0.956s, episode steps: 201, steps per second: 210, episode reward: -603.000, mean reward: -3.000 [-301.500, 76.000], mean action: 4.602 [0.000, 9.000], mean observation: 33.713 [0.000, 479.600], loss: 583.991028, mean_absolute_error: 35.197643, mean_q: 46.618275\n",
            " 24120/100000: episode: 120, duration: 0.919s, episode steps: 201, steps per second: 219, episode reward: 1069.000, mean reward: 5.318 [-9.000, 534.500], mean action: 4.453 [0.000, 9.000], mean observation: 33.334 [0.000, 515.500], loss: 446.359406, mean_absolute_error: 36.070034, mean_q: 47.244579\n",
            " 24321/100000: episode: 121, duration: 0.973s, episode steps: 201, steps per second: 206, episode reward: -204.200, mean reward: -1.016 [-102.100, 167.500], mean action: 4.284 [0.000, 9.000], mean observation: 35.418 [0.000, 397.500], loss: 546.643127, mean_absolute_error: 37.483757, mean_q: 48.979229\n",
            " 24522/100000: episode: 122, duration: 0.935s, episode steps: 201, steps per second: 215, episode reward: -419.400, mean reward: -2.087 [-209.700, 144.900], mean action: 4.463 [0.000, 9.000], mean observation: 36.007 [0.000, 520.500], loss: 505.875671, mean_absolute_error: 38.814671, mean_q: 50.210789\n",
            " 24723/100000: episode: 123, duration: 0.996s, episode steps: 201, steps per second: 202, episode reward: 413.000, mean reward: 2.055 [-9.000, 206.500], mean action: 3.975 [0.000, 9.000], mean observation: 36.121 [0.000, 630.500], loss: 447.412598, mean_absolute_error: 38.570938, mean_q: 49.691090\n",
            " 24924/100000: episode: 124, duration: 0.915s, episode steps: 201, steps per second: 220, episode reward: 237.600, mean reward: 1.182 [-9.000, 158.400], mean action: 4.413 [0.000, 9.000], mean observation: 30.039 [0.000, 578.200], loss: 357.657928, mean_absolute_error: 38.006786, mean_q: 48.752518\n",
            " 25125/100000: episode: 125, duration: 0.937s, episode steps: 201, steps per second: 214, episode reward: -432.400, mean reward: -2.151 [-216.200, 112.500], mean action: 4.363 [0.000, 9.000], mean observation: 31.349 [0.000, 636.600], loss: 608.368713, mean_absolute_error: 39.018433, mean_q: 50.359497\n",
            " 25326/100000: episode: 126, duration: 0.931s, episode steps: 201, steps per second: 216, episode reward: 1305.000, mean reward: 6.493 [-9.000, 652.500], mean action: 4.403 [0.000, 9.000], mean observation: 38.637 [0.000, 530.000], loss: 438.075165, mean_absolute_error: 39.953060, mean_q: 51.332096\n",
            " 25527/100000: episode: 127, duration: 0.921s, episode steps: 201, steps per second: 218, episode reward: 1558.000, mean reward: 7.751 [-9.000, 779.000], mean action: 4.836 [0.000, 9.000], mean observation: 34.493 [0.000, 555.400], loss: 453.192139, mean_absolute_error: 41.644245, mean_q: 53.943844\n",
            " 25728/100000: episode: 128, duration: 0.925s, episode steps: 201, steps per second: 217, episode reward: -678.600, mean reward: -3.376 [-339.300, 82.200], mean action: 4.194 [0.000, 9.000], mean observation: 27.815 [0.000, 353.800], loss: 538.690430, mean_absolute_error: 41.294689, mean_q: 52.751556\n",
            " 25929/100000: episode: 129, duration: 0.944s, episode steps: 201, steps per second: 213, episode reward: -154.800, mean reward: -0.770 [-77.400, 139.200], mean action: 3.940 [0.000, 9.000], mean observation: 33.075 [0.000, 446.100], loss: 640.213562, mean_absolute_error: 41.778687, mean_q: 53.291393\n",
            " 26130/100000: episode: 130, duration: 0.943s, episode steps: 201, steps per second: 213, episode reward: 832.800, mean reward: 4.143 [-9.000, 416.400], mean action: 4.204 [0.000, 9.000], mean observation: 29.763 [0.000, 499.100], loss: 344.850800, mean_absolute_error: 40.779190, mean_q: 52.018093\n",
            " 26331/100000: episode: 131, duration: 0.919s, episode steps: 201, steps per second: 219, episode reward: -82.400, mean reward: -0.410 [-41.200, 208.500], mean action: 3.766 [0.000, 9.000], mean observation: 32.386 [0.000, 772.000], loss: 438.440857, mean_absolute_error: 41.876205, mean_q: 53.247757\n",
            " 26532/100000: episode: 132, duration: 0.904s, episode steps: 201, steps per second: 222, episode reward: 1172.400, mean reward: 5.833 [-9.000, 586.200], mean action: 5.075 [0.000, 9.000], mean observation: 27.003 [0.000, 460.100], loss: 360.774841, mean_absolute_error: 42.886364, mean_q: 54.663811\n",
            " 26733/100000: episode: 133, duration: 0.931s, episode steps: 201, steps per second: 216, episode reward: -144.800, mean reward: -0.720 [-72.400, 159.300], mean action: 5.075 [0.000, 9.000], mean observation: 31.940 [0.000, 449.300], loss: 860.469971, mean_absolute_error: 44.622513, mean_q: 56.756393\n",
            " 26934/100000: episode: 134, duration: 0.895s, episode steps: 201, steps per second: 225, episode reward: -746.200, mean reward: -3.712 [-373.100, 87.500], mean action: 4.587 [0.000, 9.000], mean observation: 33.641 [0.000, 466.300], loss: 883.254883, mean_absolute_error: 44.374088, mean_q: 56.362747\n",
            " 27135/100000: episode: 135, duration: 0.913s, episode steps: 201, steps per second: 220, episode reward: 1649.200, mean reward: 8.205 [-9.000, 824.600], mean action: 5.756 [0.000, 9.000], mean observation: 27.960 [0.000, 519.800], loss: 606.066528, mean_absolute_error: 45.733379, mean_q: 58.851070\n",
            " 27336/100000: episode: 136, duration: 0.942s, episode steps: 201, steps per second: 213, episode reward: 211.800, mean reward: 1.054 [-9.000, 304.200], mean action: 5.373 [0.000, 9.000], mean observation: 28.776 [0.000, 520.700], loss: 538.924500, mean_absolute_error: 46.904861, mean_q: 59.717113\n",
            " 27537/100000: episode: 137, duration: 0.906s, episode steps: 201, steps per second: 222, episode reward: 1125.800, mean reward: 5.601 [-9.000, 562.900], mean action: 4.532 [0.000, 9.000], mean observation: 32.559 [0.000, 514.000], loss: 394.512482, mean_absolute_error: 47.612869, mean_q: 60.035961\n",
            " 27738/100000: episode: 138, duration: 0.905s, episode steps: 201, steps per second: 222, episode reward: -592.000, mean reward: -2.945 [-296.000, 255.500], mean action: 4.826 [0.000, 9.000], mean observation: 35.218 [0.000, 583.600], loss: 514.306824, mean_absolute_error: 47.654179, mean_q: 60.200882\n",
            " 27939/100000: episode: 139, duration: 0.920s, episode steps: 201, steps per second: 219, episode reward: 145.800, mean reward: 0.725 [-9.000, 246.600], mean action: 4.488 [0.000, 9.000], mean observation: 35.759 [0.000, 408.200], loss: 325.150360, mean_absolute_error: 47.390144, mean_q: 59.646908\n",
            " 28140/100000: episode: 140, duration: 0.919s, episode steps: 201, steps per second: 219, episode reward: -466.200, mean reward: -2.319 [-233.100, 75.200], mean action: 4.507 [0.000, 9.000], mean observation: 28.924 [0.000, 900.900], loss: 489.665771, mean_absolute_error: 47.867565, mean_q: 59.766151\n",
            " 28341/100000: episode: 141, duration: 0.918s, episode steps: 201, steps per second: 219, episode reward: 132.600, mean reward: 0.660 [-9.000, 386.500], mean action: 5.413 [0.000, 9.000], mean observation: 34.026 [0.000, 471.000], loss: 986.903381, mean_absolute_error: 48.236824, mean_q: 61.086365\n",
            " 28542/100000: episode: 142, duration: 0.921s, episode steps: 201, steps per second: 218, episode reward: -915.000, mean reward: -4.552 [-457.500, 201.500], mean action: 4.970 [0.000, 9.000], mean observation: 35.047 [0.000, 628.000], loss: 386.654846, mean_absolute_error: 49.073830, mean_q: 62.702686\n",
            " 28743/100000: episode: 143, duration: 0.968s, episode steps: 201, steps per second: 208, episode reward: 370.400, mean reward: 1.843 [-9.000, 371.000], mean action: 4.453 [0.000, 9.000], mean observation: 33.096 [0.000, 657.500], loss: 404.103790, mean_absolute_error: 50.730381, mean_q: 64.899727\n",
            " 28944/100000: episode: 144, duration: 0.926s, episode steps: 201, steps per second: 217, episode reward: -271.000, mean reward: -1.348 [-135.500, 64.800], mean action: 3.075 [0.000, 9.000], mean observation: 33.900 [0.000, 881.000], loss: 590.100037, mean_absolute_error: 50.864517, mean_q: 64.200302\n",
            " 29145/100000: episode: 145, duration: 0.924s, episode steps: 201, steps per second: 218, episode reward: 1042.400, mean reward: 5.186 [-9.000, 521.200], mean action: 3.995 [0.000, 9.000], mean observation: 29.752 [0.000, 413.600], loss: 754.099792, mean_absolute_error: 51.294853, mean_q: 64.014442\n",
            " 29346/100000: episode: 146, duration: 0.942s, episode steps: 201, steps per second: 213, episode reward: -756.400, mean reward: -3.763 [-378.200, 91.200], mean action: 4.846 [0.000, 9.000], mean observation: 30.953 [0.000, 798.300], loss: 566.235962, mean_absolute_error: 52.087200, mean_q: 65.797844\n",
            " 29547/100000: episode: 147, duration: 0.941s, episode steps: 201, steps per second: 214, episode reward: -965.000, mean reward: -4.801 [-482.500, 50.000], mean action: 4.851 [0.000, 9.000], mean observation: 27.924 [0.000, 500.600], loss: 864.187500, mean_absolute_error: 53.666473, mean_q: 67.162521\n",
            " 29748/100000: episode: 148, duration: 0.947s, episode steps: 201, steps per second: 212, episode reward: 471.000, mean reward: 2.343 [-9.000, 235.500], mean action: 4.294 [0.000, 9.000], mean observation: 31.801 [0.000, 523.000], loss: 778.184570, mean_absolute_error: 53.501495, mean_q: 66.231010\n",
            " 29949/100000: episode: 149, duration: 0.939s, episode steps: 201, steps per second: 214, episode reward: 110.000, mean reward: 0.547 [-9.000, 272.500], mean action: 3.746 [0.000, 9.000], mean observation: 35.974 [0.000, 813.800], loss: 830.272827, mean_absolute_error: 54.093895, mean_q: 66.699432\n",
            " 30150/100000: episode: 150, duration: 0.961s, episode steps: 201, steps per second: 209, episode reward: -597.600, mean reward: -2.973 [-298.800, 138.600], mean action: 4.896 [0.000, 9.000], mean observation: 29.447 [0.000, 403.900], loss: 472.785797, mean_absolute_error: 54.120560, mean_q: 66.944695\n",
            " 30351/100000: episode: 151, duration: 0.911s, episode steps: 201, steps per second: 221, episode reward: -1241.200, mean reward: -6.175 [-620.600, 24.300], mean action: 4.652 [0.000, 9.000], mean observation: 33.384 [0.000, 532.200], loss: 582.300781, mean_absolute_error: 55.025768, mean_q: 67.803810\n",
            " 30552/100000: episode: 152, duration: 0.912s, episode steps: 201, steps per second: 220, episode reward: 239.600, mean reward: 1.192 [-9.000, 319.500], mean action: 5.363 [0.000, 9.000], mean observation: 30.374 [0.000, 770.400], loss: 464.464630, mean_absolute_error: 53.836250, mean_q: 66.364563\n",
            " 30753/100000: episode: 153, duration: 0.954s, episode steps: 201, steps per second: 211, episode reward: -313.600, mean reward: -1.560 [-156.800, 211.500], mean action: 5.338 [0.000, 9.000], mean observation: 28.239 [0.000, 360.700], loss: 1017.531860, mean_absolute_error: 55.622356, mean_q: 68.504311\n",
            " 30954/100000: episode: 154, duration: 0.935s, episode steps: 201, steps per second: 215, episode reward: 371.400, mean reward: 1.848 [-9.000, 306.900], mean action: 4.542 [0.000, 9.000], mean observation: 33.420 [0.000, 645.100], loss: 821.312744, mean_absolute_error: 55.391232, mean_q: 68.727570\n",
            " 31155/100000: episode: 155, duration: 0.957s, episode steps: 201, steps per second: 210, episode reward: -32.800, mean reward: -0.163 [-16.400, 160.200], mean action: 4.896 [0.000, 9.000], mean observation: 26.958 [0.000, 637.400], loss: 516.223083, mean_absolute_error: 57.042881, mean_q: 70.413010\n",
            " 31356/100000: episode: 156, duration: 1.005s, episode steps: 201, steps per second: 200, episode reward: -507.800, mean reward: -2.526 [-253.900, 155.700], mean action: 5.234 [0.000, 9.000], mean observation: 30.517 [0.000, 619.200], loss: 559.379272, mean_absolute_error: 57.108307, mean_q: 70.274353\n",
            " 31557/100000: episode: 157, duration: 0.945s, episode steps: 201, steps per second: 213, episode reward: -316.200, mean reward: -1.573 [-158.100, 148.500], mean action: 4.095 [0.000, 9.000], mean observation: 35.452 [0.000, 366.800], loss: 316.497498, mean_absolute_error: 56.502983, mean_q: 69.226334\n",
            " 31758/100000: episode: 158, duration: 0.925s, episode steps: 201, steps per second: 217, episode reward: -210.400, mean reward: -1.047 [-105.200, 105.000], mean action: 4.811 [0.000, 9.000], mean observation: 31.768 [0.000, 595.500], loss: 417.177734, mean_absolute_error: 57.053841, mean_q: 69.445053\n",
            " 31959/100000: episode: 159, duration: 0.914s, episode steps: 201, steps per second: 220, episode reward: 1269.000, mean reward: 6.313 [-9.000, 634.500], mean action: 4.642 [0.000, 9.000], mean observation: 33.445 [0.000, 706.900], loss: 506.928009, mean_absolute_error: 57.175247, mean_q: 69.033386\n",
            " 32160/100000: episode: 160, duration: 0.947s, episode steps: 201, steps per second: 212, episode reward: -423.200, mean reward: -2.105 [-211.600, 189.000], mean action: 4.274 [0.000, 9.000], mean observation: 38.235 [0.000, 556.400], loss: 440.652283, mean_absolute_error: 56.815426, mean_q: 68.798088\n",
            " 32361/100000: episode: 161, duration: 0.922s, episode steps: 201, steps per second: 218, episode reward: -624.800, mean reward: -3.108 [-312.400, 84.900], mean action: 4.080 [0.000, 9.000], mean observation: 34.059 [0.000, 624.200], loss: 630.615540, mean_absolute_error: 57.306087, mean_q: 69.475845\n",
            " 32562/100000: episode: 162, duration: 0.911s, episode steps: 201, steps per second: 221, episode reward: -383.000, mean reward: -1.905 [-191.500, 178.500], mean action: 5.363 [0.000, 9.000], mean observation: 32.026 [0.000, 524.500], loss: 522.086853, mean_absolute_error: 57.909069, mean_q: 71.050507\n",
            " 32763/100000: episode: 163, duration: 0.968s, episode steps: 201, steps per second: 208, episode reward: 1333.000, mean reward: 6.632 [-9.000, 666.500], mean action: 5.373 [0.000, 9.000], mean observation: 32.990 [0.000, 478.700], loss: 769.659851, mean_absolute_error: 59.531513, mean_q: 72.443153\n",
            " 32964/100000: episode: 164, duration: 0.965s, episode steps: 201, steps per second: 208, episode reward: 388.200, mean reward: 1.931 [-9.000, 383.400], mean action: 6.289 [0.000, 9.000], mean observation: 31.317 [0.000, 859.300], loss: 682.418396, mean_absolute_error: 61.409611, mean_q: 75.687576\n",
            " 33165/100000: episode: 165, duration: 0.987s, episode steps: 201, steps per second: 204, episode reward: -72.600, mean reward: -0.361 [-36.300, 200.000], mean action: 5.796 [0.000, 9.000], mean observation: 31.261 [0.000, 524.800], loss: 582.138794, mean_absolute_error: 62.366428, mean_q: 77.165779\n",
            " 33366/100000: episode: 166, duration: 0.948s, episode steps: 201, steps per second: 212, episode reward: 3783.800, mean reward: 18.825 [-9.000, 1891.900], mean action: 5.517 [0.000, 9.000], mean observation: 35.321 [0.000, 610.100], loss: 1138.319458, mean_absolute_error: 64.049759, mean_q: 79.820854\n",
            " 33567/100000: episode: 167, duration: 0.990s, episode steps: 201, steps per second: 203, episode reward: -315.200, mean reward: -1.568 [-157.600, 336.500], mean action: 5.124 [0.000, 9.000], mean observation: 35.495 [0.000, 409.200], loss: 1243.389893, mean_absolute_error: 65.842506, mean_q: 82.379791\n",
            " 33768/100000: episode: 168, duration: 0.935s, episode steps: 201, steps per second: 215, episode reward: -702.200, mean reward: -3.494 [-351.100, 276.300], mean action: 5.294 [0.000, 9.000], mean observation: 28.227 [0.000, 578.100], loss: 943.254517, mean_absolute_error: 66.563004, mean_q: 83.240417\n",
            " 33969/100000: episode: 169, duration: 0.938s, episode steps: 201, steps per second: 214, episode reward: -352.000, mean reward: -1.751 [-176.000, 163.000], mean action: 4.443 [0.000, 9.000], mean observation: 36.473 [0.000, 420.300], loss: 520.307495, mean_absolute_error: 68.214279, mean_q: 85.083412\n",
            " 34170/100000: episode: 170, duration: 0.941s, episode steps: 201, steps per second: 214, episode reward: -565.800, mean reward: -2.815 [-282.900, 59.400], mean action: 4.070 [0.000, 9.000], mean observation: 36.059 [0.000, 526.600], loss: 488.915497, mean_absolute_error: 68.315018, mean_q: 84.286682\n",
            " 34371/100000: episode: 171, duration: 0.962s, episode steps: 201, steps per second: 209, episode reward: -401.400, mean reward: -1.997 [-200.700, 123.000], mean action: 4.010 [0.000, 9.000], mean observation: 35.491 [0.000, 453.500], loss: 979.251404, mean_absolute_error: 68.992928, mean_q: 84.893005\n",
            " 34572/100000: episode: 172, duration: 0.962s, episode steps: 201, steps per second: 209, episode reward: 1121.000, mean reward: 5.577 [-9.000, 794.600], mean action: 3.736 [0.000, 9.000], mean observation: 34.616 [0.000, 555.700], loss: 595.033081, mean_absolute_error: 69.519135, mean_q: 84.862488\n",
            " 34773/100000: episode: 173, duration: 0.945s, episode steps: 201, steps per second: 213, episode reward: 402.600, mean reward: 2.003 [-9.000, 570.500], mean action: 4.303 [0.000, 9.000], mean observation: 35.472 [0.000, 566.500], loss: 512.067627, mean_absolute_error: 69.621460, mean_q: 84.468300\n",
            " 34974/100000: episode: 174, duration: 0.932s, episode steps: 201, steps per second: 216, episode reward: -380.000, mean reward: -1.891 [-190.000, 171.500], mean action: 4.582 [0.000, 9.000], mean observation: 37.547 [0.000, 553.100], loss: 507.019745, mean_absolute_error: 68.979225, mean_q: 83.130745\n",
            " 35175/100000: episode: 175, duration: 0.945s, episode steps: 201, steps per second: 213, episode reward: -277.600, mean reward: -1.381 [-138.800, 145.800], mean action: 5.249 [0.000, 9.000], mean observation: 31.450 [0.000, 638.600], loss: 775.719543, mean_absolute_error: 69.736496, mean_q: 83.751526\n",
            " 35376/100000: episode: 176, duration: 0.952s, episode steps: 201, steps per second: 211, episode reward: -365.400, mean reward: -1.818 [-182.700, 68.400], mean action: 4.637 [0.000, 9.000], mean observation: 34.908 [0.000, 663.700], loss: 535.943237, mean_absolute_error: 69.704521, mean_q: 83.014572\n",
            " 35577/100000: episode: 177, duration: 0.939s, episode steps: 201, steps per second: 214, episode reward: -104.200, mean reward: -0.518 [-52.100, 282.000], mean action: 5.179 [0.000, 9.000], mean observation: 37.656 [0.000, 637.900], loss: 698.841370, mean_absolute_error: 69.830917, mean_q: 83.532433\n",
            " 35778/100000: episode: 178, duration: 0.959s, episode steps: 201, steps per second: 210, episode reward: -358.400, mean reward: -1.783 [-179.200, 244.800], mean action: 5.498 [0.000, 9.000], mean observation: 27.030 [0.000, 450.000], loss: 708.885254, mean_absolute_error: 70.194893, mean_q: 84.416397\n",
            " 35979/100000: episode: 179, duration: 0.959s, episode steps: 201, steps per second: 210, episode reward: 1035.400, mean reward: 5.151 [-9.000, 517.700], mean action: 5.512 [0.000, 9.000], mean observation: 35.669 [0.000, 547.000], loss: 903.674438, mean_absolute_error: 70.200935, mean_q: 84.761375\n",
            "done, took 171.261 seconds\n"
          ],
          "name": "stdout"
        }
      ]
    },
    {
      "cell_type": "code",
      "metadata": {
        "id": "TAzrMyOTHmxi",
        "colab_type": "code",
        "colab": {}
      },
      "source": [
        "# 学習後のモデルの重みの出力\n",
        "dqn.save_weights(\"h5f/my_dqn_weights_try_modify_reward.h5f\", overwrite=True)\n",
        "\n"
      ],
      "execution_count": 0,
      "outputs": []
    },
    {
      "cell_type": "code",
      "metadata": {
        "id": "58y45XXrVcZl",
        "colab_type": "code",
        "colab": {
          "base_uri": "https://localhost:8080/",
          "height": 296
        },
        "outputId": "52bac865-b1f0-4e50-c14b-5a5fc6b856bc"
      },
      "source": [
        "%matplotlib inline\n",
        "import matplotlib.pyplot as plt\n",
        "\n",
        "for obs in cb_train.rewards.values():\n",
        "    plt.plot([o for o in obs])\n",
        "plt.xlabel(\"step\")\n",
        "plt.ylabel(\"pos\")"
      ],
      "execution_count": 211,
      "outputs": [
        {
          "output_type": "execute_result",
          "data": {
            "text/plain": [
              "Text(0, 0.5, 'pos')"
            ]
          },
          "metadata": {
            "tags": []
          },
          "execution_count": 211
        },
        {
          "output_type": "display_data",
          "data": {
            "image/png": "[encoded data removed]",
            "text/plain": [
              "<Figure size 432x288 with 1 Axes>"
            ]
          },
          "metadata": {
            "tags": [],
            "needs_background": "light"
          }
        }
      ]
    },
    {
      "cell_type": "code",
      "metadata": {
        "id": "2uorHBKYVHaS",
        "colab_type": "code",
        "colab": {}
      },
      "source": [
        "# dqn.load_weights(\"h5f/my_dqn_weights_try_modify_reward.h5f\")\n"
      ],
      "execution_count": 0,
      "outputs": []
    },
    {
      "cell_type": "code",
      "metadata": {
        "id": "QATBnmB8awC-",
        "colab_type": "code",
        "colab": {}
      },
      "source": [
        "cb_ep = EpisodeLogger()"
      ],
      "execution_count": 0,
      "outputs": []
    },
    {
      "cell_type": "code",
      "metadata": {
        "id": "vHT0OfELHqrk",
        "colab_type": "code",
        "colab": {
          "base_uri": "https://localhost:8080/",
          "height": 1000
        },
        "outputId": "29be76a4-35fa-4166-9f8c-c25189c28513"
      },
      "source": [
        "# 学習済モデルに対して、テストを実行 （必要に応じて適切なCallbackも定義、設定可能）\n",
        "dqn.test(env, nb_episodes=200, visualize=False, callbacks=[cb_ep])"
      ],
      "execution_count": 291,
      "outputs": [
        {
          "output_type": "stream",
          "text": [
            "Testing for 200 episodes ...\n",
            "Episode 1: reward: -896.600, steps: 201\n",
            "Episode 2: reward: -90.600, steps: 201\n",
            "Episode 3: reward: -260.400, steps: 201\n",
            "Episode 4: reward: -275.400, steps: 201\n",
            "Episode 5: reward: -343.400, steps: 201\n",
            "Episode 6: reward: 60.600, steps: 201\n",
            "Episode 7: reward: 433.000, steps: 201\n",
            "Episode 8: reward: -311.000, steps: 201\n",
            "Episode 9: reward: -94.000, steps: 201\n",
            "Episode 10: reward: 1158.000, steps: 201\n",
            "Episode 11: reward: 192.000, steps: 201\n",
            "Episode 12: reward: -425.200, steps: 201\n",
            "Episode 13: reward: 1283.200, steps: 201\n",
            "Episode 14: reward: -323.000, steps: 201\n",
            "Episode 15: reward: -212.000, steps: 201\n",
            "Episode 16: reward: -209.400, steps: 201\n",
            "Episode 17: reward: -792.200, steps: 201\n",
            "Episode 18: reward: -266.400, steps: 201\n",
            "Episode 19: reward: -291.000, steps: 201\n",
            "Episode 20: reward: -236.000, steps: 201\n",
            "Episode 21: reward: -562.200, steps: 201\n",
            "Episode 22: reward: -436.800, steps: 201\n",
            "Episode 23: reward: -523.200, steps: 201\n",
            "Episode 24: reward: 412.400, steps: 201\n",
            "Episode 25: reward: -277.000, steps: 201\n",
            "Episode 26: reward: 241.600, steps: 201\n",
            "Episode 27: reward: -498.000, steps: 201\n",
            "Episode 28: reward: -491.200, steps: 201\n",
            "Episode 29: reward: -227.200, steps: 201\n",
            "Episode 30: reward: 343.800, steps: 201\n",
            "Episode 31: reward: 619.600, steps: 201\n",
            "Episode 32: reward: -131.800, steps: 201\n",
            "Episode 33: reward: -130.000, steps: 201\n",
            "Episode 34: reward: -821.200, steps: 201\n",
            "Episode 35: reward: 1154.200, steps: 201\n",
            "Episode 36: reward: -283.800, steps: 201\n",
            "Episode 37: reward: 921.200, steps: 201\n",
            "Episode 38: reward: -522.800, steps: 201\n",
            "Episode 39: reward: 22.800, steps: 201\n",
            "Episode 40: reward: -271.800, steps: 201\n",
            "Episode 41: reward: -44.800, steps: 201\n",
            "Episode 42: reward: 1098.200, steps: 201\n",
            "Episode 43: reward: -198.000, steps: 201\n",
            "Episode 44: reward: 204.600, steps: 201\n",
            "Episode 45: reward: -617.600, steps: 201\n",
            "Episode 46: reward: -728.400, steps: 201\n",
            "Episode 47: reward: 3365.200, steps: 201\n",
            "Episode 48: reward: 1471.200, steps: 201\n",
            "Episode 49: reward: -423.200, steps: 201\n",
            "Episode 50: reward: -7.800, steps: 201\n",
            "Episode 51: reward: 676.200, steps: 201\n",
            "Episode 52: reward: -298.000, steps: 201\n",
            "Episode 53: reward: 96.400, steps: 201\n",
            "Episode 54: reward: 56.800, steps: 201\n",
            "Episode 55: reward: -790.200, steps: 201\n",
            "Episode 56: reward: -18.600, steps: 201\n",
            "Episode 57: reward: -295.400, steps: 201\n",
            "Episode 58: reward: 61.200, steps: 201\n",
            "Episode 59: reward: 1266.800, steps: 201\n",
            "Episode 60: reward: -166.000, steps: 201\n",
            "Episode 61: reward: -356.400, steps: 201\n",
            "Episode 62: reward: -448.800, steps: 201\n",
            "Episode 63: reward: 709.200, steps: 201\n",
            "Episode 64: reward: -111.400, steps: 201\n",
            "Episode 65: reward: -83.000, steps: 201\n",
            "Episode 66: reward: 1105.000, steps: 201\n",
            "Episode 67: reward: 768.000, steps: 201\n",
            "Episode 68: reward: -352.400, steps: 201\n",
            "Episode 69: reward: 7.200, steps: 201\n",
            "Episode 70: reward: -490.400, steps: 201\n",
            "Episode 71: reward: -258.600, steps: 201\n",
            "Episode 72: reward: -763.000, steps: 201\n",
            "Episode 73: reward: 87.600, steps: 201\n",
            "Episode 74: reward: 397.000, steps: 201\n",
            "Episode 75: reward: -569.000, steps: 201\n",
            "Episode 76: reward: -470.800, steps: 201\n",
            "Episode 77: reward: 405.200, steps: 201\n",
            "Episode 78: reward: 325.000, steps: 201\n",
            "Episode 79: reward: -287.800, steps: 201\n",
            "Episode 80: reward: 692.400, steps: 201\n",
            "Episode 81: reward: 1730.600, steps: 201\n",
            "Episode 82: reward: -682.800, steps: 201\n",
            "Episode 83: reward: -130.400, steps: 201\n",
            "Episode 84: reward: -112.000, steps: 201\n",
            "Episode 85: reward: -123.600, steps: 201\n",
            "Episode 86: reward: 255.200, steps: 201\n",
            "Episode 87: reward: -96.800, steps: 201\n",
            "Episode 88: reward: -506.200, steps: 201\n",
            "Episode 89: reward: 596.000, steps: 201\n",
            "Episode 90: reward: -412.800, steps: 201\n",
            "Episode 91: reward: 731.800, steps: 201\n",
            "Episode 92: reward: -375.200, steps: 201\n",
            "Episode 93: reward: -536.600, steps: 201\n",
            "Episode 94: reward: 261.400, steps: 201\n",
            "Episode 95: reward: 423.000, steps: 201\n",
            "Episode 96: reward: -592.200, steps: 201\n",
            "Episode 97: reward: 603.600, steps: 201\n",
            "Episode 98: reward: -655.800, steps: 201\n",
            "Episode 99: reward: 96.600, steps: 201\n",
            "Episode 100: reward: -382.800, steps: 201\n",
            "Episode 101: reward: -316.000, steps: 201\n",
            "Episode 102: reward: 140.400, steps: 201\n",
            "Episode 103: reward: -695.000, steps: 201\n",
            "Episode 104: reward: -382.400, steps: 201\n",
            "Episode 105: reward: -855.600, steps: 201\n",
            "Episode 106: reward: -335.400, steps: 201\n",
            "Episode 107: reward: -458.400, steps: 201\n",
            "Episode 108: reward: 103.200, steps: 201\n",
            "Episode 109: reward: 59.000, steps: 201\n",
            "Episode 110: reward: -520.600, steps: 201\n",
            "Episode 111: reward: -269.200, steps: 201\n",
            "Episode 112: reward: -311.600, steps: 201\n",
            "Episode 113: reward: 1044.600, steps: 201\n",
            "Episode 114: reward: -583.000, steps: 201\n",
            "Episode 115: reward: -453.400, steps: 201\n",
            "Episode 116: reward: -204.600, steps: 201\n",
            "Episode 117: reward: 356.600, steps: 201\n",
            "Episode 118: reward: 229.000, steps: 201\n",
            "Episode 119: reward: -68.400, steps: 201\n",
            "Episode 120: reward: 1289.600, steps: 201\n",
            "Episode 121: reward: -307.200, steps: 201\n",
            "Episode 122: reward: -653.600, steps: 201\n",
            "Episode 123: reward: -683.800, steps: 201\n",
            "Episode 124: reward: -155.400, steps: 201\n",
            "Episode 125: reward: -508.800, steps: 201\n",
            "Episode 126: reward: 998.800, steps: 201\n",
            "Episode 127: reward: 171.400, steps: 201\n",
            "Episode 128: reward: -249.000, steps: 201\n",
            "Episode 129: reward: -581.400, steps: 201\n",
            "Episode 130: reward: -181.600, steps: 201\n",
            "Episode 131: reward: 948.400, steps: 201\n",
            "Episode 132: reward: -492.200, steps: 201\n",
            "Episode 133: reward: 186.800, steps: 201\n",
            "Episode 134: reward: -363.600, steps: 201\n",
            "Episode 135: reward: 548.400, steps: 201\n",
            "Episode 136: reward: -408.600, steps: 201\n",
            "Episode 137: reward: 1222.000, steps: 201\n",
            "Episode 138: reward: -360.400, steps: 201\n",
            "Episode 139: reward: -790.200, steps: 201\n",
            "Episode 140: reward: 736.200, steps: 201\n",
            "Episode 141: reward: -291.200, steps: 201\n",
            "Episode 142: reward: -781.000, steps: 201\n",
            "Episode 143: reward: 1256.600, steps: 201\n",
            "Episode 144: reward: 239.800, steps: 201\n",
            "Episode 145: reward: -566.600, steps: 201\n",
            "Episode 146: reward: -168.800, steps: 201\n",
            "Episode 147: reward: -318.800, steps: 201\n",
            "Episode 148: reward: -370.000, steps: 201\n",
            "Episode 149: reward: 1076.600, steps: 201\n",
            "Episode 150: reward: 12.600, steps: 201\n",
            "Episode 151: reward: -599.400, steps: 201\n",
            "Episode 152: reward: 4.800, steps: 201\n",
            "Episode 153: reward: 1172.600, steps: 201\n",
            "Episode 154: reward: 135.600, steps: 201\n",
            "Episode 155: reward: -434.800, steps: 201\n",
            "Episode 156: reward: -526.000, steps: 201\n",
            "Episode 157: reward: 1189.800, steps: 201\n",
            "Episode 158: reward: -469.200, steps: 201\n",
            "Episode 159: reward: -59.600, steps: 201\n",
            "Episode 160: reward: -840.800, steps: 201\n",
            "Episode 161: reward: 1602.400, steps: 201\n",
            "Episode 162: reward: 709.600, steps: 201\n",
            "Episode 163: reward: 927.200, steps: 201\n",
            "Episode 164: reward: -211.000, steps: 201\n",
            "Episode 165: reward: -421.600, steps: 201\n",
            "Episode 166: reward: -611.000, steps: 201\n",
            "Episode 167: reward: 102.000, steps: 201\n",
            "Episode 168: reward: -523.800, steps: 201\n",
            "Episode 169: reward: -278.400, steps: 201\n",
            "Episode 170: reward: -416.800, steps: 201\n",
            "Episode 171: reward: -65.400, steps: 201\n",
            "Episode 172: reward: 432.800, steps: 201\n",
            "Episode 173: reward: -400.600, steps: 201\n",
            "Episode 174: reward: -154.200, steps: 201\n",
            "Episode 175: reward: -301.800, steps: 201\n",
            "Episode 176: reward: -367.800, steps: 201\n",
            "Episode 177: reward: -43.600, steps: 201\n",
            "Episode 178: reward: 122.800, steps: 201\n",
            "Episode 179: reward: 1857.400, steps: 201\n",
            "Episode 180: reward: -312.600, steps: 201\n",
            "Episode 181: reward: -140.200, steps: 201\n",
            "Episode 182: reward: -570.400, steps: 201\n",
            "Episode 183: reward: -713.400, steps: 201\n",
            "Episode 184: reward: 1038.400, steps: 201\n",
            "Episode 185: reward: 542.000, steps: 201\n",
            "Episode 186: reward: -274.000, steps: 201\n",
            "Episode 187: reward: 113.600, steps: 201\n",
            "Episode 188: reward: 1101.600, steps: 201\n",
            "Episode 189: reward: 981.600, steps: 201\n",
            "Episode 190: reward: 285.800, steps: 201\n",
            "Episode 191: reward: -294.800, steps: 201\n",
            "Episode 192: reward: -256.000, steps: 201\n",
            "Episode 193: reward: -503.200, steps: 201\n",
            "Episode 194: reward: -461.200, steps: 201\n",
            "Episode 195: reward: -313.000, steps: 201\n",
            "Episode 196: reward: -437.600, steps: 201\n",
            "Episode 197: reward: 1048.000, steps: 201\n",
            "Episode 198: reward: 456.800, steps: 201\n",
            "Episode 199: reward: -157.400, steps: 201\n",
            "Episode 200: reward: 289.600, steps: 201\n"
          ],
          "name": "stdout"
        },
        {
          "output_type": "execute_result",
          "data": {
            "text/plain": [
              "<keras.callbacks.History at 0x7f67b67e89b0>"
            ]
          },
          "metadata": {
            "tags": []
          },
          "execution_count": 291
        }
      ]
    },
    {
      "cell_type": "code",
      "metadata": {
        "id": "E-A5ApZnHvx5",
        "colab_type": "code",
        "colab": {
          "base_uri": "https://localhost:8080/",
          "height": 296
        },
        "outputId": "ccdfe4fd-8be4-4ad6-cceb-5eae2a61d570"
      },
      "source": [
        "%matplotlib inline\n",
        "import matplotlib.pyplot as plt\n",
        "\n",
        "for obs in cb_ep.observations.values():\n",
        "    plt.plot([o for o in obs])\n",
        "plt.xlabel(\"step\")\n",
        "plt.ylabel(\"pos\")"
      ],
      "execution_count": 292,
      "outputs": [
        {
          "output_type": "execute_result",
          "data": {
            "text/plain": [
              "Text(0, 0.5, 'pos')"
            ]
          },
          "metadata": {
            "tags": []
          },
          "execution_count": 292
        },
        {
          "output_type": "display_data",
          "data": {
            "image/png": "[encoded data removed]",
            "text/plain": [
              "<Figure size 432x288 with 1 Axes>"
            ]
          },
          "metadata": {
            "tags": [],
            "needs_background": "light"
          }
        }
      ]
    },
    {
      "cell_type": "code",
      "metadata": {
        "id": "J6kBmjN9TvYL",
        "colab_type": "code",
        "colab": {
          "base_uri": "https://localhost:8080/",
          "height": 54
        },
        "outputId": "a69dc0a9-08d6-4345-82de-cd774158f1e3"
      },
      "source": [
        "print(cb_ep.actions[0])"
      ],
      "execution_count": 293,
      "outputs": [
        {
          "output_type": "stream",
          "text": [
            "[6, 6, 6, 6, 5, 2, 2, 2, 6, 5, 2, 6, 0, 6, 6, 6, 2, 2, 0, 6, 6, 6, 6, 2, 6, 2, 6, 6, 6, 2, 5, 6, 0, 6, 6, 6, 2, 6, 6, 0, 6, 2, 0, 2, 2, 0, 6, 6, 2, 6, 6, 6, 6, 2, 2, 6, 5, 2, 6, 5, 6, 6, 0, 6, 6, 2, 2, 2, 2, 6, 0, 5, 2, 6, 6, 6, 6, 0, 2, 6, 6, 5, 2, 6, 2, 2, 5, 6, 6, 2, 6, 5, 2, 6, 5, 2, 6, 2, 6, 6, 6, 2, 5, 2, 6, 6, 6, 2, 6, 6, 2, 2, 6, 2, 5, 6, 6, 2, 2, 2, 6, 6, 2, 6, 6, 6, 6, 5, 6, 5, 6, 5, 0, 6, 2, 5, 2, 5, 6, 2, 2, 2, 6, 5, 5, 2, 6, 2, 2, 0, 5, 6, 6, 6, 2, 5, 6, 6, 5, 6, 2, 6, 6, 2, 2, 6, 6, 6, 6, 2, 5, 2, 2, 6, 5, 5, 0, 5, 2, 6, 6, 6, 6, 5, 2, 5, 6, 6, 0, 5, 5, 6, 6, 2, 2, 5, 6, 6, 5, 6, 2]\n"
          ],
          "name": "stdout"
        }
      ]
    },
    {
      "cell_type": "code",
      "metadata": {
        "id": "j5l3xRXuTzjx",
        "colab_type": "code",
        "colab": {
          "base_uri": "https://localhost:8080/",
          "height": 1000
        },
        "outputId": "fdb79d2e-6f3b-4852-b0f8-18af186d35da"
      },
      "source": [
        "reward_amount = 0\n",
        "for obs in cb_ep.rewards.values():\n",
        "  print(np.array(obs).sum())\n",
        "    # for o in obs:\n",
        "      # print(o)\n",
        "      # reward_amount += o\n"
      ],
      "execution_count": 294,
      "outputs": [
        {
          "output_type": "stream",
          "text": [
            "-896.5999999999999\n",
            "-90.59999999999994\n",
            "-260.3999999999999\n",
            "-275.40000000000015\n",
            "-343.4000000000001\n",
            "60.6\n",
            "433.00000000000006\n",
            "-311.00000000000017\n",
            "-94.00000000000003\n",
            "1158.0000000000007\n",
            "192.00000000000006\n",
            "-425.20000000000005\n",
            "1283.2000000000007\n",
            "-323.0\n",
            "-212.0\n",
            "-209.40000000000003\n",
            "-792.1999999999998\n",
            "-266.4000000000001\n",
            "-291.0000000000001\n",
            "-236.0\n",
            "-562.2\n",
            "-436.80000000000007\n",
            "-523.2\n",
            "412.4\n",
            "-277.00000000000006\n",
            "241.6000000000001\n",
            "-498.0000000000001\n",
            "-491.20000000000005\n",
            "-227.2\n",
            "343.8000000000003\n",
            "619.6\n",
            "-131.80000000000004\n",
            "-130.0\n",
            "-821.1999999999996\n",
            "1154.2\n",
            "-283.80000000000007\n",
            "921.2\n",
            "-522.8\n",
            "22.799999999999947\n",
            "-271.80000000000007\n",
            "-44.800000000000054\n",
            "1098.2000000000007\n",
            "-198.0000000000001\n",
            "204.6\n",
            "-617.6\n",
            "-728.3999999999999\n",
            "3365.2\n",
            "1471.2000000000005\n",
            "-423.20000000000005\n",
            "-7.800000000000097\n",
            "676.1999999999999\n",
            "-298.0000000000001\n",
            "96.3999999999999\n",
            "56.800000000000054\n",
            "-790.2\n",
            "-18.599999999999937\n",
            "-295.40000000000003\n",
            "61.2\n",
            "1266.8000000000004\n",
            "-166.0\n",
            "-356.4000000000001\n",
            "-448.8000000000001\n",
            "709.2000000000004\n",
            "-111.40000000000015\n",
            "-83.00000000000009\n",
            "1105.0000000000005\n",
            "768.0000000000007\n",
            "-352.40000000000003\n",
            "7.200000000000031\n",
            "-490.4\n",
            "-258.6\n",
            "-763.0\n",
            "87.60000000000002\n",
            "396.99999999999994\n",
            "-569.0\n",
            "-470.80000000000007\n",
            "405.1999999999998\n",
            "325.0\n",
            "-287.80000000000007\n",
            "692.4000000000002\n",
            "1730.6\n",
            "-682.8000000000002\n",
            "-130.4\n",
            "-111.9999999999999\n",
            "-123.60000000000002\n",
            "255.20000000000005\n",
            "-96.80000000000004\n",
            "-506.2000000000001\n",
            "596.0\n",
            "-412.79999999999995\n",
            "731.8000000000002\n",
            "-375.20000000000005\n",
            "-536.5999999999999\n",
            "261.3999999999999\n",
            "422.99999999999983\n",
            "-592.2\n",
            "603.6000000000003\n",
            "-655.8\n",
            "96.6\n",
            "-382.80000000000007\n",
            "-316.0\n",
            "140.39999999999998\n",
            "-694.9999999999998\n",
            "-382.4000000000001\n",
            "-855.6\n",
            "-335.4\n",
            "-458.40000000000003\n",
            "103.20000000000006\n",
            "59.00000000000001\n",
            "-520.6\n",
            "-269.20000000000005\n",
            "-311.60000000000014\n",
            "1044.6000000000004\n",
            "-583.0\n",
            "-453.40000000000015\n",
            "-204.5999999999999\n",
            "356.60000000000014\n",
            "228.99999999999994\n",
            "-68.40000000000003\n",
            "1289.6\n",
            "-307.2000000000001\n",
            "-653.6000000000001\n",
            "-683.7999999999998\n",
            "-155.39999999999995\n",
            "-508.8000000000002\n",
            "998.8000000000004\n",
            "171.39999999999992\n",
            "-249.00000000000006\n",
            "-581.4000000000001\n",
            "-181.6\n",
            "948.4000000000005\n",
            "-492.2000000000001\n",
            "186.8\n",
            "-363.6\n",
            "548.4000000000002\n",
            "-408.6\n",
            "1222.0000000000005\n",
            "-360.40000000000015\n",
            "-790.1999999999999\n",
            "736.2000000000004\n",
            "-291.20000000000016\n",
            "-781.0\n",
            "1256.6000000000006\n",
            "239.79999999999995\n",
            "-566.6\n",
            "-168.8\n",
            "-318.8000000000001\n",
            "-370.0000000000001\n",
            "1076.6000000000004\n",
            "12.599999999999909\n",
            "-599.3999999999997\n",
            "4.800000000000011\n",
            "1172.6000000000004\n",
            "135.60000000000002\n",
            "-434.79999999999995\n",
            "-526.0000000000001\n",
            "1189.8000000000004\n",
            "-469.19999999999976\n",
            "-59.600000000000094\n",
            "-840.8\n",
            "1602.4000000000005\n",
            "709.6000000000006\n",
            "927.2\n",
            "-210.99999999999994\n",
            "-421.6000000000001\n",
            "-611.0\n",
            "101.99999999999994\n",
            "-523.8000000000001\n",
            "-278.40000000000003\n",
            "-416.8\n",
            "-65.39999999999988\n",
            "432.80000000000007\n",
            "-400.6\n",
            "-154.20000000000007\n",
            "-301.79999999999995\n",
            "-367.8000000000001\n",
            "-43.60000000000004\n",
            "122.79999999999994\n",
            "1857.4000000000003\n",
            "-312.6\n",
            "-140.19999999999996\n",
            "-570.4000000000001\n",
            "-713.3999999999999\n",
            "1038.4000000000003\n",
            "542.0000000000001\n",
            "-274.00000000000006\n",
            "113.59999999999995\n",
            "1101.6000000000004\n",
            "981.6000000000001\n",
            "285.80000000000035\n",
            "-294.8000000000001\n",
            "-256.00000000000006\n",
            "-503.2000000000001\n",
            "-461.2000000000001\n",
            "-313.00000000000006\n",
            "-437.6\n",
            "1048.0000000000007\n",
            "456.8000000000003\n",
            "-157.39999999999995\n",
            "289.59999999999985\n"
          ],
          "name": "stdout"
        }
      ]
    },
    {
      "cell_type": "code",
      "metadata": {
        "id": "ppAnwyeU4gDD",
        "colab_type": "code",
        "colab": {}
      },
      "source": [
        ""
      ],
      "execution_count": 0,
      "outputs": []
    },
    {
      "cell_type": "code",
      "metadata": {
        "id": "AybG9q1OtZst",
        "colab_type": "code",
        "colab": {
          "base_uri": "https://localhost:8080/",
          "height": 34
        },
        "outputId": "6160ee6c-be73-4c48-a49e-42ea654494d5"
      },
      "source": [
        "# テスト結果の報酬合計\n",
        "amount = np.concatenate(list(cb_ep.rewards.values())).sum()\n",
        "amount"
      ],
      "execution_count": 295,
      "outputs": [
        {
          "output_type": "execute_result",
          "data": {
            "text/plain": [
              "1632.4000000000092"
            ]
          },
          "metadata": {
            "tags": []
          },
          "execution_count": 295
        }
      ]
    },
    {
      "cell_type": "code",
      "metadata": {
        "id": "VUdALFu1aCCx",
        "colab_type": "code",
        "colab": {}
      },
      "source": [
        "step_amount =  len(np.concatenate(list(cb_ep.rewards.values())))"
      ],
      "execution_count": 0,
      "outputs": []
    },
    {
      "cell_type": "code",
      "metadata": {
        "id": "Ob9biREnf6lU",
        "colab_type": "code",
        "colab": {
          "base_uri": "https://localhost:8080/",
          "height": 34
        },
        "outputId": "89cde3b0-cfd7-4a5a-c76b-108284bd4d99"
      },
      "source": [
        "step_amount"
      ],
      "execution_count": 297,
      "outputs": [
        {
          "output_type": "execute_result",
          "data": {
            "text/plain": [
              "40200"
            ]
          },
          "metadata": {
            "tags": []
          },
          "execution_count": 297
        }
      ]
    },
    {
      "cell_type": "code",
      "metadata": {
        "id": "pBwye74q6Psl",
        "colab_type": "code",
        "colab": {}
      },
      "source": [
        ""
      ],
      "execution_count": 0,
      "outputs": []
    }
  ]
}