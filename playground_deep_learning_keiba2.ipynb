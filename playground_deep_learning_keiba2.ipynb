{
  "nbformat": 4,
  "nbformat_minor": 0,
  "metadata": {
    "colab": {
      "name": "playground_deep_learning_keiba2",
      "provenance": [],
      "collapsed_sections": [],
      "include_colab_link": true
    },
    "kernelspec": {
      "name": "python3",
      "display_name": "Python 3"
    },
    "accelerator": "TPU"
  },
  "cells": [
    {
      "cell_type": "markdown",
      "metadata": {
        "id": "view-in-github",
        "colab_type": "text"
      },
      "source": [
        "<a href=\"https://colab.research.google.com/github/TokyoYoshida/GoogleColab/blob/master/playground_deep_learning_keiba2.ipynb\" target=\"_parent\"><img src=\"https://colab.research.google.com/assets/colab-badge.svg\" alt=\"Open In Colab\"/></a>"
      ]
    },
    {
      "cell_type": "code",
      "metadata": {
        "id": "UXxOmD7gDtxX",
        "colab_type": "code",
        "outputId": "b89842b3-8e36-49f9-b82f-1521f2cda8fa",
        "colab": {
          "base_uri": "https://localhost:8080/",
          "height": 34
        }
      },
      "source": [
        "from google.colab import drive\n",
        "drive.mount('/content/drive')\n",
        "# 必要ならば以下のようにディレクトリ移動する\n",
        " "
      ],
      "execution_count": 219,
      "outputs": [
        {
          "output_type": "stream",
          "text": [
            "Drive already mounted at /content/drive; to attempt to forcibly remount, call drive.mount(\"/content/drive\", force_remount=True).\n"
          ],
          "name": "stdout"
        }
      ]
    },
    {
      "cell_type": "code",
      "metadata": {
        "id": "FB5kzWFnDvLF",
        "colab_type": "code",
        "outputId": "1ef81d03-6458-4839-9e94-f8f97d19e3d2",
        "colab": {
          "base_uri": "https://localhost:8080/",
          "height": 34
        }
      },
      "source": [
        "%cd /content/drive/'My Drive'/'★個人専用ファイル'/'開発用・個人サービス開発'/'GoogleColab'/"
      ],
      "execution_count": 220,
      "outputs": [
        {
          "output_type": "stream",
          "text": [
            "/content/drive/My Drive/★個人専用ファイル/開発用・個人サービス開発/GoogleColab\n"
          ],
          "name": "stdout"
        }
      ]
    },
    {
      "cell_type": "code",
      "metadata": {
        "id": "7tT1SbekEPKY",
        "colab_type": "code",
        "outputId": "62ae94ad-531b-462e-d9e8-ef9345661a09",
        "colab": {
          "base_uri": "https://localhost:8080/",
          "height": 272
        }
      },
      "source": [
        "%ls\n"
      ],
      "execution_count": 221,
      "outputs": [
        {
          "output_type": "stream",
          "text": [
            "\u001b[0m\u001b[01;34mdata\u001b[0m/\n",
            "duel_dqn_Pendulum-v0_weights.h5f\n",
            "\u001b[01;34mh5f\u001b[0m/\n",
            "model.txt\n",
            "playground_deep_learning_keiba\n",
            "playground_dqn_keiba\n",
            "playground_dqn_keiba_try_layer_add_depth\n",
            "playground_dqn_keiba_try_long_term_reward\n",
            "playground_dqn_keiba_try_simple\n",
            "playground_dqn_keiba_try_simple2\n",
            "playground_dqn_keiba_try_simple_x_1\n",
            "playground_dqn_study.ipynb\n",
            "playground_dqn_study_my_try.ipynb\n",
            "playground_dqn_study_my_try_modify_reward\n",
            "playground.ipynb\n"
          ],
          "name": "stdout"
        }
      ]
    },
    {
      "cell_type": "code",
      "metadata": {
        "id": "0oeldNv7-4ch",
        "colab_type": "code",
        "colab": {}
      },
      "source": [
        "import pandas as pd"
      ],
      "execution_count": 0,
      "outputs": []
    },
    {
      "cell_type": "code",
      "metadata": {
        "id": "zdsoSSOZZo9D",
        "colab_type": "code",
        "colab": {}
      },
      "source": [
        "import numpy as np"
      ],
      "execution_count": 0,
      "outputs": []
    },
    {
      "cell_type": "code",
      "metadata": {
        "id": "aVHdpj8I9ggK",
        "colab_type": "code",
        "colab": {}
      },
      "source": [
        "from pprint import pprint"
      ],
      "execution_count": 0,
      "outputs": []
    },
    {
      "cell_type": "code",
      "metadata": {
        "id": "qULptQcKFwQ8",
        "colab_type": "code",
        "outputId": "7fde5b2d-4e5e-4400-ae3d-54b89c437d9b",
        "colab": {
          "base_uri": "https://localhost:8080/",
          "height": 646
        }
      },
      "source": [
        "!pip install tensorflow==2.2.0"
      ],
      "execution_count": 225,
      "outputs": [
        {
          "output_type": "stream",
          "text": [
            "Requirement already satisfied: tensorflow==2.2.0 in /usr/local/lib/python3.6/dist-packages (2.2.0)\n",
            "Requirement already satisfied: wrapt>=1.11.1 in /usr/local/lib/python3.6/dist-packages (from tensorflow==2.2.0) (1.12.1)\n",
            "Requirement already satisfied: scipy==1.4.1; python_version >= \"3\" in /usr/local/lib/python3.6/dist-packages (from tensorflow==2.2.0) (1.4.1)\n",
            "Requirement already satisfied: protobuf>=3.8.0 in /usr/local/lib/python3.6/dist-packages (from tensorflow==2.2.0) (3.10.0)\n",
            "Requirement already satisfied: h5py<2.11.0,>=2.10.0 in /usr/local/lib/python3.6/dist-packages (from tensorflow==2.2.0) (2.10.0)\n",
            "Requirement already satisfied: keras-preprocessing>=1.1.0 in /usr/local/lib/python3.6/dist-packages (from tensorflow==2.2.0) (1.1.2)\n",
            "Requirement already satisfied: tensorboard<2.3.0,>=2.2.0 in /usr/local/lib/python3.6/dist-packages (from tensorflow==2.2.0) (2.2.1)\n",
            "Requirement already satisfied: gast==0.3.3 in /usr/local/lib/python3.6/dist-packages (from tensorflow==2.2.0) (0.3.3)\n",
            "Requirement already satisfied: wheel>=0.26; python_version >= \"3\" in /usr/local/lib/python3.6/dist-packages (from tensorflow==2.2.0) (0.34.2)\n",
            "Requirement already satisfied: tensorflow-estimator<2.3.0,>=2.2.0 in /usr/local/lib/python3.6/dist-packages (from tensorflow==2.2.0) (2.2.0)\n",
            "Requirement already satisfied: astunparse==1.6.3 in /usr/local/lib/python3.6/dist-packages (from tensorflow==2.2.0) (1.6.3)\n",
            "Requirement already satisfied: google-pasta>=0.1.8 in /usr/local/lib/python3.6/dist-packages (from tensorflow==2.2.0) (0.2.0)\n",
            "Requirement already satisfied: numpy<2.0,>=1.16.0 in /usr/local/lib/python3.6/dist-packages (from tensorflow==2.2.0) (1.18.4)\n",
            "Requirement already satisfied: termcolor>=1.1.0 in /usr/local/lib/python3.6/dist-packages (from tensorflow==2.2.0) (1.1.0)\n",
            "Requirement already satisfied: absl-py>=0.7.0 in /usr/local/lib/python3.6/dist-packages (from tensorflow==2.2.0) (0.9.0)\n",
            "Requirement already satisfied: six>=1.12.0 in /usr/local/lib/python3.6/dist-packages (from tensorflow==2.2.0) (1.12.0)\n",
            "Requirement already satisfied: opt-einsum>=2.3.2 in /usr/local/lib/python3.6/dist-packages (from tensorflow==2.2.0) (3.2.1)\n",
            "Requirement already satisfied: grpcio>=1.8.6 in /usr/local/lib/python3.6/dist-packages (from tensorflow==2.2.0) (1.29.0)\n",
            "Requirement already satisfied: setuptools in /usr/local/lib/python3.6/dist-packages (from protobuf>=3.8.0->tensorflow==2.2.0) (46.3.0)\n",
            "Requirement already satisfied: google-auth-oauthlib<0.5,>=0.4.1 in /usr/local/lib/python3.6/dist-packages (from tensorboard<2.3.0,>=2.2.0->tensorflow==2.2.0) (0.4.1)\n",
            "Requirement already satisfied: markdown>=2.6.8 in /usr/local/lib/python3.6/dist-packages (from tensorboard<2.3.0,>=2.2.0->tensorflow==2.2.0) (3.2.2)\n",
            "Requirement already satisfied: google-auth<2,>=1.6.3 in /usr/local/lib/python3.6/dist-packages (from tensorboard<2.3.0,>=2.2.0->tensorflow==2.2.0) (1.7.2)\n",
            "Requirement already satisfied: werkzeug>=0.11.15 in /usr/local/lib/python3.6/dist-packages (from tensorboard<2.3.0,>=2.2.0->tensorflow==2.2.0) (1.0.1)\n",
            "Requirement already satisfied: tensorboard-plugin-wit>=1.6.0 in /usr/local/lib/python3.6/dist-packages (from tensorboard<2.3.0,>=2.2.0->tensorflow==2.2.0) (1.6.0.post3)\n",
            "Requirement already satisfied: requests<3,>=2.21.0 in /usr/local/lib/python3.6/dist-packages (from tensorboard<2.3.0,>=2.2.0->tensorflow==2.2.0) (2.23.0)\n",
            "Requirement already satisfied: requests-oauthlib>=0.7.0 in /usr/local/lib/python3.6/dist-packages (from google-auth-oauthlib<0.5,>=0.4.1->tensorboard<2.3.0,>=2.2.0->tensorflow==2.2.0) (1.3.0)\n",
            "Requirement already satisfied: importlib-metadata; python_version < \"3.8\" in /usr/local/lib/python3.6/dist-packages (from markdown>=2.6.8->tensorboard<2.3.0,>=2.2.0->tensorflow==2.2.0) (1.6.0)\n",
            "Requirement already satisfied: cachetools<3.2,>=2.0.0 in /usr/local/lib/python3.6/dist-packages (from google-auth<2,>=1.6.3->tensorboard<2.3.0,>=2.2.0->tensorflow==2.2.0) (3.1.1)\n",
            "Requirement already satisfied: rsa<4.1,>=3.1.4 in /usr/local/lib/python3.6/dist-packages (from google-auth<2,>=1.6.3->tensorboard<2.3.0,>=2.2.0->tensorflow==2.2.0) (4.0)\n",
            "Requirement already satisfied: pyasn1-modules>=0.2.1 in /usr/local/lib/python3.6/dist-packages (from google-auth<2,>=1.6.3->tensorboard<2.3.0,>=2.2.0->tensorflow==2.2.0) (0.2.8)\n",
            "Requirement already satisfied: idna<3,>=2.5 in /usr/local/lib/python3.6/dist-packages (from requests<3,>=2.21.0->tensorboard<2.3.0,>=2.2.0->tensorflow==2.2.0) (2.9)\n",
            "Requirement already satisfied: certifi>=2017.4.17 in /usr/local/lib/python3.6/dist-packages (from requests<3,>=2.21.0->tensorboard<2.3.0,>=2.2.0->tensorflow==2.2.0) (2020.4.5.1)\n",
            "Requirement already satisfied: chardet<4,>=3.0.2 in /usr/local/lib/python3.6/dist-packages (from requests<3,>=2.21.0->tensorboard<2.3.0,>=2.2.0->tensorflow==2.2.0) (3.0.4)\n",
            "Requirement already satisfied: urllib3!=1.25.0,!=1.25.1,<1.26,>=1.21.1 in /usr/local/lib/python3.6/dist-packages (from requests<3,>=2.21.0->tensorboard<2.3.0,>=2.2.0->tensorflow==2.2.0) (1.24.3)\n",
            "Requirement already satisfied: oauthlib>=3.0.0 in /usr/local/lib/python3.6/dist-packages (from requests-oauthlib>=0.7.0->google-auth-oauthlib<0.5,>=0.4.1->tensorboard<2.3.0,>=2.2.0->tensorflow==2.2.0) (3.1.0)\n",
            "Requirement already satisfied: zipp>=0.5 in /usr/local/lib/python3.6/dist-packages (from importlib-metadata; python_version < \"3.8\"->markdown>=2.6.8->tensorboard<2.3.0,>=2.2.0->tensorflow==2.2.0) (3.1.0)\n",
            "Requirement already satisfied: pyasn1>=0.1.3 in /usr/local/lib/python3.6/dist-packages (from rsa<4.1,>=3.1.4->google-auth<2,>=1.6.3->tensorboard<2.3.0,>=2.2.0->tensorflow==2.2.0) (0.4.8)\n"
          ],
          "name": "stdout"
        }
      ]
    },
    {
      "cell_type": "code",
      "metadata": {
        "id": "nqog9TrbFcpd",
        "colab_type": "code",
        "colab": {}
      },
      "source": [
        "!pip install -q keras"
      ],
      "execution_count": 0,
      "outputs": []
    },
    {
      "cell_type": "code",
      "metadata": {
        "id": "BTtTJTMOFssd",
        "colab_type": "code",
        "colab": {}
      },
      "source": [
        "import keras\n",
        "from keras.utils import np_utils\n"
      ],
      "execution_count": 0,
      "outputs": []
    },
    {
      "cell_type": "code",
      "metadata": {
        "id": "DStmQ_a3YrBF",
        "colab_type": "code",
        "colab": {}
      },
      "source": [
        "from keras.models import Sequential\n",
        "from keras.layers import Dense, Dropout, Activation,LeakyReLU\n",
        "from keras.optimizers import RMSprop\n"
      ],
      "execution_count": 0,
      "outputs": []
    },
    {
      "cell_type": "code",
      "metadata": {
        "id": "k9aBWsjhDpQp",
        "colab_type": "code",
        "colab": {}
      },
      "source": [
        "# 競馬データの作成"
      ],
      "execution_count": 0,
      "outputs": []
    },
    {
      "cell_type": "code",
      "metadata": {
        "id": "HIWclTGw-4nE",
        "colab_type": "code",
        "colab": {}
      },
      "source": [
        "ldat = pd.read_pickle(\"./data/keiba_dat_res_20190611_sorted.pkl\")"
      ],
      "execution_count": 0,
      "outputs": []
    },
    {
      "cell_type": "code",
      "metadata": {
        "id": "rpu_stKjrS0v",
        "colab_type": "code",
        "outputId": "bc331d27-ccdc-4c0c-9e40-b56974d562c6",
        "colab": {
          "base_uri": "https://localhost:8080/",
          "height": 221
        }
      },
      "source": [
        "ldat[\"rank\"] "
      ],
      "execution_count": 231,
      "outputs": [
        {
          "output_type": "execute_result",
          "data": {
            "text/plain": [
              "0          1.0\n",
              "1          2.0\n",
              "2          3.0\n",
              "3          4.0\n",
              "4          5.0\n",
              "          ... \n",
              "542850     9.0\n",
              "542851    10.0\n",
              "542852    11.0\n",
              "542853    12.0\n",
              "542854    13.0\n",
              "Name: rank, Length: 542855, dtype: float64"
            ]
          },
          "metadata": {
            "tags": []
          },
          "execution_count": 231
        }
      ]
    },
    {
      "cell_type": "code",
      "metadata": {
        "id": "f-fjig6SrNS5",
        "colab_type": "code",
        "colab": {}
      },
      "source": [
        ""
      ],
      "execution_count": 0,
      "outputs": []
    },
    {
      "cell_type": "code",
      "metadata": {
        "id": "RPxKeoI6z0--",
        "colab_type": "code",
        "colab": {}
      },
      "source": [
        "# 前回の3位以内にマークを付ける\n",
        "ldat[\"prev_high_rank\"] = 0\n",
        "ldat.loc[ldat[\"prev_rank\"] <= 3, \"prev_high_rank\"] = 1"
      ],
      "execution_count": 0,
      "outputs": []
    },
    {
      "cell_type": "code",
      "metadata": {
        "id": "3X-yiBy0u1sK",
        "colab_type": "code",
        "colab": {}
      },
      "source": [
        "# 3位以内にマークを付ける\n",
        "ldat[\"high_rank\"] = 0\n",
        "ldat.loc[ldat[\"rank\"] <= 3, \"high_rank\"] = 1"
      ],
      "execution_count": 0,
      "outputs": []
    },
    {
      "cell_type": "code",
      "metadata": {
        "id": "5cdH35fgrZtf",
        "colab_type": "code",
        "colab": {}
      },
      "source": [
        "# 前回ランクを段階化\n",
        "ldat[\"prev_rank_level\"] = round(ldat[\"prev_rank\"]  / 4)"
      ],
      "execution_count": 0,
      "outputs": []
    },
    {
      "cell_type": "code",
      "metadata": {
        "id": "Kue70hoAuk_V",
        "colab_type": "code",
        "colab": {}
      },
      "source": [
        "# ランクを段階化\n",
        "ldat[\"rank_level\"] = round(ldat[\"rank\"]  / 4)"
      ],
      "execution_count": 0,
      "outputs": []
    },
    {
      "cell_type": "code",
      "metadata": {
        "id": "oZ2kmg5C0Saw",
        "colab_type": "code",
        "colab": {}
      },
      "source": [
        "# 人気を段階化\n",
        "ldat[\"prev_popularity_level\"] = round(ldat[\"prev_popularity\"] / 4)"
      ],
      "execution_count": 0,
      "outputs": []
    },
    {
      "cell_type": "code",
      "metadata": {
        "id": "iGwiRWJ4z1V4",
        "colab_type": "code",
        "colab": {}
      },
      "source": [
        "# スピードを出す\n",
        "ldat[\"prev_speed\"] = ldat[\"prev_distance\"] / ldat[\"prev_time_float\"] "
      ],
      "execution_count": 0,
      "outputs": []
    },
    {
      "cell_type": "code",
      "metadata": {
        "id": "lQrut1WGMeAm",
        "colab_type": "code",
        "colab": {}
      },
      "source": [
        "# スピードを段階化\n",
        "ldat[\"prev_speed_level\"] =  round(ldat[\"prev_speed\"]*10000000)"
      ],
      "execution_count": 0,
      "outputs": []
    },
    {
      "cell_type": "code",
      "metadata": {
        "id": "HEE-H1mxTOEv",
        "colab_type": "code",
        "colab": {}
      },
      "source": [
        ""
      ],
      "execution_count": 0,
      "outputs": []
    },
    {
      "cell_type": "code",
      "metadata": {
        "id": "Z4O88RNfT01W",
        "colab_type": "code",
        "colab": {}
      },
      "source": [
        ""
      ],
      "execution_count": 0,
      "outputs": []
    },
    {
      "cell_type": "code",
      "metadata": {
        "id": "DlRazfpWyqyc",
        "colab_type": "code",
        "colab": {}
      },
      "source": [
        "sdat = ldat.sample(frac=1).reset_index(drop=True).dropna(0)"
      ],
      "execution_count": 0,
      "outputs": []
    },
    {
      "cell_type": "code",
      "metadata": {
        "id": "ng4Qk1MJdAnM",
        "colab_type": "code",
        "colab": {}
      },
      "source": [
        "# 勝ち馬と負け馬をちょうど半々になるようにする start"
      ],
      "execution_count": 0,
      "outputs": []
    },
    {
      "cell_type": "code",
      "metadata": {
        "id": "X1dqQ93HbZ88",
        "colab_type": "code",
        "colab": {}
      },
      "source": [
        "winner = sdat.query(\"prev_high_rank == 1\")"
      ],
      "execution_count": 0,
      "outputs": []
    },
    {
      "cell_type": "code",
      "metadata": {
        "id": "B-vlx_8zbjWV",
        "colab_type": "code",
        "colab": {}
      },
      "source": [
        "loser = sdat.query(\"prev_high_rank != 1\").head(winner.count()[0])"
      ],
      "execution_count": 0,
      "outputs": []
    },
    {
      "cell_type": "code",
      "metadata": {
        "id": "_k6NztP1bp6S",
        "colab_type": "code",
        "colab": {}
      },
      "source": [
        "catted = pd.concat([winner,loser])"
      ],
      "execution_count": 0,
      "outputs": []
    },
    {
      "cell_type": "code",
      "metadata": {
        "id": "jQXOCTctcyXM",
        "colab_type": "code",
        "colab": {}
      },
      "source": [
        "sampled = catted.sample(frac=1)"
      ],
      "execution_count": 0,
      "outputs": []
    },
    {
      "cell_type": "code",
      "metadata": {
        "id": "dgUJSDC6cyZ5",
        "colab_type": "code",
        "colab": {}
      },
      "source": [
        "# 勝ち馬と負け馬をちょうど半々になるようにする end"
      ],
      "execution_count": 0,
      "outputs": []
    },
    {
      "cell_type": "code",
      "metadata": {
        "id": "nn3uOfcJ3-SN",
        "colab_type": "code",
        "colab": {}
      },
      "source": [
        "# x , yデータを作る start"
      ],
      "execution_count": 0,
      "outputs": []
    },
    {
      "cell_type": "code",
      "metadata": {
        "id": "tfUTHaPE-4xZ",
        "colab_type": "code",
        "colab": {}
      },
      "source": [
        "x = sampled[['frame_num', 'horse_num', 'name', 'sex', 'age', 'amount',\n",
        "       'jockey', 'odds', 'popularity', 'weight',\n",
        "       'diff_weight', 'trainer', 'race_num', 'grade', 'ground', 'direction',\n",
        "        'distance', 'weather', 'condition', 'start_time_float', 'year',\n",
        "       'month', 'day', 'prev_rank', 'prev_frame_num', 'prev_horse_num',\n",
        "       'prev_name', 'prev_sex', 'prev_age', 'prev_amount', 'prev_jockey',\n",
        "       'prev_time_float', 'prev_diff_arrival', 'prev_odds', 'prev_popularity',\n",
        "       'prev_weight', 'prev_diff_weight', 'prev_trainer', 'prev_race_num',\n",
        "       'prev_grade', 'prev_ground', 'prev_direction',\n",
        "       'prev_distance', 'prev_weather', 'prev_condition', 'prev_start_time_float',\n",
        "       'prev_year', 'prev_month', 'prev_day']].dropna(0)"
      ],
      "execution_count": 0,
      "outputs": []
    },
    {
      "cell_type": "code",
      "metadata": {
        "id": "3SW8SNVNSilw",
        "colab_type": "code",
        "colab": {}
      },
      "source": [
        "# x = sdat[['frame_num', 'horse_num', 'sex', 'age', 'amount',\n",
        "#        'odds', 'popularity', 'weight',\n",
        "#        'diff_weight', 'trainer', 'grade', 'ground', 'direction',\n",
        "#         'distance', 'weather', 'condition', 'start_time_float', 'prev_rank', 'prev_frame_num', 'prev_horse_num',\n",
        "#        'prev_sex', 'prev_age', 'prev_amount', 'prev_jockey',\n",
        "#        'prev_time_float', 'prev_diff_arrival', 'prev_odds', 'prev_popularity',\n",
        "#        'prev_weight', 'prev_diff_weight', 'prev_trainer',\n",
        "#        'prev_grade', 'prev_ground', 'prev_direction',\n",
        "#        'prev_distance', 'prev_weather', 'prev_condition', 'prev_start_time_float'\n",
        "#        ]].dropna(0)"
      ],
      "execution_count": 0,
      "outputs": []
    },
    {
      "cell_type": "code",
      "metadata": {
        "id": "L86xkmZGTZ-K",
        "colab_type": "code",
        "colab": {}
      },
      "source": [
        "# x = sdat[[\"odds\",'prev_rank','prev_diff_arrival']].dropna(0)"
      ],
      "execution_count": 0,
      "outputs": []
    },
    {
      "cell_type": "code",
      "metadata": {
        "id": "izs3s8otL3XX",
        "colab_type": "code",
        "colab": {}
      },
      "source": [
        "x = sampled[['prev_rank_level',\"prev_speed_level\"]].dropna(0)\n",
        "\n",
        "# lastx_tmpは最終評価用に使用、勝ち負けを半々にしていない\n",
        "lastx_tmp = sdat[['prev_rank_level',\"prev_speed_level\"]].dropna(0)"
      ],
      "execution_count": 0,
      "outputs": []
    },
    {
      "cell_type": "code",
      "metadata": {
        "id": "-grJD4vHVFZF",
        "colab_type": "code",
        "colab": {}
      },
      "source": [
        "#x = sampled[['high_prev_popularity']].dropna(0)"
      ],
      "execution_count": 0,
      "outputs": []
    },
    {
      "cell_type": "code",
      "metadata": {
        "id": "VT8CcCQR-48e",
        "colab_type": "code",
        "colab": {}
      },
      "source": [
        "#y = sampled[[\"high_rank\"]].dropna(0)"
      ],
      "execution_count": 0,
      "outputs": []
    },
    {
      "cell_type": "code",
      "metadata": {
        "id": "A_KWjiVIbrsm",
        "colab_type": "code",
        "colab": {}
      },
      "source": [
        "y_np = np_utils.to_categorical(sampled[[\"high_rank\"]].dropna(0))\n",
        "y = pd.DataFrame(y_np,columns=[\"lose\",\"win\"],index=sampled.index)\n",
        "\n",
        "# lasty_tmpは最終評価用に使用、勝ち負けを半々にしていない\n",
        "lasty_np = np_utils.to_categorical(sdat[[\"high_rank\"]].dropna(0))\n",
        "lasty_tmp = pd.DataFrame(lasty_np,columns=[\"lose\",\"win\"],index=sdat.index)"
      ],
      "execution_count": 0,
      "outputs": []
    },
    {
      "cell_type": "code",
      "metadata": {
        "id": "JywWvkc2vg27",
        "colab_type": "code",
        "outputId": "40c763e3-d15f-4e4a-c2d1-76ddc4bd085d",
        "colab": {
          "base_uri": "https://localhost:8080/",
          "height": 34
        }
      },
      "source": [
        "len(lasty)"
      ],
      "execution_count": 254,
      "outputs": [
        {
          "output_type": "execute_result",
          "data": {
            "text/plain": [
              "352595"
            ]
          },
          "metadata": {
            "tags": []
          },
          "execution_count": 254
        }
      ]
    },
    {
      "cell_type": "code",
      "metadata": {
        "id": "cubqldxiccZU",
        "colab_type": "code",
        "outputId": "a21fb62a-5e17-4a86-f821-7c198f4109e2",
        "colab": {
          "base_uri": "https://localhost:8080/",
          "height": 221
        }
      },
      "source": [
        "sampled[\"high_rank\"]"
      ],
      "execution_count": 255,
      "outputs": [
        {
          "output_type": "execute_result",
          "data": {
            "text/plain": [
              "287153    0\n",
              "81315     0\n",
              "54302     1\n",
              "541272    0\n",
              "427385    0\n",
              "         ..\n",
              "109579    1\n",
              "69901     1\n",
              "59150     0\n",
              "2525      0\n",
              "460520    0\n",
              "Name: high_rank, Length: 208460, dtype: int64"
            ]
          },
          "metadata": {
            "tags": []
          },
          "execution_count": 255
        }
      ]
    },
    {
      "cell_type": "code",
      "metadata": {
        "id": "xKYvlSyj1xKf",
        "colab_type": "code",
        "colab": {}
      },
      "source": [
        "# x , yデータを作る end"
      ],
      "execution_count": 0,
      "outputs": []
    },
    {
      "cell_type": "code",
      "metadata": {
        "id": "2jQ42aW4-5Ai",
        "colab_type": "code",
        "colab": {}
      },
      "source": [
        "# 競馬データの作成 終わり"
      ],
      "execution_count": 0,
      "outputs": []
    },
    {
      "cell_type": "code",
      "metadata": {
        "id": "gJdOFuv3-46d",
        "colab_type": "code",
        "colab": {}
      },
      "source": [
        "# 学習、テストデータの作成"
      ],
      "execution_count": 0,
      "outputs": []
    },
    {
      "cell_type": "code",
      "metadata": {
        "id": "p2wTrCZbcCdt",
        "colab_type": "code",
        "colab": {}
      },
      "source": [
        "trainlen = int(len(x)/2)"
      ],
      "execution_count": 0,
      "outputs": []
    },
    {
      "cell_type": "code",
      "metadata": {
        "id": "iFK08dQKcCoJ",
        "colab_type": "code",
        "colab": {}
      },
      "source": [
        "trainx = x.head(trainlen)\n",
        "trainy = y.head(trainlen)"
      ],
      "execution_count": 0,
      "outputs": []
    },
    {
      "cell_type": "code",
      "metadata": {
        "id": "rW4_Fl4icCt1",
        "colab_type": "code",
        "colab": {}
      },
      "source": [
        "testx = x.tail(len(x)-trainlen)\n",
        "testy = y.tail(len(x)-trainlen)"
      ],
      "execution_count": 0,
      "outputs": []
    },
    {
      "cell_type": "code",
      "metadata": {
        "id": "gesLloNs3Gxe",
        "colab_type": "code",
        "colab": {}
      },
      "source": [
        "testorg = sampled.tail(len(x)-trainlen) "
      ],
      "execution_count": 0,
      "outputs": []
    },
    {
      "cell_type": "code",
      "metadata": {
        "id": "jzQJ4Mus-43A",
        "colab_type": "code",
        "colab": {}
      },
      "source": [
        "# 学習、テストデータの作成　終わり"
      ],
      "execution_count": 0,
      "outputs": []
    },
    {
      "cell_type": "code",
      "metadata": {
        "id": "4yO24DOecXKp",
        "colab_type": "code",
        "outputId": "784c69cf-194c-41b3-f8a5-bf1342167ab0",
        "colab": {
          "base_uri": "https://localhost:8080/",
          "height": 702
        }
      },
      "source": [
        "testx.loc[542846]"
      ],
      "execution_count": 264,
      "outputs": [
        {
          "output_type": "error",
          "ename": "KeyError",
          "evalue": "ignored",
          "traceback": [
            "\u001b[0;31m---------------------------------------------------------------------------\u001b[0m",
            "\u001b[0;31mKeyError\u001b[0m                                  Traceback (most recent call last)",
            "\u001b[0;32m/usr/local/lib/python3.6/dist-packages/pandas/core/indexes/base.py\u001b[0m in \u001b[0;36mget_loc\u001b[0;34m(self, key, method, tolerance)\u001b[0m\n\u001b[1;32m   2645\u001b[0m             \u001b[0;32mtry\u001b[0m\u001b[0;34m:\u001b[0m\u001b[0;34m\u001b[0m\u001b[0;34m\u001b[0m\u001b[0m\n\u001b[0;32m-> 2646\u001b[0;31m                 \u001b[0;32mreturn\u001b[0m \u001b[0mself\u001b[0m\u001b[0;34m.\u001b[0m\u001b[0m_engine\u001b[0m\u001b[0;34m.\u001b[0m\u001b[0mget_loc\u001b[0m\u001b[0;34m(\u001b[0m\u001b[0mkey\u001b[0m\u001b[0;34m)\u001b[0m\u001b[0;34m\u001b[0m\u001b[0;34m\u001b[0m\u001b[0m\n\u001b[0m\u001b[1;32m   2647\u001b[0m             \u001b[0;32mexcept\u001b[0m \u001b[0mKeyError\u001b[0m\u001b[0;34m:\u001b[0m\u001b[0;34m\u001b[0m\u001b[0;34m\u001b[0m\u001b[0m\n",
            "\u001b[0;32mpandas/_libs/index.pyx\u001b[0m in \u001b[0;36mpandas._libs.index.IndexEngine.get_loc\u001b[0;34m()\u001b[0m\n",
            "\u001b[0;32mpandas/_libs/index.pyx\u001b[0m in \u001b[0;36mpandas._libs.index.IndexEngine.get_loc\u001b[0;34m()\u001b[0m\n",
            "\u001b[0;32mpandas/_libs/hashtable_class_helper.pxi\u001b[0m in \u001b[0;36mpandas._libs.hashtable.Int64HashTable.get_item\u001b[0;34m()\u001b[0m\n",
            "\u001b[0;32mpandas/_libs/hashtable_class_helper.pxi\u001b[0m in \u001b[0;36mpandas._libs.hashtable.Int64HashTable.get_item\u001b[0;34m()\u001b[0m\n",
            "\u001b[0;31mKeyError\u001b[0m: 542846",
            "\nDuring handling of the above exception, another exception occurred:\n",
            "\u001b[0;31mKeyError\u001b[0m                                  Traceback (most recent call last)",
            "\u001b[0;32m<ipython-input-264-ab7b001f1a8f>\u001b[0m in \u001b[0;36m<module>\u001b[0;34m()\u001b[0m\n\u001b[0;32m----> 1\u001b[0;31m \u001b[0mtestx\u001b[0m\u001b[0;34m.\u001b[0m\u001b[0mloc\u001b[0m\u001b[0;34m[\u001b[0m\u001b[0;36m542846\u001b[0m\u001b[0;34m]\u001b[0m\u001b[0;34m\u001b[0m\u001b[0;34m\u001b[0m\u001b[0m\n\u001b[0m",
            "\u001b[0;32m/usr/local/lib/python3.6/dist-packages/pandas/core/indexing.py\u001b[0m in \u001b[0;36m__getitem__\u001b[0;34m(self, key)\u001b[0m\n\u001b[1;32m   1766\u001b[0m \u001b[0;34m\u001b[0m\u001b[0m\n\u001b[1;32m   1767\u001b[0m             \u001b[0mmaybe_callable\u001b[0m \u001b[0;34m=\u001b[0m \u001b[0mcom\u001b[0m\u001b[0;34m.\u001b[0m\u001b[0mapply_if_callable\u001b[0m\u001b[0;34m(\u001b[0m\u001b[0mkey\u001b[0m\u001b[0;34m,\u001b[0m \u001b[0mself\u001b[0m\u001b[0;34m.\u001b[0m\u001b[0mobj\u001b[0m\u001b[0;34m)\u001b[0m\u001b[0;34m\u001b[0m\u001b[0;34m\u001b[0m\u001b[0m\n\u001b[0;32m-> 1768\u001b[0;31m             \u001b[0;32mreturn\u001b[0m \u001b[0mself\u001b[0m\u001b[0;34m.\u001b[0m\u001b[0m_getitem_axis\u001b[0m\u001b[0;34m(\u001b[0m\u001b[0mmaybe_callable\u001b[0m\u001b[0;34m,\u001b[0m \u001b[0maxis\u001b[0m\u001b[0;34m=\u001b[0m\u001b[0maxis\u001b[0m\u001b[0;34m)\u001b[0m\u001b[0;34m\u001b[0m\u001b[0;34m\u001b[0m\u001b[0m\n\u001b[0m\u001b[1;32m   1769\u001b[0m \u001b[0;34m\u001b[0m\u001b[0m\n\u001b[1;32m   1770\u001b[0m     \u001b[0;32mdef\u001b[0m \u001b[0m_is_scalar_access\u001b[0m\u001b[0;34m(\u001b[0m\u001b[0mself\u001b[0m\u001b[0;34m,\u001b[0m \u001b[0mkey\u001b[0m\u001b[0;34m:\u001b[0m \u001b[0mTuple\u001b[0m\u001b[0;34m)\u001b[0m\u001b[0;34m:\u001b[0m\u001b[0;34m\u001b[0m\u001b[0;34m\u001b[0m\u001b[0m\n",
            "\u001b[0;32m/usr/local/lib/python3.6/dist-packages/pandas/core/indexing.py\u001b[0m in \u001b[0;36m_getitem_axis\u001b[0;34m(self, key, axis)\u001b[0m\n\u001b[1;32m   1963\u001b[0m         \u001b[0;31m# fall thru to straight lookup\u001b[0m\u001b[0;34m\u001b[0m\u001b[0;34m\u001b[0m\u001b[0;34m\u001b[0m\u001b[0m\n\u001b[1;32m   1964\u001b[0m         \u001b[0mself\u001b[0m\u001b[0;34m.\u001b[0m\u001b[0m_validate_key\u001b[0m\u001b[0;34m(\u001b[0m\u001b[0mkey\u001b[0m\u001b[0;34m,\u001b[0m \u001b[0maxis\u001b[0m\u001b[0;34m)\u001b[0m\u001b[0;34m\u001b[0m\u001b[0;34m\u001b[0m\u001b[0m\n\u001b[0;32m-> 1965\u001b[0;31m         \u001b[0;32mreturn\u001b[0m \u001b[0mself\u001b[0m\u001b[0;34m.\u001b[0m\u001b[0m_get_label\u001b[0m\u001b[0;34m(\u001b[0m\u001b[0mkey\u001b[0m\u001b[0;34m,\u001b[0m \u001b[0maxis\u001b[0m\u001b[0;34m=\u001b[0m\u001b[0maxis\u001b[0m\u001b[0;34m)\u001b[0m\u001b[0;34m\u001b[0m\u001b[0;34m\u001b[0m\u001b[0m\n\u001b[0m\u001b[1;32m   1966\u001b[0m \u001b[0;34m\u001b[0m\u001b[0m\n\u001b[1;32m   1967\u001b[0m \u001b[0;34m\u001b[0m\u001b[0m\n",
            "\u001b[0;32m/usr/local/lib/python3.6/dist-packages/pandas/core/indexing.py\u001b[0m in \u001b[0;36m_get_label\u001b[0;34m(self, label, axis)\u001b[0m\n\u001b[1;32m    623\u001b[0m             \u001b[0;32mraise\u001b[0m \u001b[0mIndexingError\u001b[0m\u001b[0;34m(\u001b[0m\u001b[0;34m\"no slices here, handle elsewhere\"\u001b[0m\u001b[0;34m)\u001b[0m\u001b[0;34m\u001b[0m\u001b[0;34m\u001b[0m\u001b[0m\n\u001b[1;32m    624\u001b[0m \u001b[0;34m\u001b[0m\u001b[0m\n\u001b[0;32m--> 625\u001b[0;31m         \u001b[0;32mreturn\u001b[0m \u001b[0mself\u001b[0m\u001b[0;34m.\u001b[0m\u001b[0mobj\u001b[0m\u001b[0;34m.\u001b[0m\u001b[0m_xs\u001b[0m\u001b[0;34m(\u001b[0m\u001b[0mlabel\u001b[0m\u001b[0;34m,\u001b[0m \u001b[0maxis\u001b[0m\u001b[0;34m=\u001b[0m\u001b[0maxis\u001b[0m\u001b[0;34m)\u001b[0m\u001b[0;34m\u001b[0m\u001b[0;34m\u001b[0m\u001b[0m\n\u001b[0m\u001b[1;32m    626\u001b[0m \u001b[0;34m\u001b[0m\u001b[0m\n\u001b[1;32m    627\u001b[0m     \u001b[0;32mdef\u001b[0m \u001b[0m_get_loc\u001b[0m\u001b[0;34m(\u001b[0m\u001b[0mself\u001b[0m\u001b[0;34m,\u001b[0m \u001b[0mkey\u001b[0m\u001b[0;34m:\u001b[0m \u001b[0mint\u001b[0m\u001b[0;34m,\u001b[0m \u001b[0maxis\u001b[0m\u001b[0;34m:\u001b[0m \u001b[0mint\u001b[0m\u001b[0;34m)\u001b[0m\u001b[0;34m:\u001b[0m\u001b[0;34m\u001b[0m\u001b[0;34m\u001b[0m\u001b[0m\n",
            "\u001b[0;32m/usr/local/lib/python3.6/dist-packages/pandas/core/generic.py\u001b[0m in \u001b[0;36mxs\u001b[0;34m(self, key, axis, level, drop_level)\u001b[0m\n\u001b[1;32m   3535\u001b[0m             \u001b[0mloc\u001b[0m\u001b[0;34m,\u001b[0m \u001b[0mnew_index\u001b[0m \u001b[0;34m=\u001b[0m \u001b[0mself\u001b[0m\u001b[0;34m.\u001b[0m\u001b[0mindex\u001b[0m\u001b[0;34m.\u001b[0m\u001b[0mget_loc_level\u001b[0m\u001b[0;34m(\u001b[0m\u001b[0mkey\u001b[0m\u001b[0;34m,\u001b[0m \u001b[0mdrop_level\u001b[0m\u001b[0;34m=\u001b[0m\u001b[0mdrop_level\u001b[0m\u001b[0;34m)\u001b[0m\u001b[0;34m\u001b[0m\u001b[0;34m\u001b[0m\u001b[0m\n\u001b[1;32m   3536\u001b[0m         \u001b[0;32melse\u001b[0m\u001b[0;34m:\u001b[0m\u001b[0;34m\u001b[0m\u001b[0;34m\u001b[0m\u001b[0m\n\u001b[0;32m-> 3537\u001b[0;31m             \u001b[0mloc\u001b[0m \u001b[0;34m=\u001b[0m \u001b[0mself\u001b[0m\u001b[0;34m.\u001b[0m\u001b[0mindex\u001b[0m\u001b[0;34m.\u001b[0m\u001b[0mget_loc\u001b[0m\u001b[0;34m(\u001b[0m\u001b[0mkey\u001b[0m\u001b[0;34m)\u001b[0m\u001b[0;34m\u001b[0m\u001b[0;34m\u001b[0m\u001b[0m\n\u001b[0m\u001b[1;32m   3538\u001b[0m \u001b[0;34m\u001b[0m\u001b[0m\n\u001b[1;32m   3539\u001b[0m             \u001b[0;32mif\u001b[0m \u001b[0misinstance\u001b[0m\u001b[0;34m(\u001b[0m\u001b[0mloc\u001b[0m\u001b[0;34m,\u001b[0m \u001b[0mnp\u001b[0m\u001b[0;34m.\u001b[0m\u001b[0mndarray\u001b[0m\u001b[0;34m)\u001b[0m\u001b[0;34m:\u001b[0m\u001b[0;34m\u001b[0m\u001b[0;34m\u001b[0m\u001b[0m\n",
            "\u001b[0;32m/usr/local/lib/python3.6/dist-packages/pandas/core/indexes/base.py\u001b[0m in \u001b[0;36mget_loc\u001b[0;34m(self, key, method, tolerance)\u001b[0m\n\u001b[1;32m   2646\u001b[0m                 \u001b[0;32mreturn\u001b[0m \u001b[0mself\u001b[0m\u001b[0;34m.\u001b[0m\u001b[0m_engine\u001b[0m\u001b[0;34m.\u001b[0m\u001b[0mget_loc\u001b[0m\u001b[0;34m(\u001b[0m\u001b[0mkey\u001b[0m\u001b[0;34m)\u001b[0m\u001b[0;34m\u001b[0m\u001b[0;34m\u001b[0m\u001b[0m\n\u001b[1;32m   2647\u001b[0m             \u001b[0;32mexcept\u001b[0m \u001b[0mKeyError\u001b[0m\u001b[0;34m:\u001b[0m\u001b[0;34m\u001b[0m\u001b[0;34m\u001b[0m\u001b[0m\n\u001b[0;32m-> 2648\u001b[0;31m                 \u001b[0;32mreturn\u001b[0m \u001b[0mself\u001b[0m\u001b[0;34m.\u001b[0m\u001b[0m_engine\u001b[0m\u001b[0;34m.\u001b[0m\u001b[0mget_loc\u001b[0m\u001b[0;34m(\u001b[0m\u001b[0mself\u001b[0m\u001b[0;34m.\u001b[0m\u001b[0m_maybe_cast_indexer\u001b[0m\u001b[0;34m(\u001b[0m\u001b[0mkey\u001b[0m\u001b[0;34m)\u001b[0m\u001b[0;34m)\u001b[0m\u001b[0;34m\u001b[0m\u001b[0;34m\u001b[0m\u001b[0m\n\u001b[0m\u001b[1;32m   2649\u001b[0m         \u001b[0mindexer\u001b[0m \u001b[0;34m=\u001b[0m \u001b[0mself\u001b[0m\u001b[0;34m.\u001b[0m\u001b[0mget_indexer\u001b[0m\u001b[0;34m(\u001b[0m\u001b[0;34m[\u001b[0m\u001b[0mkey\u001b[0m\u001b[0;34m]\u001b[0m\u001b[0;34m,\u001b[0m \u001b[0mmethod\u001b[0m\u001b[0;34m=\u001b[0m\u001b[0mmethod\u001b[0m\u001b[0;34m,\u001b[0m \u001b[0mtolerance\u001b[0m\u001b[0;34m=\u001b[0m\u001b[0mtolerance\u001b[0m\u001b[0;34m)\u001b[0m\u001b[0;34m\u001b[0m\u001b[0;34m\u001b[0m\u001b[0m\n\u001b[1;32m   2650\u001b[0m         \u001b[0;32mif\u001b[0m \u001b[0mindexer\u001b[0m\u001b[0;34m.\u001b[0m\u001b[0mndim\u001b[0m \u001b[0;34m>\u001b[0m \u001b[0;36m1\u001b[0m \u001b[0;32mor\u001b[0m \u001b[0mindexer\u001b[0m\u001b[0;34m.\u001b[0m\u001b[0msize\u001b[0m \u001b[0;34m>\u001b[0m \u001b[0;36m1\u001b[0m\u001b[0;34m:\u001b[0m\u001b[0;34m\u001b[0m\u001b[0;34m\u001b[0m\u001b[0m\n",
            "\u001b[0;32mpandas/_libs/index.pyx\u001b[0m in \u001b[0;36mpandas._libs.index.IndexEngine.get_loc\u001b[0;34m()\u001b[0m\n",
            "\u001b[0;32mpandas/_libs/index.pyx\u001b[0m in \u001b[0;36mpandas._libs.index.IndexEngine.get_loc\u001b[0;34m()\u001b[0m\n",
            "\u001b[0;32mpandas/_libs/hashtable_class_helper.pxi\u001b[0m in \u001b[0;36mpandas._libs.hashtable.Int64HashTable.get_item\u001b[0;34m()\u001b[0m\n",
            "\u001b[0;32mpandas/_libs/hashtable_class_helper.pxi\u001b[0m in \u001b[0;36mpandas._libs.hashtable.Int64HashTable.get_item\u001b[0;34m()\u001b[0m\n",
            "\u001b[0;31mKeyError\u001b[0m: 542846"
          ]
        }
      ]
    },
    {
      "cell_type": "code",
      "metadata": {
        "id": "bRor7MK416KB",
        "colab_type": "code",
        "colab": {}
      },
      "source": [
        "# 最終検証用データからトレーニングデータを取り除く\n",
        "lastx = lastx_tmp[~lastx_tmp.index.isin(trainx.index)]\n",
        "lasty = lasty_tmp[~lasty_tmp.index.isin(trainy.index)]\n",
        "lastsdat = sdat[~sdat.index.isin(trainx.index)]"
      ],
      "execution_count": 0,
      "outputs": []
    },
    {
      "cell_type": "code",
      "metadata": {
        "id": "THaXXO4n2rGK",
        "colab_type": "code",
        "colab": {
          "base_uri": "https://localhost:8080/",
          "height": 609
        },
        "outputId": "0f78e478-95ce-4ccf-80c9-e3b1209d2f66"
      },
      "source": [
        "lastsdat"
      ],
      "execution_count": 266,
      "outputs": [
        {
          "output_type": "execute_result",
          "data": {
            "text/html": [
              "<div>\n",
              "<style scoped>\n",
              "    .dataframe tbody tr th:only-of-type {\n",
              "        vertical-align: middle;\n",
              "    }\n",
              "\n",
              "    .dataframe tbody tr th {\n",
              "        vertical-align: top;\n",
              "    }\n",
              "\n",
              "    .dataframe thead th {\n",
              "        text-align: right;\n",
              "    }\n",
              "</style>\n",
              "<table border=\"1\" class=\"dataframe\">\n",
              "  <thead>\n",
              "    <tr style=\"text-align: right;\">\n",
              "      <th></th>\n",
              "      <th>rank</th>\n",
              "      <th>frame_num</th>\n",
              "      <th>horse_num</th>\n",
              "      <th>name</th>\n",
              "      <th>sex</th>\n",
              "      <th>age</th>\n",
              "      <th>amount</th>\n",
              "      <th>jockey</th>\n",
              "      <th>time</th>\n",
              "      <th>diff_arrival</th>\n",
              "      <th>odds</th>\n",
              "      <th>popularity</th>\n",
              "      <th>weight</th>\n",
              "      <th>diff_weight</th>\n",
              "      <th>trainer</th>\n",
              "      <th>race_num</th>\n",
              "      <th>grade</th>\n",
              "      <th>ground</th>\n",
              "      <th>direction</th>\n",
              "      <th>unknown</th>\n",
              "      <th>distance</th>\n",
              "      <th>weather</th>\n",
              "      <th>condition</th>\n",
              "      <th>start_time</th>\n",
              "      <th>year</th>\n",
              "      <th>month</th>\n",
              "      <th>day</th>\n",
              "      <th>prev_rank</th>\n",
              "      <th>prev_frame_num</th>\n",
              "      <th>prev_horse_num</th>\n",
              "      <th>prev_name</th>\n",
              "      <th>prev_sex</th>\n",
              "      <th>prev_age</th>\n",
              "      <th>prev_amount</th>\n",
              "      <th>prev_jockey</th>\n",
              "      <th>prev_time</th>\n",
              "      <th>prev_diff_arrival</th>\n",
              "      <th>prev_odds</th>\n",
              "      <th>prev_popularity</th>\n",
              "      <th>prev_weight</th>\n",
              "      <th>prev_diff_weight</th>\n",
              "      <th>prev_trainer</th>\n",
              "      <th>prev_race_num</th>\n",
              "      <th>prev_grade</th>\n",
              "      <th>prev_ground</th>\n",
              "      <th>prev_direction</th>\n",
              "      <th>prev_unknown</th>\n",
              "      <th>prev_distance</th>\n",
              "      <th>prev_weather</th>\n",
              "      <th>prev_condition</th>\n",
              "      <th>prev_start_time</th>\n",
              "      <th>prev_year</th>\n",
              "      <th>prev_month</th>\n",
              "      <th>prev_day</th>\n",
              "      <th>winner</th>\n",
              "      <th>return</th>\n",
              "      <th>prev_time_float</th>\n",
              "      <th>start_time_float</th>\n",
              "      <th>prev_start_time_float</th>\n",
              "      <th>prev_high_rank</th>\n",
              "      <th>high_rank</th>\n",
              "      <th>prev_rank_level</th>\n",
              "      <th>rank_level</th>\n",
              "      <th>prev_popularity_level</th>\n",
              "      <th>prev_speed</th>\n",
              "      <th>prev_speed_level</th>\n",
              "    </tr>\n",
              "  </thead>\n",
              "  <tbody>\n",
              "    <tr>\n",
              "      <th>12</th>\n",
              "      <td>3.0</td>\n",
              "      <td>6</td>\n",
              "      <td>9</td>\n",
              "      <td>1074</td>\n",
              "      <td>1</td>\n",
              "      <td>4</td>\n",
              "      <td>56.0</td>\n",
              "      <td>83</td>\n",
              "      <td>1:10.1</td>\n",
              "      <td>7</td>\n",
              "      <td>6.5</td>\n",
              "      <td>4.0</td>\n",
              "      <td>478.0</td>\n",
              "      <td>4.0</td>\n",
              "      <td>143</td>\n",
              "      <td>12</td>\n",
              "      <td>9</td>\n",
              "      <td>0</td>\n",
              "      <td>0</td>\n",
              "      <td>-</td>\n",
              "      <td>1200.0</td>\n",
              "      <td>3</td>\n",
              "      <td>1</td>\n",
              "      <td>16:00</td>\n",
              "      <td>2007</td>\n",
              "      <td>4</td>\n",
              "      <td>22</td>\n",
              "      <td>2.0</td>\n",
              "      <td>6.0</td>\n",
              "      <td>12.0</td>\n",
              "      <td>1074.0</td>\n",
              "      <td>1.0</td>\n",
              "      <td>4.0</td>\n",
              "      <td>56.0</td>\n",
              "      <td>97.0</td>\n",
              "      <td>1:10.2</td>\n",
              "      <td>9.0</td>\n",
              "      <td>6.6</td>\n",
              "      <td>4.0</td>\n",
              "      <td>474.0</td>\n",
              "      <td>-8.0</td>\n",
              "      <td>143.0</td>\n",
              "      <td>12.0</td>\n",
              "      <td>9.0</td>\n",
              "      <td>0.0</td>\n",
              "      <td>0.0</td>\n",
              "      <td>-</td>\n",
              "      <td>1200.0</td>\n",
              "      <td>2.0</td>\n",
              "      <td>0.0</td>\n",
              "      <td>16:05</td>\n",
              "      <td>2007.0</td>\n",
              "      <td>3.0</td>\n",
              "      <td>31.0</td>\n",
              "      <td>False</td>\n",
              "      <td>0.0</td>\n",
              "      <td>1561165812</td>\n",
              "      <td>1561219200</td>\n",
              "      <td>1561219500</td>\n",
              "      <td>1</td>\n",
              "      <td>1</td>\n",
              "      <td>0.0</td>\n",
              "      <td>1.0</td>\n",
              "      <td>1.0</td>\n",
              "      <td>7.686563e-07</td>\n",
              "      <td>8.0</td>\n",
              "    </tr>\n",
              "    <tr>\n",
              "      <th>16</th>\n",
              "      <td>16.0</td>\n",
              "      <td>4</td>\n",
              "      <td>7</td>\n",
              "      <td>6051</td>\n",
              "      <td>2</td>\n",
              "      <td>7</td>\n",
              "      <td>52.0</td>\n",
              "      <td>27</td>\n",
              "      <td>2:27.3</td>\n",
              "      <td>1</td>\n",
              "      <td>216.8</td>\n",
              "      <td>16.0</td>\n",
              "      <td>458.0</td>\n",
              "      <td>4.0</td>\n",
              "      <td>47</td>\n",
              "      <td>10</td>\n",
              "      <td>9</td>\n",
              "      <td>0</td>\n",
              "      <td>2</td>\n",
              "      <td>-</td>\n",
              "      <td>2400.0</td>\n",
              "      <td>0</td>\n",
              "      <td>0</td>\n",
              "      <td>15:00</td>\n",
              "      <td>2008</td>\n",
              "      <td>10</td>\n",
              "      <td>12</td>\n",
              "      <td>11.0</td>\n",
              "      <td>5.0</td>\n",
              "      <td>8.0</td>\n",
              "      <td>6051.0</td>\n",
              "      <td>2.0</td>\n",
              "      <td>7.0</td>\n",
              "      <td>57.0</td>\n",
              "      <td>85.0</td>\n",
              "      <td>2:01.6</td>\n",
              "      <td>17.0</td>\n",
              "      <td>200.1</td>\n",
              "      <td>14.0</td>\n",
              "      <td>454.0</td>\n",
              "      <td>-2.0</td>\n",
              "      <td>47.0</td>\n",
              "      <td>10.0</td>\n",
              "      <td>9.0</td>\n",
              "      <td>0.0</td>\n",
              "      <td>0.0</td>\n",
              "      <td>-</td>\n",
              "      <td>2000.0</td>\n",
              "      <td>0.0</td>\n",
              "      <td>0.0</td>\n",
              "      <td>15:10</td>\n",
              "      <td>2008.0</td>\n",
              "      <td>9.0</td>\n",
              "      <td>14.0</td>\n",
              "      <td>False</td>\n",
              "      <td>0.0</td>\n",
              "      <td>1561168896</td>\n",
              "      <td>1561215600</td>\n",
              "      <td>1561216200</td>\n",
              "      <td>0</td>\n",
              "      <td>0</td>\n",
              "      <td>3.0</td>\n",
              "      <td>4.0</td>\n",
              "      <td>4.0</td>\n",
              "      <td>1.281091e-06</td>\n",
              "      <td>13.0</td>\n",
              "    </tr>\n",
              "    <tr>\n",
              "      <th>17</th>\n",
              "      <td>11.0</td>\n",
              "      <td>2</td>\n",
              "      <td>4</td>\n",
              "      <td>17463</td>\n",
              "      <td>1</td>\n",
              "      <td>4</td>\n",
              "      <td>57.0</td>\n",
              "      <td>157</td>\n",
              "      <td>1:47.8</td>\n",
              "      <td>14</td>\n",
              "      <td>166.0</td>\n",
              "      <td>15.0</td>\n",
              "      <td>460.0</td>\n",
              "      <td>-8.0</td>\n",
              "      <td>18</td>\n",
              "      <td>12</td>\n",
              "      <td>9</td>\n",
              "      <td>1</td>\n",
              "      <td>2</td>\n",
              "      <td>-</td>\n",
              "      <td>1700.0</td>\n",
              "      <td>0</td>\n",
              "      <td>0</td>\n",
              "      <td>16:40</td>\n",
              "      <td>2009</td>\n",
              "      <td>5</td>\n",
              "      <td>24</td>\n",
              "      <td>10.0</td>\n",
              "      <td>2.0</td>\n",
              "      <td>3.0</td>\n",
              "      <td>17463.0</td>\n",
              "      <td>1.0</td>\n",
              "      <td>4.0</td>\n",
              "      <td>57.0</td>\n",
              "      <td>201.0</td>\n",
              "      <td>1:11.8</td>\n",
              "      <td>9.0</td>\n",
              "      <td>58.5</td>\n",
              "      <td>11.0</td>\n",
              "      <td>468.0</td>\n",
              "      <td>12.0</td>\n",
              "      <td>18.0</td>\n",
              "      <td>12.0</td>\n",
              "      <td>9.0</td>\n",
              "      <td>1.0</td>\n",
              "      <td>0.0</td>\n",
              "      <td>-</td>\n",
              "      <td>1200.0</td>\n",
              "      <td>2.0</td>\n",
              "      <td>3.0</td>\n",
              "      <td>16:40</td>\n",
              "      <td>2009.0</td>\n",
              "      <td>4.0</td>\n",
              "      <td>25.0</td>\n",
              "      <td>False</td>\n",
              "      <td>0.0</td>\n",
              "      <td>1561165908</td>\n",
              "      <td>1561221600</td>\n",
              "      <td>1561221600</td>\n",
              "      <td>0</td>\n",
              "      <td>0</td>\n",
              "      <td>2.0</td>\n",
              "      <td>3.0</td>\n",
              "      <td>3.0</td>\n",
              "      <td>7.686563e-07</td>\n",
              "      <td>8.0</td>\n",
              "    </tr>\n",
              "    <tr>\n",
              "      <th>18</th>\n",
              "      <td>9.0</td>\n",
              "      <td>6</td>\n",
              "      <td>8</td>\n",
              "      <td>31765</td>\n",
              "      <td>0</td>\n",
              "      <td>5</td>\n",
              "      <td>54.0</td>\n",
              "      <td>7</td>\n",
              "      <td>1:20.7</td>\n",
              "      <td>3</td>\n",
              "      <td>9.0</td>\n",
              "      <td>4.0</td>\n",
              "      <td>488.0</td>\n",
              "      <td>-4.0</td>\n",
              "      <td>593</td>\n",
              "      <td>11</td>\n",
              "      <td>2</td>\n",
              "      <td>0</td>\n",
              "      <td>0</td>\n",
              "      <td>-</td>\n",
              "      <td>1400.0</td>\n",
              "      <td>0</td>\n",
              "      <td>0</td>\n",
              "      <td>15:35</td>\n",
              "      <td>2014</td>\n",
              "      <td>4</td>\n",
              "      <td>12</td>\n",
              "      <td>1.0</td>\n",
              "      <td>4.0</td>\n",
              "      <td>8.0</td>\n",
              "      <td>31765.0</td>\n",
              "      <td>0.0</td>\n",
              "      <td>5.0</td>\n",
              "      <td>55.0</td>\n",
              "      <td>7.0</td>\n",
              "      <td>1:21.2</td>\n",
              "      <td>0.0</td>\n",
              "      <td>2.2</td>\n",
              "      <td>1.0</td>\n",
              "      <td>492.0</td>\n",
              "      <td>-2.0</td>\n",
              "      <td>238.0</td>\n",
              "      <td>11.0</td>\n",
              "      <td>9.0</td>\n",
              "      <td>0.0</td>\n",
              "      <td>0.0</td>\n",
              "      <td>外</td>\n",
              "      <td>1400.0</td>\n",
              "      <td>0.0</td>\n",
              "      <td>0.0</td>\n",
              "      <td>15:45</td>\n",
              "      <td>2014.0</td>\n",
              "      <td>1.0</td>\n",
              "      <td>26.0</td>\n",
              "      <td>False</td>\n",
              "      <td>0.0</td>\n",
              "      <td>1561166472</td>\n",
              "      <td>1561217700</td>\n",
              "      <td>1561218300</td>\n",
              "      <td>1</td>\n",
              "      <td>0</td>\n",
              "      <td>0.0</td>\n",
              "      <td>2.0</td>\n",
              "      <td>0.0</td>\n",
              "      <td>8.967654e-07</td>\n",
              "      <td>9.0</td>\n",
              "    </tr>\n",
              "    <tr>\n",
              "      <th>21</th>\n",
              "      <td>15.0</td>\n",
              "      <td>8</td>\n",
              "      <td>18</td>\n",
              "      <td>36894</td>\n",
              "      <td>1</td>\n",
              "      <td>6</td>\n",
              "      <td>57.0</td>\n",
              "      <td>145</td>\n",
              "      <td>1:24.2</td>\n",
              "      <td>4</td>\n",
              "      <td>111.7</td>\n",
              "      <td>14.0</td>\n",
              "      <td>460.0</td>\n",
              "      <td>-2.0</td>\n",
              "      <td>449</td>\n",
              "      <td>12</td>\n",
              "      <td>9</td>\n",
              "      <td>0</td>\n",
              "      <td>2</td>\n",
              "      <td>-</td>\n",
              "      <td>1400.0</td>\n",
              "      <td>0</td>\n",
              "      <td>0</td>\n",
              "      <td>16:10</td>\n",
              "      <td>2016</td>\n",
              "      <td>3</td>\n",
              "      <td>21</td>\n",
              "      <td>9.0</td>\n",
              "      <td>8.0</td>\n",
              "      <td>14.0</td>\n",
              "      <td>36894.0</td>\n",
              "      <td>1.0</td>\n",
              "      <td>6.0</td>\n",
              "      <td>57.0</td>\n",
              "      <td>321.0</td>\n",
              "      <td>1:48.9</td>\n",
              "      <td>14.0</td>\n",
              "      <td>54.8</td>\n",
              "      <td>11.0</td>\n",
              "      <td>462.0</td>\n",
              "      <td>0.0</td>\n",
              "      <td>449.0</td>\n",
              "      <td>7.0</td>\n",
              "      <td>9.0</td>\n",
              "      <td>0.0</td>\n",
              "      <td>0.0</td>\n",
              "      <td>-</td>\n",
              "      <td>1800.0</td>\n",
              "      <td>0.0</td>\n",
              "      <td>1.0</td>\n",
              "      <td>13:05</td>\n",
              "      <td>2016.0</td>\n",
              "      <td>2.0</td>\n",
              "      <td>21.0</td>\n",
              "      <td>False</td>\n",
              "      <td>0.0</td>\n",
              "      <td>1561168134</td>\n",
              "      <td>1561219800</td>\n",
              "      <td>1561208700</td>\n",
              "      <td>0</td>\n",
              "      <td>0</td>\n",
              "      <td>2.0</td>\n",
              "      <td>4.0</td>\n",
              "      <td>3.0</td>\n",
              "      <td>1.152983e-06</td>\n",
              "      <td>12.0</td>\n",
              "    </tr>\n",
              "    <tr>\n",
              "      <th>...</th>\n",
              "      <td>...</td>\n",
              "      <td>...</td>\n",
              "      <td>...</td>\n",
              "      <td>...</td>\n",
              "      <td>...</td>\n",
              "      <td>...</td>\n",
              "      <td>...</td>\n",
              "      <td>...</td>\n",
              "      <td>...</td>\n",
              "      <td>...</td>\n",
              "      <td>...</td>\n",
              "      <td>...</td>\n",
              "      <td>...</td>\n",
              "      <td>...</td>\n",
              "      <td>...</td>\n",
              "      <td>...</td>\n",
              "      <td>...</td>\n",
              "      <td>...</td>\n",
              "      <td>...</td>\n",
              "      <td>...</td>\n",
              "      <td>...</td>\n",
              "      <td>...</td>\n",
              "      <td>...</td>\n",
              "      <td>...</td>\n",
              "      <td>...</td>\n",
              "      <td>...</td>\n",
              "      <td>...</td>\n",
              "      <td>...</td>\n",
              "      <td>...</td>\n",
              "      <td>...</td>\n",
              "      <td>...</td>\n",
              "      <td>...</td>\n",
              "      <td>...</td>\n",
              "      <td>...</td>\n",
              "      <td>...</td>\n",
              "      <td>...</td>\n",
              "      <td>...</td>\n",
              "      <td>...</td>\n",
              "      <td>...</td>\n",
              "      <td>...</td>\n",
              "      <td>...</td>\n",
              "      <td>...</td>\n",
              "      <td>...</td>\n",
              "      <td>...</td>\n",
              "      <td>...</td>\n",
              "      <td>...</td>\n",
              "      <td>...</td>\n",
              "      <td>...</td>\n",
              "      <td>...</td>\n",
              "      <td>...</td>\n",
              "      <td>...</td>\n",
              "      <td>...</td>\n",
              "      <td>...</td>\n",
              "      <td>...</td>\n",
              "      <td>...</td>\n",
              "      <td>...</td>\n",
              "      <td>...</td>\n",
              "      <td>...</td>\n",
              "      <td>...</td>\n",
              "      <td>...</td>\n",
              "      <td>...</td>\n",
              "      <td>...</td>\n",
              "      <td>...</td>\n",
              "      <td>...</td>\n",
              "      <td>...</td>\n",
              "      <td>...</td>\n",
              "    </tr>\n",
              "    <tr>\n",
              "      <th>542849</th>\n",
              "      <td>12.0</td>\n",
              "      <td>8</td>\n",
              "      <td>16</td>\n",
              "      <td>5388</td>\n",
              "      <td>0</td>\n",
              "      <td>3</td>\n",
              "      <td>54.0</td>\n",
              "      <td>85</td>\n",
              "      <td>1:37.2</td>\n",
              "      <td>4</td>\n",
              "      <td>278.9</td>\n",
              "      <td>15.0</td>\n",
              "      <td>422.0</td>\n",
              "      <td>2.0</td>\n",
              "      <td>94</td>\n",
              "      <td>5</td>\n",
              "      <td>9</td>\n",
              "      <td>0</td>\n",
              "      <td>0</td>\n",
              "      <td>外</td>\n",
              "      <td>1600.0</td>\n",
              "      <td>1</td>\n",
              "      <td>0</td>\n",
              "      <td>12:20</td>\n",
              "      <td>2007</td>\n",
              "      <td>3</td>\n",
              "      <td>17</td>\n",
              "      <td>10.0</td>\n",
              "      <td>3.0</td>\n",
              "      <td>6.0</td>\n",
              "      <td>5388.0</td>\n",
              "      <td>0.0</td>\n",
              "      <td>2.0</td>\n",
              "      <td>54.0</td>\n",
              "      <td>121.0</td>\n",
              "      <td>1:42.8</td>\n",
              "      <td>1.0</td>\n",
              "      <td>222.1</td>\n",
              "      <td>12.0</td>\n",
              "      <td>420.0</td>\n",
              "      <td>0.0</td>\n",
              "      <td>94.0</td>\n",
              "      <td>1.0</td>\n",
              "      <td>9.0</td>\n",
              "      <td>1.0</td>\n",
              "      <td>2.0</td>\n",
              "      <td>-</td>\n",
              "      <td>1600.0</td>\n",
              "      <td>2.0</td>\n",
              "      <td>0.0</td>\n",
              "      <td>09:50</td>\n",
              "      <td>2006.0</td>\n",
              "      <td>11.0</td>\n",
              "      <td>19.0</td>\n",
              "      <td>False</td>\n",
              "      <td>0.0</td>\n",
              "      <td>1561167768</td>\n",
              "      <td>1561206000</td>\n",
              "      <td>1561197000</td>\n",
              "      <td>0</td>\n",
              "      <td>0</td>\n",
              "      <td>2.0</td>\n",
              "      <td>3.0</td>\n",
              "      <td>3.0</td>\n",
              "      <td>1.024874e-06</td>\n",
              "      <td>10.0</td>\n",
              "    </tr>\n",
              "    <tr>\n",
              "      <th>542851</th>\n",
              "      <td>5.0</td>\n",
              "      <td>7</td>\n",
              "      <td>14</td>\n",
              "      <td>41689</td>\n",
              "      <td>1</td>\n",
              "      <td>3</td>\n",
              "      <td>54.0</td>\n",
              "      <td>253</td>\n",
              "      <td>2:01.9</td>\n",
              "      <td>4</td>\n",
              "      <td>4.2</td>\n",
              "      <td>2.0</td>\n",
              "      <td>508.0</td>\n",
              "      <td>4.0</td>\n",
              "      <td>226</td>\n",
              "      <td>7</td>\n",
              "      <td>9</td>\n",
              "      <td>0</td>\n",
              "      <td>0</td>\n",
              "      <td>-</td>\n",
              "      <td>2000.0</td>\n",
              "      <td>0</td>\n",
              "      <td>0</td>\n",
              "      <td>13:15</td>\n",
              "      <td>2014</td>\n",
              "      <td>9</td>\n",
              "      <td>28</td>\n",
              "      <td>17.0</td>\n",
              "      <td>8.0</td>\n",
              "      <td>18.0</td>\n",
              "      <td>41689.0</td>\n",
              "      <td>1.0</td>\n",
              "      <td>3.0</td>\n",
              "      <td>56.0</td>\n",
              "      <td>5.0</td>\n",
              "      <td>2:31.5</td>\n",
              "      <td>13.0</td>\n",
              "      <td>18.6</td>\n",
              "      <td>6.0</td>\n",
              "      <td>504.0</td>\n",
              "      <td>0.0</td>\n",
              "      <td>226.0</td>\n",
              "      <td>11.0</td>\n",
              "      <td>2.0</td>\n",
              "      <td>0.0</td>\n",
              "      <td>2.0</td>\n",
              "      <td>-</td>\n",
              "      <td>2400.0</td>\n",
              "      <td>0.0</td>\n",
              "      <td>0.0</td>\n",
              "      <td>15:45</td>\n",
              "      <td>2014.0</td>\n",
              "      <td>5.0</td>\n",
              "      <td>3.0</td>\n",
              "      <td>False</td>\n",
              "      <td>0.0</td>\n",
              "      <td>1561170690</td>\n",
              "      <td>1561209300</td>\n",
              "      <td>1561218300</td>\n",
              "      <td>0</td>\n",
              "      <td>0</td>\n",
              "      <td>4.0</td>\n",
              "      <td>1.0</td>\n",
              "      <td>2.0</td>\n",
              "      <td>1.537308e-06</td>\n",
              "      <td>15.0</td>\n",
              "    </tr>\n",
              "    <tr>\n",
              "      <th>542852</th>\n",
              "      <td>10.0</td>\n",
              "      <td>3</td>\n",
              "      <td>6</td>\n",
              "      <td>7575</td>\n",
              "      <td>1</td>\n",
              "      <td>6</td>\n",
              "      <td>56.0</td>\n",
              "      <td>194</td>\n",
              "      <td>1:51.2</td>\n",
              "      <td>6</td>\n",
              "      <td>56.7</td>\n",
              "      <td>9.0</td>\n",
              "      <td>502.0</td>\n",
              "      <td>0.0</td>\n",
              "      <td>237</td>\n",
              "      <td>10</td>\n",
              "      <td>9</td>\n",
              "      <td>1</td>\n",
              "      <td>0</td>\n",
              "      <td>-</td>\n",
              "      <td>1800.0</td>\n",
              "      <td>0</td>\n",
              "      <td>0</td>\n",
              "      <td>15:35</td>\n",
              "      <td>2008</td>\n",
              "      <td>7</td>\n",
              "      <td>12</td>\n",
              "      <td>9.0</td>\n",
              "      <td>2.0</td>\n",
              "      <td>2.0</td>\n",
              "      <td>7575.0</td>\n",
              "      <td>1.0</td>\n",
              "      <td>6.0</td>\n",
              "      <td>57.0</td>\n",
              "      <td>194.0</td>\n",
              "      <td>1:49.5</td>\n",
              "      <td>6.0</td>\n",
              "      <td>25.6</td>\n",
              "      <td>8.0</td>\n",
              "      <td>502.0</td>\n",
              "      <td>4.0</td>\n",
              "      <td>237.0</td>\n",
              "      <td>12.0</td>\n",
              "      <td>9.0</td>\n",
              "      <td>0.0</td>\n",
              "      <td>0.0</td>\n",
              "      <td>外</td>\n",
              "      <td>1800.0</td>\n",
              "      <td>1.0</td>\n",
              "      <td>2.0</td>\n",
              "      <td>16:50</td>\n",
              "      <td>2008.0</td>\n",
              "      <td>6.0</td>\n",
              "      <td>29.0</td>\n",
              "      <td>False</td>\n",
              "      <td>0.0</td>\n",
              "      <td>1561168170</td>\n",
              "      <td>1561217700</td>\n",
              "      <td>1561222200</td>\n",
              "      <td>0</td>\n",
              "      <td>0</td>\n",
              "      <td>2.0</td>\n",
              "      <td>2.0</td>\n",
              "      <td>2.0</td>\n",
              "      <td>1.152983e-06</td>\n",
              "      <td>12.0</td>\n",
              "    </tr>\n",
              "    <tr>\n",
              "      <th>542853</th>\n",
              "      <td>5.0</td>\n",
              "      <td>7</td>\n",
              "      <td>11</td>\n",
              "      <td>20044</td>\n",
              "      <td>1</td>\n",
              "      <td>3</td>\n",
              "      <td>56.0</td>\n",
              "      <td>44</td>\n",
              "      <td>1:56.7</td>\n",
              "      <td>4</td>\n",
              "      <td>5.7</td>\n",
              "      <td>4.0</td>\n",
              "      <td>472.0</td>\n",
              "      <td>-4.0</td>\n",
              "      <td>16</td>\n",
              "      <td>3</td>\n",
              "      <td>9</td>\n",
              "      <td>1</td>\n",
              "      <td>2</td>\n",
              "      <td>-</td>\n",
              "      <td>1800.0</td>\n",
              "      <td>1</td>\n",
              "      <td>0</td>\n",
              "      <td>10:40</td>\n",
              "      <td>2009</td>\n",
              "      <td>5</td>\n",
              "      <td>17</td>\n",
              "      <td>4.0</td>\n",
              "      <td>2.0</td>\n",
              "      <td>2.0</td>\n",
              "      <td>20044.0</td>\n",
              "      <td>1.0</td>\n",
              "      <td>3.0</td>\n",
              "      <td>56.0</td>\n",
              "      <td>44.0</td>\n",
              "      <td>1:53.5</td>\n",
              "      <td>1.0</td>\n",
              "      <td>15.4</td>\n",
              "      <td>8.0</td>\n",
              "      <td>476.0</td>\n",
              "      <td>-8.0</td>\n",
              "      <td>16.0</td>\n",
              "      <td>1.0</td>\n",
              "      <td>9.0</td>\n",
              "      <td>1.0</td>\n",
              "      <td>0.0</td>\n",
              "      <td>-</td>\n",
              "      <td>1800.0</td>\n",
              "      <td>3.0</td>\n",
              "      <td>3.0</td>\n",
              "      <td>10:30</td>\n",
              "      <td>2009.0</td>\n",
              "      <td>4.0</td>\n",
              "      <td>25.0</td>\n",
              "      <td>False</td>\n",
              "      <td>0.0</td>\n",
              "      <td>1561168410</td>\n",
              "      <td>1561200000</td>\n",
              "      <td>1561199400</td>\n",
              "      <td>0</td>\n",
              "      <td>0</td>\n",
              "      <td>1.0</td>\n",
              "      <td>1.0</td>\n",
              "      <td>2.0</td>\n",
              "      <td>1.152983e-06</td>\n",
              "      <td>12.0</td>\n",
              "    </tr>\n",
              "    <tr>\n",
              "      <th>542854</th>\n",
              "      <td>3.0</td>\n",
              "      <td>7</td>\n",
              "      <td>9</td>\n",
              "      <td>32163</td>\n",
              "      <td>1</td>\n",
              "      <td>5</td>\n",
              "      <td>57.0</td>\n",
              "      <td>190</td>\n",
              "      <td>1:09.2</td>\n",
              "      <td>9</td>\n",
              "      <td>12.1</td>\n",
              "      <td>6.0</td>\n",
              "      <td>488.0</td>\n",
              "      <td>8.0</td>\n",
              "      <td>59</td>\n",
              "      <td>10</td>\n",
              "      <td>9</td>\n",
              "      <td>0</td>\n",
              "      <td>0</td>\n",
              "      <td>-</td>\n",
              "      <td>1200.0</td>\n",
              "      <td>3</td>\n",
              "      <td>1</td>\n",
              "      <td>15:01</td>\n",
              "      <td>2014</td>\n",
              "      <td>8</td>\n",
              "      <td>10</td>\n",
              "      <td>6.0</td>\n",
              "      <td>6.0</td>\n",
              "      <td>8.0</td>\n",
              "      <td>32163.0</td>\n",
              "      <td>1.0</td>\n",
              "      <td>5.0</td>\n",
              "      <td>57.0</td>\n",
              "      <td>336.0</td>\n",
              "      <td>1:11.1</td>\n",
              "      <td>4.0</td>\n",
              "      <td>12.1</td>\n",
              "      <td>6.0</td>\n",
              "      <td>480.0</td>\n",
              "      <td>-4.0</td>\n",
              "      <td>59.0</td>\n",
              "      <td>12.0</td>\n",
              "      <td>9.0</td>\n",
              "      <td>0.0</td>\n",
              "      <td>2.0</td>\n",
              "      <td>-</td>\n",
              "      <td>1200.0</td>\n",
              "      <td>0.0</td>\n",
              "      <td>0.0</td>\n",
              "      <td>16:15</td>\n",
              "      <td>2014.0</td>\n",
              "      <td>7.0</td>\n",
              "      <td>20.0</td>\n",
              "      <td>False</td>\n",
              "      <td>0.0</td>\n",
              "      <td>1561165866</td>\n",
              "      <td>1561215660</td>\n",
              "      <td>1561220100</td>\n",
              "      <td>0</td>\n",
              "      <td>1</td>\n",
              "      <td>2.0</td>\n",
              "      <td>1.0</td>\n",
              "      <td>2.0</td>\n",
              "      <td>7.686563e-07</td>\n",
              "      <td>8.0</td>\n",
              "    </tr>\n",
              "  </tbody>\n",
              "</table>\n",
              "<p>352595 rows × 66 columns</p>\n",
              "</div>"
            ],
            "text/plain": [
              "        rank  frame_num  ...    prev_speed  prev_speed_level\n",
              "12       3.0          6  ...  7.686563e-07               8.0\n",
              "16      16.0          4  ...  1.281091e-06              13.0\n",
              "17      11.0          2  ...  7.686563e-07               8.0\n",
              "18       9.0          6  ...  8.967654e-07               9.0\n",
              "21      15.0          8  ...  1.152983e-06              12.0\n",
              "...      ...        ...  ...           ...               ...\n",
              "542849  12.0          8  ...  1.024874e-06              10.0\n",
              "542851   5.0          7  ...  1.537308e-06              15.0\n",
              "542852  10.0          3  ...  1.152983e-06              12.0\n",
              "542853   5.0          7  ...  1.152983e-06              12.0\n",
              "542854   3.0          7  ...  7.686563e-07               8.0\n",
              "\n",
              "[352595 rows x 66 columns]"
            ]
          },
          "metadata": {
            "tags": []
          },
          "execution_count": 266
        }
      ]
    },
    {
      "cell_type": "code",
      "metadata": {
        "id": "uL9HfmsC3BQb",
        "colab_type": "code",
        "colab": {
          "base_uri": "https://localhost:8080/",
          "height": 419
        },
        "outputId": "5ae5debd-b1fb-433e-aa54-302fc92c051e"
      },
      "source": [
        "lasty"
      ],
      "execution_count": 267,
      "outputs": [
        {
          "output_type": "execute_result",
          "data": {
            "text/html": [
              "<div>\n",
              "<style scoped>\n",
              "    .dataframe tbody tr th:only-of-type {\n",
              "        vertical-align: middle;\n",
              "    }\n",
              "\n",
              "    .dataframe tbody tr th {\n",
              "        vertical-align: top;\n",
              "    }\n",
              "\n",
              "    .dataframe thead th {\n",
              "        text-align: right;\n",
              "    }\n",
              "</style>\n",
              "<table border=\"1\" class=\"dataframe\">\n",
              "  <thead>\n",
              "    <tr style=\"text-align: right;\">\n",
              "      <th></th>\n",
              "      <th>lose</th>\n",
              "      <th>win</th>\n",
              "    </tr>\n",
              "  </thead>\n",
              "  <tbody>\n",
              "    <tr>\n",
              "      <th>12</th>\n",
              "      <td>0.0</td>\n",
              "      <td>1.0</td>\n",
              "    </tr>\n",
              "    <tr>\n",
              "      <th>16</th>\n",
              "      <td>1.0</td>\n",
              "      <td>0.0</td>\n",
              "    </tr>\n",
              "    <tr>\n",
              "      <th>17</th>\n",
              "      <td>1.0</td>\n",
              "      <td>0.0</td>\n",
              "    </tr>\n",
              "    <tr>\n",
              "      <th>18</th>\n",
              "      <td>1.0</td>\n",
              "      <td>0.0</td>\n",
              "    </tr>\n",
              "    <tr>\n",
              "      <th>21</th>\n",
              "      <td>1.0</td>\n",
              "      <td>0.0</td>\n",
              "    </tr>\n",
              "    <tr>\n",
              "      <th>...</th>\n",
              "      <td>...</td>\n",
              "      <td>...</td>\n",
              "    </tr>\n",
              "    <tr>\n",
              "      <th>542849</th>\n",
              "      <td>1.0</td>\n",
              "      <td>0.0</td>\n",
              "    </tr>\n",
              "    <tr>\n",
              "      <th>542851</th>\n",
              "      <td>1.0</td>\n",
              "      <td>0.0</td>\n",
              "    </tr>\n",
              "    <tr>\n",
              "      <th>542852</th>\n",
              "      <td>1.0</td>\n",
              "      <td>0.0</td>\n",
              "    </tr>\n",
              "    <tr>\n",
              "      <th>542853</th>\n",
              "      <td>1.0</td>\n",
              "      <td>0.0</td>\n",
              "    </tr>\n",
              "    <tr>\n",
              "      <th>542854</th>\n",
              "      <td>0.0</td>\n",
              "      <td>1.0</td>\n",
              "    </tr>\n",
              "  </tbody>\n",
              "</table>\n",
              "<p>352595 rows × 2 columns</p>\n",
              "</div>"
            ],
            "text/plain": [
              "        lose  win\n",
              "12       0.0  1.0\n",
              "16       1.0  0.0\n",
              "17       1.0  0.0\n",
              "18       1.0  0.0\n",
              "21       1.0  0.0\n",
              "...      ...  ...\n",
              "542849   1.0  0.0\n",
              "542851   1.0  0.0\n",
              "542852   1.0  0.0\n",
              "542853   1.0  0.0\n",
              "542854   0.0  1.0\n",
              "\n",
              "[352595 rows x 2 columns]"
            ]
          },
          "metadata": {
            "tags": []
          },
          "execution_count": 267
        }
      ]
    },
    {
      "cell_type": "code",
      "metadata": {
        "id": "rj-2kpoK2fCj",
        "colab_type": "code",
        "colab": {}
      },
      "source": [
        ""
      ],
      "execution_count": 0,
      "outputs": []
    },
    {
      "cell_type": "code",
      "metadata": {
        "id": "SJUwnya_cXRX",
        "colab_type": "code",
        "colab": {}
      },
      "source": [
        "#!pip uninstall -y keras"
      ],
      "execution_count": 0,
      "outputs": []
    },
    {
      "cell_type": "code",
      "metadata": {
        "id": "LutfR4VAcXO3",
        "colab_type": "code",
        "colab": {}
      },
      "source": [
        "#!pip uninstall -y tensorflow"
      ],
      "execution_count": 0,
      "outputs": []
    },
    {
      "cell_type": "code",
      "metadata": {
        "id": "jABqOJatZ_sG",
        "colab_type": "code",
        "colab": {}
      },
      "source": [
        "batch_size = 128\n",
        "num_classes = 2\n",
        "epochs = 5\n"
      ],
      "execution_count": 0,
      "outputs": []
    },
    {
      "cell_type": "code",
      "metadata": {
        "id": "xInQERwBYrD4",
        "colab_type": "code",
        "colab": {}
      },
      "source": [
        "model = Sequential()\n",
        "model.add(Dense(512, activation='relu', input_shape=(x.shape[1],)))\n",
        "model.add(LeakyReLU(alpha=0.3))\n",
        "\n",
        "model.add(Dense(256, activation=None))\n",
        "model.add(LeakyReLU(alpha=0.3))\n",
        "\n",
        "model.add(Dense(128, activation=None))\n",
        "model.add(LeakyReLU(alpha=0.3))\n",
        "model.add(Dense(2)) # 出力層2ノード,全結合\n",
        "model.add(Activation(\"sigmoid\"))"
      ],
      "execution_count": 0,
      "outputs": []
    },
    {
      "cell_type": "code",
      "metadata": {
        "id": "MisyP5PRYrG2",
        "colab_type": "code",
        "outputId": "e754a4e7-5aef-4034-9a0c-a8d2764289b7",
        "colab": {
          "base_uri": "https://localhost:8080/",
          "height": 425
        }
      },
      "source": [
        "model.summary()\n"
      ],
      "execution_count": 273,
      "outputs": [
        {
          "output_type": "stream",
          "text": [
            "Model: \"sequential_2\"\n",
            "_________________________________________________________________\n",
            "Layer (type)                 Output Shape              Param #   \n",
            "=================================================================\n",
            "dense_5 (Dense)              (None, 512)               1536      \n",
            "_________________________________________________________________\n",
            "leaky_re_lu_4 (LeakyReLU)    (None, 512)               0         \n",
            "_________________________________________________________________\n",
            "dense_6 (Dense)              (None, 256)               131328    \n",
            "_________________________________________________________________\n",
            "leaky_re_lu_5 (LeakyReLU)    (None, 256)               0         \n",
            "_________________________________________________________________\n",
            "dense_7 (Dense)              (None, 128)               32896     \n",
            "_________________________________________________________________\n",
            "leaky_re_lu_6 (LeakyReLU)    (None, 128)               0         \n",
            "_________________________________________________________________\n",
            "dense_8 (Dense)              (None, 2)                 258       \n",
            "_________________________________________________________________\n",
            "activation_2 (Activation)    (None, 2)                 0         \n",
            "=================================================================\n",
            "Total params: 166,018\n",
            "Trainable params: 166,018\n",
            "Non-trainable params: 0\n",
            "_________________________________________________________________\n"
          ],
          "name": "stdout"
        }
      ]
    },
    {
      "cell_type": "code",
      "metadata": {
        "id": "gTYwkbphYrJn",
        "colab_type": "code",
        "colab": {}
      },
      "source": [
        "model.compile(loss='binary_crossentropy',\n",
        "              optimizer=\"adam\",\n",
        "              metrics=['accuracy'])\n"
      ],
      "execution_count": 0,
      "outputs": []
    },
    {
      "cell_type": "code",
      "metadata": {
        "id": "lO8O-5i8YrMf",
        "colab_type": "code",
        "outputId": "cb83f387-24a3-4379-9776-23f449eabcee",
        "colab": {
          "base_uri": "https://localhost:8080/",
          "height": 204
        }
      },
      "source": [
        "history = model.fit(trainx, trainy,\n",
        "                    batch_size=batch_size,\n",
        "                    epochs=epochs,\n",
        "                    verbose=1,\n",
        "                    validation_data=(testx, testy))\n"
      ],
      "execution_count": 275,
      "outputs": [
        {
          "output_type": "stream",
          "text": [
            "Train on 104230 samples, validate on 104230 samples\n",
            "Epoch 1/5\n",
            "104230/104230 [==============================] - 8s 81us/step - loss: 0.5512 - accuracy: 0.7260 - val_loss: 0.5567 - val_accuracy: 0.7246\n",
            "Epoch 2/5\n",
            "104230/104230 [==============================] - 8s 78us/step - loss: 0.5473 - accuracy: 0.7267 - val_loss: 0.5511 - val_accuracy: 0.7246\n",
            "Epoch 3/5\n",
            "104230/104230 [==============================] - 8s 76us/step - loss: 0.5472 - accuracy: 0.7267 - val_loss: 0.5489 - val_accuracy: 0.7246\n",
            "Epoch 4/5\n",
            "104230/104230 [==============================] - 8s 76us/step - loss: 0.5467 - accuracy: 0.7267 - val_loss: 0.5480 - val_accuracy: 0.7246\n",
            "Epoch 5/5\n",
            "104230/104230 [==============================] - 8s 76us/step - loss: 0.5465 - accuracy: 0.7267 - val_loss: 0.5480 - val_accuracy: 0.7246\n"
          ],
          "name": "stdout"
        }
      ]
    },
    {
      "cell_type": "code",
      "metadata": {
        "id": "QGB-4d0-YrPG",
        "colab_type": "code",
        "colab": {}
      },
      "source": [
        "# 予測\n",
        "predictions = model.predict(lastx)"
      ],
      "execution_count": 0,
      "outputs": []
    },
    {
      "cell_type": "code",
      "metadata": {
        "id": "X_ZWiiH4d_Ii",
        "colab_type": "code",
        "outputId": "e4c7701b-34e2-4500-d564-c09185b22425",
        "colab": {
          "base_uri": "https://localhost:8080/",
          "height": 136
        }
      },
      "source": [
        "print(predictions)"
      ],
      "execution_count": 277,
      "outputs": [
        {
          "output_type": "stream",
          "text": [
            "[[0.6133012  0.3841424 ]\n",
            " [0.91210073 0.09229252]\n",
            " [0.84710085 0.15719235]\n",
            " ...\n",
            " [0.8360472  0.16814351]\n",
            " [0.6265723  0.37427762]\n",
            " [0.8471009  0.15719232]]\n"
          ],
          "name": "stdout"
        }
      ]
    },
    {
      "cell_type": "code",
      "metadata": {
        "id": "GB9aFQYFeCR6",
        "colab_type": "code",
        "outputId": "9e022eef-0c8c-406d-d386-1f2d8a88c7ac",
        "colab": {
          "base_uri": "https://localhost:8080/",
          "height": 34
        }
      },
      "source": [
        "# 評価\n",
        "score = model.evaluate(lastx, lasty, verbose=1)\n"
      ],
      "execution_count": 278,
      "outputs": [
        {
          "output_type": "stream",
          "text": [
            "352595/352595 [==============================] - 12s 35us/step\n"
          ],
          "name": "stdout"
        }
      ]
    },
    {
      "cell_type": "code",
      "metadata": {
        "id": "eTdqKmmCXJfR",
        "colab_type": "code",
        "outputId": "a4624ba2-debe-4973-d3ee-c78b90ae9eda",
        "colab": {
          "base_uri": "https://localhost:8080/",
          "height": 51
        }
      },
      "source": [
        "print(\"Test score\", score[0])\n",
        "print(\"Test accuracy\", score[1])"
      ],
      "execution_count": 279,
      "outputs": [
        {
          "output_type": "stream",
          "text": [
            "Test score 0.45968444636424266\n",
            "Test accuracy 0.8060352802276611\n"
          ],
          "name": "stdout"
        }
      ]
    },
    {
      "cell_type": "code",
      "metadata": {
        "id": "K0ia5QBo5Izf",
        "colab_type": "code",
        "colab": {}
      },
      "source": [
        "# 回収率の計算"
      ],
      "execution_count": 0,
      "outputs": []
    },
    {
      "cell_type": "code",
      "metadata": {
        "id": "46GQRSSH9FGn",
        "colab_type": "code",
        "colab": {}
      },
      "source": [
        "## 予想結果ともとのデータを結合"
      ],
      "execution_count": 0,
      "outputs": []
    },
    {
      "cell_type": "code",
      "metadata": {
        "id": "wr5doA6mXJ3d",
        "colab_type": "code",
        "colab": {}
      },
      "source": [
        "predict = pd.DataFrame(predictions, columns={\"lose\",\"win\"},index=lastx.index)"
      ],
      "execution_count": 0,
      "outputs": []
    },
    {
      "cell_type": "code",
      "metadata": {
        "id": "mP11Hoj0Zfzk",
        "colab_type": "code",
        "colab": {}
      },
      "source": [
        "result =  pd.merge(predict, lastsdat, right_index=True, left_index=True)"
      ],
      "execution_count": 0,
      "outputs": []
    },
    {
      "cell_type": "code",
      "metadata": {
        "id": "y3ByMUab9HnD",
        "colab_type": "code",
        "colab": {}
      },
      "source": [
        "# リターンと支払額を計算"
      ],
      "execution_count": 0,
      "outputs": []
    },
    {
      "cell_type": "code",
      "metadata": {
        "id": "IGlYWt5-5eVr",
        "colab_type": "code",
        "colab": {}
      },
      "source": [
        "return_amount = result.query(\"win > 0.3\")[[\"return\"]].sum()[\"return\"]\n",
        "pay_amount =result.query(\"win > 0.3\").count()[\"lose\"]"
      ],
      "execution_count": 0,
      "outputs": []
    },
    {
      "cell_type": "code",
      "metadata": {
        "id": "2QtLC-J56cS6",
        "colab_type": "code",
        "colab": {
          "base_uri": "https://localhost:8080/",
          "height": 34
        },
        "outputId": "747b9535-342b-43a0-813c-73cb14b4a6c1"
      },
      "source": [
        "# 最終損益\n",
        "return_amount - pay_amount "
      ],
      "execution_count": 340,
      "outputs": [
        {
          "output_type": "execute_result",
          "data": {
            "text/plain": [
              "-25874.20000000001"
            ]
          },
          "metadata": {
            "tags": []
          },
          "execution_count": 340
        }
      ]
    },
    {
      "cell_type": "code",
      "metadata": {
        "id": "OB8PMN2x-oF5",
        "colab_type": "code",
        "colab": {}
      },
      "source": [
        "# 的中率の計算"
      ],
      "execution_count": 0,
      "outputs": []
    },
    {
      "cell_type": "code",
      "metadata": {
        "id": "7dRs7OwN-oPz",
        "colab_type": "code",
        "colab": {}
      },
      "source": [
        "# 勝率が高いと予想し、かつ実際に3位以内に入った馬\n",
        "success = result.query(\"win > 0.4 and rank <= 3\").count()[\"lose\"]\n",
        "\n",
        "# 勝率が高いと予想した馬の合計数\n",
        "total = result.query(\"win > 0.4\").count()[\"lose\"]"
      ],
      "execution_count": 0,
      "outputs": []
    },
    {
      "cell_type": "code",
      "metadata": {
        "id": "8Io1-DDK-oUw",
        "colab_type": "code",
        "colab": {
          "base_uri": "https://localhost:8080/",
          "height": 34
        },
        "outputId": "ab4e90b2-51cb-4383-a2ee-2e431e46cc04"
      },
      "source": [
        "# 的中率\n",
        "success / total"
      ],
      "execution_count": 348,
      "outputs": [
        {
          "output_type": "execute_result",
          "data": {
            "text/plain": [
              "0.4112903225806452"
            ]
          },
          "metadata": {
            "tags": []
          },
          "execution_count": 348
        }
      ]
    },
    {
      "cell_type": "code",
      "metadata": {
        "id": "H1kwOrVI-oYu",
        "colab_type": "code",
        "colab": {
          "base_uri": "https://localhost:8080/",
          "height": 34
        },
        "outputId": "1052a151-4c3e-4415-a708-f2c483871ea9"
      },
      "source": [
        ""
      ],
      "execution_count": 349,
      "outputs": [
        {
          "output_type": "execute_result",
          "data": {
            "text/plain": [
              "124"
            ]
          },
          "metadata": {
            "tags": []
          },
          "execution_count": 349
        }
      ]
    },
    {
      "cell_type": "code",
      "metadata": {
        "id": "a_UKOWMT4RCn",
        "colab_type": "code",
        "colab": {}
      },
      "source": [
        "# 競馬予想終わり"
      ],
      "execution_count": 0,
      "outputs": []
    },
    {
      "cell_type": "code",
      "metadata": {
        "id": "mI3N8y7h9OHQ",
        "colab_type": "code",
        "colab": {
          "base_uri": "https://localhost:8080/",
          "height": 34
        },
        "outputId": "8fbc1d7f-8eca-4afa-dd70-279d7bb1a20e"
      },
      "source": [
        "result.query(\"win > 0.3 and rank <= 3\").count()[\"lose\"]"
      ],
      "execution_count": 333,
      "outputs": [
        {
          "output_type": "execute_result",
          "data": {
            "text/plain": [
              "37318"
            ]
          },
          "metadata": {
            "tags": []
          },
          "execution_count": 333
        }
      ]
    },
    {
      "cell_type": "code",
      "metadata": {
        "id": "Jn3j_93s-hWP",
        "colab_type": "code",
        "colab": {
          "base_uri": "https://localhost:8080/",
          "height": 34
        },
        "outputId": "d806a2b6-d862-4aab-e0dc-29edc3968f6e"
      },
      "source": [
        ""
      ],
      "execution_count": 334,
      "outputs": [
        {
          "output_type": "execute_result",
          "data": {
            "text/plain": [
              "110822"
            ]
          },
          "metadata": {
            "tags": []
          },
          "execution_count": 334
        }
      ]
    }
  ]
}