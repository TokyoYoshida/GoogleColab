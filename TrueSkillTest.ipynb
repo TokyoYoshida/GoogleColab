{
  "nbformat": 4,
  "nbformat_minor": 0,
  "metadata": {
    "colab": {
      "name": "TrueSkillTest.ipynb",
      "provenance": [],
      "collapsed_sections": [],
      "authorship_tag": "ABX9TyMJHyAwixpgTLpAtkh+xgYw",
      "include_colab_link": true
    },
    "kernelspec": {
      "name": "python3",
      "display_name": "Python 3"
    }
  },
  "cells": [
    {
      "cell_type": "markdown",
      "metadata": {
        "id": "view-in-github",
        "colab_type": "text"
      },
      "source": [
        "<a href=\"https://colab.research.google.com/github/TokyoYoshida/GoogleColab/blob/master/TrueSkillTest.ipynb\" target=\"_parent\"><img src=\"https://colab.research.google.com/assets/colab-badge.svg\" alt=\"Open In Colab\"/></a>"
      ]
    },
    {
      "cell_type": "code",
      "metadata": {
        "id": "ayNzjLcrhy0H",
        "colab_type": "code",
        "colab": {
          "base_uri": "https://localhost:8080/",
          "height": 122
        },
        "outputId": "1a736e7f-61d7-4f8e-ec44-1f71f91f8e44"
      },
      "source": [
        "from google.colab import drive\n",
        "drive.mount('/content/drive')\n",
        "# 必要ならば以下のようにディレクトリ移動する\n",
        " "
      ],
      "execution_count": 10,
      "outputs": [
        {
          "output_type": "stream",
          "text": [
            "Go to this URL in a browser: https://accounts.google.com/o/oauth2/auth?client_id=947318989803-6bn6qk8qdgf4n4g3pfee6491hc0brc4i.apps.googleusercontent.com&redirect_uri=urn%3aietf%3awg%3aoauth%3a2.0%3aoob&response_type=code&scope=email%20https%3a%2f%2fwww.googleapis.com%2fauth%2fdocs.test%20https%3a%2f%2fwww.googleapis.com%2fauth%2fdrive%20https%3a%2f%2fwww.googleapis.com%2fauth%2fdrive.photos.readonly%20https%3a%2f%2fwww.googleapis.com%2fauth%2fpeopleapi.readonly\n",
            "\n",
            "Enter your authorization code:\n",
            "··········\n",
            "Mounted at /content/drive\n"
          ],
          "name": "stdout"
        }
      ]
    },
    {
      "cell_type": "code",
      "metadata": {
        "id": "LgQgOvSQhzqk",
        "colab_type": "code",
        "colab": {
          "base_uri": "https://localhost:8080/",
          "height": 34
        },
        "outputId": "17b262ad-f0ec-419b-dbb2-6f6fe64ef547"
      },
      "source": [
        "%cd /content/drive/'My Drive'/'★個人専用ファイル'/'開発用・個人サービス開発'/'GoogleColab'/"
      ],
      "execution_count": 11,
      "outputs": [
        {
          "output_type": "stream",
          "text": [
            "/content/drive/My Drive/★個人専用ファイル/開発用・個人サービス開発/GoogleColab\n"
          ],
          "name": "stdout"
        }
      ]
    },
    {
      "cell_type": "code",
      "metadata": {
        "id": "9k4VIxKXgy0D",
        "colab_type": "code",
        "colab": {
          "base_uri": "https://localhost:8080/",
          "height": 187
        },
        "outputId": "8117d064-5f61-4af2-cc4d-cf98595b4883"
      },
      "source": [
        "!pip install trueskill"
      ],
      "execution_count": 1,
      "outputs": [
        {
          "output_type": "stream",
          "text": [
            "Collecting trueskill\n",
            "  Downloading https://files.pythonhosted.org/packages/d0/b1/572f309178eacdccd9f9f5f3e3e14fb3543a89c6259d62b36660350af2b9/trueskill-0.4.5.tar.gz\n",
            "Requirement already satisfied: six in /usr/local/lib/python3.6/dist-packages (from trueskill) (1.12.0)\n",
            "Building wheels for collected packages: trueskill\n",
            "  Building wheel for trueskill (setup.py) ... \u001b[?25l\u001b[?25hdone\n",
            "  Created wheel for trueskill: filename=trueskill-0.4.5-cp36-none-any.whl size=18033 sha256=ea7baadac3acd754f5b31c715c0edf25c5bdeb47c5b27a7e9a2bb775edf2090c\n",
            "  Stored in directory: /root/.cache/pip/wheels/63/f3/6c/08a1b5dbd92bbc5ef69e7f991955889469cd84a5bc94be4e2c\n",
            "Successfully built trueskill\n",
            "Installing collected packages: trueskill\n",
            "Successfully installed trueskill-0.4.5\n"
          ],
          "name": "stdout"
        }
      ]
    },
    {
      "cell_type": "code",
      "metadata": {
        "id": "WolF0AiJhMrZ",
        "colab_type": "code",
        "colab": {}
      },
      "source": [
        "import trueskill"
      ],
      "execution_count": 0,
      "outputs": []
    },
    {
      "cell_type": "code",
      "metadata": {
        "id": "s3INhDoLg9Zb",
        "colab_type": "code",
        "colab": {}
      },
      "source": [
        "env = trueskill.global_env()"
      ],
      "execution_count": 0,
      "outputs": []
    },
    {
      "cell_type": "code",
      "metadata": {
        "id": "y4l1uNfwhKDn",
        "colab_type": "code",
        "colab": {
          "base_uri": "https://localhost:8080/",
          "height": 51
        },
        "outputId": "f8ba80cd-15c8-44b0-cd44-d0327939f17f"
      },
      "source": [
        "salios = env.create_rating()\n",
        "contrail = env.create_rating()\n"
      ],
      "execution_count": 5,
      "outputs": [
        {
          "output_type": "stream",
          "text": [
            "salios's rating exposure: 7.881\n",
            "  contrail's rating exposure: -0.910\n"
          ],
          "name": "stdout"
        }
      ]
    },
    {
      "cell_type": "code",
      "metadata": {
        "id": "mUh_Of9ihd1f",
        "colab_type": "code",
        "colab": {}
      },
      "source": [
        "(salios,),(contrail,), = env.rate(((salios,), (contrail,),), ranks=[0, 1,])\n"
      ],
      "execution_count": 0,
      "outputs": []
    },
    {
      "cell_type": "code",
      "metadata": {
        "id": "oulglNhEhfsa",
        "colab_type": "code",
        "colab": {}
      },
      "source": [
        "print(f'salios\\'s rating exposure: {env.expose(salios):.3f}')\n",
        "print(f'contrail\\'s rating exposure: {env.expose(contrail):.3f}')"
      ],
      "execution_count": 0,
      "outputs": []
    },
    {
      "cell_type": "code",
      "metadata": {
        "id": "fXU8Pu3dhVoe",
        "colab_type": "code",
        "colab": {}
      },
      "source": [
        "(salios,),(contrail,), = env.rate(((salios,), (contrail,),), ranks=[1, 0,])"
      ],
      "execution_count": 0,
      "outputs": []
    },
    {
      "cell_type": "code",
      "metadata": {
        "id": "m__HchY9hacJ",
        "colab_type": "code",
        "colab": {
          "base_uri": "https://localhost:8080/",
          "height": 51
        },
        "outputId": "559c0d27-5b3a-4e47-c761-b51f169182dd"
      },
      "source": [
        "print(f'salios\\'s rating exposure: {env.expose(salios):.3f}')\n",
        "print(f'contrail\\'s rating exposure: {env.expose(contrail):.3f}')"
      ],
      "execution_count": 7,
      "outputs": [
        {
          "output_type": "stream",
          "text": [
            "salios's rating exposure: 5.236\n",
            "  contrail's rating exposure: 8.522\n"
          ],
          "name": "stdout"
        }
      ]
    },
    {
      "cell_type": "code",
      "metadata": {
        "id": "aojYAtyihbpk",
        "colab_type": "code",
        "colab": {}
      },
      "source": [
        "(salios,),(contrail,), = env.rate(((salios,), (contrail,),), ranks=[1, 0,])"
      ],
      "execution_count": 0,
      "outputs": []
    },
    {
      "cell_type": "code",
      "metadata": {
        "id": "6HBWLyCkhnVW",
        "colab_type": "code",
        "colab": {
          "base_uri": "https://localhost:8080/",
          "height": 51
        },
        "outputId": "3801efeb-f808-4aa8-c62a-39f01d19d88e"
      },
      "source": [
        "print(f'salios\\'s rating exposure: {env.expose(salios):.3f}')\n",
        "print(f'contrail\\'s rating exposure: {env.expose(contrail):.3f}')"
      ],
      "execution_count": 12,
      "outputs": [
        {
          "output_type": "stream",
          "text": [
            "salios's rating exposure: 4.830\n",
            "contrail's rating exposure: 12.678\n"
          ],
          "name": "stdout"
        }
      ]
    },
    {
      "cell_type": "code",
      "metadata": {
        "id": "UWwOBBuLhnsm",
        "colab_type": "code",
        "colab": {}
      },
      "source": [
        ""
      ],
      "execution_count": 0,
      "outputs": []
    }
  ]
}